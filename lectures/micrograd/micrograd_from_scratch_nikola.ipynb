{
 "cells": [
  {
   "cell_type": "code",
   "execution_count": 1,
   "metadata": {},
   "outputs": [],
   "source": [
    "import math\n",
    "import numpy as np\n",
    "import matplotlib.pyplot as plt\n",
    "%matplotlib inline"
   ]
  },
  {
   "cell_type": "markdown",
   "metadata": {},
   "source": [
    "# Derivative of a simple function with one input"
   ]
  },
  {
   "cell_type": "code",
   "execution_count": 2,
   "metadata": {},
   "outputs": [],
   "source": [
    "def f(x):\n",
    "    return 3*x**2 - 4*x + 5"
   ]
  },
  {
   "cell_type": "code",
   "execution_count": 3,
   "metadata": {},
   "outputs": [
    {
     "data": {
      "text/plain": [
       "20"
      ]
     },
     "execution_count": 3,
     "metadata": {},
     "output_type": "execute_result"
    }
   ],
   "source": [
    "f(3)"
   ]
  },
  {
   "cell_type": "code",
   "execution_count": 4,
   "metadata": {},
   "outputs": [
    {
     "data": {
      "text/plain": [
       "[<matplotlib.lines.Line2D at 0x7f3b2da18a90>]"
      ]
     },
     "execution_count": 4,
     "metadata": {},
     "output_type": "execute_result"
    },
    {
     "data": {
      "image/png": "[encoded data removed]",
      "text/plain": [
       "<Figure size 640x480 with 1 Axes>"
      ]
     },
     "metadata": {},
     "output_type": "display_data"
    }
   ],
   "source": [
    "xs = np.arange(-5, 5, 0.25)\n",
    "ys = f(xs)\n",
    "plt.plot(xs, ys)"
   ]
  },
  {
   "cell_type": "code",
   "execution_count": 5,
   "metadata": {},
   "outputs": [
    {
     "data": {
      "text/plain": [
       "14.00000009255109"
      ]
     },
     "execution_count": 5,
     "metadata": {},
     "output_type": "execute_result"
    }
   ],
   "source": [
    "# derivative of the slope at point 3\n",
    "h = 0.00000001\n",
    "x = 3\n",
    "(f(x + h) - f(x))/h "
   ]
  },
  {
   "cell_type": "code",
   "execution_count": 6,
   "metadata": {},
   "outputs": [
    {
     "data": {
      "text/plain": [
       "-22.00000039920269"
      ]
     },
     "execution_count": 6,
     "metadata": {},
     "output_type": "execute_result"
    }
   ],
   "source": [
    "# derivative of the slope at point -3\n",
    "h = 0.00000001\n",
    "x = -3\n",
    "(f(x + h) - f(x))/h"
   ]
  },
  {
   "cell_type": "code",
   "execution_count": 7,
   "metadata": {},
   "outputs": [
    {
     "data": {
      "text/plain": [
       "0.0"
      ]
     },
     "execution_count": 7,
     "metadata": {},
     "output_type": "execute_result"
    }
   ],
   "source": [
    "# derivative of the slope at point 2/3\n",
    "h = 0.00000001\n",
    "x = 2/3\n",
    "(f(x + h) - f(x))/h"
   ]
  },
  {
   "cell_type": "markdown",
   "metadata": {},
   "source": [
    "# Derivative of a function with a multiple inputs"
   ]
  },
  {
   "cell_type": "code",
   "execution_count": 8,
   "metadata": {},
   "outputs": [
    {
     "name": "stdout",
     "output_type": "stream",
     "text": [
      "4.0\n"
     ]
    }
   ],
   "source": [
    "# let's get more complex\n",
    "a = 2.0\n",
    "b = -3.0\n",
    "c = 10\n",
    "d = a*b + c\n",
    "\n",
    "print(d)"
   ]
  },
  {
   "cell_type": "code",
   "execution_count": 9,
   "metadata": {},
   "outputs": [
    {
     "name": "stdout",
     "output_type": "stream",
     "text": [
      "d1: 4.0\n",
      "d2: 3.999699999999999\n",
      "slope: -3.000000000010772\n"
     ]
    }
   ],
   "source": [
    "h = 0.0001\n",
    "\n",
    "# inputs\n",
    "a = 2.0\n",
    "b = -3.0\n",
    "c = 10\n",
    "\n",
    "d1 = a*b + c\n",
    "a += h\n",
    "d2 = a*b + c\n",
    "\n",
    "print('d1:', d1)\n",
    "print('d2:', d2)\n",
    "print('slope:', (d2 - d1)/h) # derivative of the d1 with a respect to a\n"
   ]
  },
  {
   "cell_type": "markdown",
   "metadata": {},
   "source": [
    "A derivative is -3, which is the value of b. We can also calculate this analytically(mathematically). \n",
    "$\\frac{dd1}{da}=b$  \t"
   ]
  },
  {
   "cell_type": "code",
   "execution_count": 10,
   "metadata": {},
   "outputs": [
    {
     "name": "stdout",
     "output_type": "stream",
     "text": [
      "d1: 4.0\n",
      "d2: 4.0002\n",
      "slope: 2.0000000000042206\n"
     ]
    }
   ],
   "source": [
    "# inputs\n",
    "a = 2.0\n",
    "b = -3.0\n",
    "c = 10\n",
    "\n",
    "d1 = a*b + c\n",
    "b += h\n",
    "d2 = a*b + c\n",
    "\n",
    "print('d1:', d1)\n",
    "print('d2:', d2)\n",
    "print('slope:', (d2 - d1)/h) # derivative of the d1 with a respect to b\n"
   ]
  },
  {
   "cell_type": "code",
   "execution_count": 11,
   "metadata": {},
   "outputs": [
    {
     "name": "stdout",
     "output_type": "stream",
     "text": [
      "d1: 4.0\n",
      "d2: 4.0001\n",
      "slope: 0.9999999999976694\n"
     ]
    }
   ],
   "source": [
    "# inputs\n",
    "a = 2.0\n",
    "b = -3.0\n",
    "c = 10\n",
    "\n",
    "d1 = a*b + c\n",
    "c += h\n",
    "d2 = a*b + c\n",
    "\n",
    "print('d1:', d1)\n",
    "print('d2:', d2)\n",
    "print('slope:', (d2 - d1)/h) # derivative of the d1 with a respect to c"
   ]
  },
  {
   "cell_type": "markdown",
   "metadata": {},
   "source": [
    "# Starting the core Value object of micrograd and its visualization"
   ]
  },
  {
   "cell_type": "markdown",
   "metadata": {},
   "source": [
    "Now that we have some intuitive sense of what the derivative tells us about the function, let's move to the neural networks.\n",
    "Neural networks are massive mathematical expressions, so we need some data structure that maintains these expressions. That's what we are going to start building here, Value object."
   ]
  },
  {
   "cell_type": "code",
   "execution_count": 12,
   "metadata": {},
   "outputs": [
    {
     "data": {
      "text/plain": [
       "Value(data=4.0)"
      ]
     },
     "execution_count": 12,
     "metadata": {},
     "output_type": "execute_result"
    }
   ],
   "source": [
    "class Value():\n",
    "    \n",
    "    def __init__(self, data):\n",
    "        self.data = data\n",
    "\n",
    "    def __repr__(self):\n",
    "        return f'Value(data={self.data})'\n",
    "    \n",
    "    def __add__(self, other):\n",
    "        out = Value(self.data + other.data)\n",
    "        return out\n",
    "    \n",
    "    def __mul__(self, other):\n",
    "        out = Value(self.data * other.data)\n",
    "        return out\n",
    "\n",
    "a = Value(2.0)\n",
    "b = Value(-3.0)\n",
    "c = Value(10)\n",
    "#(a.__mul__(b)).__add__(c)\n",
    "d = a*b + c\n",
    "d"
   ]
  },
  {
   "cell_type": "code",
   "execution_count": 13,
   "metadata": {},
   "outputs": [
    {
     "data": {
      "text/plain": [
       "Value(data=-8.0)"
      ]
     },
     "execution_count": 13,
     "metadata": {},
     "output_type": "execute_result"
    }
   ],
   "source": [
    "class Value():\n",
    "    \n",
    "    def __init__(self, data, _children=(), _op='', label=''):\n",
    "        self.data = data\n",
    "        self.grad = 0.0\n",
    "        self._prev = set(_children)\n",
    "        self._op = _op\n",
    "        self.label = label\n",
    "\n",
    "    def __repr__(self):\n",
    "        return f'Value(data={self.data})'\n",
    "    \n",
    "    def __add__(self, other):\n",
    "        out = Value(self.data + other.data, (self, other), '+')\n",
    "        return out\n",
    "    \n",
    "    def __mul__(self, other):\n",
    "        out = Value(self.data * other.data, (self, other), '*')\n",
    "        return out\n",
    "\n",
    "a = Value(2.0, label='a')\n",
    "b = Value(-3.0, label='b')\n",
    "c = Value(10, label='c')\n",
    "#(a.__mul__(b)).__add__(c)\n",
    "e = a*b; e.label = 'e'\n",
    "d = e + c; d.label = 'd'\n",
    "f = Value(-2.0, label = 'f')\n",
    "L = d * f; L.label = 'L'\n",
    "L"
   ]
  },
  {
   "cell_type": "code",
   "execution_count": 14,
   "metadata": {},
   "outputs": [
    {
     "data": {
      "text/plain": [
       "{Value(data=-6.0), Value(data=10)}"
      ]
     },
     "execution_count": 14,
     "metadata": {},
     "output_type": "execute_result"
    }
   ],
   "source": [
    "d._prev"
   ]
  },
  {
   "cell_type": "code",
   "execution_count": 15,
   "metadata": {},
   "outputs": [
    {
     "data": {
      "text/plain": [
       "'+'"
      ]
     },
     "execution_count": 15,
     "metadata": {},
     "output_type": "execute_result"
    }
   ],
   "source": [
    "d._op"
   ]
  },
  {
   "cell_type": "code",
   "execution_count": 16,
   "metadata": {},
   "outputs": [],
   "source": [
    "from graphviz import Digraph\n",
    "\n",
    "def trace(root):\n",
    "  # builds a set of all nodes and edges in a graph\n",
    "  nodes, edges = set(), set()\n",
    "  def build(v):\n",
    "    if v not in nodes:\n",
    "      nodes.add(v)\n",
    "      for child in v._prev:\n",
    "        edges.add((child, v))\n",
    "        build(child)\n",
    "  build(root)\n",
    "  return nodes, edges\n",
    "\n",
    "def draw_dot(root):\n",
    "  dot = Digraph(format='svg', graph_attr={'rankdir': 'LR'}) # LR = left to right\n",
    "  \n",
    "  nodes, edges = trace(root)\n",
    "  for n in nodes:\n",
    "    uid = str(id(n))\n",
    "    # for any value in the graph, create a rectangular ('record') node for it\n",
    "    dot.node(name = uid, label = \"{ %s | data %.4f | grad %.4f}\" % (n.label, n.data, n.grad), shape='record')\n",
    "    if n._op:\n",
    "      # if this value is a result of some operation, create an op node for it\n",
    "      dot.node(name = uid + n._op, label = n._op)\n",
    "      # and connect this node to it\n",
    "      dot.edge(uid + n._op, uid)\n",
    "\n",
    "  for n1, n2 in edges:\n",
    "    # connect n1 to the op node of n2\n",
    "    dot.edge(str(id(n1)), str(id(n2)) + n2._op)\n",
    "\n",
    "  return dot\n"
   ]
  },
  {
   "cell_type": "code",
   "execution_count": 17,
   "metadata": {},
   "outputs": [
    {
     "data": {
      "image/svg+xml": "<?xml version=\"1.0\" encoding=\"UTF-8\" standalone=\"no\"?>\n<!DOCTYPE svg PUBLIC \"-//W3C//DTD SVG 1.1//EN\"\n \"http://www.w3.org/Graphics/SVG/1.1/DTD/svg11.dtd\">\n<!-- Generated by graphviz version 2.50.0 (0)\n -->\n<!-- Pages: 1 -->\n<svg width=\"1148pt\" height=\"156pt\"\n viewBox=\"0.00 0.00 1148.00 156.00\" xmlns=\"http://www.w3.org/2000/svg\" xmlns:xlink=\"http://www.w3.org/1999/xlink\">\n<g id=\"graph0\" class=\"graph\" transform=\"scale(1 1) rotate(0) translate(4 152)\">\n<polygon fill=\"white\" stroke=\"transparent\" points=\"-4,4 -4,-152 1144,-152 1144,4 -4,4\"/>\n<!-- 139892145367616 -->\n<g id=\"node1\" class=\"node\">\n<title>139892145367616</title>\n<polygon fill=\"none\" stroke=\"black\" points=\"2.5,-111.5 2.5,-147.5 187.5,-147.5 187.5,-111.5 2.5,-111.5\"/>\n<text text-anchor=\"middle\" x=\"14\" y=\"-125.8\" font-family=\"Times,serif\" font-size=\"14.00\">a</text>\n<polyline fill=\"none\" stroke=\"black\" points=\"25.5,-111.5 25.5,-147.5 \"/>\n<text text-anchor=\"middle\" x=\"65.5\" y=\"-125.8\" font-family=\"Times,serif\" font-size=\"14.00\">data 2.0000</text>\n<polyline fill=\"none\" stroke=\"black\" points=\"105.5,-111.5 105.5,-147.5 \"/>\n<text text-anchor=\"middle\" x=\"146.5\" y=\"-125.8\" font-family=\"Times,serif\" font-size=\"14.00\">grad 0.0000</text>\n</g>\n<!-- 139892504006416* -->\n<g id=\"node7\" class=\"node\">\n<title>139892504006416*</title>\n<ellipse fill=\"none\" stroke=\"black\" cx=\"253\" cy=\"-101.5\" rx=\"27\" ry=\"18\"/>\n<text text-anchor=\"middle\" x=\"253\" y=\"-97.8\" font-family=\"Times,serif\" font-size=\"14.00\">*</text>\n</g>\n<!-- 139892145367616&#45;&gt;139892504006416* -->\n<g id=\"edge6\" class=\"edge\">\n<title>139892145367616&#45;&gt;139892504006416*</title>\n<path fill=\"none\" stroke=\"black\" d=\"M187.65,-113.05C197.94,-111.2 207.91,-109.41 216.81,-107.82\"/>\n<polygon fill=\"black\" stroke=\"black\" points=\"217.48,-111.25 226.71,-106.04 216.25,-104.36 217.48,-111.25\"/>\n</g>\n<!-- 139892145992896 -->\n<g id=\"node2\" class=\"node\">\n<title>139892145992896</title>\n<polygon fill=\"none\" stroke=\"black\" points=\"635.5,-55.5 635.5,-91.5 820.5,-91.5 820.5,-55.5 635.5,-55.5\"/>\n<text text-anchor=\"middle\" x=\"647\" y=\"-69.8\" font-family=\"Times,serif\" font-size=\"14.00\">d</text>\n<polyline fill=\"none\" stroke=\"black\" points=\"658.5,-55.5 658.5,-91.5 \"/>\n<text text-anchor=\"middle\" x=\"698.5\" y=\"-69.8\" font-family=\"Times,serif\" font-size=\"14.00\">data 4.0000</text>\n<polyline fill=\"none\" stroke=\"black\" points=\"738.5,-55.5 738.5,-91.5 \"/>\n<text text-anchor=\"middle\" x=\"779.5\" y=\"-69.8\" font-family=\"Times,serif\" font-size=\"14.00\">grad 0.0000</text>\n</g>\n<!-- 139892504014144* -->\n<g id=\"node9\" class=\"node\">\n<title>139892504014144*</title>\n<ellipse fill=\"none\" stroke=\"black\" cx=\"885\" cy=\"-45.5\" rx=\"27\" ry=\"18\"/>\n<text text-anchor=\"middle\" x=\"885\" y=\"-41.8\" font-family=\"Times,serif\" font-size=\"14.00\">*</text>\n</g>\n<!-- 139892145992896&#45;&gt;139892504014144* -->\n<g id=\"edge8\" class=\"edge\">\n<title>139892145992896&#45;&gt;139892504014144*</title>\n<path fill=\"none\" stroke=\"black\" d=\"M820.51,-56.97C830.48,-55.17 840.13,-53.42 848.77,-51.86\"/>\n<polygon fill=\"black\" stroke=\"black\" points=\"849.55,-55.28 858.77,-50.06 848.3,-48.39 849.55,-55.28\"/>\n</g>\n<!-- 139892145992896+ -->\n<g id=\"node3\" class=\"node\">\n<title>139892145992896+</title>\n<ellipse fill=\"none\" stroke=\"black\" cx=\"571\" cy=\"-73.5\" rx=\"27\" ry=\"18\"/>\n<text text-anchor=\"middle\" x=\"571\" y=\"-69.8\" font-family=\"Times,serif\" font-size=\"14.00\">+</text>\n</g>\n<!-- 139892145992896+&#45;&gt;139892145992896 -->\n<g id=\"edge1\" class=\"edge\">\n<title>139892145992896+&#45;&gt;139892145992896</title>\n<path fill=\"none\" stroke=\"black\" d=\"M598.29,-73.5C606.26,-73.5 615.54,-73.5 625.39,-73.5\"/>\n<polygon fill=\"black\" stroke=\"black\" points=\"625.41,-77 635.41,-73.5 625.41,-70 625.41,-77\"/>\n</g>\n<!-- 139892504009920 -->\n<g id=\"node4\" class=\"node\">\n<title>139892504009920</title>\n<polygon fill=\"none\" stroke=\"black\" points=\"316,-28.5 316,-64.5 508,-64.5 508,-28.5 316,-28.5\"/>\n<text text-anchor=\"middle\" x=\"327.5\" y=\"-42.8\" font-family=\"Times,serif\" font-size=\"14.00\">c</text>\n<polyline fill=\"none\" stroke=\"black\" points=\"339,-28.5 339,-64.5 \"/>\n<text text-anchor=\"middle\" x=\"382.5\" y=\"-42.8\" font-family=\"Times,serif\" font-size=\"14.00\">data 10.0000</text>\n<polyline fill=\"none\" stroke=\"black\" points=\"426,-28.5 426,-64.5 \"/>\n<text text-anchor=\"middle\" x=\"467\" y=\"-42.8\" font-family=\"Times,serif\" font-size=\"14.00\">grad 0.0000</text>\n</g>\n<!-- 139892504009920&#45;&gt;139892145992896+ -->\n<g id=\"edge4\" class=\"edge\">\n<title>139892504009920&#45;&gt;139892145992896+</title>\n<path fill=\"none\" stroke=\"black\" d=\"M508.4,-62.91C517.69,-64.5 526.64,-66.04 534.71,-67.43\"/>\n<polygon fill=\"black\" stroke=\"black\" points=\"534.32,-70.91 544.76,-69.16 535.5,-64.02 534.32,-70.91\"/>\n</g>\n<!-- 139892504008432 -->\n<g id=\"node5\" class=\"node\">\n<title>139892504008432</title>\n<polygon fill=\"none\" stroke=\"black\" points=\"0,-56.5 0,-92.5 190,-92.5 190,-56.5 0,-56.5\"/>\n<text text-anchor=\"middle\" x=\"11.5\" y=\"-70.8\" font-family=\"Times,serif\" font-size=\"14.00\">b</text>\n<polyline fill=\"none\" stroke=\"black\" points=\"23,-56.5 23,-92.5 \"/>\n<text text-anchor=\"middle\" x=\"65.5\" y=\"-70.8\" font-family=\"Times,serif\" font-size=\"14.00\">data &#45;3.0000</text>\n<polyline fill=\"none\" stroke=\"black\" points=\"108,-56.5 108,-92.5 \"/>\n<text text-anchor=\"middle\" x=\"149\" y=\"-70.8\" font-family=\"Times,serif\" font-size=\"14.00\">grad 0.0000</text>\n</g>\n<!-- 139892504008432&#45;&gt;139892504006416* -->\n<g id=\"edge7\" class=\"edge\">\n<title>139892504008432&#45;&gt;139892504006416*</title>\n<path fill=\"none\" stroke=\"black\" d=\"M190.34,-90.83C199.62,-92.44 208.58,-93.99 216.66,-95.38\"/>\n<polygon fill=\"black\" stroke=\"black\" points=\"216.27,-98.87 226.72,-97.12 217.46,-91.97 216.27,-98.87\"/>\n</g>\n<!-- 139892504006416 -->\n<g id=\"node6\" class=\"node\">\n<title>139892504006416</title>\n<polygon fill=\"none\" stroke=\"black\" points=\"317,-83.5 317,-119.5 507,-119.5 507,-83.5 317,-83.5\"/>\n<text text-anchor=\"middle\" x=\"328.5\" y=\"-97.8\" font-family=\"Times,serif\" font-size=\"14.00\">e</text>\n<polyline fill=\"none\" stroke=\"black\" points=\"340,-83.5 340,-119.5 \"/>\n<text text-anchor=\"middle\" x=\"382.5\" y=\"-97.8\" font-family=\"Times,serif\" font-size=\"14.00\">data &#45;6.0000</text>\n<polyline fill=\"none\" stroke=\"black\" points=\"425,-83.5 425,-119.5 \"/>\n<text text-anchor=\"middle\" x=\"466\" y=\"-97.8\" font-family=\"Times,serif\" font-size=\"14.00\">grad 0.0000</text>\n</g>\n<!-- 139892504006416&#45;&gt;139892145992896+ -->\n<g id=\"edge5\" class=\"edge\">\n<title>139892504006416&#45;&gt;139892145992896+</title>\n<path fill=\"none\" stroke=\"black\" d=\"M507.05,-84.73C516.89,-82.97 526.39,-81.28 534.9,-79.76\"/>\n<polygon fill=\"black\" stroke=\"black\" points=\"535.52,-83.2 544.75,-78 534.29,-76.31 535.52,-83.2\"/>\n</g>\n<!-- 139892504006416*&#45;&gt;139892504006416 -->\n<g id=\"edge2\" class=\"edge\">\n<title>139892504006416*&#45;&gt;139892504006416</title>\n<path fill=\"none\" stroke=\"black\" d=\"M280.28,-101.5C288.05,-101.5 297.08,-101.5 306.68,-101.5\"/>\n<polygon fill=\"black\" stroke=\"black\" points=\"306.88,-105 316.88,-101.5 306.88,-98 306.88,-105\"/>\n</g>\n<!-- 139892504014144 -->\n<g id=\"node8\" class=\"node\">\n<title>139892504014144</title>\n<polygon fill=\"none\" stroke=\"black\" points=\"948,-27.5 948,-63.5 1140,-63.5 1140,-27.5 948,-27.5\"/>\n<text text-anchor=\"middle\" x=\"960.5\" y=\"-41.8\" font-family=\"Times,serif\" font-size=\"14.00\">L</text>\n<polyline fill=\"none\" stroke=\"black\" points=\"973,-27.5 973,-63.5 \"/>\n<text text-anchor=\"middle\" x=\"1015.5\" y=\"-41.8\" font-family=\"Times,serif\" font-size=\"14.00\">data &#45;8.0000</text>\n<polyline fill=\"none\" stroke=\"black\" points=\"1058,-27.5 1058,-63.5 \"/>\n<text text-anchor=\"middle\" x=\"1099\" y=\"-41.8\" font-family=\"Times,serif\" font-size=\"14.00\">grad 0.0000</text>\n</g>\n<!-- 139892504014144*&#45;&gt;139892504014144 -->\n<g id=\"edge3\" class=\"edge\">\n<title>139892504014144*&#45;&gt;139892504014144</title>\n<path fill=\"none\" stroke=\"black\" d=\"M912.28,-45.5C919.78,-45.5 928.44,-45.5 937.67,-45.5\"/>\n<polygon fill=\"black\" stroke=\"black\" points=\"937.87,-49 947.87,-45.5 937.87,-42 937.87,-49\"/>\n</g>\n<!-- 139892145993664 -->\n<g id=\"node10\" class=\"node\">\n<title>139892145993664</title>\n<polygon fill=\"none\" stroke=\"black\" points=\"634,-0.5 634,-36.5 822,-36.5 822,-0.5 634,-0.5\"/>\n<text text-anchor=\"middle\" x=\"644.5\" y=\"-14.8\" font-family=\"Times,serif\" font-size=\"14.00\">f</text>\n<polyline fill=\"none\" stroke=\"black\" points=\"655,-0.5 655,-36.5 \"/>\n<text text-anchor=\"middle\" x=\"697.5\" y=\"-14.8\" font-family=\"Times,serif\" font-size=\"14.00\">data &#45;2.0000</text>\n<polyline fill=\"none\" stroke=\"black\" points=\"740,-0.5 740,-36.5 \"/>\n<text text-anchor=\"middle\" x=\"781\" y=\"-14.8\" font-family=\"Times,serif\" font-size=\"14.00\">grad 0.0000</text>\n</g>\n<!-- 139892145993664&#45;&gt;139892504014144* -->\n<g id=\"edge9\" class=\"edge\">\n<title>139892145993664&#45;&gt;139892504014144*</title>\n<path fill=\"none\" stroke=\"black\" d=\"M822.29,-34.75C831.57,-36.37 840.52,-37.93 848.61,-39.33\"/>\n<polygon fill=\"black\" stroke=\"black\" points=\"848.22,-42.82 858.68,-41.09 849.42,-35.92 848.22,-42.82\"/>\n</g>\n</g>\n</svg>\n",
      "text/plain": [
       "<graphviz.graphs.Digraph at 0x7f3b2da1abc0>"
      ]
     },
     "execution_count": 17,
     "metadata": {},
     "output_type": "execute_result"
    }
   ],
   "source": [
    "draw_dot(L)"
   ]
  },
  {
   "cell_type": "markdown",
   "metadata": {},
   "source": [
    "# Manual backpropagation example #1: simple expression"
   ]
  },
  {
   "cell_type": "code",
   "execution_count": 18,
   "metadata": {},
   "outputs": [
    {
     "name": "stdout",
     "output_type": "stream",
     "text": [
      "0.0\n"
     ]
    }
   ],
   "source": [
    "def lol():\n",
    "  \n",
    "  h = 0.001\n",
    "  \n",
    "  a = Value(2.0, label='a')\n",
    "  b = Value(-3.0, label='b')\n",
    "  c = Value(10.0, label='c')\n",
    "  e = a*b; e.label = 'e'\n",
    "  d = e + c; d.label = 'd'\n",
    "  f = Value(-2.0, label='f')\n",
    "  L = d * f; L.label = 'L'\n",
    "  L1 = L.data\n",
    "  \n",
    "  a = Value(2.0, label='a')\n",
    "  b = Value(-3.0, label='b')\n",
    "  c = Value(10.0, label='c')\n",
    "  e = a*b; e.label = 'e'\n",
    "  d = e + c; d.label = 'd'\n",
    "  f = Value(-2.0, label='f')\n",
    "  L = d * f; L.label = 'L'\n",
    "  L2 = L.data\n",
    "  \n",
    "  print((L2 - L1)/h)\n",
    "  \n",
    "lol()"
   ]
  },
  {
   "cell_type": "code",
   "execution_count": 19,
   "metadata": {},
   "outputs": [
    {
     "name": "stdout",
     "output_type": "stream",
     "text": [
      "0.0\n"
     ]
    }
   ],
   "source": [
    "lol()"
   ]
  },
  {
   "cell_type": "markdown",
   "metadata": {},
   "source": [
    "dL/dd = ? #how L responds to the increase in d  \n",
    "L = d * f  \n",
    "\n",
    "(f(x+h) - f(x))/h  \n",
    "((d+h)*f - d*f)/h  \n",
    "(d*f + h*f -d*f)/h  \n",
    "(h*f)/f  \n",
    "= f"
   ]
  },
  {
   "cell_type": "markdown",
   "metadata": {},
   "source": [
    "dd/dc = ? #how d responds to the increase in c  \n",
    "d = c + e  \n",
    "\n",
    "(f(x+h) - f(x))/h  \n",
    "\n",
    "((c + h + e) - (c + e))/h  \n",
    "(c + h + e - c - e)/h  \n",
    "(h)/h  \n",
    "= 1"
   ]
  },
  {
   "cell_type": "markdown",
   "metadata": {},
   "source": [
    "dL/dc = ? #how L responds to the increase in c\n",
    "\n",
    "dL/dc = (dL / dd) * (dd / dc) #chain rule  \n",
    "dL/dc = -2 * 1 = -2"
   ]
  },
  {
   "cell_type": "markdown",
   "metadata": {},
   "source": [
    "dL/de = -2.0  \n",
    "dL/da = (dL/de) * (de/da)  \n",
    "\n",
    "e = a * b  \n",
    "de/da = b = -3   \n",
    "de/db = a = 2\n",
    "\n",
    "dL/da = -2 * -3 = 6  \n",
    "dL/db = -2 * 2 = -4"
   ]
  },
  {
   "cell_type": "code",
   "execution_count": 20,
   "metadata": {},
   "outputs": [],
   "source": [
    "L.grad = 1.0\n",
    "f.grad = 4\n",
    "d.grad = -2.0\n",
    "c.grad = -2.0\n",
    "e.grad = -2.0\n",
    "b.grad = -4\n",
    "a.grad = 6.0"
   ]
  },
  {
   "cell_type": "code",
   "execution_count": 21,
   "metadata": {},
   "outputs": [
    {
     "name": "stdout",
     "output_type": "stream",
     "text": [
      "-3.9999999999995595\n"
     ]
    }
   ],
   "source": [
    "def lol():\n",
    "  \n",
    "  h = 0.001\n",
    "  \n",
    "  a = Value(2.0, label='a')\n",
    "  b = Value(-3.0, label='b')\n",
    "  c = Value(10.0, label='c')\n",
    "  e = a*b; e.label = 'e'\n",
    "  d = e + c; d.label = 'd'\n",
    "  f = Value(-2.0, label='f')\n",
    "  L = d * f; L.label = 'L'\n",
    "  L1 = L.data\n",
    "  \n",
    "  a = Value(2.0, label='a')\n",
    "  b = Value(-3.0, label='b')\n",
    "  b.data += h\n",
    "  c = Value(10.0, label='c')\n",
    "  e = a*b; e.label = 'e'\n",
    "  d = e + c; d.label = 'd'\n",
    "  f = Value(-2.0, label='f')\n",
    "  L = d * f; L.label = 'L'\n",
    "  L2 = L.data\n",
    "  \n",
    "  print((L2 - L1)/h)\n",
    "  \n",
    "lol()"
   ]
  },
  {
   "cell_type": "code",
   "execution_count": 22,
   "metadata": {},
   "outputs": [
    {
     "data": {
      "image/svg+xml": "<?xml version=\"1.0\" encoding=\"UTF-8\" standalone=\"no\"?>\n<!DOCTYPE svg PUBLIC \"-//W3C//DTD SVG 1.1//EN\"\n \"http://www.w3.org/Graphics/SVG/1.1/DTD/svg11.dtd\">\n<!-- Generated by graphviz version 2.50.0 (0)\n -->\n<!-- Pages: 1 -->\n<svg width=\"1157pt\" height=\"156pt\"\n viewBox=\"0.00 0.00 1157.00 156.00\" xmlns=\"http://www.w3.org/2000/svg\" xmlns:xlink=\"http://www.w3.org/1999/xlink\">\n<g id=\"graph0\" class=\"graph\" transform=\"scale(1 1) rotate(0) translate(4 152)\">\n<polygon fill=\"white\" stroke=\"transparent\" points=\"-4,4 -4,-152 1153,-152 1153,4 -4,4\"/>\n<!-- 139892145367616 -->\n<g id=\"node1\" class=\"node\">\n<title>139892145367616</title>\n<polygon fill=\"none\" stroke=\"black\" points=\"4.5,-111.5 4.5,-147.5 189.5,-147.5 189.5,-111.5 4.5,-111.5\"/>\n<text text-anchor=\"middle\" x=\"16\" y=\"-125.8\" font-family=\"Times,serif\" font-size=\"14.00\">a</text>\n<polyline fill=\"none\" stroke=\"black\" points=\"27.5,-111.5 27.5,-147.5 \"/>\n<text text-anchor=\"middle\" x=\"67.5\" y=\"-125.8\" font-family=\"Times,serif\" font-size=\"14.00\">data 2.0000</text>\n<polyline fill=\"none\" stroke=\"black\" points=\"107.5,-111.5 107.5,-147.5 \"/>\n<text text-anchor=\"middle\" x=\"148.5\" y=\"-125.8\" font-family=\"Times,serif\" font-size=\"14.00\">grad 6.0000</text>\n</g>\n<!-- 139892504006416* -->\n<g id=\"node7\" class=\"node\">\n<title>139892504006416*</title>\n<ellipse fill=\"none\" stroke=\"black\" cx=\"257\" cy=\"-101.5\" rx=\"27\" ry=\"18\"/>\n<text text-anchor=\"middle\" x=\"257\" y=\"-97.8\" font-family=\"Times,serif\" font-size=\"14.00\">*</text>\n</g>\n<!-- 139892145367616&#45;&gt;139892504006416* -->\n<g id=\"edge6\" class=\"edge\">\n<title>139892145367616&#45;&gt;139892504006416*</title>\n<path fill=\"none\" stroke=\"black\" d=\"M189.91,-113.21C200.76,-111.29 211.28,-109.43 220.61,-107.77\"/>\n<polygon fill=\"black\" stroke=\"black\" points=\"221.37,-111.19 230.6,-106 220.15,-104.3 221.37,-111.19\"/>\n</g>\n<!-- 139892145992896 -->\n<g id=\"node2\" class=\"node\">\n<title>139892145992896</title>\n<polygon fill=\"none\" stroke=\"black\" points=\"642,-55.5 642,-91.5 831,-91.5 831,-55.5 642,-55.5\"/>\n<text text-anchor=\"middle\" x=\"653.5\" y=\"-69.8\" font-family=\"Times,serif\" font-size=\"14.00\">d</text>\n<polyline fill=\"none\" stroke=\"black\" points=\"665,-55.5 665,-91.5 \"/>\n<text text-anchor=\"middle\" x=\"705\" y=\"-69.8\" font-family=\"Times,serif\" font-size=\"14.00\">data 4.0000</text>\n<polyline fill=\"none\" stroke=\"black\" points=\"745,-55.5 745,-91.5 \"/>\n<text text-anchor=\"middle\" x=\"788\" y=\"-69.8\" font-family=\"Times,serif\" font-size=\"14.00\">grad &#45;2.0000</text>\n</g>\n<!-- 139892504014144* -->\n<g id=\"node9\" class=\"node\">\n<title>139892504014144*</title>\n<ellipse fill=\"none\" stroke=\"black\" cx=\"894\" cy=\"-45.5\" rx=\"27\" ry=\"18\"/>\n<text text-anchor=\"middle\" x=\"894\" y=\"-41.8\" font-family=\"Times,serif\" font-size=\"14.00\">*</text>\n</g>\n<!-- 139892145992896&#45;&gt;139892504014144* -->\n<g id=\"edge8\" class=\"edge\">\n<title>139892145992896&#45;&gt;139892504014144*</title>\n<path fill=\"none\" stroke=\"black\" d=\"M831.1,-56.65C840.4,-54.97 849.38,-53.35 857.49,-51.89\"/>\n<polygon fill=\"black\" stroke=\"black\" points=\"858.37,-55.29 867.59,-50.07 857.13,-48.4 858.37,-55.29\"/>\n</g>\n<!-- 139892145992896+ -->\n<g id=\"node3\" class=\"node\">\n<title>139892145992896+</title>\n<ellipse fill=\"none\" stroke=\"black\" cx=\"579\" cy=\"-73.5\" rx=\"27\" ry=\"18\"/>\n<text text-anchor=\"middle\" x=\"579\" y=\"-69.8\" font-family=\"Times,serif\" font-size=\"14.00\">+</text>\n</g>\n<!-- 139892145992896+&#45;&gt;139892145992896 -->\n<g id=\"edge1\" class=\"edge\">\n<title>139892145992896+&#45;&gt;139892145992896</title>\n<path fill=\"none\" stroke=\"black\" d=\"M606.03,-73.5C613.66,-73.5 622.52,-73.5 631.94,-73.5\"/>\n<polygon fill=\"black\" stroke=\"black\" points=\"631.94,-77 641.94,-73.5 631.94,-70 631.94,-77\"/>\n</g>\n<!-- 139892504009920 -->\n<g id=\"node4\" class=\"node\">\n<title>139892504009920</title>\n<polygon fill=\"none\" stroke=\"black\" points=\"320,-28.5 320,-64.5 516,-64.5 516,-28.5 320,-28.5\"/>\n<text text-anchor=\"middle\" x=\"331.5\" y=\"-42.8\" font-family=\"Times,serif\" font-size=\"14.00\">c</text>\n<polyline fill=\"none\" stroke=\"black\" points=\"343,-28.5 343,-64.5 \"/>\n<text text-anchor=\"middle\" x=\"386.5\" y=\"-42.8\" font-family=\"Times,serif\" font-size=\"14.00\">data 10.0000</text>\n<polyline fill=\"none\" stroke=\"black\" points=\"430,-28.5 430,-64.5 \"/>\n<text text-anchor=\"middle\" x=\"473\" y=\"-42.8\" font-family=\"Times,serif\" font-size=\"14.00\">grad &#45;2.0000</text>\n</g>\n<!-- 139892504009920&#45;&gt;139892145992896+ -->\n<g id=\"edge4\" class=\"edge\">\n<title>139892504009920&#45;&gt;139892145992896+</title>\n<path fill=\"none\" stroke=\"black\" d=\"M516.07,-62.98C525.42,-64.57 534.43,-66.1 542.55,-67.48\"/>\n<polygon fill=\"black\" stroke=\"black\" points=\"542.21,-70.97 552.65,-69.2 543.38,-64.07 542.21,-70.97\"/>\n</g>\n<!-- 139892504008432 -->\n<g id=\"node5\" class=\"node\">\n<title>139892504008432</title>\n<polygon fill=\"none\" stroke=\"black\" points=\"0,-56.5 0,-92.5 194,-92.5 194,-56.5 0,-56.5\"/>\n<text text-anchor=\"middle\" x=\"11.5\" y=\"-70.8\" font-family=\"Times,serif\" font-size=\"14.00\">b</text>\n<polyline fill=\"none\" stroke=\"black\" points=\"23,-56.5 23,-92.5 \"/>\n<text text-anchor=\"middle\" x=\"65.5\" y=\"-70.8\" font-family=\"Times,serif\" font-size=\"14.00\">data &#45;3.0000</text>\n<polyline fill=\"none\" stroke=\"black\" points=\"108,-56.5 108,-92.5 \"/>\n<text text-anchor=\"middle\" x=\"151\" y=\"-70.8\" font-family=\"Times,serif\" font-size=\"14.00\">grad &#45;4.0000</text>\n</g>\n<!-- 139892504008432&#45;&gt;139892504006416* -->\n<g id=\"edge7\" class=\"edge\">\n<title>139892504008432&#45;&gt;139892504006416*</title>\n<path fill=\"none\" stroke=\"black\" d=\"M194.01,-90.91C203.35,-92.5 212.37,-94.04 220.49,-95.43\"/>\n<polygon fill=\"black\" stroke=\"black\" points=\"220.16,-98.93 230.6,-97.16 221.34,-92.03 220.16,-98.93\"/>\n</g>\n<!-- 139892504006416 -->\n<g id=\"node6\" class=\"node\">\n<title>139892504006416</title>\n<polygon fill=\"none\" stroke=\"black\" points=\"321,-83.5 321,-119.5 515,-119.5 515,-83.5 321,-83.5\"/>\n<text text-anchor=\"middle\" x=\"332.5\" y=\"-97.8\" font-family=\"Times,serif\" font-size=\"14.00\">e</text>\n<polyline fill=\"none\" stroke=\"black\" points=\"344,-83.5 344,-119.5 \"/>\n<text text-anchor=\"middle\" x=\"386.5\" y=\"-97.8\" font-family=\"Times,serif\" font-size=\"14.00\">data &#45;6.0000</text>\n<polyline fill=\"none\" stroke=\"black\" points=\"429,-83.5 429,-119.5 \"/>\n<text text-anchor=\"middle\" x=\"472\" y=\"-97.8\" font-family=\"Times,serif\" font-size=\"14.00\">grad &#45;2.0000</text>\n</g>\n<!-- 139892504006416&#45;&gt;139892145992896+ -->\n<g id=\"edge5\" class=\"edge\">\n<title>139892504006416&#45;&gt;139892145992896+</title>\n<path fill=\"none\" stroke=\"black\" d=\"M515.16,-84.57C524.82,-82.87 534.13,-81.23 542.49,-79.75\"/>\n<polygon fill=\"black\" stroke=\"black\" points=\"543.3,-83.17 552.54,-77.98 542.08,-76.27 543.3,-83.17\"/>\n</g>\n<!-- 139892504006416*&#45;&gt;139892504006416 -->\n<g id=\"edge2\" class=\"edge\">\n<title>139892504006416*&#45;&gt;139892504006416</title>\n<path fill=\"none\" stroke=\"black\" d=\"M284.26,-101.5C292.05,-101.5 301.1,-101.5 310.75,-101.5\"/>\n<polygon fill=\"black\" stroke=\"black\" points=\"310.99,-105 320.99,-101.5 310.99,-98 310.99,-105\"/>\n</g>\n<!-- 139892504014144 -->\n<g id=\"node8\" class=\"node\">\n<title>139892504014144</title>\n<polygon fill=\"none\" stroke=\"black\" points=\"957,-27.5 957,-63.5 1149,-63.5 1149,-27.5 957,-27.5\"/>\n<text text-anchor=\"middle\" x=\"969.5\" y=\"-41.8\" font-family=\"Times,serif\" font-size=\"14.00\">L</text>\n<polyline fill=\"none\" stroke=\"black\" points=\"982,-27.5 982,-63.5 \"/>\n<text text-anchor=\"middle\" x=\"1024.5\" y=\"-41.8\" font-family=\"Times,serif\" font-size=\"14.00\">data &#45;8.0000</text>\n<polyline fill=\"none\" stroke=\"black\" points=\"1067,-27.5 1067,-63.5 \"/>\n<text text-anchor=\"middle\" x=\"1108\" y=\"-41.8\" font-family=\"Times,serif\" font-size=\"14.00\">grad 1.0000</text>\n</g>\n<!-- 139892504014144*&#45;&gt;139892504014144 -->\n<g id=\"edge3\" class=\"edge\">\n<title>139892504014144*&#45;&gt;139892504014144</title>\n<path fill=\"none\" stroke=\"black\" d=\"M921.28,-45.5C928.78,-45.5 937.44,-45.5 946.67,-45.5\"/>\n<polygon fill=\"black\" stroke=\"black\" points=\"946.87,-49 956.87,-45.5 946.87,-42 946.87,-49\"/>\n</g>\n<!-- 139892145993664 -->\n<g id=\"node10\" class=\"node\">\n<title>139892145993664</title>\n<polygon fill=\"none\" stroke=\"black\" points=\"642.5,-0.5 642.5,-36.5 830.5,-36.5 830.5,-0.5 642.5,-0.5\"/>\n<text text-anchor=\"middle\" x=\"653\" y=\"-14.8\" font-family=\"Times,serif\" font-size=\"14.00\">f</text>\n<polyline fill=\"none\" stroke=\"black\" points=\"663.5,-0.5 663.5,-36.5 \"/>\n<text text-anchor=\"middle\" x=\"706\" y=\"-14.8\" font-family=\"Times,serif\" font-size=\"14.00\">data &#45;2.0000</text>\n<polyline fill=\"none\" stroke=\"black\" points=\"748.5,-0.5 748.5,-36.5 \"/>\n<text text-anchor=\"middle\" x=\"789.5\" y=\"-14.8\" font-family=\"Times,serif\" font-size=\"14.00\">grad 4.0000</text>\n</g>\n<!-- 139892145993664&#45;&gt;139892504014144* -->\n<g id=\"edge9\" class=\"edge\">\n<title>139892145993664&#45;&gt;139892504014144*</title>\n<path fill=\"none\" stroke=\"black\" d=\"M830.65,-34.67C840.2,-36.33 849.43,-37.93 857.72,-39.37\"/>\n<polygon fill=\"black\" stroke=\"black\" points=\"857.24,-42.84 867.69,-41.11 858.44,-35.95 857.24,-42.84\"/>\n</g>\n</g>\n</svg>\n",
      "text/plain": [
       "<graphviz.graphs.Digraph at 0x7f3b2dab3eb0>"
      ]
     },
     "execution_count": 22,
     "metadata": {},
     "output_type": "execute_result"
    }
   ],
   "source": [
    "draw_dot(L)"
   ]
  },
  {
   "cell_type": "markdown",
   "metadata": {},
   "source": [
    "Backpropagation is a recursive application of a chain rule backwards trough the computation graph."
   ]
  },
  {
   "cell_type": "markdown",
   "metadata": {},
   "source": [
    "# Preview of a single optimization step"
   ]
  },
  {
   "cell_type": "code",
   "execution_count": 23,
   "metadata": {},
   "outputs": [
    {
     "name": "stdout",
     "output_type": "stream",
     "text": [
      "-7.286496\n"
     ]
    }
   ],
   "source": [
    "# nudging leaf nodes by some small amount in the direction of gradient \n",
    "a.data += 0.01 * a.grad\n",
    "b.data += 0.01 * b.grad\n",
    "c.data += 0.01 * c.grad\n",
    "f.data += 0.01 * f.grad\n",
    "\n",
    "# running forward pass\n",
    "e = a * b\n",
    "d = e + c\n",
    "L = d * f\n",
    "\n",
    "print(L.data)"
   ]
  },
  {
   "cell_type": "markdown",
   "metadata": {},
   "source": [
    "# Manual backpropagation example #2: a neuron"
   ]
  },
  {
   "cell_type": "code",
   "execution_count": 24,
   "metadata": {},
   "outputs": [
    {
     "data": {
      "image/png": "[encoded data removed]",
      "text/plain": [
       "<Figure size 640x480 with 1 Axes>"
      ]
     },
     "metadata": {},
     "output_type": "display_data"
    }
   ],
   "source": [
    "# tanh -- activation(squashing) function\n",
    "plt.plot(np.arange(-5,5,0.2), np.tanh(np.arange(-5,5,0.2))); plt.grid();"
   ]
  },
  {
   "cell_type": "markdown",
   "metadata": {},
   "source": [
    "Two neurons example:"
   ]
  },
  {
   "cell_type": "code",
   "execution_count": 25,
   "metadata": {},
   "outputs": [
    {
     "data": {
      "image/svg+xml": "<?xml version=\"1.0\" encoding=\"UTF-8\" standalone=\"no\"?>\n<!DOCTYPE svg PUBLIC \"-//W3C//DTD SVG 1.1//EN\"\n \"http://www.w3.org/Graphics/SVG/1.1/DTD/svg11.dtd\">\n<!-- Generated by graphviz version 2.50.0 (0)\n -->\n<!-- Pages: 1 -->\n<svg width=\"1264pt\" height=\"210pt\"\n viewBox=\"0.00 0.00 1264.00 210.00\" xmlns=\"http://www.w3.org/2000/svg\" xmlns:xlink=\"http://www.w3.org/1999/xlink\">\n<g id=\"graph0\" class=\"graph\" transform=\"scale(1 1) rotate(0) translate(4 206)\">\n<polygon fill=\"white\" stroke=\"transparent\" points=\"-4,4 -4,-206 1260,-206 1260,4 -4,4\"/>\n<!-- 139892137163264 -->\n<g id=\"node1\" class=\"node\">\n<title>139892137163264</title>\n<polygon fill=\"none\" stroke=\"black\" points=\"1071,-109.5 1071,-145.5 1256,-145.5 1256,-109.5 1071,-109.5\"/>\n<text text-anchor=\"middle\" x=\"1082.5\" y=\"-123.8\" font-family=\"Times,serif\" font-size=\"14.00\">n</text>\n<polyline fill=\"none\" stroke=\"black\" points=\"1094,-109.5 1094,-145.5 \"/>\n<text text-anchor=\"middle\" x=\"1134\" y=\"-123.8\" font-family=\"Times,serif\" font-size=\"14.00\">data 0.7000</text>\n<polyline fill=\"none\" stroke=\"black\" points=\"1174,-109.5 1174,-145.5 \"/>\n<text text-anchor=\"middle\" x=\"1215\" y=\"-123.8\" font-family=\"Times,serif\" font-size=\"14.00\">grad 0.0000</text>\n</g>\n<!-- 139892137163264+ -->\n<g id=\"node2\" class=\"node\">\n<title>139892137163264+</title>\n<ellipse fill=\"none\" stroke=\"black\" cx=\"1008\" cy=\"-127.5\" rx=\"27\" ry=\"18\"/>\n<text text-anchor=\"middle\" x=\"1008\" y=\"-123.8\" font-family=\"Times,serif\" font-size=\"14.00\">+</text>\n</g>\n<!-- 139892137163264+&#45;&gt;139892137163264 -->\n<g id=\"edge1\" class=\"edge\">\n<title>139892137163264+&#45;&gt;139892137163264</title>\n<path fill=\"none\" stroke=\"black\" d=\"M1035.04,-127.5C1042.58,-127.5 1051.3,-127.5 1060.57,-127.5\"/>\n<polygon fill=\"black\" stroke=\"black\" points=\"1060.81,-131 1070.81,-127.5 1060.81,-124 1060.81,-131\"/>\n</g>\n<!-- 139892137160192 -->\n<g id=\"node3\" class=\"node\">\n<title>139892137160192</title>\n<polygon fill=\"none\" stroke=\"black\" points=\"4,-165.5 4,-201.5 196,-201.5 196,-165.5 4,-165.5\"/>\n<text text-anchor=\"middle\" x=\"19\" y=\"-179.8\" font-family=\"Times,serif\" font-size=\"14.00\">x1</text>\n<polyline fill=\"none\" stroke=\"black\" points=\"34,-165.5 34,-201.5 \"/>\n<text text-anchor=\"middle\" x=\"74\" y=\"-179.8\" font-family=\"Times,serif\" font-size=\"14.00\">data 2.0000</text>\n<polyline fill=\"none\" stroke=\"black\" points=\"114,-165.5 114,-201.5 \"/>\n<text text-anchor=\"middle\" x=\"155\" y=\"-179.8\" font-family=\"Times,serif\" font-size=\"14.00\">grad 0.0000</text>\n</g>\n<!-- 139892137158272* -->\n<g id=\"node5\" class=\"node\">\n<title>139892137158272*</title>\n<ellipse fill=\"none\" stroke=\"black\" cx=\"263\" cy=\"-128.5\" rx=\"27\" ry=\"18\"/>\n<text text-anchor=\"middle\" x=\"263\" y=\"-124.8\" font-family=\"Times,serif\" font-size=\"14.00\">*</text>\n</g>\n<!-- 139892137160192&#45;&gt;139892137158272* -->\n<g id=\"edge10\" class=\"edge\">\n<title>139892137160192&#45;&gt;139892137158272*</title>\n<path fill=\"none\" stroke=\"black\" d=\"M172.53,-165.44C181.84,-162.67 191.2,-159.67 200,-156.5 210.53,-152.71 221.75,-147.9 231.72,-143.33\"/>\n<polygon fill=\"black\" stroke=\"black\" points=\"233.25,-146.48 240.82,-139.07 230.28,-140.14 233.25,-146.48\"/>\n</g>\n<!-- 139892137158272 -->\n<g id=\"node4\" class=\"node\">\n<title>139892137158272</title>\n<polygon fill=\"none\" stroke=\"black\" points=\"326,-110.5 326,-146.5 546,-146.5 546,-110.5 326,-110.5\"/>\n<text text-anchor=\"middle\" x=\"352.5\" y=\"-124.8\" font-family=\"Times,serif\" font-size=\"14.00\">x1*w1</text>\n<polyline fill=\"none\" stroke=\"black\" points=\"379,-110.5 379,-146.5 \"/>\n<text text-anchor=\"middle\" x=\"421.5\" y=\"-124.8\" font-family=\"Times,serif\" font-size=\"14.00\">data &#45;6.0000</text>\n<polyline fill=\"none\" stroke=\"black\" points=\"464,-110.5 464,-146.5 \"/>\n<text text-anchor=\"middle\" x=\"505\" y=\"-124.8\" font-family=\"Times,serif\" font-size=\"14.00\">grad 0.0000</text>\n</g>\n<!-- 139892137163168+ -->\n<g id=\"node12\" class=\"node\">\n<title>139892137163168+</title>\n<ellipse fill=\"none\" stroke=\"black\" cx=\"609\" cy=\"-100.5\" rx=\"27\" ry=\"18\"/>\n<text text-anchor=\"middle\" x=\"609\" y=\"-96.8\" font-family=\"Times,serif\" font-size=\"14.00\">+</text>\n</g>\n<!-- 139892137158272&#45;&gt;139892137163168+ -->\n<g id=\"edge11\" class=\"edge\">\n<title>139892137158272&#45;&gt;139892137163168+</title>\n<path fill=\"none\" stroke=\"black\" d=\"M546.27,-110.61C555.64,-109.07 564.6,-107.61 572.65,-106.29\"/>\n<polygon fill=\"black\" stroke=\"black\" points=\"573.35,-109.72 582.65,-104.65 572.22,-102.81 573.35,-109.72\"/>\n</g>\n<!-- 139892137158272*&#45;&gt;139892137158272 -->\n<g id=\"edge2\" class=\"edge\">\n<title>139892137158272*&#45;&gt;139892137158272</title>\n<path fill=\"none\" stroke=\"black\" d=\"M290.34,-128.5C297.77,-128.5 306.37,-128.5 315.6,-128.5\"/>\n<polygon fill=\"black\" stroke=\"black\" points=\"315.84,-132 325.84,-128.5 315.84,-125 315.84,-132\"/>\n</g>\n<!-- 139892137159808 -->\n<g id=\"node6\" class=\"node\">\n<title>139892137159808</title>\n<polygon fill=\"none\" stroke=\"black\" points=\"2.5,-55.5 2.5,-91.5 197.5,-91.5 197.5,-55.5 2.5,-55.5\"/>\n<text text-anchor=\"middle\" x=\"19\" y=\"-69.8\" font-family=\"Times,serif\" font-size=\"14.00\">w2</text>\n<polyline fill=\"none\" stroke=\"black\" points=\"35.5,-55.5 35.5,-91.5 \"/>\n<text text-anchor=\"middle\" x=\"75.5\" y=\"-69.8\" font-family=\"Times,serif\" font-size=\"14.00\">data 1.0000</text>\n<polyline fill=\"none\" stroke=\"black\" points=\"115.5,-55.5 115.5,-91.5 \"/>\n<text text-anchor=\"middle\" x=\"156.5\" y=\"-69.8\" font-family=\"Times,serif\" font-size=\"14.00\">grad 0.0000</text>\n</g>\n<!-- 139892137163072* -->\n<g id=\"node10\" class=\"node\">\n<title>139892137163072*</title>\n<ellipse fill=\"none\" stroke=\"black\" cx=\"263\" cy=\"-73.5\" rx=\"27\" ry=\"18\"/>\n<text text-anchor=\"middle\" x=\"263\" y=\"-69.8\" font-family=\"Times,serif\" font-size=\"14.00\">*</text>\n</g>\n<!-- 139892137159808&#45;&gt;139892137163072* -->\n<g id=\"edge6\" class=\"edge\">\n<title>139892137159808&#45;&gt;139892137163072*</title>\n<path fill=\"none\" stroke=\"black\" d=\"M197.91,-73.5C207.65,-73.5 217.05,-73.5 225.52,-73.5\"/>\n<polygon fill=\"black\" stroke=\"black\" points=\"225.7,-77 235.7,-73.5 225.7,-70 225.7,-77\"/>\n</g>\n<!-- 139892137159952 -->\n<g id=\"node7\" class=\"node\">\n<title>139892137159952</title>\n<polygon fill=\"none\" stroke=\"black\" points=\"716,-137.5 716,-173.5 901,-173.5 901,-137.5 716,-137.5\"/>\n<text text-anchor=\"middle\" x=\"727.5\" y=\"-151.8\" font-family=\"Times,serif\" font-size=\"14.00\">b</text>\n<polyline fill=\"none\" stroke=\"black\" points=\"739,-137.5 739,-173.5 \"/>\n<text text-anchor=\"middle\" x=\"779\" y=\"-151.8\" font-family=\"Times,serif\" font-size=\"14.00\">data 6.7000</text>\n<polyline fill=\"none\" stroke=\"black\" points=\"819,-137.5 819,-173.5 \"/>\n<text text-anchor=\"middle\" x=\"860\" y=\"-151.8\" font-family=\"Times,serif\" font-size=\"14.00\">grad 0.0000</text>\n</g>\n<!-- 139892137159952&#45;&gt;139892137163264+ -->\n<g id=\"edge7\" class=\"edge\">\n<title>139892137159952&#45;&gt;139892137163264+</title>\n<path fill=\"none\" stroke=\"black\" d=\"M901.02,-142.52C926,-138.98 951.59,-135.36 971.37,-132.55\"/>\n<polygon fill=\"black\" stroke=\"black\" points=\"972.03,-135.99 981.43,-131.12 971.04,-129.06 972.03,-135.99\"/>\n</g>\n<!-- 139892137159472 -->\n<g id=\"node8\" class=\"node\">\n<title>139892137159472</title>\n<polygon fill=\"none\" stroke=\"black\" points=\"0,-110.5 0,-146.5 200,-146.5 200,-110.5 0,-110.5\"/>\n<text text-anchor=\"middle\" x=\"16.5\" y=\"-124.8\" font-family=\"Times,serif\" font-size=\"14.00\">w1</text>\n<polyline fill=\"none\" stroke=\"black\" points=\"33,-110.5 33,-146.5 \"/>\n<text text-anchor=\"middle\" x=\"75.5\" y=\"-124.8\" font-family=\"Times,serif\" font-size=\"14.00\">data &#45;3.0000</text>\n<polyline fill=\"none\" stroke=\"black\" points=\"118,-110.5 118,-146.5 \"/>\n<text text-anchor=\"middle\" x=\"159\" y=\"-124.8\" font-family=\"Times,serif\" font-size=\"14.00\">grad 0.0000</text>\n</g>\n<!-- 139892137159472&#45;&gt;139892137158272* -->\n<g id=\"edge12\" class=\"edge\">\n<title>139892137159472&#45;&gt;139892137158272*</title>\n<path fill=\"none\" stroke=\"black\" d=\"M200.21,-128.5C209.2,-128.5 217.86,-128.5 225.7,-128.5\"/>\n<polygon fill=\"black\" stroke=\"black\" points=\"225.85,-132 235.85,-128.5 225.85,-125 225.85,-132\"/>\n</g>\n<!-- 139892137163072 -->\n<g id=\"node9\" class=\"node\">\n<title>139892137163072</title>\n<polygon fill=\"none\" stroke=\"black\" points=\"328.5,-55.5 328.5,-91.5 543.5,-91.5 543.5,-55.5 328.5,-55.5\"/>\n<text text-anchor=\"middle\" x=\"355\" y=\"-69.8\" font-family=\"Times,serif\" font-size=\"14.00\">x2*w2</text>\n<polyline fill=\"none\" stroke=\"black\" points=\"381.5,-55.5 381.5,-91.5 \"/>\n<text text-anchor=\"middle\" x=\"421.5\" y=\"-69.8\" font-family=\"Times,serif\" font-size=\"14.00\">data 0.0000</text>\n<polyline fill=\"none\" stroke=\"black\" points=\"461.5,-55.5 461.5,-91.5 \"/>\n<text text-anchor=\"middle\" x=\"502.5\" y=\"-69.8\" font-family=\"Times,serif\" font-size=\"14.00\">grad 0.0000</text>\n</g>\n<!-- 139892137163072&#45;&gt;139892137163168+ -->\n<g id=\"edge9\" class=\"edge\">\n<title>139892137163072&#45;&gt;139892137163168+</title>\n<path fill=\"none\" stroke=\"black\" d=\"M543.84,-90.37C554.01,-91.98 563.76,-93.51 572.44,-94.89\"/>\n<polygon fill=\"black\" stroke=\"black\" points=\"572.05,-98.37 582.47,-96.47 573.14,-91.45 572.05,-98.37\"/>\n</g>\n<!-- 139892137163072*&#45;&gt;139892137163072 -->\n<g id=\"edge3\" class=\"edge\">\n<title>139892137163072*&#45;&gt;139892137163072</title>\n<path fill=\"none\" stroke=\"black\" d=\"M290.34,-73.5C298.51,-73.5 308.08,-73.5 318.36,-73.5\"/>\n<polygon fill=\"black\" stroke=\"black\" points=\"318.39,-77 328.39,-73.5 318.39,-70 318.39,-77\"/>\n</g>\n<!-- 139892137163168 -->\n<g id=\"node11\" class=\"node\">\n<title>139892137163168</title>\n<polygon fill=\"none\" stroke=\"black\" points=\"672,-82.5 672,-118.5 945,-118.5 945,-82.5 672,-82.5\"/>\n<text text-anchor=\"middle\" x=\"725\" y=\"-96.8\" font-family=\"Times,serif\" font-size=\"14.00\">x1*w1 + x2*w2</text>\n<polyline fill=\"none\" stroke=\"black\" points=\"778,-82.5 778,-118.5 \"/>\n<text text-anchor=\"middle\" x=\"820.5\" y=\"-96.8\" font-family=\"Times,serif\" font-size=\"14.00\">data &#45;6.0000</text>\n<polyline fill=\"none\" stroke=\"black\" points=\"863,-82.5 863,-118.5 \"/>\n<text text-anchor=\"middle\" x=\"904\" y=\"-96.8\" font-family=\"Times,serif\" font-size=\"14.00\">grad 0.0000</text>\n</g>\n<!-- 139892137163168&#45;&gt;139892137163264+ -->\n<g id=\"edge5\" class=\"edge\">\n<title>139892137163168&#45;&gt;139892137163264+</title>\n<path fill=\"none\" stroke=\"black\" d=\"M941.24,-118.51C952.12,-120 962.4,-121.4 971.45,-122.64\"/>\n<polygon fill=\"black\" stroke=\"black\" points=\"971.11,-126.13 981.49,-124.01 972.05,-119.19 971.11,-126.13\"/>\n</g>\n<!-- 139892137163168+&#45;&gt;139892137163168 -->\n<g id=\"edge4\" class=\"edge\">\n<title>139892137163168+&#45;&gt;139892137163168</title>\n<path fill=\"none\" stroke=\"black\" d=\"M636.23,-100.5C643.7,-100.5 652.41,-100.5 661.87,-100.5\"/>\n<polygon fill=\"black\" stroke=\"black\" points=\"661.98,-104 671.98,-100.5 661.98,-97 661.98,-104\"/>\n</g>\n<!-- 139892136432576 -->\n<g id=\"node13\" class=\"node\">\n<title>139892136432576</title>\n<polygon fill=\"none\" stroke=\"black\" points=\"4,-0.5 4,-36.5 196,-36.5 196,-0.5 4,-0.5\"/>\n<text text-anchor=\"middle\" x=\"19\" y=\"-14.8\" font-family=\"Times,serif\" font-size=\"14.00\">x2</text>\n<polyline fill=\"none\" stroke=\"black\" points=\"34,-0.5 34,-36.5 \"/>\n<text text-anchor=\"middle\" x=\"74\" y=\"-14.8\" font-family=\"Times,serif\" font-size=\"14.00\">data 0.0000</text>\n<polyline fill=\"none\" stroke=\"black\" points=\"114,-0.5 114,-36.5 \"/>\n<text text-anchor=\"middle\" x=\"155\" y=\"-14.8\" font-family=\"Times,serif\" font-size=\"14.00\">grad 0.0000</text>\n</g>\n<!-- 139892136432576&#45;&gt;139892137163072* -->\n<g id=\"edge8\" class=\"edge\">\n<title>139892136432576&#45;&gt;139892137163072*</title>\n<path fill=\"none\" stroke=\"black\" d=\"M169.28,-36.5C179.65,-39.61 190.16,-42.98 200,-46.5 210.28,-50.17 221.28,-54.74 231.11,-59.07\"/>\n<polygon fill=\"black\" stroke=\"black\" points=\"229.93,-62.37 240.48,-63.27 232.79,-55.99 229.93,-62.37\"/>\n</g>\n</g>\n</svg>\n",
      "text/plain": [
       "<graphviz.graphs.Digraph at 0x7f3b2d247d60>"
      ]
     },
     "execution_count": 25,
     "metadata": {},
     "output_type": "execute_result"
    }
   ],
   "source": [
    "# inputs x1,x2\n",
    "x1 = Value(2.0, label='x1')\n",
    "x2 = Value(0.0, label='x2')\n",
    "# weights w1,w2\n",
    "w1 = Value(-3.0, label='w1')\n",
    "w2 = Value(1.0, label='w2')\n",
    "# bias of the neuron\n",
    "b = Value(6.7, label='b')\n",
    "# x1*w1 + x2*w2 + b\n",
    "x1w1 = x1*w1; x1w1.label = 'x1*w1'\n",
    "x2w2 = x2*w2; x2w2.label = 'x2*w2'\n",
    "x1w1x2w2 = x1w1 + x2w2; x1w1x2w2.label = 'x1*w1 + x2*w2'\n",
    "n = x1w1x2w2 + b; n.label = 'n'\n",
    "\n",
    "draw_dot(n)"
   ]
  },
  {
   "cell_type": "code",
   "execution_count": 26,
   "metadata": {},
   "outputs": [],
   "source": [
    "# implementing tanh\n",
    "class Value():\n",
    "    \n",
    "    def __init__(self, data, _children=(), _op='', label=''):\n",
    "        self.data = data\n",
    "        self.grad = 0.0\n",
    "        self._prev = set(_children)\n",
    "        self._op = _op\n",
    "        self.label = label\n",
    "\n",
    "    def __repr__(self):\n",
    "        return f'Value(data={self.data})'\n",
    "    \n",
    "    def __add__(self, other):\n",
    "        out = Value(self.data + other.data, (self, other), '+')\n",
    "        return out\n",
    "    \n",
    "    def __mul__(self, other):\n",
    "        out = Value(self.data * other.data, (self, other), '*')\n",
    "        return out\n",
    "\n",
    "    def tanh(self):\n",
    "        x = self.data\n",
    "        t = (math.exp(2*x) - 1)/(math.exp(2*x) + 1)\n",
    "        out = Value(t, (self, ), 'tanh')\n",
    "        return out"
   ]
  },
  {
   "cell_type": "code",
   "execution_count": 27,
   "metadata": {},
   "outputs": [
    {
     "data": {
      "image/svg+xml": "<?xml version=\"1.0\" encoding=\"UTF-8\" standalone=\"no\"?>\n<!DOCTYPE svg PUBLIC \"-//W3C//DTD SVG 1.1//EN\"\n \"http://www.w3.org/Graphics/SVG/1.1/DTD/svg11.dtd\">\n<!-- Generated by graphviz version 2.50.0 (0)\n -->\n<!-- Pages: 1 -->\n<svg width=\"1575pt\" height=\"210pt\"\n viewBox=\"0.00 0.00 1575.00 210.00\" xmlns=\"http://www.w3.org/2000/svg\" xmlns:xlink=\"http://www.w3.org/1999/xlink\">\n<g id=\"graph0\" class=\"graph\" transform=\"scale(1 1) rotate(0) translate(4 206)\">\n<polygon fill=\"white\" stroke=\"transparent\" points=\"-4,4 -4,-206 1571,-206 1571,4 -4,4\"/>\n<!-- 139892137154576 -->\n<g id=\"node1\" class=\"node\">\n<title>139892137154576</title>\n<polygon fill=\"none\" stroke=\"black\" points=\"0,-165.5 0,-201.5 200,-201.5 200,-165.5 0,-165.5\"/>\n<text text-anchor=\"middle\" x=\"16.5\" y=\"-179.8\" font-family=\"Times,serif\" font-size=\"14.00\">w1</text>\n<polyline fill=\"none\" stroke=\"black\" points=\"33,-165.5 33,-201.5 \"/>\n<text text-anchor=\"middle\" x=\"75.5\" y=\"-179.8\" font-family=\"Times,serif\" font-size=\"14.00\">data &#45;3.0000</text>\n<polyline fill=\"none\" stroke=\"black\" points=\"118,-165.5 118,-201.5 \"/>\n<text text-anchor=\"middle\" x=\"159\" y=\"-179.8\" font-family=\"Times,serif\" font-size=\"14.00\">grad 0.0000</text>\n</g>\n<!-- 139892137163504* -->\n<g id=\"node8\" class=\"node\">\n<title>139892137163504*</title>\n<ellipse fill=\"none\" stroke=\"black\" cx=\"263\" cy=\"-128.5\" rx=\"27\" ry=\"18\"/>\n<text text-anchor=\"middle\" x=\"263\" y=\"-124.8\" font-family=\"Times,serif\" font-size=\"14.00\">*</text>\n</g>\n<!-- 139892137154576&#45;&gt;139892137163504* -->\n<g id=\"edge10\" class=\"edge\">\n<title>139892137154576&#45;&gt;139892137163504*</title>\n<path fill=\"none\" stroke=\"black\" d=\"M172.53,-165.44C181.84,-162.67 191.2,-159.67 200,-156.5 210.53,-152.71 221.75,-147.9 231.72,-143.33\"/>\n<polygon fill=\"black\" stroke=\"black\" points=\"233.25,-146.48 240.82,-139.07 230.28,-140.14 233.25,-146.48\"/>\n</g>\n<!-- 139892137163312 -->\n<g id=\"node2\" class=\"node\">\n<title>139892137163312</title>\n<polygon fill=\"none\" stroke=\"black\" points=\"716,-27.5 716,-63.5 901,-63.5 901,-27.5 716,-27.5\"/>\n<text text-anchor=\"middle\" x=\"727.5\" y=\"-41.8\" font-family=\"Times,serif\" font-size=\"14.00\">b</text>\n<polyline fill=\"none\" stroke=\"black\" points=\"739,-27.5 739,-63.5 \"/>\n<text text-anchor=\"middle\" x=\"779\" y=\"-41.8\" font-family=\"Times,serif\" font-size=\"14.00\">data 6.8814</text>\n<polyline fill=\"none\" stroke=\"black\" points=\"819,-27.5 819,-63.5 \"/>\n<text text-anchor=\"middle\" x=\"860\" y=\"-41.8\" font-family=\"Times,serif\" font-size=\"14.00\">grad 0.0000</text>\n</g>\n<!-- 139892137163408+ -->\n<g id=\"node4\" class=\"node\">\n<title>139892137163408+</title>\n<ellipse fill=\"none\" stroke=\"black\" cx=\"1008\" cy=\"-72.5\" rx=\"27\" ry=\"18\"/>\n<text text-anchor=\"middle\" x=\"1008\" y=\"-68.8\" font-family=\"Times,serif\" font-size=\"14.00\">+</text>\n</g>\n<!-- 139892137163312&#45;&gt;139892137163408+ -->\n<g id=\"edge7\" class=\"edge\">\n<title>139892137163312&#45;&gt;139892137163408+</title>\n<path fill=\"none\" stroke=\"black\" d=\"M901.02,-58.01C926,-61.43 951.59,-64.93 971.37,-67.63\"/>\n<polygon fill=\"black\" stroke=\"black\" points=\"971.05,-71.12 981.43,-69.01 972,-64.18 971.05,-71.12\"/>\n</g>\n<!-- 139892137163408 -->\n<g id=\"node3\" class=\"node\">\n<title>139892137163408</title>\n<polygon fill=\"none\" stroke=\"black\" points=\"1071,-54.5 1071,-90.5 1256,-90.5 1256,-54.5 1071,-54.5\"/>\n<text text-anchor=\"middle\" x=\"1082.5\" y=\"-68.8\" font-family=\"Times,serif\" font-size=\"14.00\">n</text>\n<polyline fill=\"none\" stroke=\"black\" points=\"1094,-54.5 1094,-90.5 \"/>\n<text text-anchor=\"middle\" x=\"1134\" y=\"-68.8\" font-family=\"Times,serif\" font-size=\"14.00\">data 0.8814</text>\n<polyline fill=\"none\" stroke=\"black\" points=\"1174,-54.5 1174,-90.5 \"/>\n<text text-anchor=\"middle\" x=\"1215\" y=\"-68.8\" font-family=\"Times,serif\" font-size=\"14.00\">grad 0.0000</text>\n</g>\n<!-- 139892137163648tanh -->\n<g id=\"node12\" class=\"node\">\n<title>139892137163648tanh</title>\n<ellipse fill=\"none\" stroke=\"black\" cx=\"1319\" cy=\"-72.5\" rx=\"27\" ry=\"18\"/>\n<text text-anchor=\"middle\" x=\"1319\" y=\"-68.8\" font-family=\"Times,serif\" font-size=\"14.00\">tanh</text>\n</g>\n<!-- 139892137163408&#45;&gt;139892137163648tanh -->\n<g id=\"edge8\" class=\"edge\">\n<title>139892137163408&#45;&gt;139892137163648tanh</title>\n<path fill=\"none\" stroke=\"black\" d=\"M1256.01,-72.5C1265.01,-72.5 1273.74,-72.5 1281.66,-72.5\"/>\n<polygon fill=\"black\" stroke=\"black\" points=\"1281.91,-76 1291.91,-72.5 1281.91,-69 1281.91,-76\"/>\n</g>\n<!-- 139892137163408+&#45;&gt;139892137163408 -->\n<g id=\"edge1\" class=\"edge\">\n<title>139892137163408+&#45;&gt;139892137163408</title>\n<path fill=\"none\" stroke=\"black\" d=\"M1035.04,-72.5C1042.58,-72.5 1051.3,-72.5 1060.57,-72.5\"/>\n<polygon fill=\"black\" stroke=\"black\" points=\"1060.81,-76 1070.81,-72.5 1060.81,-69 1060.81,-76\"/>\n</g>\n<!-- 139892137163936 -->\n<g id=\"node5\" class=\"node\">\n<title>139892137163936</title>\n<polygon fill=\"none\" stroke=\"black\" points=\"2.5,-55.5 2.5,-91.5 197.5,-91.5 197.5,-55.5 2.5,-55.5\"/>\n<text text-anchor=\"middle\" x=\"19\" y=\"-69.8\" font-family=\"Times,serif\" font-size=\"14.00\">w2</text>\n<polyline fill=\"none\" stroke=\"black\" points=\"35.5,-55.5 35.5,-91.5 \"/>\n<text text-anchor=\"middle\" x=\"75.5\" y=\"-69.8\" font-family=\"Times,serif\" font-size=\"14.00\">data 1.0000</text>\n<polyline fill=\"none\" stroke=\"black\" points=\"115.5,-55.5 115.5,-91.5 \"/>\n<text text-anchor=\"middle\" x=\"156.5\" y=\"-69.8\" font-family=\"Times,serif\" font-size=\"14.00\">grad 0.0000</text>\n</g>\n<!-- 139892137161104* -->\n<g id=\"node14\" class=\"node\">\n<title>139892137161104*</title>\n<ellipse fill=\"none\" stroke=\"black\" cx=\"263\" cy=\"-73.5\" rx=\"27\" ry=\"18\"/>\n<text text-anchor=\"middle\" x=\"263\" y=\"-69.8\" font-family=\"Times,serif\" font-size=\"14.00\">*</text>\n</g>\n<!-- 139892137163936&#45;&gt;139892137161104* -->\n<g id=\"edge12\" class=\"edge\">\n<title>139892137163936&#45;&gt;139892137161104*</title>\n<path fill=\"none\" stroke=\"black\" d=\"M197.91,-73.5C207.65,-73.5 217.05,-73.5 225.52,-73.5\"/>\n<polygon fill=\"black\" stroke=\"black\" points=\"225.7,-77 235.7,-73.5 225.7,-70 225.7,-77\"/>\n</g>\n<!-- 139892137164464 -->\n<g id=\"node6\" class=\"node\">\n<title>139892137164464</title>\n<polygon fill=\"none\" stroke=\"black\" points=\"4,-110.5 4,-146.5 196,-146.5 196,-110.5 4,-110.5\"/>\n<text text-anchor=\"middle\" x=\"19\" y=\"-124.8\" font-family=\"Times,serif\" font-size=\"14.00\">x1</text>\n<polyline fill=\"none\" stroke=\"black\" points=\"34,-110.5 34,-146.5 \"/>\n<text text-anchor=\"middle\" x=\"74\" y=\"-124.8\" font-family=\"Times,serif\" font-size=\"14.00\">data 2.0000</text>\n<polyline fill=\"none\" stroke=\"black\" points=\"114,-110.5 114,-146.5 \"/>\n<text text-anchor=\"middle\" x=\"155\" y=\"-124.8\" font-family=\"Times,serif\" font-size=\"14.00\">grad 0.0000</text>\n</g>\n<!-- 139892137164464&#45;&gt;139892137163504* -->\n<g id=\"edge14\" class=\"edge\">\n<title>139892137164464&#45;&gt;139892137163504*</title>\n<path fill=\"none\" stroke=\"black\" d=\"M196.05,-128.5C206.52,-128.5 216.65,-128.5 225.71,-128.5\"/>\n<polygon fill=\"black\" stroke=\"black\" points=\"225.79,-132 235.79,-128.5 225.79,-125 225.79,-132\"/>\n</g>\n<!-- 139892137163504 -->\n<g id=\"node7\" class=\"node\">\n<title>139892137163504</title>\n<polygon fill=\"none\" stroke=\"black\" points=\"326,-110.5 326,-146.5 546,-146.5 546,-110.5 326,-110.5\"/>\n<text text-anchor=\"middle\" x=\"352.5\" y=\"-124.8\" font-family=\"Times,serif\" font-size=\"14.00\">x1*w1</text>\n<polyline fill=\"none\" stroke=\"black\" points=\"379,-110.5 379,-146.5 \"/>\n<text text-anchor=\"middle\" x=\"421.5\" y=\"-124.8\" font-family=\"Times,serif\" font-size=\"14.00\">data &#45;6.0000</text>\n<polyline fill=\"none\" stroke=\"black\" points=\"464,-110.5 464,-146.5 \"/>\n<text text-anchor=\"middle\" x=\"505\" y=\"-124.8\" font-family=\"Times,serif\" font-size=\"14.00\">grad 0.0000</text>\n</g>\n<!-- 139892137162064+ -->\n<g id=\"node10\" class=\"node\">\n<title>139892137162064+</title>\n<ellipse fill=\"none\" stroke=\"black\" cx=\"609\" cy=\"-100.5\" rx=\"27\" ry=\"18\"/>\n<text text-anchor=\"middle\" x=\"609\" y=\"-96.8\" font-family=\"Times,serif\" font-size=\"14.00\">+</text>\n</g>\n<!-- 139892137163504&#45;&gt;139892137162064+ -->\n<g id=\"edge11\" class=\"edge\">\n<title>139892137163504&#45;&gt;139892137162064+</title>\n<path fill=\"none\" stroke=\"black\" d=\"M546.27,-110.61C555.64,-109.07 564.6,-107.61 572.65,-106.29\"/>\n<polygon fill=\"black\" stroke=\"black\" points=\"573.35,-109.72 582.65,-104.65 572.22,-102.81 573.35,-109.72\"/>\n</g>\n<!-- 139892137163504*&#45;&gt;139892137163504 -->\n<g id=\"edge2\" class=\"edge\">\n<title>139892137163504*&#45;&gt;139892137163504</title>\n<path fill=\"none\" stroke=\"black\" d=\"M290.34,-128.5C297.77,-128.5 306.37,-128.5 315.6,-128.5\"/>\n<polygon fill=\"black\" stroke=\"black\" points=\"315.84,-132 325.84,-128.5 315.84,-125 315.84,-132\"/>\n</g>\n<!-- 139892137162064 -->\n<g id=\"node9\" class=\"node\">\n<title>139892137162064</title>\n<polygon fill=\"none\" stroke=\"black\" points=\"672,-82.5 672,-118.5 945,-118.5 945,-82.5 672,-82.5\"/>\n<text text-anchor=\"middle\" x=\"725\" y=\"-96.8\" font-family=\"Times,serif\" font-size=\"14.00\">x1*w1 + x2*w2</text>\n<polyline fill=\"none\" stroke=\"black\" points=\"778,-82.5 778,-118.5 \"/>\n<text text-anchor=\"middle\" x=\"820.5\" y=\"-96.8\" font-family=\"Times,serif\" font-size=\"14.00\">data &#45;6.0000</text>\n<polyline fill=\"none\" stroke=\"black\" points=\"863,-82.5 863,-118.5 \"/>\n<text text-anchor=\"middle\" x=\"904\" y=\"-96.8\" font-family=\"Times,serif\" font-size=\"14.00\">grad 0.0000</text>\n</g>\n<!-- 139892137162064&#45;&gt;139892137163408+ -->\n<g id=\"edge6\" class=\"edge\">\n<title>139892137162064&#45;&gt;139892137163408+</title>\n<path fill=\"none\" stroke=\"black\" d=\"M936.53,-82.49C949.09,-80.71 960.99,-79.02 971.3,-77.56\"/>\n<polygon fill=\"black\" stroke=\"black\" points=\"972.03,-80.99 981.44,-76.12 971.05,-74.06 972.03,-80.99\"/>\n</g>\n<!-- 139892137162064+&#45;&gt;139892137162064 -->\n<g id=\"edge3\" class=\"edge\">\n<title>139892137162064+&#45;&gt;139892137162064</title>\n<path fill=\"none\" stroke=\"black\" d=\"M636.23,-100.5C643.7,-100.5 652.41,-100.5 661.87,-100.5\"/>\n<polygon fill=\"black\" stroke=\"black\" points=\"661.98,-104 671.98,-100.5 661.98,-97 661.98,-104\"/>\n</g>\n<!-- 139892137163648 -->\n<g id=\"node11\" class=\"node\">\n<title>139892137163648</title>\n<polygon fill=\"none\" stroke=\"black\" points=\"1382,-54.5 1382,-90.5 1567,-90.5 1567,-54.5 1382,-54.5\"/>\n<text text-anchor=\"middle\" x=\"1393.5\" y=\"-68.8\" font-family=\"Times,serif\" font-size=\"14.00\">o</text>\n<polyline fill=\"none\" stroke=\"black\" points=\"1405,-54.5 1405,-90.5 \"/>\n<text text-anchor=\"middle\" x=\"1445\" y=\"-68.8\" font-family=\"Times,serif\" font-size=\"14.00\">data 0.7071</text>\n<polyline fill=\"none\" stroke=\"black\" points=\"1485,-54.5 1485,-90.5 \"/>\n<text text-anchor=\"middle\" x=\"1526\" y=\"-68.8\" font-family=\"Times,serif\" font-size=\"14.00\">grad 0.0000</text>\n</g>\n<!-- 139892137163648tanh&#45;&gt;139892137163648 -->\n<g id=\"edge4\" class=\"edge\">\n<title>139892137163648tanh&#45;&gt;139892137163648</title>\n<path fill=\"none\" stroke=\"black\" d=\"M1346.04,-72.5C1353.58,-72.5 1362.3,-72.5 1371.57,-72.5\"/>\n<polygon fill=\"black\" stroke=\"black\" points=\"1371.81,-76 1381.81,-72.5 1371.81,-69 1371.81,-76\"/>\n</g>\n<!-- 139892137161104 -->\n<g id=\"node13\" class=\"node\">\n<title>139892137161104</title>\n<polygon fill=\"none\" stroke=\"black\" points=\"328.5,-55.5 328.5,-91.5 543.5,-91.5 543.5,-55.5 328.5,-55.5\"/>\n<text text-anchor=\"middle\" x=\"355\" y=\"-69.8\" font-family=\"Times,serif\" font-size=\"14.00\">x2*w2</text>\n<polyline fill=\"none\" stroke=\"black\" points=\"381.5,-55.5 381.5,-91.5 \"/>\n<text text-anchor=\"middle\" x=\"421.5\" y=\"-69.8\" font-family=\"Times,serif\" font-size=\"14.00\">data 0.0000</text>\n<polyline fill=\"none\" stroke=\"black\" points=\"461.5,-55.5 461.5,-91.5 \"/>\n<text text-anchor=\"middle\" x=\"502.5\" y=\"-69.8\" font-family=\"Times,serif\" font-size=\"14.00\">grad 0.0000</text>\n</g>\n<!-- 139892137161104&#45;&gt;139892137162064+ -->\n<g id=\"edge9\" class=\"edge\">\n<title>139892137161104&#45;&gt;139892137162064+</title>\n<path fill=\"none\" stroke=\"black\" d=\"M543.84,-90.37C554.01,-91.98 563.76,-93.51 572.44,-94.89\"/>\n<polygon fill=\"black\" stroke=\"black\" points=\"572.05,-98.37 582.47,-96.47 573.14,-91.45 572.05,-98.37\"/>\n</g>\n<!-- 139892137161104*&#45;&gt;139892137161104 -->\n<g id=\"edge5\" class=\"edge\">\n<title>139892137161104*&#45;&gt;139892137161104</title>\n<path fill=\"none\" stroke=\"black\" d=\"M290.34,-73.5C298.51,-73.5 308.08,-73.5 318.36,-73.5\"/>\n<polygon fill=\"black\" stroke=\"black\" points=\"318.39,-77 328.39,-73.5 318.39,-70 318.39,-77\"/>\n</g>\n<!-- 139892146829776 -->\n<g id=\"node15\" class=\"node\">\n<title>139892146829776</title>\n<polygon fill=\"none\" stroke=\"black\" points=\"4,-0.5 4,-36.5 196,-36.5 196,-0.5 4,-0.5\"/>\n<text text-anchor=\"middle\" x=\"19\" y=\"-14.8\" font-family=\"Times,serif\" font-size=\"14.00\">x2</text>\n<polyline fill=\"none\" stroke=\"black\" points=\"34,-0.5 34,-36.5 \"/>\n<text text-anchor=\"middle\" x=\"74\" y=\"-14.8\" font-family=\"Times,serif\" font-size=\"14.00\">data 0.0000</text>\n<polyline fill=\"none\" stroke=\"black\" points=\"114,-0.5 114,-36.5 \"/>\n<text text-anchor=\"middle\" x=\"155\" y=\"-14.8\" font-family=\"Times,serif\" font-size=\"14.00\">grad 0.0000</text>\n</g>\n<!-- 139892146829776&#45;&gt;139892137161104* -->\n<g id=\"edge13\" class=\"edge\">\n<title>139892146829776&#45;&gt;139892137161104*</title>\n<path fill=\"none\" stroke=\"black\" d=\"M169.28,-36.5C179.65,-39.61 190.16,-42.98 200,-46.5 210.28,-50.17 221.28,-54.74 231.11,-59.07\"/>\n<polygon fill=\"black\" stroke=\"black\" points=\"229.93,-62.37 240.48,-63.27 232.79,-55.99 229.93,-62.37\"/>\n</g>\n</g>\n</svg>\n",
      "text/plain": [
       "<graphviz.graphs.Digraph at 0x7f3b2d21cf40>"
      ]
     },
     "execution_count": 27,
     "metadata": {},
     "output_type": "execute_result"
    }
   ],
   "source": [
    "# inputs x1,x2\n",
    "x1 = Value(2.0, label='x1')\n",
    "x2 = Value(0.0, label='x2')\n",
    "# weights w1,w2\n",
    "w1 = Value(-3.0, label='w1')\n",
    "w2 = Value(1.0, label='w2')\n",
    "# bias of the neuron\n",
    "b = Value(6.8813735870195432, label='b')\n",
    "# x1*w1 + x2*w2 + b\n",
    "x1w1 = x1*w1; x1w1.label = 'x1*w1'\n",
    "x2w2 = x2*w2; x2w2.label = 'x2*w2'\n",
    "x1w1x2w2 = x1w1 + x2w2; x1w1x2w2.label = 'x1*w1 + x2*w2'\n",
    "n = x1w1x2w2 + b; n.label = 'n'\n",
    "o = n.tanh(); o.label = 'o'\n",
    "\n",
    "draw_dot(o)"
   ]
  },
  {
   "cell_type": "code",
   "execution_count": 28,
   "metadata": {},
   "outputs": [],
   "source": [
    "o.grad = 1"
   ]
  },
  {
   "cell_type": "code",
   "execution_count": 29,
   "metadata": {},
   "outputs": [
    {
     "data": {
      "text/plain": [
       "0.4999999999999999"
      ]
     },
     "execution_count": 29,
     "metadata": {},
     "output_type": "execute_result"
    }
   ],
   "source": [
    "# o = tanh(n)\n",
    "# do/dn = 1 - tanh(n)**2\n",
    "# do/dn = 1 - o**2\n",
    "\n",
    "n.grad = 1 - o.data**2\n",
    "n.grad "
   ]
  },
  {
   "cell_type": "code",
   "execution_count": 30,
   "metadata": {},
   "outputs": [],
   "source": [
    "x1w1x2w2.grad = 0.5\n",
    "b.grad = 0.5"
   ]
  },
  {
   "cell_type": "code",
   "execution_count": 31,
   "metadata": {},
   "outputs": [],
   "source": [
    "x1w1.grad = 0.5\n",
    "x2w2.grad = 0.5"
   ]
  },
  {
   "cell_type": "code",
   "execution_count": 32,
   "metadata": {},
   "outputs": [],
   "source": [
    "x1.grad = w1.data * x1w1.grad\n",
    "w1.grad = x1.data * x1w1.grad"
   ]
  },
  {
   "cell_type": "code",
   "execution_count": 33,
   "metadata": {},
   "outputs": [],
   "source": [
    "x2.grad = w2.data * x2w2.grad\n",
    "w2.grad = x2.data * x2w2.grad"
   ]
  },
  {
   "cell_type": "code",
   "execution_count": 34,
   "metadata": {},
   "outputs": [
    {
     "data": {
      "image/svg+xml": "<?xml version=\"1.0\" encoding=\"UTF-8\" standalone=\"no\"?>\n<!DOCTYPE svg PUBLIC \"-//W3C//DTD SVG 1.1//EN\"\n \"http://www.w3.org/Graphics/SVG/1.1/DTD/svg11.dtd\">\n<!-- Generated by graphviz version 2.50.0 (0)\n -->\n<!-- Pages: 1 -->\n<svg width=\"1575pt\" height=\"210pt\"\n viewBox=\"0.00 0.00 1575.00 210.00\" xmlns=\"http://www.w3.org/2000/svg\" xmlns:xlink=\"http://www.w3.org/1999/xlink\">\n<g id=\"graph0\" class=\"graph\" transform=\"scale(1 1) rotate(0) translate(4 206)\">\n<polygon fill=\"white\" stroke=\"transparent\" points=\"-4,4 -4,-206 1571,-206 1571,4 -4,4\"/>\n<!-- 139892137154576 -->\n<g id=\"node1\" class=\"node\">\n<title>139892137154576</title>\n<polygon fill=\"none\" stroke=\"black\" points=\"0,-165.5 0,-201.5 200,-201.5 200,-165.5 0,-165.5\"/>\n<text text-anchor=\"middle\" x=\"16.5\" y=\"-179.8\" font-family=\"Times,serif\" font-size=\"14.00\">w1</text>\n<polyline fill=\"none\" stroke=\"black\" points=\"33,-165.5 33,-201.5 \"/>\n<text text-anchor=\"middle\" x=\"75.5\" y=\"-179.8\" font-family=\"Times,serif\" font-size=\"14.00\">data &#45;3.0000</text>\n<polyline fill=\"none\" stroke=\"black\" points=\"118,-165.5 118,-201.5 \"/>\n<text text-anchor=\"middle\" x=\"159\" y=\"-179.8\" font-family=\"Times,serif\" font-size=\"14.00\">grad 1.0000</text>\n</g>\n<!-- 139892137163504* -->\n<g id=\"node8\" class=\"node\">\n<title>139892137163504*</title>\n<ellipse fill=\"none\" stroke=\"black\" cx=\"263\" cy=\"-128.5\" rx=\"27\" ry=\"18\"/>\n<text text-anchor=\"middle\" x=\"263\" y=\"-124.8\" font-family=\"Times,serif\" font-size=\"14.00\">*</text>\n</g>\n<!-- 139892137154576&#45;&gt;139892137163504* -->\n<g id=\"edge10\" class=\"edge\">\n<title>139892137154576&#45;&gt;139892137163504*</title>\n<path fill=\"none\" stroke=\"black\" d=\"M172.53,-165.44C181.84,-162.67 191.2,-159.67 200,-156.5 210.53,-152.71 221.75,-147.9 231.72,-143.33\"/>\n<polygon fill=\"black\" stroke=\"black\" points=\"233.25,-146.48 240.82,-139.07 230.28,-140.14 233.25,-146.48\"/>\n</g>\n<!-- 139892137163312 -->\n<g id=\"node2\" class=\"node\">\n<title>139892137163312</title>\n<polygon fill=\"none\" stroke=\"black\" points=\"716,-27.5 716,-63.5 901,-63.5 901,-27.5 716,-27.5\"/>\n<text text-anchor=\"middle\" x=\"727.5\" y=\"-41.8\" font-family=\"Times,serif\" font-size=\"14.00\">b</text>\n<polyline fill=\"none\" stroke=\"black\" points=\"739,-27.5 739,-63.5 \"/>\n<text text-anchor=\"middle\" x=\"779\" y=\"-41.8\" font-family=\"Times,serif\" font-size=\"14.00\">data 6.8814</text>\n<polyline fill=\"none\" stroke=\"black\" points=\"819,-27.5 819,-63.5 \"/>\n<text text-anchor=\"middle\" x=\"860\" y=\"-41.8\" font-family=\"Times,serif\" font-size=\"14.00\">grad 0.5000</text>\n</g>\n<!-- 139892137163408+ -->\n<g id=\"node4\" class=\"node\">\n<title>139892137163408+</title>\n<ellipse fill=\"none\" stroke=\"black\" cx=\"1008\" cy=\"-72.5\" rx=\"27\" ry=\"18\"/>\n<text text-anchor=\"middle\" x=\"1008\" y=\"-68.8\" font-family=\"Times,serif\" font-size=\"14.00\">+</text>\n</g>\n<!-- 139892137163312&#45;&gt;139892137163408+ -->\n<g id=\"edge7\" class=\"edge\">\n<title>139892137163312&#45;&gt;139892137163408+</title>\n<path fill=\"none\" stroke=\"black\" d=\"M901.02,-58.01C926,-61.43 951.59,-64.93 971.37,-67.63\"/>\n<polygon fill=\"black\" stroke=\"black\" points=\"971.05,-71.12 981.43,-69.01 972,-64.18 971.05,-71.12\"/>\n</g>\n<!-- 139892137163408 -->\n<g id=\"node3\" class=\"node\">\n<title>139892137163408</title>\n<polygon fill=\"none\" stroke=\"black\" points=\"1071,-54.5 1071,-90.5 1256,-90.5 1256,-54.5 1071,-54.5\"/>\n<text text-anchor=\"middle\" x=\"1082.5\" y=\"-68.8\" font-family=\"Times,serif\" font-size=\"14.00\">n</text>\n<polyline fill=\"none\" stroke=\"black\" points=\"1094,-54.5 1094,-90.5 \"/>\n<text text-anchor=\"middle\" x=\"1134\" y=\"-68.8\" font-family=\"Times,serif\" font-size=\"14.00\">data 0.8814</text>\n<polyline fill=\"none\" stroke=\"black\" points=\"1174,-54.5 1174,-90.5 \"/>\n<text text-anchor=\"middle\" x=\"1215\" y=\"-68.8\" font-family=\"Times,serif\" font-size=\"14.00\">grad 0.5000</text>\n</g>\n<!-- 139892137163648tanh -->\n<g id=\"node12\" class=\"node\">\n<title>139892137163648tanh</title>\n<ellipse fill=\"none\" stroke=\"black\" cx=\"1319\" cy=\"-72.5\" rx=\"27\" ry=\"18\"/>\n<text text-anchor=\"middle\" x=\"1319\" y=\"-68.8\" font-family=\"Times,serif\" font-size=\"14.00\">tanh</text>\n</g>\n<!-- 139892137163408&#45;&gt;139892137163648tanh -->\n<g id=\"edge8\" class=\"edge\">\n<title>139892137163408&#45;&gt;139892137163648tanh</title>\n<path fill=\"none\" stroke=\"black\" d=\"M1256.01,-72.5C1265.01,-72.5 1273.74,-72.5 1281.66,-72.5\"/>\n<polygon fill=\"black\" stroke=\"black\" points=\"1281.91,-76 1291.91,-72.5 1281.91,-69 1281.91,-76\"/>\n</g>\n<!-- 139892137163408+&#45;&gt;139892137163408 -->\n<g id=\"edge1\" class=\"edge\">\n<title>139892137163408+&#45;&gt;139892137163408</title>\n<path fill=\"none\" stroke=\"black\" d=\"M1035.04,-72.5C1042.58,-72.5 1051.3,-72.5 1060.57,-72.5\"/>\n<polygon fill=\"black\" stroke=\"black\" points=\"1060.81,-76 1070.81,-72.5 1060.81,-69 1060.81,-76\"/>\n</g>\n<!-- 139892137163936 -->\n<g id=\"node5\" class=\"node\">\n<title>139892137163936</title>\n<polygon fill=\"none\" stroke=\"black\" points=\"2.5,-55.5 2.5,-91.5 197.5,-91.5 197.5,-55.5 2.5,-55.5\"/>\n<text text-anchor=\"middle\" x=\"19\" y=\"-69.8\" font-family=\"Times,serif\" font-size=\"14.00\">w2</text>\n<polyline fill=\"none\" stroke=\"black\" points=\"35.5,-55.5 35.5,-91.5 \"/>\n<text text-anchor=\"middle\" x=\"75.5\" y=\"-69.8\" font-family=\"Times,serif\" font-size=\"14.00\">data 1.0000</text>\n<polyline fill=\"none\" stroke=\"black\" points=\"115.5,-55.5 115.5,-91.5 \"/>\n<text text-anchor=\"middle\" x=\"156.5\" y=\"-69.8\" font-family=\"Times,serif\" font-size=\"14.00\">grad 0.0000</text>\n</g>\n<!-- 139892137161104* -->\n<g id=\"node14\" class=\"node\">\n<title>139892137161104*</title>\n<ellipse fill=\"none\" stroke=\"black\" cx=\"263\" cy=\"-73.5\" rx=\"27\" ry=\"18\"/>\n<text text-anchor=\"middle\" x=\"263\" y=\"-69.8\" font-family=\"Times,serif\" font-size=\"14.00\">*</text>\n</g>\n<!-- 139892137163936&#45;&gt;139892137161104* -->\n<g id=\"edge12\" class=\"edge\">\n<title>139892137163936&#45;&gt;139892137161104*</title>\n<path fill=\"none\" stroke=\"black\" d=\"M197.91,-73.5C207.65,-73.5 217.05,-73.5 225.52,-73.5\"/>\n<polygon fill=\"black\" stroke=\"black\" points=\"225.7,-77 235.7,-73.5 225.7,-70 225.7,-77\"/>\n</g>\n<!-- 139892137164464 -->\n<g id=\"node6\" class=\"node\">\n<title>139892137164464</title>\n<polygon fill=\"none\" stroke=\"black\" points=\"2,-110.5 2,-146.5 198,-146.5 198,-110.5 2,-110.5\"/>\n<text text-anchor=\"middle\" x=\"17\" y=\"-124.8\" font-family=\"Times,serif\" font-size=\"14.00\">x1</text>\n<polyline fill=\"none\" stroke=\"black\" points=\"32,-110.5 32,-146.5 \"/>\n<text text-anchor=\"middle\" x=\"72\" y=\"-124.8\" font-family=\"Times,serif\" font-size=\"14.00\">data 2.0000</text>\n<polyline fill=\"none\" stroke=\"black\" points=\"112,-110.5 112,-146.5 \"/>\n<text text-anchor=\"middle\" x=\"155\" y=\"-124.8\" font-family=\"Times,serif\" font-size=\"14.00\">grad &#45;1.5000</text>\n</g>\n<!-- 139892137164464&#45;&gt;139892137163504* -->\n<g id=\"edge14\" class=\"edge\">\n<title>139892137164464&#45;&gt;139892137163504*</title>\n<path fill=\"none\" stroke=\"black\" d=\"M198.37,-128.5C208.05,-128.5 217.4,-128.5 225.8,-128.5\"/>\n<polygon fill=\"black\" stroke=\"black\" points=\"225.91,-132 235.91,-128.5 225.91,-125 225.91,-132\"/>\n</g>\n<!-- 139892137163504 -->\n<g id=\"node7\" class=\"node\">\n<title>139892137163504</title>\n<polygon fill=\"none\" stroke=\"black\" points=\"326,-110.5 326,-146.5 546,-146.5 546,-110.5 326,-110.5\"/>\n<text text-anchor=\"middle\" x=\"352.5\" y=\"-124.8\" font-family=\"Times,serif\" font-size=\"14.00\">x1*w1</text>\n<polyline fill=\"none\" stroke=\"black\" points=\"379,-110.5 379,-146.5 \"/>\n<text text-anchor=\"middle\" x=\"421.5\" y=\"-124.8\" font-family=\"Times,serif\" font-size=\"14.00\">data &#45;6.0000</text>\n<polyline fill=\"none\" stroke=\"black\" points=\"464,-110.5 464,-146.5 \"/>\n<text text-anchor=\"middle\" x=\"505\" y=\"-124.8\" font-family=\"Times,serif\" font-size=\"14.00\">grad 0.5000</text>\n</g>\n<!-- 139892137162064+ -->\n<g id=\"node10\" class=\"node\">\n<title>139892137162064+</title>\n<ellipse fill=\"none\" stroke=\"black\" cx=\"609\" cy=\"-100.5\" rx=\"27\" ry=\"18\"/>\n<text text-anchor=\"middle\" x=\"609\" y=\"-96.8\" font-family=\"Times,serif\" font-size=\"14.00\">+</text>\n</g>\n<!-- 139892137163504&#45;&gt;139892137162064+ -->\n<g id=\"edge11\" class=\"edge\">\n<title>139892137163504&#45;&gt;139892137162064+</title>\n<path fill=\"none\" stroke=\"black\" d=\"M546.27,-110.61C555.64,-109.07 564.6,-107.61 572.65,-106.29\"/>\n<polygon fill=\"black\" stroke=\"black\" points=\"573.35,-109.72 582.65,-104.65 572.22,-102.81 573.35,-109.72\"/>\n</g>\n<!-- 139892137163504*&#45;&gt;139892137163504 -->\n<g id=\"edge2\" class=\"edge\">\n<title>139892137163504*&#45;&gt;139892137163504</title>\n<path fill=\"none\" stroke=\"black\" d=\"M290.34,-128.5C297.77,-128.5 306.37,-128.5 315.6,-128.5\"/>\n<polygon fill=\"black\" stroke=\"black\" points=\"315.84,-132 325.84,-128.5 315.84,-125 315.84,-132\"/>\n</g>\n<!-- 139892137162064 -->\n<g id=\"node9\" class=\"node\">\n<title>139892137162064</title>\n<polygon fill=\"none\" stroke=\"black\" points=\"672,-82.5 672,-118.5 945,-118.5 945,-82.5 672,-82.5\"/>\n<text text-anchor=\"middle\" x=\"725\" y=\"-96.8\" font-family=\"Times,serif\" font-size=\"14.00\">x1*w1 + x2*w2</text>\n<polyline fill=\"none\" stroke=\"black\" points=\"778,-82.5 778,-118.5 \"/>\n<text text-anchor=\"middle\" x=\"820.5\" y=\"-96.8\" font-family=\"Times,serif\" font-size=\"14.00\">data &#45;6.0000</text>\n<polyline fill=\"none\" stroke=\"black\" points=\"863,-82.5 863,-118.5 \"/>\n<text text-anchor=\"middle\" x=\"904\" y=\"-96.8\" font-family=\"Times,serif\" font-size=\"14.00\">grad 0.5000</text>\n</g>\n<!-- 139892137162064&#45;&gt;139892137163408+ -->\n<g id=\"edge6\" class=\"edge\">\n<title>139892137162064&#45;&gt;139892137163408+</title>\n<path fill=\"none\" stroke=\"black\" d=\"M936.53,-82.49C949.09,-80.71 960.99,-79.02 971.3,-77.56\"/>\n<polygon fill=\"black\" stroke=\"black\" points=\"972.03,-80.99 981.44,-76.12 971.05,-74.06 972.03,-80.99\"/>\n</g>\n<!-- 139892137162064+&#45;&gt;139892137162064 -->\n<g id=\"edge3\" class=\"edge\">\n<title>139892137162064+&#45;&gt;139892137162064</title>\n<path fill=\"none\" stroke=\"black\" d=\"M636.23,-100.5C643.7,-100.5 652.41,-100.5 661.87,-100.5\"/>\n<polygon fill=\"black\" stroke=\"black\" points=\"661.98,-104 671.98,-100.5 661.98,-97 661.98,-104\"/>\n</g>\n<!-- 139892137163648 -->\n<g id=\"node11\" class=\"node\">\n<title>139892137163648</title>\n<polygon fill=\"none\" stroke=\"black\" points=\"1382,-54.5 1382,-90.5 1567,-90.5 1567,-54.5 1382,-54.5\"/>\n<text text-anchor=\"middle\" x=\"1393.5\" y=\"-68.8\" font-family=\"Times,serif\" font-size=\"14.00\">o</text>\n<polyline fill=\"none\" stroke=\"black\" points=\"1405,-54.5 1405,-90.5 \"/>\n<text text-anchor=\"middle\" x=\"1445\" y=\"-68.8\" font-family=\"Times,serif\" font-size=\"14.00\">data 0.7071</text>\n<polyline fill=\"none\" stroke=\"black\" points=\"1485,-54.5 1485,-90.5 \"/>\n<text text-anchor=\"middle\" x=\"1526\" y=\"-68.8\" font-family=\"Times,serif\" font-size=\"14.00\">grad 1.0000</text>\n</g>\n<!-- 139892137163648tanh&#45;&gt;139892137163648 -->\n<g id=\"edge4\" class=\"edge\">\n<title>139892137163648tanh&#45;&gt;139892137163648</title>\n<path fill=\"none\" stroke=\"black\" d=\"M1346.04,-72.5C1353.58,-72.5 1362.3,-72.5 1371.57,-72.5\"/>\n<polygon fill=\"black\" stroke=\"black\" points=\"1371.81,-76 1381.81,-72.5 1371.81,-69 1371.81,-76\"/>\n</g>\n<!-- 139892137161104 -->\n<g id=\"node13\" class=\"node\">\n<title>139892137161104</title>\n<polygon fill=\"none\" stroke=\"black\" points=\"328.5,-55.5 328.5,-91.5 543.5,-91.5 543.5,-55.5 328.5,-55.5\"/>\n<text text-anchor=\"middle\" x=\"355\" y=\"-69.8\" font-family=\"Times,serif\" font-size=\"14.00\">x2*w2</text>\n<polyline fill=\"none\" stroke=\"black\" points=\"381.5,-55.5 381.5,-91.5 \"/>\n<text text-anchor=\"middle\" x=\"421.5\" y=\"-69.8\" font-family=\"Times,serif\" font-size=\"14.00\">data 0.0000</text>\n<polyline fill=\"none\" stroke=\"black\" points=\"461.5,-55.5 461.5,-91.5 \"/>\n<text text-anchor=\"middle\" x=\"502.5\" y=\"-69.8\" font-family=\"Times,serif\" font-size=\"14.00\">grad 0.5000</text>\n</g>\n<!-- 139892137161104&#45;&gt;139892137162064+ -->\n<g id=\"edge9\" class=\"edge\">\n<title>139892137161104&#45;&gt;139892137162064+</title>\n<path fill=\"none\" stroke=\"black\" d=\"M543.84,-90.37C554.01,-91.98 563.76,-93.51 572.44,-94.89\"/>\n<polygon fill=\"black\" stroke=\"black\" points=\"572.05,-98.37 582.47,-96.47 573.14,-91.45 572.05,-98.37\"/>\n</g>\n<!-- 139892137161104*&#45;&gt;139892137161104 -->\n<g id=\"edge5\" class=\"edge\">\n<title>139892137161104*&#45;&gt;139892137161104</title>\n<path fill=\"none\" stroke=\"black\" d=\"M290.34,-73.5C298.51,-73.5 308.08,-73.5 318.36,-73.5\"/>\n<polygon fill=\"black\" stroke=\"black\" points=\"318.39,-77 328.39,-73.5 318.39,-70 318.39,-77\"/>\n</g>\n<!-- 139892146829776 -->\n<g id=\"node15\" class=\"node\">\n<title>139892146829776</title>\n<polygon fill=\"none\" stroke=\"black\" points=\"4,-0.5 4,-36.5 196,-36.5 196,-0.5 4,-0.5\"/>\n<text text-anchor=\"middle\" x=\"19\" y=\"-14.8\" font-family=\"Times,serif\" font-size=\"14.00\">x2</text>\n<polyline fill=\"none\" stroke=\"black\" points=\"34,-0.5 34,-36.5 \"/>\n<text text-anchor=\"middle\" x=\"74\" y=\"-14.8\" font-family=\"Times,serif\" font-size=\"14.00\">data 0.0000</text>\n<polyline fill=\"none\" stroke=\"black\" points=\"114,-0.5 114,-36.5 \"/>\n<text text-anchor=\"middle\" x=\"155\" y=\"-14.8\" font-family=\"Times,serif\" font-size=\"14.00\">grad 0.5000</text>\n</g>\n<!-- 139892146829776&#45;&gt;139892137161104* -->\n<g id=\"edge13\" class=\"edge\">\n<title>139892146829776&#45;&gt;139892137161104*</title>\n<path fill=\"none\" stroke=\"black\" d=\"M169.28,-36.5C179.65,-39.61 190.16,-42.98 200,-46.5 210.28,-50.17 221.28,-54.74 231.11,-59.07\"/>\n<polygon fill=\"black\" stroke=\"black\" points=\"229.93,-62.37 240.48,-63.27 232.79,-55.99 229.93,-62.37\"/>\n</g>\n</g>\n</svg>\n",
      "text/plain": [
       "<graphviz.graphs.Digraph at 0x7f3b2da761d0>"
      ]
     },
     "execution_count": 34,
     "metadata": {},
     "output_type": "execute_result"
    }
   ],
   "source": [
    "draw_dot(o)"
   ]
  },
  {
   "cell_type": "markdown",
   "metadata": {},
   "source": [
    "# Implementing the backward function for each operation"
   ]
  },
  {
   "cell_type": "code",
   "execution_count": 35,
   "metadata": {},
   "outputs": [
    {
     "data": {
      "text/plain": [
       "Value(data=-8.0)"
      ]
     },
     "execution_count": 35,
     "metadata": {},
     "output_type": "execute_result"
    }
   ],
   "source": [
    "# implementing backward\n",
    "class Value:\n",
    "  \n",
    "  def __init__(self, data, _children=(), _op='', label=''):\n",
    "    self.data = data\n",
    "    self.grad = 0.0\n",
    "    self._backward = lambda: None\n",
    "    self._prev = set(_children)\n",
    "    self._op = _op\n",
    "    self.label = label\n",
    "\n",
    "  def __repr__(self):\n",
    "    return f\"Value(data={self.data})\"\n",
    "  \n",
    "  def __add__(self, other):\n",
    "    out = Value(self.data + other.data, (self, other), '+')\n",
    "    \n",
    "    def _backward():\n",
    "      self.grad += 1.0 * out.grad\n",
    "      other.grad += 1.0 * out.grad\n",
    "    out._backward = _backward\n",
    "    \n",
    "    return out\n",
    "\n",
    "  def __mul__(self, other):\n",
    "    out = Value(self.data * other.data, (self, other), '*')\n",
    "    \n",
    "    def _backward():\n",
    "      self.grad += other.data * out.grad\n",
    "      other.grad += self.data * out.grad\n",
    "    out._backward = _backward\n",
    "      \n",
    "    return out\n",
    "  \n",
    "  def tanh(self):\n",
    "    x = self.data\n",
    "    t = (math.exp(2*x) - 1)/(math.exp(2*x) + 1)\n",
    "    out = Value(t, (self, ), 'tanh')\n",
    "    \n",
    "    def _backward():\n",
    "      self.grad += (1 - t**2) * out.grad\n",
    "    out._backward = _backward\n",
    "    \n",
    "    return out\n",
    "\n",
    "a = Value(2.0, label='a')\n",
    "b = Value(-3.0, label='b')\n",
    "c = Value(10.0, label='c')\n",
    "e = a*b; e.label = 'e'\n",
    "d = e + c; d.label = 'd'\n",
    "f = Value(-2.0, label='f')\n",
    "L = d * f; L.label = 'L'\n",
    "L"
   ]
  },
  {
   "cell_type": "code",
   "execution_count": 36,
   "metadata": {},
   "outputs": [],
   "source": [
    "# inputs x1,x2\n",
    "x1 = Value(2.0, label='x1')\n",
    "x2 = Value(0.0, label='x2')\n",
    "# weights w1,w2\n",
    "w1 = Value(-3.0, label='w1')\n",
    "w2 = Value(1.0, label='w2')\n",
    "# bias of the neuron\n",
    "b = Value(6.8813735870195432, label='b')\n",
    "# x1*w1 + x2*w2 + b\n",
    "x1w1 = x1*w1; x1w1.label = 'x1*w1'\n",
    "x2w2 = x2*w2; x2w2.label = 'x2*w2'\n",
    "x1w1x2w2 = x1w1 + x2w2; x1w1x2w2.label = 'x1*w1 + x2*w2'\n",
    "n = x1w1x2w2 + b; n.label = 'n'\n",
    "o = n.tanh(); o.label = 'o'"
   ]
  },
  {
   "cell_type": "code",
   "execution_count": 37,
   "metadata": {},
   "outputs": [
    {
     "data": {
      "image/svg+xml": "<?xml version=\"1.0\" encoding=\"UTF-8\" standalone=\"no\"?>\n<!DOCTYPE svg PUBLIC \"-//W3C//DTD SVG 1.1//EN\"\n \"http://www.w3.org/Graphics/SVG/1.1/DTD/svg11.dtd\">\n<!-- Generated by graphviz version 2.50.0 (0)\n -->\n<!-- Pages: 1 -->\n<svg width=\"1575pt\" height=\"210pt\"\n viewBox=\"0.00 0.00 1575.00 210.00\" xmlns=\"http://www.w3.org/2000/svg\" xmlns:xlink=\"http://www.w3.org/1999/xlink\">\n<g id=\"graph0\" class=\"graph\" transform=\"scale(1 1) rotate(0) translate(4 206)\">\n<polygon fill=\"white\" stroke=\"transparent\" points=\"-4,4 -4,-206 1571,-206 1571,4 -4,4\"/>\n<!-- 139892135246912 -->\n<g id=\"node1\" class=\"node\">\n<title>139892135246912</title>\n<polygon fill=\"none\" stroke=\"black\" points=\"328.5,-55.5 328.5,-91.5 543.5,-91.5 543.5,-55.5 328.5,-55.5\"/>\n<text text-anchor=\"middle\" x=\"355\" y=\"-69.8\" font-family=\"Times,serif\" font-size=\"14.00\">x2*w2</text>\n<polyline fill=\"none\" stroke=\"black\" points=\"381.5,-55.5 381.5,-91.5 \"/>\n<text text-anchor=\"middle\" x=\"421.5\" y=\"-69.8\" font-family=\"Times,serif\" font-size=\"14.00\">data 0.0000</text>\n<polyline fill=\"none\" stroke=\"black\" points=\"461.5,-55.5 461.5,-91.5 \"/>\n<text text-anchor=\"middle\" x=\"502.5\" y=\"-69.8\" font-family=\"Times,serif\" font-size=\"14.00\">grad 0.0000</text>\n</g>\n<!-- 139892135246816+ -->\n<g id=\"node15\" class=\"node\">\n<title>139892135246816+</title>\n<ellipse fill=\"none\" stroke=\"black\" cx=\"609\" cy=\"-100.5\" rx=\"27\" ry=\"18\"/>\n<text text-anchor=\"middle\" x=\"609\" y=\"-96.8\" font-family=\"Times,serif\" font-size=\"14.00\">+</text>\n</g>\n<!-- 139892135246912&#45;&gt;139892135246816+ -->\n<g id=\"edge10\" class=\"edge\">\n<title>139892135246912&#45;&gt;139892135246816+</title>\n<path fill=\"none\" stroke=\"black\" d=\"M543.84,-90.37C554.01,-91.98 563.76,-93.51 572.44,-94.89\"/>\n<polygon fill=\"black\" stroke=\"black\" points=\"572.05,-98.37 582.47,-96.47 573.14,-91.45 572.05,-98.37\"/>\n</g>\n<!-- 139892135246912* -->\n<g id=\"node2\" class=\"node\">\n<title>139892135246912*</title>\n<ellipse fill=\"none\" stroke=\"black\" cx=\"263\" cy=\"-73.5\" rx=\"27\" ry=\"18\"/>\n<text text-anchor=\"middle\" x=\"263\" y=\"-69.8\" font-family=\"Times,serif\" font-size=\"14.00\">*</text>\n</g>\n<!-- 139892135246912*&#45;&gt;139892135246912 -->\n<g id=\"edge1\" class=\"edge\">\n<title>139892135246912*&#45;&gt;139892135246912</title>\n<path fill=\"none\" stroke=\"black\" d=\"M290.34,-73.5C298.51,-73.5 308.08,-73.5 318.36,-73.5\"/>\n<polygon fill=\"black\" stroke=\"black\" points=\"318.39,-77 328.39,-73.5 318.39,-70 318.39,-77\"/>\n</g>\n<!-- 139892135237504 -->\n<g id=\"node3\" class=\"node\">\n<title>139892135237504</title>\n<polygon fill=\"none\" stroke=\"black\" points=\"0,-165.5 0,-201.5 200,-201.5 200,-165.5 0,-165.5\"/>\n<text text-anchor=\"middle\" x=\"16.5\" y=\"-179.8\" font-family=\"Times,serif\" font-size=\"14.00\">w1</text>\n<polyline fill=\"none\" stroke=\"black\" points=\"33,-165.5 33,-201.5 \"/>\n<text text-anchor=\"middle\" x=\"75.5\" y=\"-179.8\" font-family=\"Times,serif\" font-size=\"14.00\">data &#45;3.0000</text>\n<polyline fill=\"none\" stroke=\"black\" points=\"118,-165.5 118,-201.5 \"/>\n<text text-anchor=\"middle\" x=\"159\" y=\"-179.8\" font-family=\"Times,serif\" font-size=\"14.00\">grad 0.0000</text>\n</g>\n<!-- 139892135233904* -->\n<g id=\"node13\" class=\"node\">\n<title>139892135233904*</title>\n<ellipse fill=\"none\" stroke=\"black\" cx=\"263\" cy=\"-128.5\" rx=\"27\" ry=\"18\"/>\n<text text-anchor=\"middle\" x=\"263\" y=\"-124.8\" font-family=\"Times,serif\" font-size=\"14.00\">*</text>\n</g>\n<!-- 139892135237504&#45;&gt;139892135233904* -->\n<g id=\"edge11\" class=\"edge\">\n<title>139892135237504&#45;&gt;139892135233904*</title>\n<path fill=\"none\" stroke=\"black\" d=\"M172.53,-165.44C181.84,-162.67 191.2,-159.67 200,-156.5 210.53,-152.71 221.75,-147.9 231.72,-143.33\"/>\n<polygon fill=\"black\" stroke=\"black\" points=\"233.25,-146.48 240.82,-139.07 230.28,-140.14 233.25,-146.48\"/>\n</g>\n<!-- 139892135246432 -->\n<g id=\"node4\" class=\"node\">\n<title>139892135246432</title>\n<polygon fill=\"none\" stroke=\"black\" points=\"1071,-109.5 1071,-145.5 1256,-145.5 1256,-109.5 1071,-109.5\"/>\n<text text-anchor=\"middle\" x=\"1082.5\" y=\"-123.8\" font-family=\"Times,serif\" font-size=\"14.00\">n</text>\n<polyline fill=\"none\" stroke=\"black\" points=\"1094,-109.5 1094,-145.5 \"/>\n<text text-anchor=\"middle\" x=\"1134\" y=\"-123.8\" font-family=\"Times,serif\" font-size=\"14.00\">data 0.8814</text>\n<polyline fill=\"none\" stroke=\"black\" points=\"1174,-109.5 1174,-145.5 \"/>\n<text text-anchor=\"middle\" x=\"1215\" y=\"-123.8\" font-family=\"Times,serif\" font-size=\"14.00\">grad 0.0000</text>\n</g>\n<!-- 139892135238512tanh -->\n<g id=\"node11\" class=\"node\">\n<title>139892135238512tanh</title>\n<ellipse fill=\"none\" stroke=\"black\" cx=\"1319\" cy=\"-127.5\" rx=\"27\" ry=\"18\"/>\n<text text-anchor=\"middle\" x=\"1319\" y=\"-123.8\" font-family=\"Times,serif\" font-size=\"14.00\">tanh</text>\n</g>\n<!-- 139892135246432&#45;&gt;139892135238512tanh -->\n<g id=\"edge6\" class=\"edge\">\n<title>139892135246432&#45;&gt;139892135238512tanh</title>\n<path fill=\"none\" stroke=\"black\" d=\"M1256.01,-127.5C1265.01,-127.5 1273.74,-127.5 1281.66,-127.5\"/>\n<polygon fill=\"black\" stroke=\"black\" points=\"1281.91,-131 1291.91,-127.5 1281.91,-124 1281.91,-131\"/>\n</g>\n<!-- 139892135246432+ -->\n<g id=\"node5\" class=\"node\">\n<title>139892135246432+</title>\n<ellipse fill=\"none\" stroke=\"black\" cx=\"1008\" cy=\"-127.5\" rx=\"27\" ry=\"18\"/>\n<text text-anchor=\"middle\" x=\"1008\" y=\"-123.8\" font-family=\"Times,serif\" font-size=\"14.00\">+</text>\n</g>\n<!-- 139892135246432+&#45;&gt;139892135246432 -->\n<g id=\"edge2\" class=\"edge\">\n<title>139892135246432+&#45;&gt;139892135246432</title>\n<path fill=\"none\" stroke=\"black\" d=\"M1035.04,-127.5C1042.58,-127.5 1051.3,-127.5 1060.57,-127.5\"/>\n<polygon fill=\"black\" stroke=\"black\" points=\"1060.81,-131 1070.81,-127.5 1060.81,-124 1060.81,-131\"/>\n</g>\n<!-- 139892135247536 -->\n<g id=\"node6\" class=\"node\">\n<title>139892135247536</title>\n<polygon fill=\"none\" stroke=\"black\" points=\"716,-137.5 716,-173.5 901,-173.5 901,-137.5 716,-137.5\"/>\n<text text-anchor=\"middle\" x=\"727.5\" y=\"-151.8\" font-family=\"Times,serif\" font-size=\"14.00\">b</text>\n<polyline fill=\"none\" stroke=\"black\" points=\"739,-137.5 739,-173.5 \"/>\n<text text-anchor=\"middle\" x=\"779\" y=\"-151.8\" font-family=\"Times,serif\" font-size=\"14.00\">data 6.8814</text>\n<polyline fill=\"none\" stroke=\"black\" points=\"819,-137.5 819,-173.5 \"/>\n<text text-anchor=\"middle\" x=\"860\" y=\"-151.8\" font-family=\"Times,serif\" font-size=\"14.00\">grad 0.0000</text>\n</g>\n<!-- 139892135247536&#45;&gt;139892135246432+ -->\n<g id=\"edge7\" class=\"edge\">\n<title>139892135247536&#45;&gt;139892135246432+</title>\n<path fill=\"none\" stroke=\"black\" d=\"M901.02,-142.52C926,-138.98 951.59,-135.36 971.37,-132.55\"/>\n<polygon fill=\"black\" stroke=\"black\" points=\"972.03,-135.99 981.43,-131.12 971.04,-129.06 972.03,-135.99\"/>\n</g>\n<!-- 139892135234240 -->\n<g id=\"node7\" class=\"node\">\n<title>139892135234240</title>\n<polygon fill=\"none\" stroke=\"black\" points=\"4,-55.5 4,-91.5 196,-91.5 196,-55.5 4,-55.5\"/>\n<text text-anchor=\"middle\" x=\"19\" y=\"-69.8\" font-family=\"Times,serif\" font-size=\"14.00\">x2</text>\n<polyline fill=\"none\" stroke=\"black\" points=\"34,-55.5 34,-91.5 \"/>\n<text text-anchor=\"middle\" x=\"74\" y=\"-69.8\" font-family=\"Times,serif\" font-size=\"14.00\">data 0.0000</text>\n<polyline fill=\"none\" stroke=\"black\" points=\"114,-55.5 114,-91.5 \"/>\n<text text-anchor=\"middle\" x=\"155\" y=\"-69.8\" font-family=\"Times,serif\" font-size=\"14.00\">grad 0.0000</text>\n</g>\n<!-- 139892135234240&#45;&gt;139892135246912* -->\n<g id=\"edge8\" class=\"edge\">\n<title>139892135234240&#45;&gt;139892135246912*</title>\n<path fill=\"none\" stroke=\"black\" d=\"M196.05,-73.5C206.52,-73.5 216.65,-73.5 225.71,-73.5\"/>\n<polygon fill=\"black\" stroke=\"black\" points=\"225.79,-77 235.79,-73.5 225.79,-70 225.79,-77\"/>\n</g>\n<!-- 139892135237360 -->\n<g id=\"node8\" class=\"node\">\n<title>139892135237360</title>\n<polygon fill=\"none\" stroke=\"black\" points=\"2.5,-0.5 2.5,-36.5 197.5,-36.5 197.5,-0.5 2.5,-0.5\"/>\n<text text-anchor=\"middle\" x=\"19\" y=\"-14.8\" font-family=\"Times,serif\" font-size=\"14.00\">w2</text>\n<polyline fill=\"none\" stroke=\"black\" points=\"35.5,-0.5 35.5,-36.5 \"/>\n<text text-anchor=\"middle\" x=\"75.5\" y=\"-14.8\" font-family=\"Times,serif\" font-size=\"14.00\">data 1.0000</text>\n<polyline fill=\"none\" stroke=\"black\" points=\"115.5,-0.5 115.5,-36.5 \"/>\n<text text-anchor=\"middle\" x=\"156.5\" y=\"-14.8\" font-family=\"Times,serif\" font-size=\"14.00\">grad 0.0000</text>\n</g>\n<!-- 139892135237360&#45;&gt;139892135246912* -->\n<g id=\"edge12\" class=\"edge\">\n<title>139892135237360&#45;&gt;139892135246912*</title>\n<path fill=\"none\" stroke=\"black\" d=\"M169.28,-36.5C179.65,-39.61 190.16,-42.98 200,-46.5 210.28,-50.17 221.28,-54.74 231.11,-59.07\"/>\n<polygon fill=\"black\" stroke=\"black\" points=\"229.93,-62.37 240.48,-63.27 232.79,-55.99 229.93,-62.37\"/>\n</g>\n<!-- 139892135247680 -->\n<g id=\"node9\" class=\"node\">\n<title>139892135247680</title>\n<polygon fill=\"none\" stroke=\"black\" points=\"4,-110.5 4,-146.5 196,-146.5 196,-110.5 4,-110.5\"/>\n<text text-anchor=\"middle\" x=\"19\" y=\"-124.8\" font-family=\"Times,serif\" font-size=\"14.00\">x1</text>\n<polyline fill=\"none\" stroke=\"black\" points=\"34,-110.5 34,-146.5 \"/>\n<text text-anchor=\"middle\" x=\"74\" y=\"-124.8\" font-family=\"Times,serif\" font-size=\"14.00\">data 2.0000</text>\n<polyline fill=\"none\" stroke=\"black\" points=\"114,-110.5 114,-146.5 \"/>\n<text text-anchor=\"middle\" x=\"155\" y=\"-124.8\" font-family=\"Times,serif\" font-size=\"14.00\">grad 0.0000</text>\n</g>\n<!-- 139892135247680&#45;&gt;139892135233904* -->\n<g id=\"edge14\" class=\"edge\">\n<title>139892135247680&#45;&gt;139892135233904*</title>\n<path fill=\"none\" stroke=\"black\" d=\"M196.05,-128.5C206.52,-128.5 216.65,-128.5 225.71,-128.5\"/>\n<polygon fill=\"black\" stroke=\"black\" points=\"225.79,-132 235.79,-128.5 225.79,-125 225.79,-132\"/>\n</g>\n<!-- 139892135238512 -->\n<g id=\"node10\" class=\"node\">\n<title>139892135238512</title>\n<polygon fill=\"none\" stroke=\"black\" points=\"1382,-109.5 1382,-145.5 1567,-145.5 1567,-109.5 1382,-109.5\"/>\n<text text-anchor=\"middle\" x=\"1393.5\" y=\"-123.8\" font-family=\"Times,serif\" font-size=\"14.00\">o</text>\n<polyline fill=\"none\" stroke=\"black\" points=\"1405,-109.5 1405,-145.5 \"/>\n<text text-anchor=\"middle\" x=\"1445\" y=\"-123.8\" font-family=\"Times,serif\" font-size=\"14.00\">data 0.7071</text>\n<polyline fill=\"none\" stroke=\"black\" points=\"1485,-109.5 1485,-145.5 \"/>\n<text text-anchor=\"middle\" x=\"1526\" y=\"-123.8\" font-family=\"Times,serif\" font-size=\"14.00\">grad 0.0000</text>\n</g>\n<!-- 139892135238512tanh&#45;&gt;139892135238512 -->\n<g id=\"edge3\" class=\"edge\">\n<title>139892135238512tanh&#45;&gt;139892135238512</title>\n<path fill=\"none\" stroke=\"black\" d=\"M1346.04,-127.5C1353.58,-127.5 1362.3,-127.5 1371.57,-127.5\"/>\n<polygon fill=\"black\" stroke=\"black\" points=\"1371.81,-131 1381.81,-127.5 1371.81,-124 1371.81,-131\"/>\n</g>\n<!-- 139892135233904 -->\n<g id=\"node12\" class=\"node\">\n<title>139892135233904</title>\n<polygon fill=\"none\" stroke=\"black\" points=\"326,-110.5 326,-146.5 546,-146.5 546,-110.5 326,-110.5\"/>\n<text text-anchor=\"middle\" x=\"352.5\" y=\"-124.8\" font-family=\"Times,serif\" font-size=\"14.00\">x1*w1</text>\n<polyline fill=\"none\" stroke=\"black\" points=\"379,-110.5 379,-146.5 \"/>\n<text text-anchor=\"middle\" x=\"421.5\" y=\"-124.8\" font-family=\"Times,serif\" font-size=\"14.00\">data &#45;6.0000</text>\n<polyline fill=\"none\" stroke=\"black\" points=\"464,-110.5 464,-146.5 \"/>\n<text text-anchor=\"middle\" x=\"505\" y=\"-124.8\" font-family=\"Times,serif\" font-size=\"14.00\">grad 0.0000</text>\n</g>\n<!-- 139892135233904&#45;&gt;139892135246816+ -->\n<g id=\"edge13\" class=\"edge\">\n<title>139892135233904&#45;&gt;139892135246816+</title>\n<path fill=\"none\" stroke=\"black\" d=\"M546.27,-110.61C555.64,-109.07 564.6,-107.61 572.65,-106.29\"/>\n<polygon fill=\"black\" stroke=\"black\" points=\"573.35,-109.72 582.65,-104.65 572.22,-102.81 573.35,-109.72\"/>\n</g>\n<!-- 139892135233904*&#45;&gt;139892135233904 -->\n<g id=\"edge4\" class=\"edge\">\n<title>139892135233904*&#45;&gt;139892135233904</title>\n<path fill=\"none\" stroke=\"black\" d=\"M290.34,-128.5C297.77,-128.5 306.37,-128.5 315.6,-128.5\"/>\n<polygon fill=\"black\" stroke=\"black\" points=\"315.84,-132 325.84,-128.5 315.84,-125 315.84,-132\"/>\n</g>\n<!-- 139892135246816 -->\n<g id=\"node14\" class=\"node\">\n<title>139892135246816</title>\n<polygon fill=\"none\" stroke=\"black\" points=\"672,-82.5 672,-118.5 945,-118.5 945,-82.5 672,-82.5\"/>\n<text text-anchor=\"middle\" x=\"725\" y=\"-96.8\" font-family=\"Times,serif\" font-size=\"14.00\">x1*w1 + x2*w2</text>\n<polyline fill=\"none\" stroke=\"black\" points=\"778,-82.5 778,-118.5 \"/>\n<text text-anchor=\"middle\" x=\"820.5\" y=\"-96.8\" font-family=\"Times,serif\" font-size=\"14.00\">data &#45;6.0000</text>\n<polyline fill=\"none\" stroke=\"black\" points=\"863,-82.5 863,-118.5 \"/>\n<text text-anchor=\"middle\" x=\"904\" y=\"-96.8\" font-family=\"Times,serif\" font-size=\"14.00\">grad 0.0000</text>\n</g>\n<!-- 139892135246816&#45;&gt;139892135246432+ -->\n<g id=\"edge9\" class=\"edge\">\n<title>139892135246816&#45;&gt;139892135246432+</title>\n<path fill=\"none\" stroke=\"black\" d=\"M941.24,-118.51C952.12,-120 962.4,-121.4 971.45,-122.64\"/>\n<polygon fill=\"black\" stroke=\"black\" points=\"971.11,-126.13 981.49,-124.01 972.05,-119.19 971.11,-126.13\"/>\n</g>\n<!-- 139892135246816+&#45;&gt;139892135246816 -->\n<g id=\"edge5\" class=\"edge\">\n<title>139892135246816+&#45;&gt;139892135246816</title>\n<path fill=\"none\" stroke=\"black\" d=\"M636.23,-100.5C643.7,-100.5 652.41,-100.5 661.87,-100.5\"/>\n<polygon fill=\"black\" stroke=\"black\" points=\"661.98,-104 671.98,-100.5 661.98,-97 661.98,-104\"/>\n</g>\n</g>\n</svg>\n",
      "text/plain": [
       "<graphviz.graphs.Digraph at 0x7f3b2d071c30>"
      ]
     },
     "execution_count": 37,
     "metadata": {},
     "output_type": "execute_result"
    }
   ],
   "source": [
    "draw_dot(o)"
   ]
  },
  {
   "cell_type": "code",
   "execution_count": 38,
   "metadata": {},
   "outputs": [],
   "source": [
    "o.grad = 1"
   ]
  },
  {
   "cell_type": "code",
   "execution_count": 39,
   "metadata": {},
   "outputs": [],
   "source": [
    "o._backward()"
   ]
  },
  {
   "cell_type": "code",
   "execution_count": 40,
   "metadata": {},
   "outputs": [],
   "source": [
    "n._backward()"
   ]
  },
  {
   "cell_type": "code",
   "execution_count": 41,
   "metadata": {},
   "outputs": [],
   "source": [
    "b._backward() # nothing will happpeb because b is a leaf node (self._backward = lambda: None)"
   ]
  },
  {
   "cell_type": "code",
   "execution_count": 42,
   "metadata": {},
   "outputs": [],
   "source": [
    "x1w1x2w2._backward()"
   ]
  },
  {
   "cell_type": "code",
   "execution_count": 43,
   "metadata": {},
   "outputs": [],
   "source": [
    "x2w2._backward()"
   ]
  },
  {
   "cell_type": "code",
   "execution_count": 44,
   "metadata": {},
   "outputs": [],
   "source": [
    "x1w1._backward()"
   ]
  },
  {
   "cell_type": "code",
   "execution_count": 45,
   "metadata": {},
   "outputs": [
    {
     "data": {
      "image/svg+xml": "<?xml version=\"1.0\" encoding=\"UTF-8\" standalone=\"no\"?>\n<!DOCTYPE svg PUBLIC \"-//W3C//DTD SVG 1.1//EN\"\n \"http://www.w3.org/Graphics/SVG/1.1/DTD/svg11.dtd\">\n<!-- Generated by graphviz version 2.50.0 (0)\n -->\n<!-- Pages: 1 -->\n<svg width=\"1575pt\" height=\"210pt\"\n viewBox=\"0.00 0.00 1575.00 210.00\" xmlns=\"http://www.w3.org/2000/svg\" xmlns:xlink=\"http://www.w3.org/1999/xlink\">\n<g id=\"graph0\" class=\"graph\" transform=\"scale(1 1) rotate(0) translate(4 206)\">\n<polygon fill=\"white\" stroke=\"transparent\" points=\"-4,4 -4,-206 1571,-206 1571,4 -4,4\"/>\n<!-- 139892135246912 -->\n<g id=\"node1\" class=\"node\">\n<title>139892135246912</title>\n<polygon fill=\"none\" stroke=\"black\" points=\"328.5,-55.5 328.5,-91.5 543.5,-91.5 543.5,-55.5 328.5,-55.5\"/>\n<text text-anchor=\"middle\" x=\"355\" y=\"-69.8\" font-family=\"Times,serif\" font-size=\"14.00\">x2*w2</text>\n<polyline fill=\"none\" stroke=\"black\" points=\"381.5,-55.5 381.5,-91.5 \"/>\n<text text-anchor=\"middle\" x=\"421.5\" y=\"-69.8\" font-family=\"Times,serif\" font-size=\"14.00\">data 0.0000</text>\n<polyline fill=\"none\" stroke=\"black\" points=\"461.5,-55.5 461.5,-91.5 \"/>\n<text text-anchor=\"middle\" x=\"502.5\" y=\"-69.8\" font-family=\"Times,serif\" font-size=\"14.00\">grad 0.5000</text>\n</g>\n<!-- 139892135246816+ -->\n<g id=\"node15\" class=\"node\">\n<title>139892135246816+</title>\n<ellipse fill=\"none\" stroke=\"black\" cx=\"609\" cy=\"-100.5\" rx=\"27\" ry=\"18\"/>\n<text text-anchor=\"middle\" x=\"609\" y=\"-96.8\" font-family=\"Times,serif\" font-size=\"14.00\">+</text>\n</g>\n<!-- 139892135246912&#45;&gt;139892135246816+ -->\n<g id=\"edge10\" class=\"edge\">\n<title>139892135246912&#45;&gt;139892135246816+</title>\n<path fill=\"none\" stroke=\"black\" d=\"M543.84,-90.37C554.01,-91.98 563.76,-93.51 572.44,-94.89\"/>\n<polygon fill=\"black\" stroke=\"black\" points=\"572.05,-98.37 582.47,-96.47 573.14,-91.45 572.05,-98.37\"/>\n</g>\n<!-- 139892135246912* -->\n<g id=\"node2\" class=\"node\">\n<title>139892135246912*</title>\n<ellipse fill=\"none\" stroke=\"black\" cx=\"263\" cy=\"-73.5\" rx=\"27\" ry=\"18\"/>\n<text text-anchor=\"middle\" x=\"263\" y=\"-69.8\" font-family=\"Times,serif\" font-size=\"14.00\">*</text>\n</g>\n<!-- 139892135246912*&#45;&gt;139892135246912 -->\n<g id=\"edge1\" class=\"edge\">\n<title>139892135246912*&#45;&gt;139892135246912</title>\n<path fill=\"none\" stroke=\"black\" d=\"M290.34,-73.5C298.51,-73.5 308.08,-73.5 318.36,-73.5\"/>\n<polygon fill=\"black\" stroke=\"black\" points=\"318.39,-77 328.39,-73.5 318.39,-70 318.39,-77\"/>\n</g>\n<!-- 139892135237504 -->\n<g id=\"node3\" class=\"node\">\n<title>139892135237504</title>\n<polygon fill=\"none\" stroke=\"black\" points=\"0,-165.5 0,-201.5 200,-201.5 200,-165.5 0,-165.5\"/>\n<text text-anchor=\"middle\" x=\"16.5\" y=\"-179.8\" font-family=\"Times,serif\" font-size=\"14.00\">w1</text>\n<polyline fill=\"none\" stroke=\"black\" points=\"33,-165.5 33,-201.5 \"/>\n<text text-anchor=\"middle\" x=\"75.5\" y=\"-179.8\" font-family=\"Times,serif\" font-size=\"14.00\">data &#45;3.0000</text>\n<polyline fill=\"none\" stroke=\"black\" points=\"118,-165.5 118,-201.5 \"/>\n<text text-anchor=\"middle\" x=\"159\" y=\"-179.8\" font-family=\"Times,serif\" font-size=\"14.00\">grad 1.0000</text>\n</g>\n<!-- 139892135233904* -->\n<g id=\"node13\" class=\"node\">\n<title>139892135233904*</title>\n<ellipse fill=\"none\" stroke=\"black\" cx=\"263\" cy=\"-128.5\" rx=\"27\" ry=\"18\"/>\n<text text-anchor=\"middle\" x=\"263\" y=\"-124.8\" font-family=\"Times,serif\" font-size=\"14.00\">*</text>\n</g>\n<!-- 139892135237504&#45;&gt;139892135233904* -->\n<g id=\"edge11\" class=\"edge\">\n<title>139892135237504&#45;&gt;139892135233904*</title>\n<path fill=\"none\" stroke=\"black\" d=\"M172.53,-165.44C181.84,-162.67 191.2,-159.67 200,-156.5 210.53,-152.71 221.75,-147.9 231.72,-143.33\"/>\n<polygon fill=\"black\" stroke=\"black\" points=\"233.25,-146.48 240.82,-139.07 230.28,-140.14 233.25,-146.48\"/>\n</g>\n<!-- 139892135246432 -->\n<g id=\"node4\" class=\"node\">\n<title>139892135246432</title>\n<polygon fill=\"none\" stroke=\"black\" points=\"1071,-109.5 1071,-145.5 1256,-145.5 1256,-109.5 1071,-109.5\"/>\n<text text-anchor=\"middle\" x=\"1082.5\" y=\"-123.8\" font-family=\"Times,serif\" font-size=\"14.00\">n</text>\n<polyline fill=\"none\" stroke=\"black\" points=\"1094,-109.5 1094,-145.5 \"/>\n<text text-anchor=\"middle\" x=\"1134\" y=\"-123.8\" font-family=\"Times,serif\" font-size=\"14.00\">data 0.8814</text>\n<polyline fill=\"none\" stroke=\"black\" points=\"1174,-109.5 1174,-145.5 \"/>\n<text text-anchor=\"middle\" x=\"1215\" y=\"-123.8\" font-family=\"Times,serif\" font-size=\"14.00\">grad 0.5000</text>\n</g>\n<!-- 139892135238512tanh -->\n<g id=\"node11\" class=\"node\">\n<title>139892135238512tanh</title>\n<ellipse fill=\"none\" stroke=\"black\" cx=\"1319\" cy=\"-127.5\" rx=\"27\" ry=\"18\"/>\n<text text-anchor=\"middle\" x=\"1319\" y=\"-123.8\" font-family=\"Times,serif\" font-size=\"14.00\">tanh</text>\n</g>\n<!-- 139892135246432&#45;&gt;139892135238512tanh -->\n<g id=\"edge6\" class=\"edge\">\n<title>139892135246432&#45;&gt;139892135238512tanh</title>\n<path fill=\"none\" stroke=\"black\" d=\"M1256.01,-127.5C1265.01,-127.5 1273.74,-127.5 1281.66,-127.5\"/>\n<polygon fill=\"black\" stroke=\"black\" points=\"1281.91,-131 1291.91,-127.5 1281.91,-124 1281.91,-131\"/>\n</g>\n<!-- 139892135246432+ -->\n<g id=\"node5\" class=\"node\">\n<title>139892135246432+</title>\n<ellipse fill=\"none\" stroke=\"black\" cx=\"1008\" cy=\"-127.5\" rx=\"27\" ry=\"18\"/>\n<text text-anchor=\"middle\" x=\"1008\" y=\"-123.8\" font-family=\"Times,serif\" font-size=\"14.00\">+</text>\n</g>\n<!-- 139892135246432+&#45;&gt;139892135246432 -->\n<g id=\"edge2\" class=\"edge\">\n<title>139892135246432+&#45;&gt;139892135246432</title>\n<path fill=\"none\" stroke=\"black\" d=\"M1035.04,-127.5C1042.58,-127.5 1051.3,-127.5 1060.57,-127.5\"/>\n<polygon fill=\"black\" stroke=\"black\" points=\"1060.81,-131 1070.81,-127.5 1060.81,-124 1060.81,-131\"/>\n</g>\n<!-- 139892135247536 -->\n<g id=\"node6\" class=\"node\">\n<title>139892135247536</title>\n<polygon fill=\"none\" stroke=\"black\" points=\"716,-137.5 716,-173.5 901,-173.5 901,-137.5 716,-137.5\"/>\n<text text-anchor=\"middle\" x=\"727.5\" y=\"-151.8\" font-family=\"Times,serif\" font-size=\"14.00\">b</text>\n<polyline fill=\"none\" stroke=\"black\" points=\"739,-137.5 739,-173.5 \"/>\n<text text-anchor=\"middle\" x=\"779\" y=\"-151.8\" font-family=\"Times,serif\" font-size=\"14.00\">data 6.8814</text>\n<polyline fill=\"none\" stroke=\"black\" points=\"819,-137.5 819,-173.5 \"/>\n<text text-anchor=\"middle\" x=\"860\" y=\"-151.8\" font-family=\"Times,serif\" font-size=\"14.00\">grad 0.5000</text>\n</g>\n<!-- 139892135247536&#45;&gt;139892135246432+ -->\n<g id=\"edge7\" class=\"edge\">\n<title>139892135247536&#45;&gt;139892135246432+</title>\n<path fill=\"none\" stroke=\"black\" d=\"M901.02,-142.52C926,-138.98 951.59,-135.36 971.37,-132.55\"/>\n<polygon fill=\"black\" stroke=\"black\" points=\"972.03,-135.99 981.43,-131.12 971.04,-129.06 972.03,-135.99\"/>\n</g>\n<!-- 139892135234240 -->\n<g id=\"node7\" class=\"node\">\n<title>139892135234240</title>\n<polygon fill=\"none\" stroke=\"black\" points=\"4,-55.5 4,-91.5 196,-91.5 196,-55.5 4,-55.5\"/>\n<text text-anchor=\"middle\" x=\"19\" y=\"-69.8\" font-family=\"Times,serif\" font-size=\"14.00\">x2</text>\n<polyline fill=\"none\" stroke=\"black\" points=\"34,-55.5 34,-91.5 \"/>\n<text text-anchor=\"middle\" x=\"74\" y=\"-69.8\" font-family=\"Times,serif\" font-size=\"14.00\">data 0.0000</text>\n<polyline fill=\"none\" stroke=\"black\" points=\"114,-55.5 114,-91.5 \"/>\n<text text-anchor=\"middle\" x=\"155\" y=\"-69.8\" font-family=\"Times,serif\" font-size=\"14.00\">grad 0.5000</text>\n</g>\n<!-- 139892135234240&#45;&gt;139892135246912* -->\n<g id=\"edge8\" class=\"edge\">\n<title>139892135234240&#45;&gt;139892135246912*</title>\n<path fill=\"none\" stroke=\"black\" d=\"M196.05,-73.5C206.52,-73.5 216.65,-73.5 225.71,-73.5\"/>\n<polygon fill=\"black\" stroke=\"black\" points=\"225.79,-77 235.79,-73.5 225.79,-70 225.79,-77\"/>\n</g>\n<!-- 139892135237360 -->\n<g id=\"node8\" class=\"node\">\n<title>139892135237360</title>\n<polygon fill=\"none\" stroke=\"black\" points=\"2.5,-0.5 2.5,-36.5 197.5,-36.5 197.5,-0.5 2.5,-0.5\"/>\n<text text-anchor=\"middle\" x=\"19\" y=\"-14.8\" font-family=\"Times,serif\" font-size=\"14.00\">w2</text>\n<polyline fill=\"none\" stroke=\"black\" points=\"35.5,-0.5 35.5,-36.5 \"/>\n<text text-anchor=\"middle\" x=\"75.5\" y=\"-14.8\" font-family=\"Times,serif\" font-size=\"14.00\">data 1.0000</text>\n<polyline fill=\"none\" stroke=\"black\" points=\"115.5,-0.5 115.5,-36.5 \"/>\n<text text-anchor=\"middle\" x=\"156.5\" y=\"-14.8\" font-family=\"Times,serif\" font-size=\"14.00\">grad 0.0000</text>\n</g>\n<!-- 139892135237360&#45;&gt;139892135246912* -->\n<g id=\"edge12\" class=\"edge\">\n<title>139892135237360&#45;&gt;139892135246912*</title>\n<path fill=\"none\" stroke=\"black\" d=\"M169.28,-36.5C179.65,-39.61 190.16,-42.98 200,-46.5 210.28,-50.17 221.28,-54.74 231.11,-59.07\"/>\n<polygon fill=\"black\" stroke=\"black\" points=\"229.93,-62.37 240.48,-63.27 232.79,-55.99 229.93,-62.37\"/>\n</g>\n<!-- 139892135247680 -->\n<g id=\"node9\" class=\"node\">\n<title>139892135247680</title>\n<polygon fill=\"none\" stroke=\"black\" points=\"2,-110.5 2,-146.5 198,-146.5 198,-110.5 2,-110.5\"/>\n<text text-anchor=\"middle\" x=\"17\" y=\"-124.8\" font-family=\"Times,serif\" font-size=\"14.00\">x1</text>\n<polyline fill=\"none\" stroke=\"black\" points=\"32,-110.5 32,-146.5 \"/>\n<text text-anchor=\"middle\" x=\"72\" y=\"-124.8\" font-family=\"Times,serif\" font-size=\"14.00\">data 2.0000</text>\n<polyline fill=\"none\" stroke=\"black\" points=\"112,-110.5 112,-146.5 \"/>\n<text text-anchor=\"middle\" x=\"155\" y=\"-124.8\" font-family=\"Times,serif\" font-size=\"14.00\">grad &#45;1.5000</text>\n</g>\n<!-- 139892135247680&#45;&gt;139892135233904* -->\n<g id=\"edge14\" class=\"edge\">\n<title>139892135247680&#45;&gt;139892135233904*</title>\n<path fill=\"none\" stroke=\"black\" d=\"M198.37,-128.5C208.05,-128.5 217.4,-128.5 225.8,-128.5\"/>\n<polygon fill=\"black\" stroke=\"black\" points=\"225.91,-132 235.91,-128.5 225.91,-125 225.91,-132\"/>\n</g>\n<!-- 139892135238512 -->\n<g id=\"node10\" class=\"node\">\n<title>139892135238512</title>\n<polygon fill=\"none\" stroke=\"black\" points=\"1382,-109.5 1382,-145.5 1567,-145.5 1567,-109.5 1382,-109.5\"/>\n<text text-anchor=\"middle\" x=\"1393.5\" y=\"-123.8\" font-family=\"Times,serif\" font-size=\"14.00\">o</text>\n<polyline fill=\"none\" stroke=\"black\" points=\"1405,-109.5 1405,-145.5 \"/>\n<text text-anchor=\"middle\" x=\"1445\" y=\"-123.8\" font-family=\"Times,serif\" font-size=\"14.00\">data 0.7071</text>\n<polyline fill=\"none\" stroke=\"black\" points=\"1485,-109.5 1485,-145.5 \"/>\n<text text-anchor=\"middle\" x=\"1526\" y=\"-123.8\" font-family=\"Times,serif\" font-size=\"14.00\">grad 1.0000</text>\n</g>\n<!-- 139892135238512tanh&#45;&gt;139892135238512 -->\n<g id=\"edge3\" class=\"edge\">\n<title>139892135238512tanh&#45;&gt;139892135238512</title>\n<path fill=\"none\" stroke=\"black\" d=\"M1346.04,-127.5C1353.58,-127.5 1362.3,-127.5 1371.57,-127.5\"/>\n<polygon fill=\"black\" stroke=\"black\" points=\"1371.81,-131 1381.81,-127.5 1371.81,-124 1371.81,-131\"/>\n</g>\n<!-- 139892135233904 -->\n<g id=\"node12\" class=\"node\">\n<title>139892135233904</title>\n<polygon fill=\"none\" stroke=\"black\" points=\"326,-110.5 326,-146.5 546,-146.5 546,-110.5 326,-110.5\"/>\n<text text-anchor=\"middle\" x=\"352.5\" y=\"-124.8\" font-family=\"Times,serif\" font-size=\"14.00\">x1*w1</text>\n<polyline fill=\"none\" stroke=\"black\" points=\"379,-110.5 379,-146.5 \"/>\n<text text-anchor=\"middle\" x=\"421.5\" y=\"-124.8\" font-family=\"Times,serif\" font-size=\"14.00\">data &#45;6.0000</text>\n<polyline fill=\"none\" stroke=\"black\" points=\"464,-110.5 464,-146.5 \"/>\n<text text-anchor=\"middle\" x=\"505\" y=\"-124.8\" font-family=\"Times,serif\" font-size=\"14.00\">grad 0.5000</text>\n</g>\n<!-- 139892135233904&#45;&gt;139892135246816+ -->\n<g id=\"edge13\" class=\"edge\">\n<title>139892135233904&#45;&gt;139892135246816+</title>\n<path fill=\"none\" stroke=\"black\" d=\"M546.27,-110.61C555.64,-109.07 564.6,-107.61 572.65,-106.29\"/>\n<polygon fill=\"black\" stroke=\"black\" points=\"573.35,-109.72 582.65,-104.65 572.22,-102.81 573.35,-109.72\"/>\n</g>\n<!-- 139892135233904*&#45;&gt;139892135233904 -->\n<g id=\"edge4\" class=\"edge\">\n<title>139892135233904*&#45;&gt;139892135233904</title>\n<path fill=\"none\" stroke=\"black\" d=\"M290.34,-128.5C297.77,-128.5 306.37,-128.5 315.6,-128.5\"/>\n<polygon fill=\"black\" stroke=\"black\" points=\"315.84,-132 325.84,-128.5 315.84,-125 315.84,-132\"/>\n</g>\n<!-- 139892135246816 -->\n<g id=\"node14\" class=\"node\">\n<title>139892135246816</title>\n<polygon fill=\"none\" stroke=\"black\" points=\"672,-82.5 672,-118.5 945,-118.5 945,-82.5 672,-82.5\"/>\n<text text-anchor=\"middle\" x=\"725\" y=\"-96.8\" font-family=\"Times,serif\" font-size=\"14.00\">x1*w1 + x2*w2</text>\n<polyline fill=\"none\" stroke=\"black\" points=\"778,-82.5 778,-118.5 \"/>\n<text text-anchor=\"middle\" x=\"820.5\" y=\"-96.8\" font-family=\"Times,serif\" font-size=\"14.00\">data &#45;6.0000</text>\n<polyline fill=\"none\" stroke=\"black\" points=\"863,-82.5 863,-118.5 \"/>\n<text text-anchor=\"middle\" x=\"904\" y=\"-96.8\" font-family=\"Times,serif\" font-size=\"14.00\">grad 0.5000</text>\n</g>\n<!-- 139892135246816&#45;&gt;139892135246432+ -->\n<g id=\"edge9\" class=\"edge\">\n<title>139892135246816&#45;&gt;139892135246432+</title>\n<path fill=\"none\" stroke=\"black\" d=\"M941.24,-118.51C952.12,-120 962.4,-121.4 971.45,-122.64\"/>\n<polygon fill=\"black\" stroke=\"black\" points=\"971.11,-126.13 981.49,-124.01 972.05,-119.19 971.11,-126.13\"/>\n</g>\n<!-- 139892135246816+&#45;&gt;139892135246816 -->\n<g id=\"edge5\" class=\"edge\">\n<title>139892135246816+&#45;&gt;139892135246816</title>\n<path fill=\"none\" stroke=\"black\" d=\"M636.23,-100.5C643.7,-100.5 652.41,-100.5 661.87,-100.5\"/>\n<polygon fill=\"black\" stroke=\"black\" points=\"661.98,-104 671.98,-100.5 661.98,-97 661.98,-104\"/>\n</g>\n</g>\n</svg>\n",
      "text/plain": [
       "<graphviz.graphs.Digraph at 0x7f3b2d070b50>"
      ]
     },
     "execution_count": 45,
     "metadata": {},
     "output_type": "execute_result"
    }
   ],
   "source": [
    "draw_dot(o)"
   ]
  },
  {
   "cell_type": "code",
   "execution_count": 46,
   "metadata": {},
   "outputs": [],
   "source": [
    "# inputs x1,x2\n",
    "x1 = Value(2.0, label='x1')\n",
    "x2 = Value(0.0, label='x2')\n",
    "# weights w1,w2\n",
    "w1 = Value(-3.0, label='w1')\n",
    "w2 = Value(1.0, label='w2')\n",
    "# bias of the neuron\n",
    "b = Value(6.8813735870195432, label='b')\n",
    "# x1*w1 + x2*w2 + b\n",
    "x1w1 = x1*w1; x1w1.label = 'x1*w1'\n",
    "x2w2 = x2*w2; x2w2.label = 'x2*w2'\n",
    "x1w1x2w2 = x1w1 + x2w2; x1w1x2w2.label = 'x1*w1 + x2*w2'\n",
    "n = x1w1x2w2 + b; n.label = 'n'\n",
    "o = n.tanh(); o.label = 'o'"
   ]
  },
  {
   "cell_type": "code",
   "execution_count": 47,
   "metadata": {},
   "outputs": [],
   "source": [
    "o.grad = 1\n",
    "\n",
    "# building topological sort \n",
    "topo = []\n",
    "visited = set()\n",
    "def build_topo(v):\n",
    "  if v not in visited:\n",
    "    visited.add(v)\n",
    "    for child in v._prev:\n",
    "      build_topo(child)\n",
    "    topo.append(v)\n",
    "build_topo(o)\n",
    "topo\n",
    "\n",
    "for node in reversed(topo):\n",
    "  node._backward()"
   ]
  },
  {
   "cell_type": "code",
   "execution_count": 48,
   "metadata": {},
   "outputs": [
    {
     "data": {
      "image/svg+xml": "<?xml version=\"1.0\" encoding=\"UTF-8\" standalone=\"no\"?>\n<!DOCTYPE svg PUBLIC \"-//W3C//DTD SVG 1.1//EN\"\n \"http://www.w3.org/Graphics/SVG/1.1/DTD/svg11.dtd\">\n<!-- Generated by graphviz version 2.50.0 (0)\n -->\n<!-- Pages: 1 -->\n<svg width=\"1575pt\" height=\"210pt\"\n viewBox=\"0.00 0.00 1575.00 210.00\" xmlns=\"http://www.w3.org/2000/svg\" xmlns:xlink=\"http://www.w3.org/1999/xlink\">\n<g id=\"graph0\" class=\"graph\" transform=\"scale(1 1) rotate(0) translate(4 206)\">\n<polygon fill=\"white\" stroke=\"transparent\" points=\"-4,4 -4,-206 1571,-206 1571,4 -4,4\"/>\n<!-- 139892135239184 -->\n<g id=\"node1\" class=\"node\">\n<title>139892135239184</title>\n<polygon fill=\"none\" stroke=\"black\" points=\"328.5,-55.5 328.5,-91.5 543.5,-91.5 543.5,-55.5 328.5,-55.5\"/>\n<text text-anchor=\"middle\" x=\"355\" y=\"-69.8\" font-family=\"Times,serif\" font-size=\"14.00\">x2*w2</text>\n<polyline fill=\"none\" stroke=\"black\" points=\"381.5,-55.5 381.5,-91.5 \"/>\n<text text-anchor=\"middle\" x=\"421.5\" y=\"-69.8\" font-family=\"Times,serif\" font-size=\"14.00\">data 0.0000</text>\n<polyline fill=\"none\" stroke=\"black\" points=\"461.5,-55.5 461.5,-91.5 \"/>\n<text text-anchor=\"middle\" x=\"502.5\" y=\"-69.8\" font-family=\"Times,serif\" font-size=\"14.00\">grad 0.5000</text>\n</g>\n<!-- 139892135238080+ -->\n<g id=\"node15\" class=\"node\">\n<title>139892135238080+</title>\n<ellipse fill=\"none\" stroke=\"black\" cx=\"609\" cy=\"-100.5\" rx=\"27\" ry=\"18\"/>\n<text text-anchor=\"middle\" x=\"609\" y=\"-96.8\" font-family=\"Times,serif\" font-size=\"14.00\">+</text>\n</g>\n<!-- 139892135239184&#45;&gt;139892135238080+ -->\n<g id=\"edge12\" class=\"edge\">\n<title>139892135239184&#45;&gt;139892135238080+</title>\n<path fill=\"none\" stroke=\"black\" d=\"M543.84,-90.37C554.01,-91.98 563.76,-93.51 572.44,-94.89\"/>\n<polygon fill=\"black\" stroke=\"black\" points=\"572.05,-98.37 582.47,-96.47 573.14,-91.45 572.05,-98.37\"/>\n</g>\n<!-- 139892135239184* -->\n<g id=\"node2\" class=\"node\">\n<title>139892135239184*</title>\n<ellipse fill=\"none\" stroke=\"black\" cx=\"263\" cy=\"-73.5\" rx=\"27\" ry=\"18\"/>\n<text text-anchor=\"middle\" x=\"263\" y=\"-69.8\" font-family=\"Times,serif\" font-size=\"14.00\">*</text>\n</g>\n<!-- 139892135239184*&#45;&gt;139892135239184 -->\n<g id=\"edge1\" class=\"edge\">\n<title>139892135239184*&#45;&gt;139892135239184</title>\n<path fill=\"none\" stroke=\"black\" d=\"M290.34,-73.5C298.51,-73.5 308.08,-73.5 318.36,-73.5\"/>\n<polygon fill=\"black\" stroke=\"black\" points=\"318.39,-77 328.39,-73.5 318.39,-70 318.39,-77\"/>\n</g>\n<!-- 139892135233616 -->\n<g id=\"node3\" class=\"node\">\n<title>139892135233616</title>\n<polygon fill=\"none\" stroke=\"black\" points=\"1071,-109.5 1071,-145.5 1256,-145.5 1256,-109.5 1071,-109.5\"/>\n<text text-anchor=\"middle\" x=\"1082.5\" y=\"-123.8\" font-family=\"Times,serif\" font-size=\"14.00\">n</text>\n<polyline fill=\"none\" stroke=\"black\" points=\"1094,-109.5 1094,-145.5 \"/>\n<text text-anchor=\"middle\" x=\"1134\" y=\"-123.8\" font-family=\"Times,serif\" font-size=\"14.00\">data 0.8814</text>\n<polyline fill=\"none\" stroke=\"black\" points=\"1174,-109.5 1174,-145.5 \"/>\n<text text-anchor=\"middle\" x=\"1215\" y=\"-123.8\" font-family=\"Times,serif\" font-size=\"14.00\">grad 0.5000</text>\n</g>\n<!-- 139892135242640tanh -->\n<g id=\"node12\" class=\"node\">\n<title>139892135242640tanh</title>\n<ellipse fill=\"none\" stroke=\"black\" cx=\"1319\" cy=\"-127.5\" rx=\"27\" ry=\"18\"/>\n<text text-anchor=\"middle\" x=\"1319\" y=\"-123.8\" font-family=\"Times,serif\" font-size=\"14.00\">tanh</text>\n</g>\n<!-- 139892135233616&#45;&gt;139892135242640tanh -->\n<g id=\"edge6\" class=\"edge\">\n<title>139892135233616&#45;&gt;139892135242640tanh</title>\n<path fill=\"none\" stroke=\"black\" d=\"M1256.01,-127.5C1265.01,-127.5 1273.74,-127.5 1281.66,-127.5\"/>\n<polygon fill=\"black\" stroke=\"black\" points=\"1281.91,-131 1291.91,-127.5 1281.91,-124 1281.91,-131\"/>\n</g>\n<!-- 139892135233616+ -->\n<g id=\"node4\" class=\"node\">\n<title>139892135233616+</title>\n<ellipse fill=\"none\" stroke=\"black\" cx=\"1008\" cy=\"-127.5\" rx=\"27\" ry=\"18\"/>\n<text text-anchor=\"middle\" x=\"1008\" y=\"-123.8\" font-family=\"Times,serif\" font-size=\"14.00\">+</text>\n</g>\n<!-- 139892135233616+&#45;&gt;139892135233616 -->\n<g id=\"edge2\" class=\"edge\">\n<title>139892135233616+&#45;&gt;139892135233616</title>\n<path fill=\"none\" stroke=\"black\" d=\"M1035.04,-127.5C1042.58,-127.5 1051.3,-127.5 1060.57,-127.5\"/>\n<polygon fill=\"black\" stroke=\"black\" points=\"1060.81,-131 1070.81,-127.5 1060.81,-124 1060.81,-131\"/>\n</g>\n<!-- 139892135236736 -->\n<g id=\"node5\" class=\"node\">\n<title>139892135236736</title>\n<polygon fill=\"none\" stroke=\"black\" points=\"326,-110.5 326,-146.5 546,-146.5 546,-110.5 326,-110.5\"/>\n<text text-anchor=\"middle\" x=\"352.5\" y=\"-124.8\" font-family=\"Times,serif\" font-size=\"14.00\">x1*w1</text>\n<polyline fill=\"none\" stroke=\"black\" points=\"379,-110.5 379,-146.5 \"/>\n<text text-anchor=\"middle\" x=\"421.5\" y=\"-124.8\" font-family=\"Times,serif\" font-size=\"14.00\">data &#45;6.0000</text>\n<polyline fill=\"none\" stroke=\"black\" points=\"464,-110.5 464,-146.5 \"/>\n<text text-anchor=\"middle\" x=\"505\" y=\"-124.8\" font-family=\"Times,serif\" font-size=\"14.00\">grad 0.5000</text>\n</g>\n<!-- 139892135236736&#45;&gt;139892135238080+ -->\n<g id=\"edge11\" class=\"edge\">\n<title>139892135236736&#45;&gt;139892135238080+</title>\n<path fill=\"none\" stroke=\"black\" d=\"M546.27,-110.61C555.64,-109.07 564.6,-107.61 572.65,-106.29\"/>\n<polygon fill=\"black\" stroke=\"black\" points=\"573.35,-109.72 582.65,-104.65 572.22,-102.81 573.35,-109.72\"/>\n</g>\n<!-- 139892135236736* -->\n<g id=\"node6\" class=\"node\">\n<title>139892135236736*</title>\n<ellipse fill=\"none\" stroke=\"black\" cx=\"263\" cy=\"-128.5\" rx=\"27\" ry=\"18\"/>\n<text text-anchor=\"middle\" x=\"263\" y=\"-124.8\" font-family=\"Times,serif\" font-size=\"14.00\">*</text>\n</g>\n<!-- 139892135236736*&#45;&gt;139892135236736 -->\n<g id=\"edge3\" class=\"edge\">\n<title>139892135236736*&#45;&gt;139892135236736</title>\n<path fill=\"none\" stroke=\"black\" d=\"M290.34,-128.5C297.77,-128.5 306.37,-128.5 315.6,-128.5\"/>\n<polygon fill=\"black\" stroke=\"black\" points=\"315.84,-132 325.84,-128.5 315.84,-125 315.84,-132\"/>\n</g>\n<!-- 139892135233232 -->\n<g id=\"node7\" class=\"node\">\n<title>139892135233232</title>\n<polygon fill=\"none\" stroke=\"black\" points=\"0,-165.5 0,-201.5 200,-201.5 200,-165.5 0,-165.5\"/>\n<text text-anchor=\"middle\" x=\"16.5\" y=\"-179.8\" font-family=\"Times,serif\" font-size=\"14.00\">w1</text>\n<polyline fill=\"none\" stroke=\"black\" points=\"33,-165.5 33,-201.5 \"/>\n<text text-anchor=\"middle\" x=\"75.5\" y=\"-179.8\" font-family=\"Times,serif\" font-size=\"14.00\">data &#45;3.0000</text>\n<polyline fill=\"none\" stroke=\"black\" points=\"118,-165.5 118,-201.5 \"/>\n<text text-anchor=\"middle\" x=\"159\" y=\"-179.8\" font-family=\"Times,serif\" font-size=\"14.00\">grad 1.0000</text>\n</g>\n<!-- 139892135233232&#45;&gt;139892135236736* -->\n<g id=\"edge13\" class=\"edge\">\n<title>139892135233232&#45;&gt;139892135236736*</title>\n<path fill=\"none\" stroke=\"black\" d=\"M172.53,-165.44C181.84,-162.67 191.2,-159.67 200,-156.5 210.53,-152.71 221.75,-147.9 231.72,-143.33\"/>\n<polygon fill=\"black\" stroke=\"black\" points=\"233.25,-146.48 240.82,-139.07 230.28,-140.14 233.25,-146.48\"/>\n</g>\n<!-- 139892135233376 -->\n<g id=\"node8\" class=\"node\">\n<title>139892135233376</title>\n<polygon fill=\"none\" stroke=\"black\" points=\"2.5,-55.5 2.5,-91.5 197.5,-91.5 197.5,-55.5 2.5,-55.5\"/>\n<text text-anchor=\"middle\" x=\"19\" y=\"-69.8\" font-family=\"Times,serif\" font-size=\"14.00\">w2</text>\n<polyline fill=\"none\" stroke=\"black\" points=\"35.5,-55.5 35.5,-91.5 \"/>\n<text text-anchor=\"middle\" x=\"75.5\" y=\"-69.8\" font-family=\"Times,serif\" font-size=\"14.00\">data 1.0000</text>\n<polyline fill=\"none\" stroke=\"black\" points=\"115.5,-55.5 115.5,-91.5 \"/>\n<text text-anchor=\"middle\" x=\"156.5\" y=\"-69.8\" font-family=\"Times,serif\" font-size=\"14.00\">grad 0.0000</text>\n</g>\n<!-- 139892135233376&#45;&gt;139892135239184* -->\n<g id=\"edge7\" class=\"edge\">\n<title>139892135233376&#45;&gt;139892135239184*</title>\n<path fill=\"none\" stroke=\"black\" d=\"M197.91,-73.5C207.65,-73.5 217.05,-73.5 225.52,-73.5\"/>\n<polygon fill=\"black\" stroke=\"black\" points=\"225.7,-77 235.7,-73.5 225.7,-70 225.7,-77\"/>\n</g>\n<!-- 139892135231840 -->\n<g id=\"node9\" class=\"node\">\n<title>139892135231840</title>\n<polygon fill=\"none\" stroke=\"black\" points=\"4,-0.5 4,-36.5 196,-36.5 196,-0.5 4,-0.5\"/>\n<text text-anchor=\"middle\" x=\"19\" y=\"-14.8\" font-family=\"Times,serif\" font-size=\"14.00\">x2</text>\n<polyline fill=\"none\" stroke=\"black\" points=\"34,-0.5 34,-36.5 \"/>\n<text text-anchor=\"middle\" x=\"74\" y=\"-14.8\" font-family=\"Times,serif\" font-size=\"14.00\">data 0.0000</text>\n<polyline fill=\"none\" stroke=\"black\" points=\"114,-0.5 114,-36.5 \"/>\n<text text-anchor=\"middle\" x=\"155\" y=\"-14.8\" font-family=\"Times,serif\" font-size=\"14.00\">grad 0.5000</text>\n</g>\n<!-- 139892135231840&#45;&gt;139892135239184* -->\n<g id=\"edge9\" class=\"edge\">\n<title>139892135231840&#45;&gt;139892135239184*</title>\n<path fill=\"none\" stroke=\"black\" d=\"M169.28,-36.5C179.65,-39.61 190.16,-42.98 200,-46.5 210.28,-50.17 221.28,-54.74 231.11,-59.07\"/>\n<polygon fill=\"black\" stroke=\"black\" points=\"229.93,-62.37 240.48,-63.27 232.79,-55.99 229.93,-62.37\"/>\n</g>\n<!-- 139892135239520 -->\n<g id=\"node10\" class=\"node\">\n<title>139892135239520</title>\n<polygon fill=\"none\" stroke=\"black\" points=\"716,-137.5 716,-173.5 901,-173.5 901,-137.5 716,-137.5\"/>\n<text text-anchor=\"middle\" x=\"727.5\" y=\"-151.8\" font-family=\"Times,serif\" font-size=\"14.00\">b</text>\n<polyline fill=\"none\" stroke=\"black\" points=\"739,-137.5 739,-173.5 \"/>\n<text text-anchor=\"middle\" x=\"779\" y=\"-151.8\" font-family=\"Times,serif\" font-size=\"14.00\">data 6.8814</text>\n<polyline fill=\"none\" stroke=\"black\" points=\"819,-137.5 819,-173.5 \"/>\n<text text-anchor=\"middle\" x=\"860\" y=\"-151.8\" font-family=\"Times,serif\" font-size=\"14.00\">grad 0.5000</text>\n</g>\n<!-- 139892135239520&#45;&gt;139892135233616+ -->\n<g id=\"edge10\" class=\"edge\">\n<title>139892135239520&#45;&gt;139892135233616+</title>\n<path fill=\"none\" stroke=\"black\" d=\"M901.02,-142.52C926,-138.98 951.59,-135.36 971.37,-132.55\"/>\n<polygon fill=\"black\" stroke=\"black\" points=\"972.03,-135.99 981.43,-131.12 971.04,-129.06 972.03,-135.99\"/>\n</g>\n<!-- 139892135242640 -->\n<g id=\"node11\" class=\"node\">\n<title>139892135242640</title>\n<polygon fill=\"none\" stroke=\"black\" points=\"1382,-109.5 1382,-145.5 1567,-145.5 1567,-109.5 1382,-109.5\"/>\n<text text-anchor=\"middle\" x=\"1393.5\" y=\"-123.8\" font-family=\"Times,serif\" font-size=\"14.00\">o</text>\n<polyline fill=\"none\" stroke=\"black\" points=\"1405,-109.5 1405,-145.5 \"/>\n<text text-anchor=\"middle\" x=\"1445\" y=\"-123.8\" font-family=\"Times,serif\" font-size=\"14.00\">data 0.7071</text>\n<polyline fill=\"none\" stroke=\"black\" points=\"1485,-109.5 1485,-145.5 \"/>\n<text text-anchor=\"middle\" x=\"1526\" y=\"-123.8\" font-family=\"Times,serif\" font-size=\"14.00\">grad 1.0000</text>\n</g>\n<!-- 139892135242640tanh&#45;&gt;139892135242640 -->\n<g id=\"edge4\" class=\"edge\">\n<title>139892135242640tanh&#45;&gt;139892135242640</title>\n<path fill=\"none\" stroke=\"black\" d=\"M1346.04,-127.5C1353.58,-127.5 1362.3,-127.5 1371.57,-127.5\"/>\n<polygon fill=\"black\" stroke=\"black\" points=\"1371.81,-131 1381.81,-127.5 1371.81,-124 1371.81,-131\"/>\n</g>\n<!-- 139892135236016 -->\n<g id=\"node13\" class=\"node\">\n<title>139892135236016</title>\n<polygon fill=\"none\" stroke=\"black\" points=\"2,-110.5 2,-146.5 198,-146.5 198,-110.5 2,-110.5\"/>\n<text text-anchor=\"middle\" x=\"17\" y=\"-124.8\" font-family=\"Times,serif\" font-size=\"14.00\">x1</text>\n<polyline fill=\"none\" stroke=\"black\" points=\"32,-110.5 32,-146.5 \"/>\n<text text-anchor=\"middle\" x=\"72\" y=\"-124.8\" font-family=\"Times,serif\" font-size=\"14.00\">data 2.0000</text>\n<polyline fill=\"none\" stroke=\"black\" points=\"112,-110.5 112,-146.5 \"/>\n<text text-anchor=\"middle\" x=\"155\" y=\"-124.8\" font-family=\"Times,serif\" font-size=\"14.00\">grad &#45;1.5000</text>\n</g>\n<!-- 139892135236016&#45;&gt;139892135236736* -->\n<g id=\"edge14\" class=\"edge\">\n<title>139892135236016&#45;&gt;139892135236736*</title>\n<path fill=\"none\" stroke=\"black\" d=\"M198.37,-128.5C208.05,-128.5 217.4,-128.5 225.8,-128.5\"/>\n<polygon fill=\"black\" stroke=\"black\" points=\"225.91,-132 235.91,-128.5 225.91,-125 225.91,-132\"/>\n</g>\n<!-- 139892135238080 -->\n<g id=\"node14\" class=\"node\">\n<title>139892135238080</title>\n<polygon fill=\"none\" stroke=\"black\" points=\"672,-82.5 672,-118.5 945,-118.5 945,-82.5 672,-82.5\"/>\n<text text-anchor=\"middle\" x=\"725\" y=\"-96.8\" font-family=\"Times,serif\" font-size=\"14.00\">x1*w1 + x2*w2</text>\n<polyline fill=\"none\" stroke=\"black\" points=\"778,-82.5 778,-118.5 \"/>\n<text text-anchor=\"middle\" x=\"820.5\" y=\"-96.8\" font-family=\"Times,serif\" font-size=\"14.00\">data &#45;6.0000</text>\n<polyline fill=\"none\" stroke=\"black\" points=\"863,-82.5 863,-118.5 \"/>\n<text text-anchor=\"middle\" x=\"904\" y=\"-96.8\" font-family=\"Times,serif\" font-size=\"14.00\">grad 0.5000</text>\n</g>\n<!-- 139892135238080&#45;&gt;139892135233616+ -->\n<g id=\"edge8\" class=\"edge\">\n<title>139892135238080&#45;&gt;139892135233616+</title>\n<path fill=\"none\" stroke=\"black\" d=\"M941.24,-118.51C952.12,-120 962.4,-121.4 971.45,-122.64\"/>\n<polygon fill=\"black\" stroke=\"black\" points=\"971.11,-126.13 981.49,-124.01 972.05,-119.19 971.11,-126.13\"/>\n</g>\n<!-- 139892135238080+&#45;&gt;139892135238080 -->\n<g id=\"edge5\" class=\"edge\">\n<title>139892135238080+&#45;&gt;139892135238080</title>\n<path fill=\"none\" stroke=\"black\" d=\"M636.23,-100.5C643.7,-100.5 652.41,-100.5 661.87,-100.5\"/>\n<polygon fill=\"black\" stroke=\"black\" points=\"661.98,-104 671.98,-100.5 661.98,-97 661.98,-104\"/>\n</g>\n</g>\n</svg>\n",
      "text/plain": [
       "<graphviz.graphs.Digraph at 0x7f3b2d071840>"
      ]
     },
     "execution_count": 48,
     "metadata": {},
     "output_type": "execute_result"
    }
   ],
   "source": [
    "draw_dot(o)"
   ]
  },
  {
   "cell_type": "code",
   "execution_count": 49,
   "metadata": {},
   "outputs": [
    {
     "data": {
      "text/plain": [
       "Value(data=-8.0)"
      ]
     },
     "execution_count": 49,
     "metadata": {},
     "output_type": "execute_result"
    }
   ],
   "source": [
    "# implementing topo\n",
    "class Value:\n",
    "  \n",
    "  def __init__(self, data, _children=(), _op='', label=''):\n",
    "    self.data = data\n",
    "    self.grad = 0.0\n",
    "    self._backward = lambda: None\n",
    "    self._prev = set(_children)\n",
    "    self._op = _op\n",
    "    self.label = label\n",
    "\n",
    "  def __repr__(self):\n",
    "    return f\"Value(data={self.data})\"\n",
    "  \n",
    "  def __add__(self, other):\n",
    "    out = Value(self.data + other.data, (self, other), '+')\n",
    "    \n",
    "    def _backward():\n",
    "      self.grad += 1.0 * out.grad\n",
    "      other.grad += 1.0 * out.grad\n",
    "    out._backward = _backward\n",
    "    \n",
    "    return out\n",
    "\n",
    "  def __mul__(self, other):\n",
    "    out = Value(self.data * other.data, (self, other), '*')\n",
    "    \n",
    "    def _backward():\n",
    "      self.grad += other.data * out.grad\n",
    "      other.grad += self.data * out.grad\n",
    "    out._backward = _backward\n",
    "      \n",
    "    return out\n",
    "  \n",
    "  def tanh(self):\n",
    "    x = self.data\n",
    "    t = (math.exp(2*x) - 1)/(math.exp(2*x) + 1)\n",
    "    out = Value(t, (self, ), 'tanh')\n",
    "    \n",
    "    def _backward():\n",
    "      self.grad += (1 - t**2) * out.grad\n",
    "    out._backward = _backward\n",
    "    \n",
    "    return out\n",
    "  \n",
    "  def backward(self):\n",
    "    \n",
    "    topo = []\n",
    "    visited = set()\n",
    "    def build_topo(v):\n",
    "      if v not in visited:\n",
    "        visited.add(v)\n",
    "        for child in v._prev:\n",
    "          build_topo(child)\n",
    "        topo.append(v)\n",
    "    build_topo(self)\n",
    "    \n",
    "    self.grad = 1.0\n",
    "    for node in reversed(topo):\n",
    "      node._backward()\n",
    "\n",
    "a = Value(2.0, label='a')\n",
    "b = Value(-3.0, label='b')\n",
    "c = Value(10.0, label='c')\n",
    "e = a*b; e.label = 'e'\n",
    "d = e + c; d.label = 'd'\n",
    "f = Value(-2.0, label='f')\n",
    "L = d * f; L.label = 'L'\n",
    "L"
   ]
  },
  {
   "cell_type": "code",
   "execution_count": 50,
   "metadata": {},
   "outputs": [],
   "source": [
    "o._backward()"
   ]
  },
  {
   "cell_type": "code",
   "execution_count": 51,
   "metadata": {},
   "outputs": [
    {
     "data": {
      "image/svg+xml": "<?xml version=\"1.0\" encoding=\"UTF-8\" standalone=\"no\"?>\n<!DOCTYPE svg PUBLIC \"-//W3C//DTD SVG 1.1//EN\"\n \"http://www.w3.org/Graphics/SVG/1.1/DTD/svg11.dtd\">\n<!-- Generated by graphviz version 2.50.0 (0)\n -->\n<!-- Pages: 1 -->\n<svg width=\"1575pt\" height=\"210pt\"\n viewBox=\"0.00 0.00 1575.00 210.00\" xmlns=\"http://www.w3.org/2000/svg\" xmlns:xlink=\"http://www.w3.org/1999/xlink\">\n<g id=\"graph0\" class=\"graph\" transform=\"scale(1 1) rotate(0) translate(4 206)\">\n<polygon fill=\"white\" stroke=\"transparent\" points=\"-4,4 -4,-206 1571,-206 1571,4 -4,4\"/>\n<!-- 139892135239184 -->\n<g id=\"node1\" class=\"node\">\n<title>139892135239184</title>\n<polygon fill=\"none\" stroke=\"black\" points=\"328.5,-55.5 328.5,-91.5 543.5,-91.5 543.5,-55.5 328.5,-55.5\"/>\n<text text-anchor=\"middle\" x=\"355\" y=\"-69.8\" font-family=\"Times,serif\" font-size=\"14.00\">x2*w2</text>\n<polyline fill=\"none\" stroke=\"black\" points=\"381.5,-55.5 381.5,-91.5 \"/>\n<text text-anchor=\"middle\" x=\"421.5\" y=\"-69.8\" font-family=\"Times,serif\" font-size=\"14.00\">data 0.0000</text>\n<polyline fill=\"none\" stroke=\"black\" points=\"461.5,-55.5 461.5,-91.5 \"/>\n<text text-anchor=\"middle\" x=\"502.5\" y=\"-69.8\" font-family=\"Times,serif\" font-size=\"14.00\">grad 0.5000</text>\n</g>\n<!-- 139892135238080+ -->\n<g id=\"node15\" class=\"node\">\n<title>139892135238080+</title>\n<ellipse fill=\"none\" stroke=\"black\" cx=\"609\" cy=\"-100.5\" rx=\"27\" ry=\"18\"/>\n<text text-anchor=\"middle\" x=\"609\" y=\"-96.8\" font-family=\"Times,serif\" font-size=\"14.00\">+</text>\n</g>\n<!-- 139892135239184&#45;&gt;139892135238080+ -->\n<g id=\"edge12\" class=\"edge\">\n<title>139892135239184&#45;&gt;139892135238080+</title>\n<path fill=\"none\" stroke=\"black\" d=\"M543.84,-90.37C554.01,-91.98 563.76,-93.51 572.44,-94.89\"/>\n<polygon fill=\"black\" stroke=\"black\" points=\"572.05,-98.37 582.47,-96.47 573.14,-91.45 572.05,-98.37\"/>\n</g>\n<!-- 139892135239184* -->\n<g id=\"node2\" class=\"node\">\n<title>139892135239184*</title>\n<ellipse fill=\"none\" stroke=\"black\" cx=\"263\" cy=\"-73.5\" rx=\"27\" ry=\"18\"/>\n<text text-anchor=\"middle\" x=\"263\" y=\"-69.8\" font-family=\"Times,serif\" font-size=\"14.00\">*</text>\n</g>\n<!-- 139892135239184*&#45;&gt;139892135239184 -->\n<g id=\"edge1\" class=\"edge\">\n<title>139892135239184*&#45;&gt;139892135239184</title>\n<path fill=\"none\" stroke=\"black\" d=\"M290.34,-73.5C298.51,-73.5 308.08,-73.5 318.36,-73.5\"/>\n<polygon fill=\"black\" stroke=\"black\" points=\"318.39,-77 328.39,-73.5 318.39,-70 318.39,-77\"/>\n</g>\n<!-- 139892135233616 -->\n<g id=\"node3\" class=\"node\">\n<title>139892135233616</title>\n<polygon fill=\"none\" stroke=\"black\" points=\"1071,-109.5 1071,-145.5 1256,-145.5 1256,-109.5 1071,-109.5\"/>\n<text text-anchor=\"middle\" x=\"1082.5\" y=\"-123.8\" font-family=\"Times,serif\" font-size=\"14.00\">n</text>\n<polyline fill=\"none\" stroke=\"black\" points=\"1094,-109.5 1094,-145.5 \"/>\n<text text-anchor=\"middle\" x=\"1134\" y=\"-123.8\" font-family=\"Times,serif\" font-size=\"14.00\">data 0.8814</text>\n<polyline fill=\"none\" stroke=\"black\" points=\"1174,-109.5 1174,-145.5 \"/>\n<text text-anchor=\"middle\" x=\"1215\" y=\"-123.8\" font-family=\"Times,serif\" font-size=\"14.00\">grad 1.0000</text>\n</g>\n<!-- 139892135242640tanh -->\n<g id=\"node12\" class=\"node\">\n<title>139892135242640tanh</title>\n<ellipse fill=\"none\" stroke=\"black\" cx=\"1319\" cy=\"-127.5\" rx=\"27\" ry=\"18\"/>\n<text text-anchor=\"middle\" x=\"1319\" y=\"-123.8\" font-family=\"Times,serif\" font-size=\"14.00\">tanh</text>\n</g>\n<!-- 139892135233616&#45;&gt;139892135242640tanh -->\n<g id=\"edge6\" class=\"edge\">\n<title>139892135233616&#45;&gt;139892135242640tanh</title>\n<path fill=\"none\" stroke=\"black\" d=\"M1256.01,-127.5C1265.01,-127.5 1273.74,-127.5 1281.66,-127.5\"/>\n<polygon fill=\"black\" stroke=\"black\" points=\"1281.91,-131 1291.91,-127.5 1281.91,-124 1281.91,-131\"/>\n</g>\n<!-- 139892135233616+ -->\n<g id=\"node4\" class=\"node\">\n<title>139892135233616+</title>\n<ellipse fill=\"none\" stroke=\"black\" cx=\"1008\" cy=\"-127.5\" rx=\"27\" ry=\"18\"/>\n<text text-anchor=\"middle\" x=\"1008\" y=\"-123.8\" font-family=\"Times,serif\" font-size=\"14.00\">+</text>\n</g>\n<!-- 139892135233616+&#45;&gt;139892135233616 -->\n<g id=\"edge2\" class=\"edge\">\n<title>139892135233616+&#45;&gt;139892135233616</title>\n<path fill=\"none\" stroke=\"black\" d=\"M1035.04,-127.5C1042.58,-127.5 1051.3,-127.5 1060.57,-127.5\"/>\n<polygon fill=\"black\" stroke=\"black\" points=\"1060.81,-131 1070.81,-127.5 1060.81,-124 1060.81,-131\"/>\n</g>\n<!-- 139892135236736 -->\n<g id=\"node5\" class=\"node\">\n<title>139892135236736</title>\n<polygon fill=\"none\" stroke=\"black\" points=\"326,-110.5 326,-146.5 546,-146.5 546,-110.5 326,-110.5\"/>\n<text text-anchor=\"middle\" x=\"352.5\" y=\"-124.8\" font-family=\"Times,serif\" font-size=\"14.00\">x1*w1</text>\n<polyline fill=\"none\" stroke=\"black\" points=\"379,-110.5 379,-146.5 \"/>\n<text text-anchor=\"middle\" x=\"421.5\" y=\"-124.8\" font-family=\"Times,serif\" font-size=\"14.00\">data &#45;6.0000</text>\n<polyline fill=\"none\" stroke=\"black\" points=\"464,-110.5 464,-146.5 \"/>\n<text text-anchor=\"middle\" x=\"505\" y=\"-124.8\" font-family=\"Times,serif\" font-size=\"14.00\">grad 0.5000</text>\n</g>\n<!-- 139892135236736&#45;&gt;139892135238080+ -->\n<g id=\"edge11\" class=\"edge\">\n<title>139892135236736&#45;&gt;139892135238080+</title>\n<path fill=\"none\" stroke=\"black\" d=\"M546.27,-110.61C555.64,-109.07 564.6,-107.61 572.65,-106.29\"/>\n<polygon fill=\"black\" stroke=\"black\" points=\"573.35,-109.72 582.65,-104.65 572.22,-102.81 573.35,-109.72\"/>\n</g>\n<!-- 139892135236736* -->\n<g id=\"node6\" class=\"node\">\n<title>139892135236736*</title>\n<ellipse fill=\"none\" stroke=\"black\" cx=\"263\" cy=\"-128.5\" rx=\"27\" ry=\"18\"/>\n<text text-anchor=\"middle\" x=\"263\" y=\"-124.8\" font-family=\"Times,serif\" font-size=\"14.00\">*</text>\n</g>\n<!-- 139892135236736*&#45;&gt;139892135236736 -->\n<g id=\"edge3\" class=\"edge\">\n<title>139892135236736*&#45;&gt;139892135236736</title>\n<path fill=\"none\" stroke=\"black\" d=\"M290.34,-128.5C297.77,-128.5 306.37,-128.5 315.6,-128.5\"/>\n<polygon fill=\"black\" stroke=\"black\" points=\"315.84,-132 325.84,-128.5 315.84,-125 315.84,-132\"/>\n</g>\n<!-- 139892135233232 -->\n<g id=\"node7\" class=\"node\">\n<title>139892135233232</title>\n<polygon fill=\"none\" stroke=\"black\" points=\"0,-165.5 0,-201.5 200,-201.5 200,-165.5 0,-165.5\"/>\n<text text-anchor=\"middle\" x=\"16.5\" y=\"-179.8\" font-family=\"Times,serif\" font-size=\"14.00\">w1</text>\n<polyline fill=\"none\" stroke=\"black\" points=\"33,-165.5 33,-201.5 \"/>\n<text text-anchor=\"middle\" x=\"75.5\" y=\"-179.8\" font-family=\"Times,serif\" font-size=\"14.00\">data &#45;3.0000</text>\n<polyline fill=\"none\" stroke=\"black\" points=\"118,-165.5 118,-201.5 \"/>\n<text text-anchor=\"middle\" x=\"159\" y=\"-179.8\" font-family=\"Times,serif\" font-size=\"14.00\">grad 1.0000</text>\n</g>\n<!-- 139892135233232&#45;&gt;139892135236736* -->\n<g id=\"edge13\" class=\"edge\">\n<title>139892135233232&#45;&gt;139892135236736*</title>\n<path fill=\"none\" stroke=\"black\" d=\"M172.53,-165.44C181.84,-162.67 191.2,-159.67 200,-156.5 210.53,-152.71 221.75,-147.9 231.72,-143.33\"/>\n<polygon fill=\"black\" stroke=\"black\" points=\"233.25,-146.48 240.82,-139.07 230.28,-140.14 233.25,-146.48\"/>\n</g>\n<!-- 139892135233376 -->\n<g id=\"node8\" class=\"node\">\n<title>139892135233376</title>\n<polygon fill=\"none\" stroke=\"black\" points=\"2.5,-55.5 2.5,-91.5 197.5,-91.5 197.5,-55.5 2.5,-55.5\"/>\n<text text-anchor=\"middle\" x=\"19\" y=\"-69.8\" font-family=\"Times,serif\" font-size=\"14.00\">w2</text>\n<polyline fill=\"none\" stroke=\"black\" points=\"35.5,-55.5 35.5,-91.5 \"/>\n<text text-anchor=\"middle\" x=\"75.5\" y=\"-69.8\" font-family=\"Times,serif\" font-size=\"14.00\">data 1.0000</text>\n<polyline fill=\"none\" stroke=\"black\" points=\"115.5,-55.5 115.5,-91.5 \"/>\n<text text-anchor=\"middle\" x=\"156.5\" y=\"-69.8\" font-family=\"Times,serif\" font-size=\"14.00\">grad 0.0000</text>\n</g>\n<!-- 139892135233376&#45;&gt;139892135239184* -->\n<g id=\"edge7\" class=\"edge\">\n<title>139892135233376&#45;&gt;139892135239184*</title>\n<path fill=\"none\" stroke=\"black\" d=\"M197.91,-73.5C207.65,-73.5 217.05,-73.5 225.52,-73.5\"/>\n<polygon fill=\"black\" stroke=\"black\" points=\"225.7,-77 235.7,-73.5 225.7,-70 225.7,-77\"/>\n</g>\n<!-- 139892135231840 -->\n<g id=\"node9\" class=\"node\">\n<title>139892135231840</title>\n<polygon fill=\"none\" stroke=\"black\" points=\"4,-0.5 4,-36.5 196,-36.5 196,-0.5 4,-0.5\"/>\n<text text-anchor=\"middle\" x=\"19\" y=\"-14.8\" font-family=\"Times,serif\" font-size=\"14.00\">x2</text>\n<polyline fill=\"none\" stroke=\"black\" points=\"34,-0.5 34,-36.5 \"/>\n<text text-anchor=\"middle\" x=\"74\" y=\"-14.8\" font-family=\"Times,serif\" font-size=\"14.00\">data 0.0000</text>\n<polyline fill=\"none\" stroke=\"black\" points=\"114,-0.5 114,-36.5 \"/>\n<text text-anchor=\"middle\" x=\"155\" y=\"-14.8\" font-family=\"Times,serif\" font-size=\"14.00\">grad 0.5000</text>\n</g>\n<!-- 139892135231840&#45;&gt;139892135239184* -->\n<g id=\"edge9\" class=\"edge\">\n<title>139892135231840&#45;&gt;139892135239184*</title>\n<path fill=\"none\" stroke=\"black\" d=\"M169.28,-36.5C179.65,-39.61 190.16,-42.98 200,-46.5 210.28,-50.17 221.28,-54.74 231.11,-59.07\"/>\n<polygon fill=\"black\" stroke=\"black\" points=\"229.93,-62.37 240.48,-63.27 232.79,-55.99 229.93,-62.37\"/>\n</g>\n<!-- 139892135239520 -->\n<g id=\"node10\" class=\"node\">\n<title>139892135239520</title>\n<polygon fill=\"none\" stroke=\"black\" points=\"716,-137.5 716,-173.5 901,-173.5 901,-137.5 716,-137.5\"/>\n<text text-anchor=\"middle\" x=\"727.5\" y=\"-151.8\" font-family=\"Times,serif\" font-size=\"14.00\">b</text>\n<polyline fill=\"none\" stroke=\"black\" points=\"739,-137.5 739,-173.5 \"/>\n<text text-anchor=\"middle\" x=\"779\" y=\"-151.8\" font-family=\"Times,serif\" font-size=\"14.00\">data 6.8814</text>\n<polyline fill=\"none\" stroke=\"black\" points=\"819,-137.5 819,-173.5 \"/>\n<text text-anchor=\"middle\" x=\"860\" y=\"-151.8\" font-family=\"Times,serif\" font-size=\"14.00\">grad 0.5000</text>\n</g>\n<!-- 139892135239520&#45;&gt;139892135233616+ -->\n<g id=\"edge10\" class=\"edge\">\n<title>139892135239520&#45;&gt;139892135233616+</title>\n<path fill=\"none\" stroke=\"black\" d=\"M901.02,-142.52C926,-138.98 951.59,-135.36 971.37,-132.55\"/>\n<polygon fill=\"black\" stroke=\"black\" points=\"972.03,-135.99 981.43,-131.12 971.04,-129.06 972.03,-135.99\"/>\n</g>\n<!-- 139892135242640 -->\n<g id=\"node11\" class=\"node\">\n<title>139892135242640</title>\n<polygon fill=\"none\" stroke=\"black\" points=\"1382,-109.5 1382,-145.5 1567,-145.5 1567,-109.5 1382,-109.5\"/>\n<text text-anchor=\"middle\" x=\"1393.5\" y=\"-123.8\" font-family=\"Times,serif\" font-size=\"14.00\">o</text>\n<polyline fill=\"none\" stroke=\"black\" points=\"1405,-109.5 1405,-145.5 \"/>\n<text text-anchor=\"middle\" x=\"1445\" y=\"-123.8\" font-family=\"Times,serif\" font-size=\"14.00\">data 0.7071</text>\n<polyline fill=\"none\" stroke=\"black\" points=\"1485,-109.5 1485,-145.5 \"/>\n<text text-anchor=\"middle\" x=\"1526\" y=\"-123.8\" font-family=\"Times,serif\" font-size=\"14.00\">grad 1.0000</text>\n</g>\n<!-- 139892135242640tanh&#45;&gt;139892135242640 -->\n<g id=\"edge4\" class=\"edge\">\n<title>139892135242640tanh&#45;&gt;139892135242640</title>\n<path fill=\"none\" stroke=\"black\" d=\"M1346.04,-127.5C1353.58,-127.5 1362.3,-127.5 1371.57,-127.5\"/>\n<polygon fill=\"black\" stroke=\"black\" points=\"1371.81,-131 1381.81,-127.5 1371.81,-124 1371.81,-131\"/>\n</g>\n<!-- 139892135236016 -->\n<g id=\"node13\" class=\"node\">\n<title>139892135236016</title>\n<polygon fill=\"none\" stroke=\"black\" points=\"2,-110.5 2,-146.5 198,-146.5 198,-110.5 2,-110.5\"/>\n<text text-anchor=\"middle\" x=\"17\" y=\"-124.8\" font-family=\"Times,serif\" font-size=\"14.00\">x1</text>\n<polyline fill=\"none\" stroke=\"black\" points=\"32,-110.5 32,-146.5 \"/>\n<text text-anchor=\"middle\" x=\"72\" y=\"-124.8\" font-family=\"Times,serif\" font-size=\"14.00\">data 2.0000</text>\n<polyline fill=\"none\" stroke=\"black\" points=\"112,-110.5 112,-146.5 \"/>\n<text text-anchor=\"middle\" x=\"155\" y=\"-124.8\" font-family=\"Times,serif\" font-size=\"14.00\">grad &#45;1.5000</text>\n</g>\n<!-- 139892135236016&#45;&gt;139892135236736* -->\n<g id=\"edge14\" class=\"edge\">\n<title>139892135236016&#45;&gt;139892135236736*</title>\n<path fill=\"none\" stroke=\"black\" d=\"M198.37,-128.5C208.05,-128.5 217.4,-128.5 225.8,-128.5\"/>\n<polygon fill=\"black\" stroke=\"black\" points=\"225.91,-132 235.91,-128.5 225.91,-125 225.91,-132\"/>\n</g>\n<!-- 139892135238080 -->\n<g id=\"node14\" class=\"node\">\n<title>139892135238080</title>\n<polygon fill=\"none\" stroke=\"black\" points=\"672,-82.5 672,-118.5 945,-118.5 945,-82.5 672,-82.5\"/>\n<text text-anchor=\"middle\" x=\"725\" y=\"-96.8\" font-family=\"Times,serif\" font-size=\"14.00\">x1*w1 + x2*w2</text>\n<polyline fill=\"none\" stroke=\"black\" points=\"778,-82.5 778,-118.5 \"/>\n<text text-anchor=\"middle\" x=\"820.5\" y=\"-96.8\" font-family=\"Times,serif\" font-size=\"14.00\">data &#45;6.0000</text>\n<polyline fill=\"none\" stroke=\"black\" points=\"863,-82.5 863,-118.5 \"/>\n<text text-anchor=\"middle\" x=\"904\" y=\"-96.8\" font-family=\"Times,serif\" font-size=\"14.00\">grad 0.5000</text>\n</g>\n<!-- 139892135238080&#45;&gt;139892135233616+ -->\n<g id=\"edge8\" class=\"edge\">\n<title>139892135238080&#45;&gt;139892135233616+</title>\n<path fill=\"none\" stroke=\"black\" d=\"M941.24,-118.51C952.12,-120 962.4,-121.4 971.45,-122.64\"/>\n<polygon fill=\"black\" stroke=\"black\" points=\"971.11,-126.13 981.49,-124.01 972.05,-119.19 971.11,-126.13\"/>\n</g>\n<!-- 139892135238080+&#45;&gt;139892135238080 -->\n<g id=\"edge5\" class=\"edge\">\n<title>139892135238080+&#45;&gt;139892135238080</title>\n<path fill=\"none\" stroke=\"black\" d=\"M636.23,-100.5C643.7,-100.5 652.41,-100.5 661.87,-100.5\"/>\n<polygon fill=\"black\" stroke=\"black\" points=\"661.98,-104 671.98,-100.5 661.98,-97 661.98,-104\"/>\n</g>\n</g>\n</svg>\n",
      "text/plain": [
       "<graphviz.graphs.Digraph at 0x7f3b430214e0>"
      ]
     },
     "execution_count": 51,
     "metadata": {},
     "output_type": "execute_result"
    }
   ],
   "source": [
    "draw_dot(o)"
   ]
  },
  {
   "cell_type": "markdown",
   "metadata": {},
   "source": [
    "# Fixing a backprop bug when one node is used multiple times"
   ]
  },
  {
   "cell_type": "code",
   "execution_count": 52,
   "metadata": {},
   "outputs": [
    {
     "data": {
      "image/svg+xml": "<?xml version=\"1.0\" encoding=\"UTF-8\" standalone=\"no\"?>\n<!DOCTYPE svg PUBLIC \"-//W3C//DTD SVG 1.1//EN\"\n \"http://www.w3.org/Graphics/SVG/1.1/DTD/svg11.dtd\">\n<!-- Generated by graphviz version 2.50.0 (0)\n -->\n<!-- Pages: 1 -->\n<svg width=\"504pt\" height=\"45pt\"\n viewBox=\"0.00 0.00 504.00 45.00\" xmlns=\"http://www.w3.org/2000/svg\" xmlns:xlink=\"http://www.w3.org/1999/xlink\">\n<g id=\"graph0\" class=\"graph\" transform=\"scale(1 1) rotate(0) translate(4 41)\">\n<polygon fill=\"white\" stroke=\"transparent\" points=\"-4,4 -4,-41 500,-41 500,4 -4,4\"/>\n<!-- 139892135236880 -->\n<g id=\"node1\" class=\"node\">\n<title>139892135236880</title>\n<polygon fill=\"none\" stroke=\"black\" points=\"311,-0.5 311,-36.5 496,-36.5 496,-0.5 311,-0.5\"/>\n<text text-anchor=\"middle\" x=\"322.5\" y=\"-14.8\" font-family=\"Times,serif\" font-size=\"14.00\">b</text>\n<polyline fill=\"none\" stroke=\"black\" points=\"334,-0.5 334,-36.5 \"/>\n<text text-anchor=\"middle\" x=\"374\" y=\"-14.8\" font-family=\"Times,serif\" font-size=\"14.00\">data 6.0000</text>\n<polyline fill=\"none\" stroke=\"black\" points=\"414,-0.5 414,-36.5 \"/>\n<text text-anchor=\"middle\" x=\"455\" y=\"-14.8\" font-family=\"Times,serif\" font-size=\"14.00\">grad 1.0000</text>\n</g>\n<!-- 139892135236880+ -->\n<g id=\"node2\" class=\"node\">\n<title>139892135236880+</title>\n<ellipse fill=\"none\" stroke=\"black\" cx=\"248\" cy=\"-18.5\" rx=\"27\" ry=\"18\"/>\n<text text-anchor=\"middle\" x=\"248\" y=\"-14.8\" font-family=\"Times,serif\" font-size=\"14.00\">+</text>\n</g>\n<!-- 139892135236880+&#45;&gt;139892135236880 -->\n<g id=\"edge1\" class=\"edge\">\n<title>139892135236880+&#45;&gt;139892135236880</title>\n<path fill=\"none\" stroke=\"black\" d=\"M275.04,-18.5C282.58,-18.5 291.3,-18.5 300.57,-18.5\"/>\n<polygon fill=\"black\" stroke=\"black\" points=\"300.81,-22 310.81,-18.5 300.81,-15 300.81,-22\"/>\n</g>\n<!-- 139892136989008 -->\n<g id=\"node3\" class=\"node\">\n<title>139892136989008</title>\n<polygon fill=\"none\" stroke=\"black\" points=\"0,-0.5 0,-36.5 185,-36.5 185,-0.5 0,-0.5\"/>\n<text text-anchor=\"middle\" x=\"11.5\" y=\"-14.8\" font-family=\"Times,serif\" font-size=\"14.00\">a</text>\n<polyline fill=\"none\" stroke=\"black\" points=\"23,-0.5 23,-36.5 \"/>\n<text text-anchor=\"middle\" x=\"63\" y=\"-14.8\" font-family=\"Times,serif\" font-size=\"14.00\">data 3.0000</text>\n<polyline fill=\"none\" stroke=\"black\" points=\"103,-0.5 103,-36.5 \"/>\n<text text-anchor=\"middle\" x=\"144\" y=\"-14.8\" font-family=\"Times,serif\" font-size=\"14.00\">grad 2.0000</text>\n</g>\n<!-- 139892136989008&#45;&gt;139892135236880+ -->\n<g id=\"edge2\" class=\"edge\">\n<title>139892136989008&#45;&gt;139892135236880+</title>\n<path fill=\"none\" stroke=\"black\" d=\"M185.01,-18.5C194.01,-18.5 202.74,-18.5 210.66,-18.5\"/>\n<polygon fill=\"black\" stroke=\"black\" points=\"210.91,-22 220.91,-18.5 210.91,-15 210.91,-22\"/>\n</g>\n</g>\n</svg>\n",
      "text/plain": [
       "<graphviz.graphs.Digraph at 0x7f3b2dab3610>"
      ]
     },
     "execution_count": 52,
     "metadata": {},
     "output_type": "execute_result"
    }
   ],
   "source": [
    "a = Value(3.0, label='a')\n",
    "b = a + a   ; b.label = 'b'\n",
    "b.backward()\n",
    "draw_dot(b)"
   ]
  },
  {
   "cell_type": "code",
   "execution_count": 53,
   "metadata": {},
   "outputs": [
    {
     "data": {
      "image/svg+xml": "<?xml version=\"1.0\" encoding=\"UTF-8\" standalone=\"no\"?>\n<!DOCTYPE svg PUBLIC \"-//W3C//DTD SVG 1.1//EN\"\n \"http://www.w3.org/Graphics/SVG/1.1/DTD/svg11.dtd\">\n<!-- Generated by graphviz version 2.50.0 (0)\n -->\n<!-- Pages: 1 -->\n<svg width=\"832pt\" height=\"100pt\"\n viewBox=\"0.00 0.00 832.00 100.00\" xmlns=\"http://www.w3.org/2000/svg\" xmlns:xlink=\"http://www.w3.org/1999/xlink\">\n<g id=\"graph0\" class=\"graph\" transform=\"scale(1 1) rotate(0) translate(4 96)\">\n<polygon fill=\"white\" stroke=\"transparent\" points=\"-4,4 -4,-96 828,-96 828,4 -4,4\"/>\n<!-- 139892504006656 -->\n<g id=\"node1\" class=\"node\">\n<title>139892504006656</title>\n<polygon fill=\"none\" stroke=\"black\" points=\"0,-55.5 0,-91.5 194,-91.5 194,-55.5 0,-55.5\"/>\n<text text-anchor=\"middle\" x=\"11.5\" y=\"-69.8\" font-family=\"Times,serif\" font-size=\"14.00\">a</text>\n<polyline fill=\"none\" stroke=\"black\" points=\"23,-55.5 23,-91.5 \"/>\n<text text-anchor=\"middle\" x=\"65.5\" y=\"-69.8\" font-family=\"Times,serif\" font-size=\"14.00\">data &#45;2.0000</text>\n<polyline fill=\"none\" stroke=\"black\" points=\"108,-55.5 108,-91.5 \"/>\n<text text-anchor=\"middle\" x=\"151\" y=\"-69.8\" font-family=\"Times,serif\" font-size=\"14.00\">grad &#45;3.0000</text>\n</g>\n<!-- 139892135237936+ -->\n<g id=\"node6\" class=\"node\">\n<title>139892135237936+</title>\n<ellipse fill=\"none\" stroke=\"black\" cx=\"257\" cy=\"-73.5\" rx=\"27\" ry=\"18\"/>\n<text text-anchor=\"middle\" x=\"257\" y=\"-69.8\" font-family=\"Times,serif\" font-size=\"14.00\">+</text>\n</g>\n<!-- 139892504006656&#45;&gt;139892135237936+ -->\n<g id=\"edge8\" class=\"edge\">\n<title>139892504006656&#45;&gt;139892135237936+</title>\n<path fill=\"none\" stroke=\"black\" d=\"M194.01,-73.5C202.98,-73.5 211.65,-73.5 219.51,-73.5\"/>\n<polygon fill=\"black\" stroke=\"black\" points=\"219.7,-77 229.7,-73.5 219.7,-70 219.7,-77\"/>\n</g>\n<!-- 139892135246192* -->\n<g id=\"node8\" class=\"node\">\n<title>139892135246192*</title>\n<ellipse fill=\"none\" stroke=\"black\" cx=\"257\" cy=\"-18.5\" rx=\"27\" ry=\"18\"/>\n<text text-anchor=\"middle\" x=\"257\" y=\"-14.8\" font-family=\"Times,serif\" font-size=\"14.00\">*</text>\n</g>\n<!-- 139892504006656&#45;&gt;139892135246192* -->\n<g id=\"edge4\" class=\"edge\">\n<title>139892504006656&#45;&gt;139892135246192*</title>\n<path fill=\"none\" stroke=\"black\" d=\"M166.84,-55.49C176.04,-52.69 185.3,-49.67 194,-46.5 204.51,-42.67 215.73,-37.84 225.7,-33.28\"/>\n<polygon fill=\"black\" stroke=\"black\" points=\"227.23,-36.43 234.81,-29.02 224.27,-30.09 227.23,-36.43\"/>\n</g>\n<!-- 139892136999040 -->\n<g id=\"node2\" class=\"node\">\n<title>139892136999040</title>\n<polygon fill=\"none\" stroke=\"black\" points=\"2.5,-0.5 2.5,-36.5 191.5,-36.5 191.5,-0.5 2.5,-0.5\"/>\n<text text-anchor=\"middle\" x=\"14\" y=\"-14.8\" font-family=\"Times,serif\" font-size=\"14.00\">b</text>\n<polyline fill=\"none\" stroke=\"black\" points=\"25.5,-0.5 25.5,-36.5 \"/>\n<text text-anchor=\"middle\" x=\"65.5\" y=\"-14.8\" font-family=\"Times,serif\" font-size=\"14.00\">data 3.0000</text>\n<polyline fill=\"none\" stroke=\"black\" points=\"105.5,-0.5 105.5,-36.5 \"/>\n<text text-anchor=\"middle\" x=\"148.5\" y=\"-14.8\" font-family=\"Times,serif\" font-size=\"14.00\">grad &#45;8.0000</text>\n</g>\n<!-- 139892136999040&#45;&gt;139892135237936+ -->\n<g id=\"edge5\" class=\"edge\">\n<title>139892136999040&#45;&gt;139892135237936+</title>\n<path fill=\"none\" stroke=\"black\" d=\"M163.94,-36.53C174.08,-39.65 184.37,-43.01 194,-46.5 204.27,-50.22 215.26,-54.8 225.09,-59.12\"/>\n<polygon fill=\"black\" stroke=\"black\" points=\"223.91,-62.43 234.47,-63.32 226.77,-56.04 223.91,-62.43\"/>\n</g>\n<!-- 139892136999040&#45;&gt;139892135246192* -->\n<g id=\"edge9\" class=\"edge\">\n<title>139892136999040&#45;&gt;139892135246192*</title>\n<path fill=\"none\" stroke=\"black\" d=\"M191.74,-18.5C201.55,-18.5 211.04,-18.5 219.59,-18.5\"/>\n<polygon fill=\"black\" stroke=\"black\" points=\"219.87,-22 229.87,-18.5 219.87,-15 219.87,-22\"/>\n</g>\n<!-- 139892135240912 -->\n<g id=\"node3\" class=\"node\">\n<title>139892135240912</title>\n<polygon fill=\"none\" stroke=\"black\" points=\"636,-27.5 636,-63.5 824,-63.5 824,-27.5 636,-27.5\"/>\n<text text-anchor=\"middle\" x=\"646.5\" y=\"-41.8\" font-family=\"Times,serif\" font-size=\"14.00\">f</text>\n<polyline fill=\"none\" stroke=\"black\" points=\"657,-27.5 657,-63.5 \"/>\n<text text-anchor=\"middle\" x=\"699.5\" y=\"-41.8\" font-family=\"Times,serif\" font-size=\"14.00\">data &#45;6.0000</text>\n<polyline fill=\"none\" stroke=\"black\" points=\"742,-27.5 742,-63.5 \"/>\n<text text-anchor=\"middle\" x=\"783\" y=\"-41.8\" font-family=\"Times,serif\" font-size=\"14.00\">grad 1.0000</text>\n</g>\n<!-- 139892135240912* -->\n<g id=\"node4\" class=\"node\">\n<title>139892135240912*</title>\n<ellipse fill=\"none\" stroke=\"black\" cx=\"573\" cy=\"-45.5\" rx=\"27\" ry=\"18\"/>\n<text text-anchor=\"middle\" x=\"573\" y=\"-41.8\" font-family=\"Times,serif\" font-size=\"14.00\">*</text>\n</g>\n<!-- 139892135240912*&#45;&gt;139892135240912 -->\n<g id=\"edge1\" class=\"edge\">\n<title>139892135240912*&#45;&gt;139892135240912</title>\n<path fill=\"none\" stroke=\"black\" d=\"M600.29,-45.5C607.78,-45.5 616.42,-45.5 625.6,-45.5\"/>\n<polygon fill=\"black\" stroke=\"black\" points=\"625.76,-49 635.76,-45.5 625.76,-42 625.76,-49\"/>\n</g>\n<!-- 139892135237936 -->\n<g id=\"node5\" class=\"node\">\n<title>139892135237936</title>\n<polygon fill=\"none\" stroke=\"black\" points=\"320.5,-55.5 320.5,-91.5 509.5,-91.5 509.5,-55.5 320.5,-55.5\"/>\n<text text-anchor=\"middle\" x=\"332\" y=\"-69.8\" font-family=\"Times,serif\" font-size=\"14.00\">e</text>\n<polyline fill=\"none\" stroke=\"black\" points=\"343.5,-55.5 343.5,-91.5 \"/>\n<text text-anchor=\"middle\" x=\"383.5\" y=\"-69.8\" font-family=\"Times,serif\" font-size=\"14.00\">data 1.0000</text>\n<polyline fill=\"none\" stroke=\"black\" points=\"423.5,-55.5 423.5,-91.5 \"/>\n<text text-anchor=\"middle\" x=\"466.5\" y=\"-69.8\" font-family=\"Times,serif\" font-size=\"14.00\">grad &#45;6.0000</text>\n</g>\n<!-- 139892135237936&#45;&gt;139892135240912* -->\n<g id=\"edge7\" class=\"edge\">\n<title>139892135237936&#45;&gt;139892135240912*</title>\n<path fill=\"none\" stroke=\"black\" d=\"M509.9,-56.65C519.42,-54.94 528.62,-53.29 536.89,-51.8\"/>\n<polygon fill=\"black\" stroke=\"black\" points=\"537.59,-55.23 546.81,-50.02 536.35,-48.34 537.59,-55.23\"/>\n</g>\n<!-- 139892135237936+&#45;&gt;139892135237936 -->\n<g id=\"edge2\" class=\"edge\">\n<title>139892135237936+&#45;&gt;139892135237936</title>\n<path fill=\"none\" stroke=\"black\" d=\"M284.11,-73.5C291.84,-73.5 300.8,-73.5 310.35,-73.5\"/>\n<polygon fill=\"black\" stroke=\"black\" points=\"310.48,-77 320.48,-73.5 310.48,-70 310.48,-77\"/>\n</g>\n<!-- 139892135246192 -->\n<g id=\"node7\" class=\"node\">\n<title>139892135246192</title>\n<polygon fill=\"none\" stroke=\"black\" points=\"320,-0.5 320,-36.5 510,-36.5 510,-0.5 320,-0.5\"/>\n<text text-anchor=\"middle\" x=\"331.5\" y=\"-14.8\" font-family=\"Times,serif\" font-size=\"14.00\">d</text>\n<polyline fill=\"none\" stroke=\"black\" points=\"343,-0.5 343,-36.5 \"/>\n<text text-anchor=\"middle\" x=\"385.5\" y=\"-14.8\" font-family=\"Times,serif\" font-size=\"14.00\">data &#45;6.0000</text>\n<polyline fill=\"none\" stroke=\"black\" points=\"428,-0.5 428,-36.5 \"/>\n<text text-anchor=\"middle\" x=\"469\" y=\"-14.8\" font-family=\"Times,serif\" font-size=\"14.00\">grad 1.0000</text>\n</g>\n<!-- 139892135246192&#45;&gt;139892135240912* -->\n<g id=\"edge6\" class=\"edge\">\n<title>139892135246192&#45;&gt;139892135240912*</title>\n<path fill=\"none\" stroke=\"black\" d=\"M510.34,-34.83C519.62,-36.44 528.58,-37.99 536.66,-39.38\"/>\n<polygon fill=\"black\" stroke=\"black\" points=\"536.27,-42.87 546.72,-41.12 537.46,-35.97 536.27,-42.87\"/>\n</g>\n<!-- 139892135246192*&#45;&gt;139892135246192 -->\n<g id=\"edge3\" class=\"edge\">\n<title>139892135246192*&#45;&gt;139892135246192</title>\n<path fill=\"none\" stroke=\"black\" d=\"M284.11,-18.5C291.63,-18.5 300.32,-18.5 309.58,-18.5\"/>\n<polygon fill=\"black\" stroke=\"black\" points=\"309.81,-22 319.81,-18.5 309.81,-15 309.81,-22\"/>\n</g>\n</g>\n</svg>\n",
      "text/plain": [
       "<graphviz.graphs.Digraph at 0x7f3b43020eb0>"
      ]
     },
     "execution_count": 53,
     "metadata": {},
     "output_type": "execute_result"
    }
   ],
   "source": [
    "a = Value(-2.0, label='a')\n",
    "b = Value(3.0, label='b')\n",
    "d = a * b    ; d.label = 'd'\n",
    "e = a + b    ; e.label = 'e'\n",
    "f = d * e    ; f.label = 'f'\n",
    "\n",
    "f.backward()\n",
    "\n",
    "draw_dot(f)"
   ]
  },
  {
   "cell_type": "markdown",
   "metadata": {},
   "source": [
    "# Breaking up a tanh, exercising with more operations"
   ]
  },
  {
   "cell_type": "code",
   "execution_count": 54,
   "metadata": {},
   "outputs": [],
   "source": [
    "class Value:\n",
    "  \n",
    "  def __init__(self, data, _children=(), _op='', label=''):\n",
    "    self.data = data\n",
    "    self.grad = 0.0\n",
    "    self._backward = lambda: None\n",
    "    self._prev = set(_children)\n",
    "    self._op = _op\n",
    "    self.label = label\n",
    "\n",
    "  def __repr__(self):\n",
    "    return f\"Value(data={self.data})\"\n",
    "  \n",
    "  def __add__(self, other):\n",
    "    other = other if isinstance(other, Value) else Value(other)\n",
    "    out = Value(self.data + other.data, (self, other), '+')\n",
    "    \n",
    "    def _backward():\n",
    "      self.grad += 1.0 * out.grad\n",
    "      other.grad += 1.0 * out.grad\n",
    "    out._backward = _backward\n",
    "    \n",
    "    return out\n",
    "\n",
    "  def __mul__(self, other):\n",
    "    other = other if isinstance(other, Value) else Value(other)\n",
    "    out = Value(self.data * other.data, (self, other), '*')\n",
    "    \n",
    "    def _backward():\n",
    "      self.grad += other.data * out.grad\n",
    "      other.grad += self.data * out.grad\n",
    "    out._backward = _backward\n",
    "      \n",
    "    return out\n",
    "  \n",
    "  def __pow__(self, other):\n",
    "    assert isinstance(other, (int, float)), \"only supporting int/float powers for now\"\n",
    "    out = Value(self.data**other, (self,), f'**{other}')\n",
    "\n",
    "    def _backward():\n",
    "        self.grad += other * (self.data ** (other - 1)) * out.grad\n",
    "    out._backward = _backward\n",
    "\n",
    "    return out\n",
    "  \n",
    "  def __rmul__(self, other): # other * self\n",
    "    return self * other\n",
    "\n",
    "  def __truediv__(self, other): # self / other\n",
    "    return self * other**-1\n",
    "\n",
    "  def __neg__(self): # -self\n",
    "    return self * -1\n",
    "\n",
    "  def __sub__(self, other): # self - other\n",
    "    return self + (-other)\n",
    "\n",
    "  def __radd__(self, other): # other + self\n",
    "    return self + other\n",
    "\n",
    "  def tanh(self):\n",
    "    x = self.data\n",
    "    t = (math.exp(2*x) - 1)/(math.exp(2*x) + 1)\n",
    "    out = Value(t, (self, ), 'tanh')\n",
    "    \n",
    "    def _backward():\n",
    "      self.grad += (1 - t**2) * out.grad\n",
    "    out._backward = _backward\n",
    "    \n",
    "    return out\n",
    "  \n",
    "  def exp(self):\n",
    "    x = self.data\n",
    "    out = Value(math.exp(x), (self, ), 'exp')\n",
    "    \n",
    "    def _backward():\n",
    "      self.grad += out.data * out.grad # NOTE: in the video I incorrectly used = instead of +=. Fixed here.\n",
    "    out._backward = _backward\n",
    "    \n",
    "    return out\n",
    "  \n",
    "  \n",
    "  def backward(self):\n",
    "    \n",
    "    topo = []\n",
    "    visited = set()\n",
    "    def build_topo(v):\n",
    "      if v not in visited:\n",
    "        visited.add(v)\n",
    "        for child in v._prev:\n",
    "          build_topo(child)\n",
    "        topo.append(v)\n",
    "    build_topo(self)\n",
    "    \n",
    "    self.grad = 1.0\n",
    "    for node in reversed(topo):\n",
    "      node._backward()\n",
    "\n"
   ]
  },
  {
   "cell_type": "code",
   "execution_count": 55,
   "metadata": {},
   "outputs": [],
   "source": [
    "# inputs x1,x2\n",
    "x1 = Value(2.0, label='x1')\n",
    "x2 = Value(0.0, label='x2')\n",
    "# weights w1,w2\n",
    "w1 = Value(-3.0, label='w1')\n",
    "w2 = Value(1.0, label='w2')\n",
    "# bias of the neuron\n",
    "b = Value(6.8813735870195432, label='b')\n",
    "# x1*w1 + x2*w2 + b\n",
    "x1w1 = x1*w1; x1w1.label = 'x1*w1'\n",
    "x2w2 = x2*w2; x2w2.label = 'x2*w2'\n",
    "x1w1x2w2 = x1w1 + x2w2; x1w1x2w2.label = 'x1*w1 + x2*w2'\n",
    "n = x1w1x2w2 + b; n.label = 'n'\n",
    "o = n.tanh(); o.label = 'o'\n",
    "o.backward()"
   ]
  },
  {
   "cell_type": "code",
   "execution_count": 56,
   "metadata": {},
   "outputs": [
    {
     "data": {
      "image/svg+xml": "<?xml version=\"1.0\" encoding=\"UTF-8\" standalone=\"no\"?>\n<!DOCTYPE svg PUBLIC \"-//W3C//DTD SVG 1.1//EN\"\n \"http://www.w3.org/Graphics/SVG/1.1/DTD/svg11.dtd\">\n<!-- Generated by graphviz version 2.50.0 (0)\n -->\n<!-- Pages: 1 -->\n<svg width=\"1575pt\" height=\"210pt\"\n viewBox=\"0.00 0.00 1575.00 210.00\" xmlns=\"http://www.w3.org/2000/svg\" xmlns:xlink=\"http://www.w3.org/1999/xlink\">\n<g id=\"graph0\" class=\"graph\" transform=\"scale(1 1) rotate(0) translate(4 206)\">\n<polygon fill=\"white\" stroke=\"transparent\" points=\"-4,4 -4,-206 1571,-206 1571,4 -4,4\"/>\n<!-- 139892137160192 -->\n<g id=\"node1\" class=\"node\">\n<title>139892137160192</title>\n<polygon fill=\"none\" stroke=\"black\" points=\"2,-165.5 2,-201.5 198,-201.5 198,-165.5 2,-165.5\"/>\n<text text-anchor=\"middle\" x=\"17\" y=\"-179.8\" font-family=\"Times,serif\" font-size=\"14.00\">x1</text>\n<polyline fill=\"none\" stroke=\"black\" points=\"32,-165.5 32,-201.5 \"/>\n<text text-anchor=\"middle\" x=\"72\" y=\"-179.8\" font-family=\"Times,serif\" font-size=\"14.00\">data 2.0000</text>\n<polyline fill=\"none\" stroke=\"black\" points=\"112,-165.5 112,-201.5 \"/>\n<text text-anchor=\"middle\" x=\"155\" y=\"-179.8\" font-family=\"Times,serif\" font-size=\"14.00\">grad &#45;1.5000</text>\n</g>\n<!-- 139892137163216* -->\n<g id=\"node15\" class=\"node\">\n<title>139892137163216*</title>\n<ellipse fill=\"none\" stroke=\"black\" cx=\"263\" cy=\"-128.5\" rx=\"27\" ry=\"18\"/>\n<text text-anchor=\"middle\" x=\"263\" y=\"-124.8\" font-family=\"Times,serif\" font-size=\"14.00\">*</text>\n</g>\n<!-- 139892137160192&#45;&gt;139892137163216* -->\n<g id=\"edge12\" class=\"edge\">\n<title>139892137160192&#45;&gt;139892137163216*</title>\n<path fill=\"none\" stroke=\"black\" d=\"M172.53,-165.44C181.84,-162.67 191.2,-159.67 200,-156.5 210.53,-152.71 221.75,-147.9 231.72,-143.33\"/>\n<polygon fill=\"black\" stroke=\"black\" points=\"233.25,-146.48 240.82,-139.07 230.28,-140.14 233.25,-146.48\"/>\n</g>\n<!-- 139892135232080 -->\n<g id=\"node2\" class=\"node\">\n<title>139892135232080</title>\n<polygon fill=\"none\" stroke=\"black\" points=\"672,-82.5 672,-118.5 945,-118.5 945,-82.5 672,-82.5\"/>\n<text text-anchor=\"middle\" x=\"725\" y=\"-96.8\" font-family=\"Times,serif\" font-size=\"14.00\">x1*w1 + x2*w2</text>\n<polyline fill=\"none\" stroke=\"black\" points=\"778,-82.5 778,-118.5 \"/>\n<text text-anchor=\"middle\" x=\"820.5\" y=\"-96.8\" font-family=\"Times,serif\" font-size=\"14.00\">data &#45;6.0000</text>\n<polyline fill=\"none\" stroke=\"black\" points=\"863,-82.5 863,-118.5 \"/>\n<text text-anchor=\"middle\" x=\"904\" y=\"-96.8\" font-family=\"Times,serif\" font-size=\"14.00\">grad 0.5000</text>\n</g>\n<!-- 139892135239952+ -->\n<g id=\"node9\" class=\"node\">\n<title>139892135239952+</title>\n<ellipse fill=\"none\" stroke=\"black\" cx=\"1008\" cy=\"-72.5\" rx=\"27\" ry=\"18\"/>\n<text text-anchor=\"middle\" x=\"1008\" y=\"-68.8\" font-family=\"Times,serif\" font-size=\"14.00\">+</text>\n</g>\n<!-- 139892135232080&#45;&gt;139892135239952+ -->\n<g id=\"edge10\" class=\"edge\">\n<title>139892135232080&#45;&gt;139892135239952+</title>\n<path fill=\"none\" stroke=\"black\" d=\"M936.53,-82.49C949.09,-80.71 960.99,-79.02 971.3,-77.56\"/>\n<polygon fill=\"black\" stroke=\"black\" points=\"972.03,-80.99 981.44,-76.12 971.05,-74.06 972.03,-80.99\"/>\n</g>\n<!-- 139892135232080+ -->\n<g id=\"node3\" class=\"node\">\n<title>139892135232080+</title>\n<ellipse fill=\"none\" stroke=\"black\" cx=\"609\" cy=\"-100.5\" rx=\"27\" ry=\"18\"/>\n<text text-anchor=\"middle\" x=\"609\" y=\"-96.8\" font-family=\"Times,serif\" font-size=\"14.00\">+</text>\n</g>\n<!-- 139892135232080+&#45;&gt;139892135232080 -->\n<g id=\"edge1\" class=\"edge\">\n<title>139892135232080+&#45;&gt;139892135232080</title>\n<path fill=\"none\" stroke=\"black\" d=\"M636.23,-100.5C643.7,-100.5 652.41,-100.5 661.87,-100.5\"/>\n<polygon fill=\"black\" stroke=\"black\" points=\"661.98,-104 671.98,-100.5 661.98,-97 661.98,-104\"/>\n</g>\n<!-- 139892137155200 -->\n<g id=\"node4\" class=\"node\">\n<title>139892137155200</title>\n<polygon fill=\"none\" stroke=\"black\" points=\"4,-55.5 4,-91.5 196,-91.5 196,-55.5 4,-55.5\"/>\n<text text-anchor=\"middle\" x=\"19\" y=\"-69.8\" font-family=\"Times,serif\" font-size=\"14.00\">x2</text>\n<polyline fill=\"none\" stroke=\"black\" points=\"34,-55.5 34,-91.5 \"/>\n<text text-anchor=\"middle\" x=\"74\" y=\"-69.8\" font-family=\"Times,serif\" font-size=\"14.00\">data 0.0000</text>\n<polyline fill=\"none\" stroke=\"black\" points=\"114,-55.5 114,-91.5 \"/>\n<text text-anchor=\"middle\" x=\"155\" y=\"-69.8\" font-family=\"Times,serif\" font-size=\"14.00\">grad 0.5000</text>\n</g>\n<!-- 139892135234912* -->\n<g id=\"node13\" class=\"node\">\n<title>139892135234912*</title>\n<ellipse fill=\"none\" stroke=\"black\" cx=\"263\" cy=\"-73.5\" rx=\"27\" ry=\"18\"/>\n<text text-anchor=\"middle\" x=\"263\" y=\"-69.8\" font-family=\"Times,serif\" font-size=\"14.00\">*</text>\n</g>\n<!-- 139892137155200&#45;&gt;139892135234912* -->\n<g id=\"edge8\" class=\"edge\">\n<title>139892137155200&#45;&gt;139892135234912*</title>\n<path fill=\"none\" stroke=\"black\" d=\"M196.05,-73.5C206.52,-73.5 216.65,-73.5 225.71,-73.5\"/>\n<polygon fill=\"black\" stroke=\"black\" points=\"225.79,-77 235.79,-73.5 225.79,-70 225.79,-77\"/>\n</g>\n<!-- 139892137163456 -->\n<g id=\"node5\" class=\"node\">\n<title>139892137163456</title>\n<polygon fill=\"none\" stroke=\"black\" points=\"2.5,-0.5 2.5,-36.5 197.5,-36.5 197.5,-0.5 2.5,-0.5\"/>\n<text text-anchor=\"middle\" x=\"19\" y=\"-14.8\" font-family=\"Times,serif\" font-size=\"14.00\">w2</text>\n<polyline fill=\"none\" stroke=\"black\" points=\"35.5,-0.5 35.5,-36.5 \"/>\n<text text-anchor=\"middle\" x=\"75.5\" y=\"-14.8\" font-family=\"Times,serif\" font-size=\"14.00\">data 1.0000</text>\n<polyline fill=\"none\" stroke=\"black\" points=\"115.5,-0.5 115.5,-36.5 \"/>\n<text text-anchor=\"middle\" x=\"156.5\" y=\"-14.8\" font-family=\"Times,serif\" font-size=\"14.00\">grad 0.0000</text>\n</g>\n<!-- 139892137163456&#45;&gt;139892135234912* -->\n<g id=\"edge9\" class=\"edge\">\n<title>139892137163456&#45;&gt;139892135234912*</title>\n<path fill=\"none\" stroke=\"black\" d=\"M169.28,-36.5C179.65,-39.61 190.16,-42.98 200,-46.5 210.28,-50.17 221.28,-54.74 231.11,-59.07\"/>\n<polygon fill=\"black\" stroke=\"black\" points=\"229.93,-62.37 240.48,-63.27 232.79,-55.99 229.93,-62.37\"/>\n</g>\n<!-- 139892135234768 -->\n<g id=\"node6\" class=\"node\">\n<title>139892135234768</title>\n<polygon fill=\"none\" stroke=\"black\" points=\"1382,-54.5 1382,-90.5 1567,-90.5 1567,-54.5 1382,-54.5\"/>\n<text text-anchor=\"middle\" x=\"1393.5\" y=\"-68.8\" font-family=\"Times,serif\" font-size=\"14.00\">o</text>\n<polyline fill=\"none\" stroke=\"black\" points=\"1405,-54.5 1405,-90.5 \"/>\n<text text-anchor=\"middle\" x=\"1445\" y=\"-68.8\" font-family=\"Times,serif\" font-size=\"14.00\">data 0.7071</text>\n<polyline fill=\"none\" stroke=\"black\" points=\"1485,-54.5 1485,-90.5 \"/>\n<text text-anchor=\"middle\" x=\"1526\" y=\"-68.8\" font-family=\"Times,serif\" font-size=\"14.00\">grad 1.0000</text>\n</g>\n<!-- 139892135234768tanh -->\n<g id=\"node7\" class=\"node\">\n<title>139892135234768tanh</title>\n<ellipse fill=\"none\" stroke=\"black\" cx=\"1319\" cy=\"-72.5\" rx=\"27\" ry=\"18\"/>\n<text text-anchor=\"middle\" x=\"1319\" y=\"-68.8\" font-family=\"Times,serif\" font-size=\"14.00\">tanh</text>\n</g>\n<!-- 139892135234768tanh&#45;&gt;139892135234768 -->\n<g id=\"edge2\" class=\"edge\">\n<title>139892135234768tanh&#45;&gt;139892135234768</title>\n<path fill=\"none\" stroke=\"black\" d=\"M1346.04,-72.5C1353.58,-72.5 1362.3,-72.5 1371.57,-72.5\"/>\n<polygon fill=\"black\" stroke=\"black\" points=\"1371.81,-76 1381.81,-72.5 1371.81,-69 1371.81,-76\"/>\n</g>\n<!-- 139892135239952 -->\n<g id=\"node8\" class=\"node\">\n<title>139892135239952</title>\n<polygon fill=\"none\" stroke=\"black\" points=\"1071,-54.5 1071,-90.5 1256,-90.5 1256,-54.5 1071,-54.5\"/>\n<text text-anchor=\"middle\" x=\"1082.5\" y=\"-68.8\" font-family=\"Times,serif\" font-size=\"14.00\">n</text>\n<polyline fill=\"none\" stroke=\"black\" points=\"1094,-54.5 1094,-90.5 \"/>\n<text text-anchor=\"middle\" x=\"1134\" y=\"-68.8\" font-family=\"Times,serif\" font-size=\"14.00\">data 0.8814</text>\n<polyline fill=\"none\" stroke=\"black\" points=\"1174,-54.5 1174,-90.5 \"/>\n<text text-anchor=\"middle\" x=\"1215\" y=\"-68.8\" font-family=\"Times,serif\" font-size=\"14.00\">grad 0.5000</text>\n</g>\n<!-- 139892135239952&#45;&gt;139892135234768tanh -->\n<g id=\"edge7\" class=\"edge\">\n<title>139892135239952&#45;&gt;139892135234768tanh</title>\n<path fill=\"none\" stroke=\"black\" d=\"M1256.01,-72.5C1265.01,-72.5 1273.74,-72.5 1281.66,-72.5\"/>\n<polygon fill=\"black\" stroke=\"black\" points=\"1281.91,-76 1291.91,-72.5 1281.91,-69 1281.91,-76\"/>\n</g>\n<!-- 139892135239952+&#45;&gt;139892135239952 -->\n<g id=\"edge3\" class=\"edge\">\n<title>139892135239952+&#45;&gt;139892135239952</title>\n<path fill=\"none\" stroke=\"black\" d=\"M1035.04,-72.5C1042.58,-72.5 1051.3,-72.5 1060.57,-72.5\"/>\n<polygon fill=\"black\" stroke=\"black\" points=\"1060.81,-76 1070.81,-72.5 1060.81,-69 1060.81,-76\"/>\n</g>\n<!-- 139892137159952 -->\n<g id=\"node10\" class=\"node\">\n<title>139892137159952</title>\n<polygon fill=\"none\" stroke=\"black\" points=\"716,-27.5 716,-63.5 901,-63.5 901,-27.5 716,-27.5\"/>\n<text text-anchor=\"middle\" x=\"727.5\" y=\"-41.8\" font-family=\"Times,serif\" font-size=\"14.00\">b</text>\n<polyline fill=\"none\" stroke=\"black\" points=\"739,-27.5 739,-63.5 \"/>\n<text text-anchor=\"middle\" x=\"779\" y=\"-41.8\" font-family=\"Times,serif\" font-size=\"14.00\">data 6.8814</text>\n<polyline fill=\"none\" stroke=\"black\" points=\"819,-27.5 819,-63.5 \"/>\n<text text-anchor=\"middle\" x=\"860\" y=\"-41.8\" font-family=\"Times,serif\" font-size=\"14.00\">grad 0.5000</text>\n</g>\n<!-- 139892137159952&#45;&gt;139892135239952+ -->\n<g id=\"edge13\" class=\"edge\">\n<title>139892137159952&#45;&gt;139892135239952+</title>\n<path fill=\"none\" stroke=\"black\" d=\"M901.02,-58.01C926,-61.43 951.59,-64.93 971.37,-67.63\"/>\n<polygon fill=\"black\" stroke=\"black\" points=\"971.05,-71.12 981.43,-69.01 972,-64.18 971.05,-71.12\"/>\n</g>\n<!-- 139892137152272 -->\n<g id=\"node11\" class=\"node\">\n<title>139892137152272</title>\n<polygon fill=\"none\" stroke=\"black\" points=\"0,-110.5 0,-146.5 200,-146.5 200,-110.5 0,-110.5\"/>\n<text text-anchor=\"middle\" x=\"16.5\" y=\"-124.8\" font-family=\"Times,serif\" font-size=\"14.00\">w1</text>\n<polyline fill=\"none\" stroke=\"black\" points=\"33,-110.5 33,-146.5 \"/>\n<text text-anchor=\"middle\" x=\"75.5\" y=\"-124.8\" font-family=\"Times,serif\" font-size=\"14.00\">data &#45;3.0000</text>\n<polyline fill=\"none\" stroke=\"black\" points=\"118,-110.5 118,-146.5 \"/>\n<text text-anchor=\"middle\" x=\"159\" y=\"-124.8\" font-family=\"Times,serif\" font-size=\"14.00\">grad 1.0000</text>\n</g>\n<!-- 139892137152272&#45;&gt;139892137163216* -->\n<g id=\"edge6\" class=\"edge\">\n<title>139892137152272&#45;&gt;139892137163216*</title>\n<path fill=\"none\" stroke=\"black\" d=\"M200.21,-128.5C209.2,-128.5 217.86,-128.5 225.7,-128.5\"/>\n<polygon fill=\"black\" stroke=\"black\" points=\"225.85,-132 235.85,-128.5 225.85,-125 225.85,-132\"/>\n</g>\n<!-- 139892135234912 -->\n<g id=\"node12\" class=\"node\">\n<title>139892135234912</title>\n<polygon fill=\"none\" stroke=\"black\" points=\"328.5,-55.5 328.5,-91.5 543.5,-91.5 543.5,-55.5 328.5,-55.5\"/>\n<text text-anchor=\"middle\" x=\"355\" y=\"-69.8\" font-family=\"Times,serif\" font-size=\"14.00\">x2*w2</text>\n<polyline fill=\"none\" stroke=\"black\" points=\"381.5,-55.5 381.5,-91.5 \"/>\n<text text-anchor=\"middle\" x=\"421.5\" y=\"-69.8\" font-family=\"Times,serif\" font-size=\"14.00\">data 0.0000</text>\n<polyline fill=\"none\" stroke=\"black\" points=\"461.5,-55.5 461.5,-91.5 \"/>\n<text text-anchor=\"middle\" x=\"502.5\" y=\"-69.8\" font-family=\"Times,serif\" font-size=\"14.00\">grad 0.5000</text>\n</g>\n<!-- 139892135234912&#45;&gt;139892135232080+ -->\n<g id=\"edge11\" class=\"edge\">\n<title>139892135234912&#45;&gt;139892135232080+</title>\n<path fill=\"none\" stroke=\"black\" d=\"M543.84,-90.37C554.01,-91.98 563.76,-93.51 572.44,-94.89\"/>\n<polygon fill=\"black\" stroke=\"black\" points=\"572.05,-98.37 582.47,-96.47 573.14,-91.45 572.05,-98.37\"/>\n</g>\n<!-- 139892135234912*&#45;&gt;139892135234912 -->\n<g id=\"edge4\" class=\"edge\">\n<title>139892135234912*&#45;&gt;139892135234912</title>\n<path fill=\"none\" stroke=\"black\" d=\"M290.34,-73.5C298.51,-73.5 308.08,-73.5 318.36,-73.5\"/>\n<polygon fill=\"black\" stroke=\"black\" points=\"318.39,-77 328.39,-73.5 318.39,-70 318.39,-77\"/>\n</g>\n<!-- 139892137163216 -->\n<g id=\"node14\" class=\"node\">\n<title>139892137163216</title>\n<polygon fill=\"none\" stroke=\"black\" points=\"326,-110.5 326,-146.5 546,-146.5 546,-110.5 326,-110.5\"/>\n<text text-anchor=\"middle\" x=\"352.5\" y=\"-124.8\" font-family=\"Times,serif\" font-size=\"14.00\">x1*w1</text>\n<polyline fill=\"none\" stroke=\"black\" points=\"379,-110.5 379,-146.5 \"/>\n<text text-anchor=\"middle\" x=\"421.5\" y=\"-124.8\" font-family=\"Times,serif\" font-size=\"14.00\">data &#45;6.0000</text>\n<polyline fill=\"none\" stroke=\"black\" points=\"464,-110.5 464,-146.5 \"/>\n<text text-anchor=\"middle\" x=\"505\" y=\"-124.8\" font-family=\"Times,serif\" font-size=\"14.00\">grad 0.5000</text>\n</g>\n<!-- 139892137163216&#45;&gt;139892135232080+ -->\n<g id=\"edge14\" class=\"edge\">\n<title>139892137163216&#45;&gt;139892135232080+</title>\n<path fill=\"none\" stroke=\"black\" d=\"M546.27,-110.61C555.64,-109.07 564.6,-107.61 572.65,-106.29\"/>\n<polygon fill=\"black\" stroke=\"black\" points=\"573.35,-109.72 582.65,-104.65 572.22,-102.81 573.35,-109.72\"/>\n</g>\n<!-- 139892137163216*&#45;&gt;139892137163216 -->\n<g id=\"edge5\" class=\"edge\">\n<title>139892137163216*&#45;&gt;139892137163216</title>\n<path fill=\"none\" stroke=\"black\" d=\"M290.34,-128.5C297.77,-128.5 306.37,-128.5 315.6,-128.5\"/>\n<polygon fill=\"black\" stroke=\"black\" points=\"315.84,-132 325.84,-128.5 315.84,-125 315.84,-132\"/>\n</g>\n</g>\n</svg>\n",
      "text/plain": [
       "<graphviz.graphs.Digraph at 0x7f3b2d245840>"
      ]
     },
     "execution_count": 56,
     "metadata": {},
     "output_type": "execute_result"
    }
   ],
   "source": [
    "draw_dot(o)"
   ]
  },
  {
   "cell_type": "code",
   "execution_count": 57,
   "metadata": {},
   "outputs": [
    {
     "data": {
      "image/svg+xml": "<?xml version=\"1.0\" encoding=\"UTF-8\" standalone=\"no\"?>\n<!DOCTYPE svg PUBLIC \"-//W3C//DTD SVG 1.1//EN\"\n \"http://www.w3.org/Graphics/SVG/1.1/DTD/svg11.dtd\">\n<!-- Generated by graphviz version 2.50.0 (0)\n -->\n<!-- Pages: 1 -->\n<svg width=\"2944pt\" height=\"239pt\"\n viewBox=\"0.00 0.00 2944.00 239.00\" xmlns=\"http://www.w3.org/2000/svg\" xmlns:xlink=\"http://www.w3.org/1999/xlink\">\n<g id=\"graph0\" class=\"graph\" transform=\"scale(1 1) rotate(0) translate(4 235)\">\n<polygon fill=\"white\" stroke=\"transparent\" points=\"-4,4 -4,-235 2940,-235 2940,4 -4,4\"/>\n<!-- 139892135247392 -->\n<g id=\"node1\" class=\"node\">\n<title>139892135247392</title>\n<polygon fill=\"none\" stroke=\"black\" points=\"2003,-82.5 2003,-118.5 2189,-118.5 2189,-82.5 2003,-82.5\"/>\n<text text-anchor=\"middle\" x=\"2013\" y=\"-96.8\" font-family=\"Times,serif\" font-size=\"14.00\"> </text>\n<polyline fill=\"none\" stroke=\"black\" points=\"2023,-82.5 2023,-118.5 \"/>\n<text text-anchor=\"middle\" x=\"2063\" y=\"-96.8\" font-family=\"Times,serif\" font-size=\"14.00\">data 6.8284</text>\n<polyline fill=\"none\" stroke=\"black\" points=\"2103,-82.5 2103,-118.5 \"/>\n<text text-anchor=\"middle\" x=\"2146\" y=\"-96.8\" font-family=\"Times,serif\" font-size=\"14.00\">grad &#45;0.1036</text>\n</g>\n<!-- 139892135234816**&#45;1 -->\n<g id=\"node17\" class=\"node\">\n<title>139892135234816**&#45;1</title>\n<ellipse fill=\"none\" stroke=\"black\" cx=\"2316\" cy=\"-100.5\" rx=\"27\" ry=\"18\"/>\n<text text-anchor=\"middle\" x=\"2316\" y=\"-96.8\" font-family=\"Times,serif\" font-size=\"14.00\">**&#45;1</text>\n</g>\n<!-- 139892135247392&#45;&gt;139892135234816**&#45;1 -->\n<g id=\"edge11\" class=\"edge\">\n<title>139892135247392&#45;&gt;139892135234816**&#45;1</title>\n<path fill=\"none\" stroke=\"black\" d=\"M2189.14,-100.5C2220.72,-100.5 2254.24,-100.5 2278.74,-100.5\"/>\n<polygon fill=\"black\" stroke=\"black\" points=\"2278.98,-104 2288.98,-100.5 2278.98,-97 2278.98,-104\"/>\n</g>\n<!-- 139892135247392+ -->\n<g id=\"node2\" class=\"node\">\n<title>139892135247392+</title>\n<ellipse fill=\"none\" stroke=\"black\" cx=\"1940\" cy=\"-100.5\" rx=\"27\" ry=\"18\"/>\n<text text-anchor=\"middle\" x=\"1940\" y=\"-96.8\" font-family=\"Times,serif\" font-size=\"14.00\">+</text>\n</g>\n<!-- 139892135247392+&#45;&gt;139892135247392 -->\n<g id=\"edge1\" class=\"edge\">\n<title>139892135247392+&#45;&gt;139892135247392</title>\n<path fill=\"none\" stroke=\"black\" d=\"M1967.12,-100.5C1974.62,-100.5 1983.29,-100.5 1992.5,-100.5\"/>\n<polygon fill=\"black\" stroke=\"black\" points=\"1992.69,-104 2002.69,-100.5 1992.69,-97 1992.69,-104\"/>\n</g>\n<!-- 139892135245376 -->\n<g id=\"node3\" class=\"node\">\n<title>139892135245376</title>\n<polygon fill=\"none\" stroke=\"black\" points=\"326,-139.5 326,-175.5 546,-175.5 546,-139.5 326,-139.5\"/>\n<text text-anchor=\"middle\" x=\"352.5\" y=\"-153.8\" font-family=\"Times,serif\" font-size=\"14.00\">x1*w1</text>\n<polyline fill=\"none\" stroke=\"black\" points=\"379,-139.5 379,-175.5 \"/>\n<text text-anchor=\"middle\" x=\"421.5\" y=\"-153.8\" font-family=\"Times,serif\" font-size=\"14.00\">data &#45;6.0000</text>\n<polyline fill=\"none\" stroke=\"black\" points=\"464,-139.5 464,-175.5 \"/>\n<text text-anchor=\"middle\" x=\"505\" y=\"-153.8\" font-family=\"Times,serif\" font-size=\"14.00\">grad 0.5000</text>\n</g>\n<!-- 139892135247728+ -->\n<g id=\"node19\" class=\"node\">\n<title>139892135247728+</title>\n<ellipse fill=\"none\" stroke=\"black\" cx=\"609\" cy=\"-129.5\" rx=\"27\" ry=\"18\"/>\n<text text-anchor=\"middle\" x=\"609\" y=\"-125.8\" font-family=\"Times,serif\" font-size=\"14.00\">+</text>\n</g>\n<!-- 139892135245376&#45;&gt;139892135247728+ -->\n<g id=\"edge13\" class=\"edge\">\n<title>139892135245376&#45;&gt;139892135247728+</title>\n<path fill=\"none\" stroke=\"black\" d=\"M546.27,-139.61C555.64,-138.07 564.6,-136.61 572.65,-135.29\"/>\n<polygon fill=\"black\" stroke=\"black\" points=\"573.35,-138.72 582.65,-133.65 572.22,-131.81 573.35,-138.72\"/>\n</g>\n<!-- 139892135245376* -->\n<g id=\"node4\" class=\"node\">\n<title>139892135245376*</title>\n<ellipse fill=\"none\" stroke=\"black\" cx=\"263\" cy=\"-157.5\" rx=\"27\" ry=\"18\"/>\n<text text-anchor=\"middle\" x=\"263\" y=\"-153.8\" font-family=\"Times,serif\" font-size=\"14.00\">*</text>\n</g>\n<!-- 139892135245376*&#45;&gt;139892135245376 -->\n<g id=\"edge2\" class=\"edge\">\n<title>139892135245376*&#45;&gt;139892135245376</title>\n<path fill=\"none\" stroke=\"black\" d=\"M290.34,-157.5C297.77,-157.5 306.37,-157.5 315.6,-157.5\"/>\n<polygon fill=\"black\" stroke=\"black\" points=\"315.84,-161 325.84,-157.5 315.84,-154 315.84,-161\"/>\n</g>\n<!-- 139892135232608 -->\n<g id=\"node5\" class=\"node\">\n<title>139892135232608</title>\n<polygon fill=\"none\" stroke=\"black\" points=\"1692.5,-55.5 1692.5,-91.5 1874.5,-91.5 1874.5,-55.5 1692.5,-55.5\"/>\n<text text-anchor=\"middle\" x=\"1702.5\" y=\"-69.8\" font-family=\"Times,serif\" font-size=\"14.00\"> </text>\n<polyline fill=\"none\" stroke=\"black\" points=\"1712.5,-55.5 1712.5,-91.5 \"/>\n<text text-anchor=\"middle\" x=\"1752.5\" y=\"-69.8\" font-family=\"Times,serif\" font-size=\"14.00\">data 5.8284</text>\n<polyline fill=\"none\" stroke=\"black\" points=\"1792.5,-55.5 1792.5,-91.5 \"/>\n<text text-anchor=\"middle\" x=\"1833.5\" y=\"-69.8\" font-family=\"Times,serif\" font-size=\"14.00\">grad 0.0429</text>\n</g>\n<!-- 139892135232608&#45;&gt;139892135247392+ -->\n<g id=\"edge23\" class=\"edge\">\n<title>139892135232608&#45;&gt;139892135247392+</title>\n<path fill=\"none\" stroke=\"black\" d=\"M1874.82,-89.28C1885.07,-91.08 1895.01,-92.81 1903.88,-94.36\"/>\n<polygon fill=\"black\" stroke=\"black\" points=\"1903.3,-97.81 1913.75,-96.09 1904.5,-90.92 1903.3,-97.81\"/>\n</g>\n<!-- 139892135234192+ -->\n<g id=\"node13\" class=\"node\">\n<title>139892135234192+</title>\n<ellipse fill=\"none\" stroke=\"black\" cx=\"1940\" cy=\"-45.5\" rx=\"27\" ry=\"18\"/>\n<text text-anchor=\"middle\" x=\"1940\" y=\"-41.8\" font-family=\"Times,serif\" font-size=\"14.00\">+</text>\n</g>\n<!-- 139892135232608&#45;&gt;139892135234192+ -->\n<g id=\"edge20\" class=\"edge\">\n<title>139892135232608&#45;&gt;139892135234192+</title>\n<path fill=\"none\" stroke=\"black\" d=\"M1874.82,-57.13C1885.07,-55.27 1895.01,-53.47 1903.88,-51.87\"/>\n<polygon fill=\"black\" stroke=\"black\" points=\"1904.54,-55.3 1913.75,-50.08 1903.29,-48.42 1904.54,-55.3\"/>\n</g>\n<!-- 139892135232608exp -->\n<g id=\"node6\" class=\"node\">\n<title>139892135232608exp</title>\n<ellipse fill=\"none\" stroke=\"black\" cx=\"1627\" cy=\"-73.5\" rx=\"27\" ry=\"18\"/>\n<text text-anchor=\"middle\" x=\"1627\" y=\"-69.8\" font-family=\"Times,serif\" font-size=\"14.00\">exp</text>\n</g>\n<!-- 139892135232608exp&#45;&gt;139892135232608 -->\n<g id=\"edge3\" class=\"edge\">\n<title>139892135232608exp&#45;&gt;139892135232608</title>\n<path fill=\"none\" stroke=\"black\" d=\"M1654.21,-73.5C1662.34,-73.5 1671.85,-73.5 1681.94,-73.5\"/>\n<polygon fill=\"black\" stroke=\"black\" points=\"1682.19,-77 1692.19,-73.5 1682.19,-70 1682.19,-77\"/>\n</g>\n<!-- 139892135239280 -->\n<g id=\"node7\" class=\"node\">\n<title>139892135239280</title>\n<polygon fill=\"none\" stroke=\"black\" points=\"2.5,-84.5 2.5,-120.5 197.5,-120.5 197.5,-84.5 2.5,-84.5\"/>\n<text text-anchor=\"middle\" x=\"19\" y=\"-98.8\" font-family=\"Times,serif\" font-size=\"14.00\">w2</text>\n<polyline fill=\"none\" stroke=\"black\" points=\"35.5,-84.5 35.5,-120.5 \"/>\n<text text-anchor=\"middle\" x=\"75.5\" y=\"-98.8\" font-family=\"Times,serif\" font-size=\"14.00\">data 1.0000</text>\n<polyline fill=\"none\" stroke=\"black\" points=\"115.5,-84.5 115.5,-120.5 \"/>\n<text text-anchor=\"middle\" x=\"156.5\" y=\"-98.8\" font-family=\"Times,serif\" font-size=\"14.00\">grad 0.0000</text>\n</g>\n<!-- 139892135246720* -->\n<g id=\"node25\" class=\"node\">\n<title>139892135246720*</title>\n<ellipse fill=\"none\" stroke=\"black\" cx=\"263\" cy=\"-102.5\" rx=\"27\" ry=\"18\"/>\n<text text-anchor=\"middle\" x=\"263\" y=\"-98.8\" font-family=\"Times,serif\" font-size=\"14.00\">*</text>\n</g>\n<!-- 139892135239280&#45;&gt;139892135246720* -->\n<g id=\"edge21\" class=\"edge\">\n<title>139892135239280&#45;&gt;139892135246720*</title>\n<path fill=\"none\" stroke=\"black\" d=\"M197.91,-102.5C207.65,-102.5 217.05,-102.5 225.52,-102.5\"/>\n<polygon fill=\"black\" stroke=\"black\" points=\"225.7,-106 235.7,-102.5 225.7,-99 225.7,-106\"/>\n</g>\n<!-- 139892135233664 -->\n<g id=\"node8\" class=\"node\">\n<title>139892135233664</title>\n<polygon fill=\"none\" stroke=\"black\" points=\"1071,-83.5 1071,-119.5 1256,-119.5 1256,-83.5 1071,-83.5\"/>\n<text text-anchor=\"middle\" x=\"1082.5\" y=\"-97.8\" font-family=\"Times,serif\" font-size=\"14.00\">n</text>\n<polyline fill=\"none\" stroke=\"black\" points=\"1094,-83.5 1094,-119.5 \"/>\n<text text-anchor=\"middle\" x=\"1134\" y=\"-97.8\" font-family=\"Times,serif\" font-size=\"14.00\">data 0.8814</text>\n<polyline fill=\"none\" stroke=\"black\" points=\"1174,-83.5 1174,-119.5 \"/>\n<text text-anchor=\"middle\" x=\"1215\" y=\"-97.8\" font-family=\"Times,serif\" font-size=\"14.00\">grad 0.5000</text>\n</g>\n<!-- 139892135246480* -->\n<g id=\"node11\" class=\"node\">\n<title>139892135246480*</title>\n<ellipse fill=\"none\" stroke=\"black\" cx=\"1319\" cy=\"-73.5\" rx=\"27\" ry=\"18\"/>\n<text text-anchor=\"middle\" x=\"1319\" y=\"-69.8\" font-family=\"Times,serif\" font-size=\"14.00\">*</text>\n</g>\n<!-- 139892135233664&#45;&gt;139892135246480* -->\n<g id=\"edge18\" class=\"edge\">\n<title>139892135233664&#45;&gt;139892135246480*</title>\n<path fill=\"none\" stroke=\"black\" d=\"M1256.01,-84.81C1265.49,-83.08 1274.66,-81.41 1282.9,-79.9\"/>\n<polygon fill=\"black\" stroke=\"black\" points=\"1283.6,-83.33 1292.81,-78.09 1282.35,-76.45 1283.6,-83.33\"/>\n</g>\n<!-- 139892135233664+ -->\n<g id=\"node9\" class=\"node\">\n<title>139892135233664+</title>\n<ellipse fill=\"none\" stroke=\"black\" cx=\"1008\" cy=\"-101.5\" rx=\"27\" ry=\"18\"/>\n<text text-anchor=\"middle\" x=\"1008\" y=\"-97.8\" font-family=\"Times,serif\" font-size=\"14.00\">+</text>\n</g>\n<!-- 139892135233664+&#45;&gt;139892135233664 -->\n<g id=\"edge4\" class=\"edge\">\n<title>139892135233664+&#45;&gt;139892135233664</title>\n<path fill=\"none\" stroke=\"black\" d=\"M1035.04,-101.5C1042.58,-101.5 1051.3,-101.5 1060.57,-101.5\"/>\n<polygon fill=\"black\" stroke=\"black\" points=\"1060.81,-105 1070.81,-101.5 1060.81,-98 1060.81,-105\"/>\n</g>\n<!-- 139892135246480 -->\n<g id=\"node10\" class=\"node\">\n<title>139892135246480</title>\n<polygon fill=\"none\" stroke=\"black\" points=\"1382,-55.5 1382,-91.5 1564,-91.5 1564,-55.5 1382,-55.5\"/>\n<text text-anchor=\"middle\" x=\"1392\" y=\"-69.8\" font-family=\"Times,serif\" font-size=\"14.00\"> </text>\n<polyline fill=\"none\" stroke=\"black\" points=\"1402,-55.5 1402,-91.5 \"/>\n<text text-anchor=\"middle\" x=\"1442\" y=\"-69.8\" font-family=\"Times,serif\" font-size=\"14.00\">data 1.7627</text>\n<polyline fill=\"none\" stroke=\"black\" points=\"1482,-55.5 1482,-91.5 \"/>\n<text text-anchor=\"middle\" x=\"1523\" y=\"-69.8\" font-family=\"Times,serif\" font-size=\"14.00\">grad 0.2500</text>\n</g>\n<!-- 139892135246480&#45;&gt;139892135232608exp -->\n<g id=\"edge14\" class=\"edge\">\n<title>139892135246480&#45;&gt;139892135232608exp</title>\n<path fill=\"none\" stroke=\"black\" d=\"M1564.18,-73.5C1573.14,-73.5 1581.83,-73.5 1589.73,-73.5\"/>\n<polygon fill=\"black\" stroke=\"black\" points=\"1589.96,-77 1599.96,-73.5 1589.96,-70 1589.96,-77\"/>\n</g>\n<!-- 139892135246480*&#45;&gt;139892135246480 -->\n<g id=\"edge5\" class=\"edge\">\n<title>139892135246480*&#45;&gt;139892135246480</title>\n<path fill=\"none\" stroke=\"black\" d=\"M1346.13,-73.5C1353.67,-73.5 1362.39,-73.5 1371.64,-73.5\"/>\n<polygon fill=\"black\" stroke=\"black\" points=\"1371.87,-77 1381.87,-73.5 1371.87,-70 1371.87,-77\"/>\n</g>\n<!-- 139892135234192 -->\n<g id=\"node12\" class=\"node\">\n<title>139892135234192</title>\n<polygon fill=\"none\" stroke=\"black\" points=\"2225,-27.5 2225,-63.5 2407,-63.5 2407,-27.5 2225,-27.5\"/>\n<text text-anchor=\"middle\" x=\"2235\" y=\"-41.8\" font-family=\"Times,serif\" font-size=\"14.00\"> </text>\n<polyline fill=\"none\" stroke=\"black\" points=\"2245,-27.5 2245,-63.5 \"/>\n<text text-anchor=\"middle\" x=\"2285\" y=\"-41.8\" font-family=\"Times,serif\" font-size=\"14.00\">data 4.8284</text>\n<polyline fill=\"none\" stroke=\"black\" points=\"2325,-27.5 2325,-63.5 \"/>\n<text text-anchor=\"middle\" x=\"2366\" y=\"-41.8\" font-family=\"Times,serif\" font-size=\"14.00\">grad 0.1464</text>\n</g>\n<!-- 139892135244128* -->\n<g id=\"node22\" class=\"node\">\n<title>139892135244128*</title>\n<ellipse fill=\"none\" stroke=\"black\" cx=\"2688\" cy=\"-72.5\" rx=\"27\" ry=\"18\"/>\n<text text-anchor=\"middle\" x=\"2688\" y=\"-68.8\" font-family=\"Times,serif\" font-size=\"14.00\">*</text>\n</g>\n<!-- 139892135234192&#45;&gt;139892135244128* -->\n<g id=\"edge15\" class=\"edge\">\n<title>139892135234192&#45;&gt;139892135244128*</title>\n<path fill=\"none\" stroke=\"black\" d=\"M2407.04,-52.07C2485.41,-57.79 2594.98,-65.79 2650.96,-69.87\"/>\n<polygon fill=\"black\" stroke=\"black\" points=\"2650.87,-73.37 2661.1,-70.61 2651.38,-66.39 2650.87,-73.37\"/>\n</g>\n<!-- 139892135234192+&#45;&gt;139892135234192 -->\n<g id=\"edge6\" class=\"edge\">\n<title>139892135234192+&#45;&gt;139892135234192</title>\n<path fill=\"none\" stroke=\"black\" d=\"M1967,-45.5C2017.46,-45.5 2131.06,-45.5 2214.81,-45.5\"/>\n<polygon fill=\"black\" stroke=\"black\" points=\"2214.87,-49 2224.87,-45.5 2214.87,-42 2214.87,-49\"/>\n</g>\n<!-- 139892135235776 -->\n<g id=\"node14\" class=\"node\">\n<title>139892135235776</title>\n<polygon fill=\"none\" stroke=\"black\" points=\"4,-29.5 4,-65.5 196,-65.5 196,-29.5 4,-29.5\"/>\n<text text-anchor=\"middle\" x=\"19\" y=\"-43.8\" font-family=\"Times,serif\" font-size=\"14.00\">x2</text>\n<polyline fill=\"none\" stroke=\"black\" points=\"34,-29.5 34,-65.5 \"/>\n<text text-anchor=\"middle\" x=\"74\" y=\"-43.8\" font-family=\"Times,serif\" font-size=\"14.00\">data 0.0000</text>\n<polyline fill=\"none\" stroke=\"black\" points=\"114,-29.5 114,-65.5 \"/>\n<text text-anchor=\"middle\" x=\"155\" y=\"-43.8\" font-family=\"Times,serif\" font-size=\"14.00\">grad 0.5000</text>\n</g>\n<!-- 139892135235776&#45;&gt;139892135246720* -->\n<g id=\"edge22\" class=\"edge\">\n<title>139892135235776&#45;&gt;139892135246720*</title>\n<path fill=\"none\" stroke=\"black\" d=\"M172.53,-65.56C181.84,-68.33 191.2,-71.33 200,-74.5 210.53,-78.29 221.75,-83.1 231.72,-87.67\"/>\n<polygon fill=\"black\" stroke=\"black\" points=\"230.28,-90.86 240.82,-91.93 233.25,-84.52 230.28,-90.86\"/>\n</g>\n<!-- 139892135238368 -->\n<g id=\"node15\" class=\"node\">\n<title>139892135238368</title>\n<polygon fill=\"none\" stroke=\"black\" points=\"1690,-0.5 1690,-36.5 1877,-36.5 1877,-0.5 1690,-0.5\"/>\n<text text-anchor=\"middle\" x=\"1700\" y=\"-14.8\" font-family=\"Times,serif\" font-size=\"14.00\"> </text>\n<polyline fill=\"none\" stroke=\"black\" points=\"1710,-0.5 1710,-36.5 \"/>\n<text text-anchor=\"middle\" x=\"1752.5\" y=\"-14.8\" font-family=\"Times,serif\" font-size=\"14.00\">data &#45;1.0000</text>\n<polyline fill=\"none\" stroke=\"black\" points=\"1795,-0.5 1795,-36.5 \"/>\n<text text-anchor=\"middle\" x=\"1836\" y=\"-14.8\" font-family=\"Times,serif\" font-size=\"14.00\">grad 0.1464</text>\n</g>\n<!-- 139892135238368&#45;&gt;139892135234192+ -->\n<g id=\"edge17\" class=\"edge\">\n<title>139892135238368&#45;&gt;139892135234192+</title>\n<path fill=\"none\" stroke=\"black\" d=\"M1877.05,-34.67C1886.34,-36.3 1895.33,-37.87 1903.44,-39.29\"/>\n<polygon fill=\"black\" stroke=\"black\" points=\"1903.1,-42.78 1913.55,-41.05 1904.3,-35.88 1903.1,-42.78\"/>\n</g>\n<!-- 139892135234816 -->\n<g id=\"node16\" class=\"node\">\n<title>139892135234816</title>\n<polygon fill=\"none\" stroke=\"black\" points=\"2443,-80.5 2443,-116.5 2625,-116.5 2625,-80.5 2443,-80.5\"/>\n<text text-anchor=\"middle\" x=\"2453\" y=\"-94.8\" font-family=\"Times,serif\" font-size=\"14.00\"> </text>\n<polyline fill=\"none\" stroke=\"black\" points=\"2463,-80.5 2463,-116.5 \"/>\n<text text-anchor=\"middle\" x=\"2503\" y=\"-94.8\" font-family=\"Times,serif\" font-size=\"14.00\">data 0.1464</text>\n<polyline fill=\"none\" stroke=\"black\" points=\"2543,-80.5 2543,-116.5 \"/>\n<text text-anchor=\"middle\" x=\"2584\" y=\"-94.8\" font-family=\"Times,serif\" font-size=\"14.00\">grad 4.8284</text>\n</g>\n<!-- 139892135234816&#45;&gt;139892135244128* -->\n<g id=\"edge26\" class=\"edge\">\n<title>139892135234816&#45;&gt;139892135244128*</title>\n<path fill=\"none\" stroke=\"black\" d=\"M2625.18,-83.08C2634.42,-81.49 2643.38,-79.96 2651.47,-78.58\"/>\n<polygon fill=\"black\" stroke=\"black\" points=\"2652.29,-81.99 2661.56,-76.85 2651.11,-75.09 2652.29,-81.99\"/>\n</g>\n<!-- 139892135234816**&#45;1&#45;&gt;139892135234816 -->\n<g id=\"edge7\" class=\"edge\">\n<title>139892135234816**&#45;1&#45;&gt;139892135234816</title>\n<path fill=\"none\" stroke=\"black\" d=\"M2343.05,-100.26C2365.53,-100.05 2399.48,-99.74 2432.5,-99.43\"/>\n<polygon fill=\"black\" stroke=\"black\" points=\"2432.74,-102.93 2442.7,-99.34 2432.67,-95.93 2432.74,-102.93\"/>\n</g>\n<!-- 139892135247728 -->\n<g id=\"node18\" class=\"node\">\n<title>139892135247728</title>\n<polygon fill=\"none\" stroke=\"black\" points=\"672,-111.5 672,-147.5 945,-147.5 945,-111.5 672,-111.5\"/>\n<text text-anchor=\"middle\" x=\"725\" y=\"-125.8\" font-family=\"Times,serif\" font-size=\"14.00\">x1*w1 + x2*w2</text>\n<polyline fill=\"none\" stroke=\"black\" points=\"778,-111.5 778,-147.5 \"/>\n<text text-anchor=\"middle\" x=\"820.5\" y=\"-125.8\" font-family=\"Times,serif\" font-size=\"14.00\">data &#45;6.0000</text>\n<polyline fill=\"none\" stroke=\"black\" points=\"863,-111.5 863,-147.5 \"/>\n<text text-anchor=\"middle\" x=\"904\" y=\"-125.8\" font-family=\"Times,serif\" font-size=\"14.00\">grad 0.5000</text>\n</g>\n<!-- 139892135247728&#45;&gt;139892135233664+ -->\n<g id=\"edge25\" class=\"edge\">\n<title>139892135247728&#45;&gt;139892135233664+</title>\n<path fill=\"none\" stroke=\"black\" d=\"M936.53,-111.49C949.09,-109.71 960.99,-108.02 971.3,-106.56\"/>\n<polygon fill=\"black\" stroke=\"black\" points=\"972.03,-109.99 981.44,-105.12 971.05,-103.06 972.03,-109.99\"/>\n</g>\n<!-- 139892135247728+&#45;&gt;139892135247728 -->\n<g id=\"edge8\" class=\"edge\">\n<title>139892135247728+&#45;&gt;139892135247728</title>\n<path fill=\"none\" stroke=\"black\" d=\"M636.23,-129.5C643.7,-129.5 652.41,-129.5 661.87,-129.5\"/>\n<polygon fill=\"black\" stroke=\"black\" points=\"661.98,-133 671.98,-129.5 661.98,-126 661.98,-133\"/>\n</g>\n<!-- 139892135244080 -->\n<g id=\"node20\" class=\"node\">\n<title>139892135244080</title>\n<polygon fill=\"none\" stroke=\"black\" points=\"2,-194.5 2,-230.5 198,-230.5 198,-194.5 2,-194.5\"/>\n<text text-anchor=\"middle\" x=\"17\" y=\"-208.8\" font-family=\"Times,serif\" font-size=\"14.00\">x1</text>\n<polyline fill=\"none\" stroke=\"black\" points=\"32,-194.5 32,-230.5 \"/>\n<text text-anchor=\"middle\" x=\"72\" y=\"-208.8\" font-family=\"Times,serif\" font-size=\"14.00\">data 2.0000</text>\n<polyline fill=\"none\" stroke=\"black\" points=\"112,-194.5 112,-230.5 \"/>\n<text text-anchor=\"middle\" x=\"155\" y=\"-208.8\" font-family=\"Times,serif\" font-size=\"14.00\">grad &#45;1.5000</text>\n</g>\n<!-- 139892135244080&#45;&gt;139892135245376* -->\n<g id=\"edge27\" class=\"edge\">\n<title>139892135244080&#45;&gt;139892135245376*</title>\n<path fill=\"none\" stroke=\"black\" d=\"M169.28,-194.5C179.65,-191.39 190.16,-188.02 200,-184.5 210.28,-180.83 221.28,-176.26 231.11,-171.93\"/>\n<polygon fill=\"black\" stroke=\"black\" points=\"232.79,-175.01 240.48,-167.73 229.93,-168.63 232.79,-175.01\"/>\n</g>\n<!-- 139892135244128 -->\n<g id=\"node21\" class=\"node\">\n<title>139892135244128</title>\n<polygon fill=\"none\" stroke=\"black\" points=\"2751,-54.5 2751,-90.5 2936,-90.5 2936,-54.5 2751,-54.5\"/>\n<text text-anchor=\"middle\" x=\"2762.5\" y=\"-68.8\" font-family=\"Times,serif\" font-size=\"14.00\">o</text>\n<polyline fill=\"none\" stroke=\"black\" points=\"2774,-54.5 2774,-90.5 \"/>\n<text text-anchor=\"middle\" x=\"2814\" y=\"-68.8\" font-family=\"Times,serif\" font-size=\"14.00\">data 0.7071</text>\n<polyline fill=\"none\" stroke=\"black\" points=\"2854,-54.5 2854,-90.5 \"/>\n<text text-anchor=\"middle\" x=\"2895\" y=\"-68.8\" font-family=\"Times,serif\" font-size=\"14.00\">grad 1.0000</text>\n</g>\n<!-- 139892135244128*&#45;&gt;139892135244128 -->\n<g id=\"edge9\" class=\"edge\">\n<title>139892135244128*&#45;&gt;139892135244128</title>\n<path fill=\"none\" stroke=\"black\" d=\"M2715.04,-72.5C2722.58,-72.5 2731.3,-72.5 2740.57,-72.5\"/>\n<polygon fill=\"black\" stroke=\"black\" points=\"2740.81,-76 2750.81,-72.5 2740.81,-69 2740.81,-76\"/>\n</g>\n<!-- 139892135244656 -->\n<g id=\"node23\" class=\"node\">\n<title>139892135244656</title>\n<polygon fill=\"none\" stroke=\"black\" points=\"716,-56.5 716,-92.5 901,-92.5 901,-56.5 716,-56.5\"/>\n<text text-anchor=\"middle\" x=\"727.5\" y=\"-70.8\" font-family=\"Times,serif\" font-size=\"14.00\">b</text>\n<polyline fill=\"none\" stroke=\"black\" points=\"739,-56.5 739,-92.5 \"/>\n<text text-anchor=\"middle\" x=\"779\" y=\"-70.8\" font-family=\"Times,serif\" font-size=\"14.00\">data 6.8814</text>\n<polyline fill=\"none\" stroke=\"black\" points=\"819,-56.5 819,-92.5 \"/>\n<text text-anchor=\"middle\" x=\"860\" y=\"-70.8\" font-family=\"Times,serif\" font-size=\"14.00\">grad 0.5000</text>\n</g>\n<!-- 139892135244656&#45;&gt;139892135233664+ -->\n<g id=\"edge28\" class=\"edge\">\n<title>139892135244656&#45;&gt;139892135233664+</title>\n<path fill=\"none\" stroke=\"black\" d=\"M901.02,-87.01C926,-90.43 951.59,-93.93 971.37,-96.63\"/>\n<polygon fill=\"black\" stroke=\"black\" points=\"971.05,-100.12 981.43,-98.01 972,-93.18 971.05,-100.12\"/>\n</g>\n<!-- 139892135246720 -->\n<g id=\"node24\" class=\"node\">\n<title>139892135246720</title>\n<polygon fill=\"none\" stroke=\"black\" points=\"328.5,-84.5 328.5,-120.5 543.5,-120.5 543.5,-84.5 328.5,-84.5\"/>\n<text text-anchor=\"middle\" x=\"355\" y=\"-98.8\" font-family=\"Times,serif\" font-size=\"14.00\">x2*w2</text>\n<polyline fill=\"none\" stroke=\"black\" points=\"381.5,-84.5 381.5,-120.5 \"/>\n<text text-anchor=\"middle\" x=\"421.5\" y=\"-98.8\" font-family=\"Times,serif\" font-size=\"14.00\">data 0.0000</text>\n<polyline fill=\"none\" stroke=\"black\" points=\"461.5,-84.5 461.5,-120.5 \"/>\n<text text-anchor=\"middle\" x=\"502.5\" y=\"-98.8\" font-family=\"Times,serif\" font-size=\"14.00\">grad 0.5000</text>\n</g>\n<!-- 139892135246720&#45;&gt;139892135247728+ -->\n<g id=\"edge12\" class=\"edge\">\n<title>139892135246720&#45;&gt;139892135247728+</title>\n<path fill=\"none\" stroke=\"black\" d=\"M543.84,-119.37C554.01,-120.98 563.76,-122.51 572.44,-123.89\"/>\n<polygon fill=\"black\" stroke=\"black\" points=\"572.05,-127.37 582.47,-125.47 573.14,-120.45 572.05,-127.37\"/>\n</g>\n<!-- 139892135246720*&#45;&gt;139892135246720 -->\n<g id=\"edge10\" class=\"edge\">\n<title>139892135246720*&#45;&gt;139892135246720</title>\n<path fill=\"none\" stroke=\"black\" d=\"M290.34,-102.5C298.51,-102.5 308.08,-102.5 318.36,-102.5\"/>\n<polygon fill=\"black\" stroke=\"black\" points=\"318.39,-106 328.39,-102.5 318.39,-99 318.39,-106\"/>\n</g>\n<!-- 139892135245712 -->\n<g id=\"node26\" class=\"node\">\n<title>139892135245712</title>\n<polygon fill=\"none\" stroke=\"black\" points=\"0,-139.5 0,-175.5 200,-175.5 200,-139.5 0,-139.5\"/>\n<text text-anchor=\"middle\" x=\"16.5\" y=\"-153.8\" font-family=\"Times,serif\" font-size=\"14.00\">w1</text>\n<polyline fill=\"none\" stroke=\"black\" points=\"33,-139.5 33,-175.5 \"/>\n<text text-anchor=\"middle\" x=\"75.5\" y=\"-153.8\" font-family=\"Times,serif\" font-size=\"14.00\">data &#45;3.0000</text>\n<polyline fill=\"none\" stroke=\"black\" points=\"118,-139.5 118,-175.5 \"/>\n<text text-anchor=\"middle\" x=\"159\" y=\"-153.8\" font-family=\"Times,serif\" font-size=\"14.00\">grad 1.0000</text>\n</g>\n<!-- 139892135245712&#45;&gt;139892135245376* -->\n<g id=\"edge24\" class=\"edge\">\n<title>139892135245712&#45;&gt;139892135245376*</title>\n<path fill=\"none\" stroke=\"black\" d=\"M200.21,-157.5C209.2,-157.5 217.86,-157.5 225.7,-157.5\"/>\n<polygon fill=\"black\" stroke=\"black\" points=\"225.85,-161 235.85,-157.5 225.85,-154 225.85,-161\"/>\n</g>\n<!-- 139892135242160 -->\n<g id=\"node27\" class=\"node\">\n<title>139892135242160</title>\n<polygon fill=\"none\" stroke=\"black\" points=\"1072.5,-28.5 1072.5,-64.5 1254.5,-64.5 1254.5,-28.5 1072.5,-28.5\"/>\n<text text-anchor=\"middle\" x=\"1082.5\" y=\"-42.8\" font-family=\"Times,serif\" font-size=\"14.00\"> </text>\n<polyline fill=\"none\" stroke=\"black\" points=\"1092.5,-28.5 1092.5,-64.5 \"/>\n<text text-anchor=\"middle\" x=\"1132.5\" y=\"-42.8\" font-family=\"Times,serif\" font-size=\"14.00\">data 2.0000</text>\n<polyline fill=\"none\" stroke=\"black\" points=\"1172.5,-28.5 1172.5,-64.5 \"/>\n<text text-anchor=\"middle\" x=\"1213.5\" y=\"-42.8\" font-family=\"Times,serif\" font-size=\"14.00\">grad 0.2203</text>\n</g>\n<!-- 139892135242160&#45;&gt;139892135246480* -->\n<g id=\"edge16\" class=\"edge\">\n<title>139892135242160&#45;&gt;139892135246480*</title>\n<path fill=\"none\" stroke=\"black\" d=\"M1254.68,-62.36C1264.61,-64.11 1274.23,-65.8 1282.84,-67.32\"/>\n<polygon fill=\"black\" stroke=\"black\" points=\"1282.36,-70.78 1292.81,-69.07 1283.57,-63.89 1282.36,-70.78\"/>\n</g>\n<!-- 139892135247824 -->\n<g id=\"node28\" class=\"node\">\n<title>139892135247824</title>\n<polygon fill=\"none\" stroke=\"black\" points=\"1690.5,-110.5 1690.5,-146.5 1876.5,-146.5 1876.5,-110.5 1690.5,-110.5\"/>\n<text text-anchor=\"middle\" x=\"1700.5\" y=\"-124.8\" font-family=\"Times,serif\" font-size=\"14.00\"> </text>\n<polyline fill=\"none\" stroke=\"black\" points=\"1710.5,-110.5 1710.5,-146.5 \"/>\n<text text-anchor=\"middle\" x=\"1750.5\" y=\"-124.8\" font-family=\"Times,serif\" font-size=\"14.00\">data 1.0000</text>\n<polyline fill=\"none\" stroke=\"black\" points=\"1790.5,-110.5 1790.5,-146.5 \"/>\n<text text-anchor=\"middle\" x=\"1833.5\" y=\"-124.8\" font-family=\"Times,serif\" font-size=\"14.00\">grad &#45;0.1036</text>\n</g>\n<!-- 139892135247824&#45;&gt;139892135247392+ -->\n<g id=\"edge19\" class=\"edge\">\n<title>139892135247824&#45;&gt;139892135247392+</title>\n<path fill=\"none\" stroke=\"black\" d=\"M1876.6,-111.81C1886.15,-110.08 1895.37,-108.41 1903.68,-106.9\"/>\n<polygon fill=\"black\" stroke=\"black\" points=\"1904.43,-110.32 1913.65,-105.09 1903.18,-103.43 1904.43,-110.32\"/>\n</g>\n</g>\n</svg>\n",
      "text/plain": [
       "<graphviz.graphs.Digraph at 0x7f3b2d072200>"
      ]
     },
     "execution_count": 57,
     "metadata": {},
     "output_type": "execute_result"
    }
   ],
   "source": [
    "# inputs x1,x2\n",
    "x1 = Value(2.0, label='x1')\n",
    "x2 = Value(0.0, label='x2')\n",
    "# weights w1,w2\n",
    "w1 = Value(-3.0, label='w1')\n",
    "w2 = Value(1.0, label='w2')\n",
    "# bias of the neuron\n",
    "b = Value(6.8813735870195432, label='b')\n",
    "# x1*w1 + x2*w2 + b\n",
    "x1w1 = x1*w1; x1w1.label = 'x1*w1'\n",
    "x2w2 = x2*w2; x2w2.label = 'x2*w2'\n",
    "x1w1x2w2 = x1w1 + x2w2; x1w1x2w2.label = 'x1*w1 + x2*w2'\n",
    "n = x1w1x2w2 + b; n.label = 'n'\n",
    "# ----\n",
    "e = (2*n).exp()\n",
    "o = (e - 1) / (e + 1)\n",
    "# ----\n",
    "o.label = 'o'\n",
    "o.backward()\n",
    "draw_dot(o)"
   ]
  },
  {
   "cell_type": "markdown",
   "metadata": {},
   "source": [
    "# Doing the same thing but in PyTorch: comparison"
   ]
  },
  {
   "cell_type": "code",
   "execution_count": 58,
   "metadata": {},
   "outputs": [],
   "source": [
    "import torch"
   ]
  },
  {
   "cell_type": "code",
   "execution_count": 102,
   "metadata": {},
   "outputs": [
    {
     "name": "stdout",
     "output_type": "stream",
     "text": [
      "0.7071066904050358\n",
      "---\n",
      "x2 0.5000001283844369\n",
      "w2 0.0\n",
      "x1 -1.5000003851533106\n",
      "w1 1.0000002567688737\n"
     ]
    }
   ],
   "source": [
    "x1 = torch.Tensor([2.0]).double()                ; x1.requires_grad = True\n",
    "x2 = torch.Tensor([0.0]).double()                ; x2.requires_grad = True\n",
    "w1 = torch.Tensor([-3.0]).double()               ; w1.requires_grad = True\n",
    "w2 = torch.Tensor([1.0]).double()                ; w2.requires_grad = True\n",
    "b = torch.Tensor([6.8813735870195432]).double()  ; b.requires_grad = True\n",
    "n = x1*w1 + x2*w2 + b\n",
    "o = torch.tanh(n)\n",
    "\n",
    "print(o.data.item())\n",
    "o.backward()\n",
    "\n",
    "print('---')\n",
    "print('x2', x2.grad.item())\n",
    "print('w2', w2.grad.item())\n",
    "print('x1', x1.grad.item())\n",
    "print('w1', w1.grad.item())"
   ]
  },
  {
   "cell_type": "code",
   "execution_count": 103,
   "metadata": {},
   "outputs": [
    {
     "name": "stdout",
     "output_type": "stream",
     "text": [
      "tensor([0.5000], dtype=torch.float64)\n",
      "0.5000001283844369\n"
     ]
    }
   ],
   "source": [
    "print(x2.grad)\n",
    "print(x2.grad.item())"
   ]
  },
  {
   "cell_type": "code",
   "execution_count": 110,
   "metadata": {},
   "outputs": [
    {
     "name": "stdout",
     "output_type": "stream",
     "text": [
      "0.7071066904050358\n"
     ]
    }
   ],
   "source": [
    "x1 = torch.Tensor([2.0]).double()                   ; x1.requires_grad = True\n",
    "x2 = torch.Tensor([0.0]).double()                   ; x2.requires_grad = True\n",
    "w1 = torch.Tensor([-3.0]).double()                  ; w1.requires_grad = True\n",
    "w2 = torch.Tensor([1.0]).double()                   ; w2.requires_grad = True\n",
    "b = torch.Tensor([6.8813735870195432]).double()     ; b.requires_grad = True\n",
    "\n",
    "n = x1*w1 + x2*w2 + b\n",
    "o = torch.tanh(n)\n",
    "print(o.item())\n",
    "\n",
    "o.backward()\n"
   ]
  },
  {
   "cell_type": "code",
   "execution_count": 116,
   "metadata": {},
   "outputs": [
    {
     "name": "stderr",
     "output_type": "stream",
     "text": [
      "/tmp/ipykernel_175213/2253581539.py:1: UserWarning: The .grad attribute of a Tensor that is not a leaf Tensor is being accessed. Its .grad attribute won't be populated during autograd.backward(). If you indeed want the .grad field to be populated for a non-leaf Tensor, use .retain_grad() on the non-leaf Tensor. If you access the non-leaf Tensor by mistake, make sure you access the leaf Tensor instead. See github.com/pytorch/pytorch/pull/30531 for more informations. (Triggered internally at /opt/conda/conda-bld/pytorch_1666643003845/work/build/aten/src/ATen/core/TensorBody.h:480.)\n",
      "  n.grad\n"
     ]
    }
   ],
   "source": [
    "n.grad"
   ]
  },
  {
   "cell_type": "code",
   "execution_count": 117,
   "metadata": {},
   "outputs": [
    {
     "name": "stdout",
     "output_type": "stream",
     "text": [
      "x2 0.5000001283844369\n",
      "w2 0.0\n",
      "x1 -1.5000003851533106\n",
      "w1 1.0000002567688737\n"
     ]
    }
   ],
   "source": [
    "print('x2', x2.grad.item())\n",
    "print('w2', w2.grad.item())\n",
    "print('x1', x1.grad.item())\n",
    "print('w1', w1.grad.item())"
   ]
  },
  {
   "cell_type": "markdown",
   "metadata": {},
   "source": [
    "# Building out a neural net library (multi-layer perceptron) in micrograd"
   ]
  },
  {
   "cell_type": "markdown",
   "metadata": {},
   "source": [
    "![neuron_model](images/neuron_model.jpeg)"
   ]
  },
  {
   "cell_type": "markdown",
   "metadata": {},
   "source": [
    "![neural_net](images/neural_net2.jpeg)"
   ]
  },
  {
   "cell_type": "code",
   "execution_count": 293,
   "metadata": {},
   "outputs": [],
   "source": [
    "import random\n",
    "\n",
    "class Neuron:\n",
    "    \n",
    "    def __init__(self, nin):\n",
    "        self.w = [Value(random.uniform(-1,1)) for _ in range(nin)]\n",
    "        self.b = Value(random.uniform(-1,1))\n",
    "\n",
    "    def __call__(self, x):\n",
    "        # w * x + b\n",
    "        act = sum((wi*xi for wi,xi in zip(self.w, x)), self.b) #activation\n",
    "        out = act.tanh() # activation function\n",
    "        return out\n"
   ]
  },
  {
   "cell_type": "code",
   "execution_count": 296,
   "metadata": {},
   "outputs": [
    {
     "data": {
      "text/plain": [
       "Value(data=0.9719696906285737)"
      ]
     },
     "execution_count": 296,
     "metadata": {},
     "output_type": "execute_result"
    }
   ],
   "source": [
    "x = [2.0, 3.0] # input data\n",
    "n = Neuron(2)  # number of neurons\n",
    "n(x)"
   ]
  },
  {
   "cell_type": "code",
   "execution_count": 299,
   "metadata": {},
   "outputs": [],
   "source": [
    "class Layer:\n",
    "\n",
    "    def __init__(self, nin, nout):\n",
    "        self.neurons = [Neuron(nin) for _ in range(nout)]\n",
    "\n",
    "    def __call__(self, x):\n",
    "        outs = [neuron(x) for neuron in self.neurons]\n",
    "        return outs[0] if len(outs) == 1 else outs"
   ]
  },
  {
   "cell_type": "code",
   "execution_count": 300,
   "metadata": {},
   "outputs": [
    {
     "data": {
      "text/plain": [
       "[Value(data=0.9998404230618075),\n",
       " Value(data=0.6084969750445892),\n",
       " Value(data=-0.9989006656967194)]"
      ]
     },
     "execution_count": 300,
     "metadata": {},
     "output_type": "execute_result"
    }
   ],
   "source": [
    "x = [2.0, 3.0] # input data\n",
    "l = Layer(2,3) # 3 neurons each having 2 inputs \n",
    "l(x)"
   ]
  },
  {
   "cell_type": "code",
   "execution_count": 301,
   "metadata": {},
   "outputs": [],
   "source": [
    "class MLP:\n",
    "  \n",
    "  def __init__(self, nin, nouts):\n",
    "    sz = [nin] + nouts\n",
    "    self.layers = [Layer(sz[i], sz[i+1]) for i in range(len(nouts))]\n",
    "  \n",
    "  def __call__(self, x):\n",
    "    for layer in self.layers:\n",
    "      x = layer(x)\n",
    "    return x"
   ]
  },
  {
   "cell_type": "code",
   "execution_count": 308,
   "metadata": {},
   "outputs": [
    {
     "data": {
      "text/plain": [
       "Value(data=0.21666687169403506)"
      ]
     },
     "execution_count": 308,
     "metadata": {},
     "output_type": "execute_result"
    }
   ],
   "source": [
    "x = [2.0, 3.0, -1,0] # input data\n",
    "nn = MLP(3, [4, 4, 1]) # 3 layers of neurons (4,4,1) each having 3 inputs \n",
    "nn(x)"
   ]
  },
  {
   "cell_type": "code",
   "execution_count": 311,
   "metadata": {},
   "outputs": [
    {
     "data": {
      "image/svg+xml": "<?xml version=\"1.0\" encoding=\"UTF-8\" standalone=\"no\"?>\n<!DOCTYPE svg PUBLIC \"-//W3C//DTD SVG 1.1//EN\"\n \"http://www.w3.org/Graphics/SVG/1.1/DTD/svg11.dtd\">\n<!-- Generated by graphviz version 2.50.0 (0)\n -->\n<!-- Pages: 1 -->\n<svg width=\"5619pt\" height=\"1018pt\"\n viewBox=\"0.00 0.00 5619.00 1018.00\" xmlns=\"http://www.w3.org/2000/svg\" xmlns:xlink=\"http://www.w3.org/1999/xlink\">\n<g id=\"graph0\" class=\"graph\" transform=\"scale(1 1) rotate(0) translate(4 1014)\">\n<polygon fill=\"white\" stroke=\"transparent\" points=\"-4,4 -4,-1014 5615,-1014 5615,4 -4,4\"/>\n<!-- 139889235787984 -->\n<g id=\"node1\" class=\"node\">\n<title>139889235787984</title>\n<polygon fill=\"none\" stroke=\"black\" points=\"2501.5,-825.5 2501.5,-861.5 2683.5,-861.5 2683.5,-825.5 2501.5,-825.5\"/>\n<text text-anchor=\"middle\" x=\"2511.5\" y=\"-839.8\" font-family=\"Times,serif\" font-size=\"14.00\"> </text>\n<polyline fill=\"none\" stroke=\"black\" points=\"2521.5,-825.5 2521.5,-861.5 \"/>\n<text text-anchor=\"middle\" x=\"2561.5\" y=\"-839.8\" font-family=\"Times,serif\" font-size=\"14.00\">data 0.0880</text>\n<polyline fill=\"none\" stroke=\"black\" points=\"2601.5,-825.5 2601.5,-861.5 \"/>\n<text text-anchor=\"middle\" x=\"2642.5\" y=\"-839.8\" font-family=\"Times,serif\" font-size=\"14.00\">grad 0.0000</text>\n</g>\n<!-- 139889235788368+ -->\n<g id=\"node11\" class=\"node\">\n<title>139889235788368+</title>\n<ellipse fill=\"none\" stroke=\"black\" cx=\"2749\" cy=\"-788.5\" rx=\"27\" ry=\"18\"/>\n<text text-anchor=\"middle\" x=\"2749\" y=\"-784.8\" font-family=\"Times,serif\" font-size=\"14.00\">+</text>\n</g>\n<!-- 139889235787984&#45;&gt;139889235788368+ -->\n<g id=\"edge177\" class=\"edge\">\n<title>139889235787984&#45;&gt;139889235788368+</title>\n<path fill=\"none\" stroke=\"black\" d=\"M2657.02,-825.35C2666.79,-822.24 2676.71,-818.92 2686,-815.5 2696.25,-811.73 2707.23,-807.14 2717.07,-802.82\"/>\n<polygon fill=\"black\" stroke=\"black\" points=\"2718.74,-805.9 2726.45,-798.63 2715.89,-799.51 2718.74,-805.9\"/>\n</g>\n<!-- 139889235787984+ -->\n<g id=\"node2\" class=\"node\">\n<title>139889235787984+</title>\n<ellipse fill=\"none\" stroke=\"black\" cx=\"2436\" cy=\"-843.5\" rx=\"27\" ry=\"18\"/>\n<text text-anchor=\"middle\" x=\"2436\" y=\"-839.8\" font-family=\"Times,serif\" font-size=\"14.00\">+</text>\n</g>\n<!-- 139889235787984+&#45;&gt;139889235787984 -->\n<g id=\"edge1\" class=\"edge\">\n<title>139889235787984+&#45;&gt;139889235787984</title>\n<path fill=\"none\" stroke=\"black\" d=\"M2463.21,-843.5C2471.34,-843.5 2480.85,-843.5 2490.94,-843.5\"/>\n<polygon fill=\"black\" stroke=\"black\" points=\"2491.19,-847 2501.19,-843.5 2491.19,-840 2491.19,-847\"/>\n</g>\n<!-- 139889235788176 -->\n<g id=\"node3\" class=\"node\">\n<title>139889235788176</title>\n<polygon fill=\"none\" stroke=\"black\" points=\"2501.5,-770.5 2501.5,-806.5 2683.5,-806.5 2683.5,-770.5 2501.5,-770.5\"/>\n<text text-anchor=\"middle\" x=\"2511.5\" y=\"-784.8\" font-family=\"Times,serif\" font-size=\"14.00\"> </text>\n<polyline fill=\"none\" stroke=\"black\" points=\"2521.5,-770.5 2521.5,-806.5 \"/>\n<text text-anchor=\"middle\" x=\"2561.5\" y=\"-784.8\" font-family=\"Times,serif\" font-size=\"14.00\">data 0.9118</text>\n<polyline fill=\"none\" stroke=\"black\" points=\"2601.5,-770.5 2601.5,-806.5 \"/>\n<text text-anchor=\"middle\" x=\"2642.5\" y=\"-784.8\" font-family=\"Times,serif\" font-size=\"14.00\">grad 0.0000</text>\n</g>\n<!-- 139889235788176&#45;&gt;139889235788368+ -->\n<g id=\"edge129\" class=\"edge\">\n<title>139889235788176&#45;&gt;139889235788368+</title>\n<path fill=\"none\" stroke=\"black\" d=\"M2683.82,-788.5C2693.57,-788.5 2703.04,-788.5 2711.57,-788.5\"/>\n<polygon fill=\"black\" stroke=\"black\" points=\"2711.83,-792 2721.83,-788.5 2711.83,-785 2711.83,-792\"/>\n</g>\n<!-- 139889235788176* -->\n<g id=\"node4\" class=\"node\">\n<title>139889235788176*</title>\n<ellipse fill=\"none\" stroke=\"black\" cx=\"2436\" cy=\"-788.5\" rx=\"27\" ry=\"18\"/>\n<text text-anchor=\"middle\" x=\"2436\" y=\"-784.8\" font-family=\"Times,serif\" font-size=\"14.00\">*</text>\n</g>\n<!-- 139889235788176*&#45;&gt;139889235788176 -->\n<g id=\"edge2\" class=\"edge\">\n<title>139889235788176*&#45;&gt;139889235788176</title>\n<path fill=\"none\" stroke=\"black\" d=\"M2463.21,-788.5C2471.34,-788.5 2480.85,-788.5 2490.94,-788.5\"/>\n<polygon fill=\"black\" stroke=\"black\" points=\"2491.19,-792 2501.19,-788.5 2491.19,-785 2491.19,-792\"/>\n</g>\n<!-- 139889235648928 -->\n<g id=\"node5\" class=\"node\">\n<title>139889235648928</title>\n<polygon fill=\"none\" stroke=\"black\" points=\"1247,-698.5 1247,-734.5 1434,-734.5 1434,-698.5 1247,-698.5\"/>\n<text text-anchor=\"middle\" x=\"1257\" y=\"-712.8\" font-family=\"Times,serif\" font-size=\"14.00\"> </text>\n<polyline fill=\"none\" stroke=\"black\" points=\"1267,-698.5 1267,-734.5 \"/>\n<text text-anchor=\"middle\" x=\"1309.5\" y=\"-712.8\" font-family=\"Times,serif\" font-size=\"14.00\">data &#45;1.0000</text>\n<polyline fill=\"none\" stroke=\"black\" points=\"1352,-698.5 1352,-734.5 \"/>\n<text text-anchor=\"middle\" x=\"1393\" y=\"-712.8\" font-family=\"Times,serif\" font-size=\"14.00\">grad 0.0000</text>\n</g>\n<!-- 139889235648976* -->\n<g id=\"node7\" class=\"node\">\n<title>139889235648976*</title>\n<ellipse fill=\"none\" stroke=\"black\" cx=\"1497\" cy=\"-716.5\" rx=\"27\" ry=\"18\"/>\n<text text-anchor=\"middle\" x=\"1497\" y=\"-712.8\" font-family=\"Times,serif\" font-size=\"14.00\">*</text>\n</g>\n<!-- 139889235648928&#45;&gt;139889235648976* -->\n<g id=\"edge125\" class=\"edge\">\n<title>139889235648928&#45;&gt;139889235648976*</title>\n<path fill=\"none\" stroke=\"black\" d=\"M1434.05,-716.5C1443.06,-716.5 1451.79,-716.5 1459.7,-716.5\"/>\n<polygon fill=\"black\" stroke=\"black\" points=\"1459.95,-720 1469.95,-716.5 1459.95,-713 1459.95,-720\"/>\n</g>\n<!-- 139889235648976 -->\n<g id=\"node6\" class=\"node\">\n<title>139889235648976</title>\n<polygon fill=\"none\" stroke=\"black\" points=\"1562.5,-698.5 1562.5,-734.5 1744.5,-734.5 1744.5,-698.5 1562.5,-698.5\"/>\n<text text-anchor=\"middle\" x=\"1572.5\" y=\"-712.8\" font-family=\"Times,serif\" font-size=\"14.00\"> </text>\n<polyline fill=\"none\" stroke=\"black\" points=\"1582.5,-698.5 1582.5,-734.5 \"/>\n<text text-anchor=\"middle\" x=\"1622.5\" y=\"-712.8\" font-family=\"Times,serif\" font-size=\"14.00\">data 0.1248</text>\n<polyline fill=\"none\" stroke=\"black\" points=\"1662.5,-698.5 1662.5,-734.5 \"/>\n<text text-anchor=\"middle\" x=\"1703.5\" y=\"-712.8\" font-family=\"Times,serif\" font-size=\"14.00\">grad 0.0000</text>\n</g>\n<!-- 139889235731712+ -->\n<g id=\"node27\" class=\"node\">\n<title>139889235731712+</title>\n<ellipse fill=\"none\" stroke=\"black\" cx=\"1810\" cy=\"-678.5\" rx=\"27\" ry=\"18\"/>\n<text text-anchor=\"middle\" x=\"1810\" y=\"-674.8\" font-family=\"Times,serif\" font-size=\"14.00\">+</text>\n</g>\n<!-- 139889235648976&#45;&gt;139889235731712+ -->\n<g id=\"edge185\" class=\"edge\">\n<title>139889235648976&#45;&gt;139889235731712+</title>\n<path fill=\"none\" stroke=\"black\" d=\"M1728.13,-698.39C1744.36,-694.4 1760.8,-690.36 1774.58,-686.97\"/>\n<polygon fill=\"black\" stroke=\"black\" points=\"1775.68,-690.3 1784.55,-684.51 1774,-683.5 1775.68,-690.3\"/>\n</g>\n<!-- 139889235648976*&#45;&gt;139889235648976 -->\n<g id=\"edge3\" class=\"edge\">\n<title>139889235648976*&#45;&gt;139889235648976</title>\n<path fill=\"none\" stroke=\"black\" d=\"M1524.21,-716.5C1532.34,-716.5 1541.85,-716.5 1551.94,-716.5\"/>\n<polygon fill=\"black\" stroke=\"black\" points=\"1552.19,-720 1562.19,-716.5 1552.19,-713 1552.19,-720\"/>\n</g>\n<!-- 139889235649072 -->\n<g id=\"node8\" class=\"node\">\n<title>139889235649072</title>\n<polygon fill=\"none\" stroke=\"black\" points=\"1562.5,-643.5 1562.5,-679.5 1744.5,-679.5 1744.5,-643.5 1562.5,-643.5\"/>\n<text text-anchor=\"middle\" x=\"1572.5\" y=\"-657.8\" font-family=\"Times,serif\" font-size=\"14.00\"> </text>\n<polyline fill=\"none\" stroke=\"black\" points=\"1582.5,-643.5 1582.5,-679.5 \"/>\n<text text-anchor=\"middle\" x=\"1622.5\" y=\"-657.8\" font-family=\"Times,serif\" font-size=\"14.00\">data 3.7946</text>\n<polyline fill=\"none\" stroke=\"black\" points=\"1662.5,-643.5 1662.5,-679.5 \"/>\n<text text-anchor=\"middle\" x=\"1703.5\" y=\"-657.8\" font-family=\"Times,serif\" font-size=\"14.00\">grad 0.0000</text>\n</g>\n<!-- 139889235649072&#45;&gt;139889235731712+ -->\n<g id=\"edge127\" class=\"edge\">\n<title>139889235649072&#45;&gt;139889235731712+</title>\n<path fill=\"none\" stroke=\"black\" d=\"M1744.82,-671.44C1754.77,-672.53 1764.43,-673.6 1773.1,-674.55\"/>\n<polygon fill=\"black\" stroke=\"black\" points=\"1772.81,-678.04 1783.14,-675.65 1773.58,-671.08 1772.81,-678.04\"/>\n</g>\n<!-- 139889235649072+ -->\n<g id=\"node9\" class=\"node\">\n<title>139889235649072+</title>\n<ellipse fill=\"none\" stroke=\"black\" cx=\"1497\" cy=\"-661.5\" rx=\"27\" ry=\"18\"/>\n<text text-anchor=\"middle\" x=\"1497\" y=\"-657.8\" font-family=\"Times,serif\" font-size=\"14.00\">+</text>\n</g>\n<!-- 139889235649072+&#45;&gt;139889235649072 -->\n<g id=\"edge4\" class=\"edge\">\n<title>139889235649072+&#45;&gt;139889235649072</title>\n<path fill=\"none\" stroke=\"black\" d=\"M1524.21,-661.5C1532.34,-661.5 1541.85,-661.5 1551.94,-661.5\"/>\n<polygon fill=\"black\" stroke=\"black\" points=\"1552.19,-665 1562.19,-661.5 1552.19,-658 1552.19,-665\"/>\n</g>\n<!-- 139889235788368 -->\n<g id=\"node10\" class=\"node\">\n<title>139889235788368</title>\n<polygon fill=\"none\" stroke=\"black\" points=\"2814.5,-742.5 2814.5,-778.5 2996.5,-778.5 2996.5,-742.5 2814.5,-742.5\"/>\n<text text-anchor=\"middle\" x=\"2824.5\" y=\"-756.8\" font-family=\"Times,serif\" font-size=\"14.00\"> </text>\n<polyline fill=\"none\" stroke=\"black\" points=\"2834.5,-742.5 2834.5,-778.5 \"/>\n<text text-anchor=\"middle\" x=\"2874.5\" y=\"-756.8\" font-family=\"Times,serif\" font-size=\"14.00\">data 0.9998</text>\n<polyline fill=\"none\" stroke=\"black\" points=\"2914.5,-742.5 2914.5,-778.5 \"/>\n<text text-anchor=\"middle\" x=\"2955.5\" y=\"-756.8\" font-family=\"Times,serif\" font-size=\"14.00\">grad 0.0000</text>\n</g>\n<!-- 139889235788752+ -->\n<g id=\"node16\" class=\"node\">\n<title>139889235788752+</title>\n<ellipse fill=\"none\" stroke=\"black\" cx=\"3062\" cy=\"-650.5\" rx=\"27\" ry=\"18\"/>\n<text text-anchor=\"middle\" x=\"3062\" y=\"-646.8\" font-family=\"Times,serif\" font-size=\"14.00\">+</text>\n</g>\n<!-- 139889235788368&#45;&gt;139889235788752+ -->\n<g id=\"edge121\" class=\"edge\">\n<title>139889235788368&#45;&gt;139889235788752+</title>\n<path fill=\"none\" stroke=\"black\" d=\"M2940.43,-742.37C2958.37,-732.28 2980.45,-719.06 2999,-705.5 3012.78,-695.43 3027.1,-682.88 3038.51,-672.32\"/>\n<polygon fill=\"black\" stroke=\"black\" points=\"3041,-674.77 3045.89,-665.37 3036.21,-669.67 3041,-674.77\"/>\n</g>\n<!-- 139889235788368+&#45;&gt;139889235788368 -->\n<g id=\"edge5\" class=\"edge\">\n<title>139889235788368+&#45;&gt;139889235788368</title>\n<path fill=\"none\" stroke=\"black\" d=\"M2775.17,-783.94C2783.61,-782.41 2793.61,-780.6 2804.25,-778.67\"/>\n<polygon fill=\"black\" stroke=\"black\" points=\"2804.96,-782.1 2814.18,-776.87 2803.71,-775.21 2804.96,-782.1\"/>\n</g>\n<!-- 139889235788560 -->\n<g id=\"node12\" class=\"node\">\n<title>139889235788560</title>\n<polygon fill=\"none\" stroke=\"black\" points=\"2812,-550.5 2812,-586.5 2999,-586.5 2999,-550.5 2812,-550.5\"/>\n<text text-anchor=\"middle\" x=\"2822\" y=\"-564.8\" font-family=\"Times,serif\" font-size=\"14.00\"> </text>\n<polyline fill=\"none\" stroke=\"black\" points=\"2832,-550.5 2832,-586.5 \"/>\n<text text-anchor=\"middle\" x=\"2874.5\" y=\"-564.8\" font-family=\"Times,serif\" font-size=\"14.00\">data &#45;0.0968</text>\n<polyline fill=\"none\" stroke=\"black\" points=\"2917,-550.5 2917,-586.5 \"/>\n<text text-anchor=\"middle\" x=\"2958\" y=\"-564.8\" font-family=\"Times,serif\" font-size=\"14.00\">grad 0.0000</text>\n</g>\n<!-- 139889235788560&#45;&gt;139889235788752+ -->\n<g id=\"edge146\" class=\"edge\">\n<title>139889235788560&#45;&gt;139889235788752+</title>\n<path fill=\"none\" stroke=\"black\" d=\"M2979.94,-586.62C2986.54,-589.24 2993,-592.18 2999,-595.5 3014.14,-603.87 3028.74,-616.51 3039.96,-627.56\"/>\n<polygon fill=\"black\" stroke=\"black\" points=\"3037.65,-630.21 3047.16,-634.89 3042.65,-625.3 3037.65,-630.21\"/>\n</g>\n<!-- 139889235788560* -->\n<g id=\"node13\" class=\"node\">\n<title>139889235788560*</title>\n<ellipse fill=\"none\" stroke=\"black\" cx=\"2749\" cy=\"-568.5\" rx=\"27\" ry=\"18\"/>\n<text text-anchor=\"middle\" x=\"2749\" y=\"-564.8\" font-family=\"Times,serif\" font-size=\"14.00\">*</text>\n</g>\n<!-- 139889235788560*&#45;&gt;139889235788560 -->\n<g id=\"edge6\" class=\"edge\">\n<title>139889235788560*&#45;&gt;139889235788560</title>\n<path fill=\"none\" stroke=\"black\" d=\"M2776.21,-568.5C2783.73,-568.5 2792.43,-568.5 2801.67,-568.5\"/>\n<polygon fill=\"black\" stroke=\"black\" points=\"2801.89,-572 2811.89,-568.5 2801.89,-565 2801.89,-572\"/>\n</g>\n<!-- 139889235518336 -->\n<g id=\"node14\" class=\"node\">\n<title>139889235518336</title>\n<polygon fill=\"none\" stroke=\"black\" points=\"1875.5,-440.5 1875.5,-476.5 2057.5,-476.5 2057.5,-440.5 1875.5,-440.5\"/>\n<text text-anchor=\"middle\" x=\"1885.5\" y=\"-454.8\" font-family=\"Times,serif\" font-size=\"14.00\"> </text>\n<polyline fill=\"none\" stroke=\"black\" points=\"1895.5,-440.5 1895.5,-476.5 \"/>\n<text text-anchor=\"middle\" x=\"1935.5\" y=\"-454.8\" font-family=\"Times,serif\" font-size=\"14.00\">data 0.0193</text>\n<polyline fill=\"none\" stroke=\"black\" points=\"1975.5,-440.5 1975.5,-476.5 \"/>\n<text text-anchor=\"middle\" x=\"2016.5\" y=\"-454.8\" font-family=\"Times,serif\" font-size=\"14.00\">grad 0.0000</text>\n</g>\n<!-- 139889235734928+ -->\n<g id=\"node113\" class=\"node\">\n<title>139889235734928+</title>\n<ellipse fill=\"none\" stroke=\"black\" cx=\"2123\" cy=\"-458.5\" rx=\"27\" ry=\"18\"/>\n<text text-anchor=\"middle\" x=\"2123\" y=\"-454.8\" font-family=\"Times,serif\" font-size=\"14.00\">+</text>\n</g>\n<!-- 139889235518336&#45;&gt;139889235734928+ -->\n<g id=\"edge114\" class=\"edge\">\n<title>139889235518336&#45;&gt;139889235734928+</title>\n<path fill=\"none\" stroke=\"black\" d=\"M2057.82,-458.5C2067.57,-458.5 2077.04,-458.5 2085.57,-458.5\"/>\n<polygon fill=\"black\" stroke=\"black\" points=\"2085.83,-462 2095.83,-458.5 2085.83,-455 2085.83,-462\"/>\n</g>\n<!-- 139889235788752 -->\n<g id=\"node15\" class=\"node\">\n<title>139889235788752</title>\n<polygon fill=\"none\" stroke=\"black\" points=\"3127.5,-632.5 3127.5,-668.5 3309.5,-668.5 3309.5,-632.5 3127.5,-632.5\"/>\n<text text-anchor=\"middle\" x=\"3137.5\" y=\"-646.8\" font-family=\"Times,serif\" font-size=\"14.00\"> </text>\n<polyline fill=\"none\" stroke=\"black\" points=\"3147.5,-632.5 3147.5,-668.5 \"/>\n<text text-anchor=\"middle\" x=\"3187.5\" y=\"-646.8\" font-family=\"Times,serif\" font-size=\"14.00\">data 0.9029</text>\n<polyline fill=\"none\" stroke=\"black\" points=\"3227.5,-632.5 3227.5,-668.5 \"/>\n<text text-anchor=\"middle\" x=\"3268.5\" y=\"-646.8\" font-family=\"Times,serif\" font-size=\"14.00\">grad 0.0000</text>\n</g>\n<!-- 139889235788848tanh -->\n<g id=\"node21\" class=\"node\">\n<title>139889235788848tanh</title>\n<ellipse fill=\"none\" stroke=\"black\" cx=\"3375\" cy=\"-650.5\" rx=\"27\" ry=\"18\"/>\n<text text-anchor=\"middle\" x=\"3375\" y=\"-646.8\" font-family=\"Times,serif\" font-size=\"14.00\">tanh</text>\n</g>\n<!-- 139889235788752&#45;&gt;139889235788848tanh -->\n<g id=\"edge131\" class=\"edge\">\n<title>139889235788752&#45;&gt;139889235788848tanh</title>\n<path fill=\"none\" stroke=\"black\" d=\"M3309.82,-650.5C3319.57,-650.5 3329.04,-650.5 3337.57,-650.5\"/>\n<polygon fill=\"black\" stroke=\"black\" points=\"3337.83,-654 3347.83,-650.5 3337.83,-647 3337.83,-654\"/>\n</g>\n<!-- 139889235788752+&#45;&gt;139889235788752 -->\n<g id=\"edge7\" class=\"edge\">\n<title>139889235788752+&#45;&gt;139889235788752</title>\n<path fill=\"none\" stroke=\"black\" d=\"M3089.21,-650.5C3097.34,-650.5 3106.85,-650.5 3116.94,-650.5\"/>\n<polygon fill=\"black\" stroke=\"black\" points=\"3117.19,-654 3127.19,-650.5 3117.19,-647 3117.19,-654\"/>\n</g>\n<!-- 139889235649504 -->\n<g id=\"node17\" class=\"node\">\n<title>139889235649504</title>\n<polygon fill=\"none\" stroke=\"black\" points=\"936.5,-588.5 936.5,-624.5 1118.5,-624.5 1118.5,-588.5 936.5,-588.5\"/>\n<text text-anchor=\"middle\" x=\"946.5\" y=\"-602.8\" font-family=\"Times,serif\" font-size=\"14.00\"> </text>\n<polyline fill=\"none\" stroke=\"black\" points=\"956.5,-588.5 956.5,-624.5 \"/>\n<text text-anchor=\"middle\" x=\"996.5\" y=\"-602.8\" font-family=\"Times,serif\" font-size=\"14.00\">data 3.0000</text>\n<polyline fill=\"none\" stroke=\"black\" points=\"1036.5,-588.5 1036.5,-624.5 \"/>\n<text text-anchor=\"middle\" x=\"1077.5\" y=\"-602.8\" font-family=\"Times,serif\" font-size=\"14.00\">grad 0.0000</text>\n</g>\n<!-- 139889235649552* -->\n<g id=\"node19\" class=\"node\">\n<title>139889235649552*</title>\n<ellipse fill=\"none\" stroke=\"black\" cx=\"1184\" cy=\"-606.5\" rx=\"27\" ry=\"18\"/>\n<text text-anchor=\"middle\" x=\"1184\" y=\"-602.8\" font-family=\"Times,serif\" font-size=\"14.00\">*</text>\n</g>\n<!-- 139889235649504&#45;&gt;139889235649552* -->\n<g id=\"edge189\" class=\"edge\">\n<title>139889235649504&#45;&gt;139889235649552*</title>\n<path fill=\"none\" stroke=\"black\" d=\"M1118.82,-606.5C1128.57,-606.5 1138.04,-606.5 1146.57,-606.5\"/>\n<polygon fill=\"black\" stroke=\"black\" points=\"1146.83,-610 1156.83,-606.5 1146.83,-603 1146.83,-610\"/>\n</g>\n<!-- 139889235649552 -->\n<g id=\"node18\" class=\"node\">\n<title>139889235649552</title>\n<polygon fill=\"none\" stroke=\"black\" points=\"1249.5,-588.5 1249.5,-624.5 1431.5,-624.5 1431.5,-588.5 1249.5,-588.5\"/>\n<text text-anchor=\"middle\" x=\"1259.5\" y=\"-602.8\" font-family=\"Times,serif\" font-size=\"14.00\"> </text>\n<polyline fill=\"none\" stroke=\"black\" points=\"1269.5,-588.5 1269.5,-624.5 \"/>\n<text text-anchor=\"middle\" x=\"1309.5\" y=\"-602.8\" font-family=\"Times,serif\" font-size=\"14.00\">data 1.8715</text>\n<polyline fill=\"none\" stroke=\"black\" points=\"1349.5,-588.5 1349.5,-624.5 \"/>\n<text text-anchor=\"middle\" x=\"1390.5\" y=\"-602.8\" font-family=\"Times,serif\" font-size=\"14.00\">grad 0.0000</text>\n</g>\n<!-- 139889235649552&#45;&gt;139889235649072+ -->\n<g id=\"edge140\" class=\"edge\">\n<title>139889235649552&#45;&gt;139889235649072+</title>\n<path fill=\"none\" stroke=\"black\" d=\"M1407.56,-624.55C1416.51,-627.36 1425.53,-630.37 1434,-633.5 1444.49,-637.38 1455.71,-642.22 1465.68,-646.78\"/>\n<polygon fill=\"black\" stroke=\"black\" points=\"1464.25,-649.98 1474.79,-651.03 1467.2,-643.63 1464.25,-649.98\"/>\n</g>\n<!-- 139889235649552*&#45;&gt;139889235649552 -->\n<g id=\"edge8\" class=\"edge\">\n<title>139889235649552*&#45;&gt;139889235649552</title>\n<path fill=\"none\" stroke=\"black\" d=\"M1211.21,-606.5C1219.34,-606.5 1228.85,-606.5 1238.94,-606.5\"/>\n<polygon fill=\"black\" stroke=\"black\" points=\"1239.19,-610 1249.19,-606.5 1239.19,-603 1239.19,-610\"/>\n</g>\n<!-- 139889235788848 -->\n<g id=\"node20\" class=\"node\">\n<title>139889235788848</title>\n<polygon fill=\"none\" stroke=\"black\" points=\"3440.5,-632.5 3440.5,-668.5 3622.5,-668.5 3622.5,-632.5 3440.5,-632.5\"/>\n<text text-anchor=\"middle\" x=\"3450.5\" y=\"-646.8\" font-family=\"Times,serif\" font-size=\"14.00\"> </text>\n<polyline fill=\"none\" stroke=\"black\" points=\"3460.5,-632.5 3460.5,-668.5 \"/>\n<text text-anchor=\"middle\" x=\"3500.5\" y=\"-646.8\" font-family=\"Times,serif\" font-size=\"14.00\">data 0.7177</text>\n<polyline fill=\"none\" stroke=\"black\" points=\"3540.5,-632.5 3540.5,-668.5 \"/>\n<text text-anchor=\"middle\" x=\"3581.5\" y=\"-646.8\" font-family=\"Times,serif\" font-size=\"14.00\">grad 0.0000</text>\n</g>\n<!-- 139889235791632* -->\n<g id=\"node92\" class=\"node\">\n<title>139889235791632*</title>\n<ellipse fill=\"none\" stroke=\"black\" cx=\"3688\" cy=\"-595.5\" rx=\"27\" ry=\"18\"/>\n<text text-anchor=\"middle\" x=\"3688\" y=\"-591.8\" font-family=\"Times,serif\" font-size=\"14.00\">*</text>\n</g>\n<!-- 139889235788848&#45;&gt;139889235791632* -->\n<g id=\"edge197\" class=\"edge\">\n<title>139889235788848&#45;&gt;139889235791632*</title>\n<path fill=\"none\" stroke=\"black\" d=\"M3596.02,-632.35C3605.79,-629.24 3615.71,-625.92 3625,-622.5 3635.25,-618.73 3646.23,-614.14 3656.07,-609.82\"/>\n<polygon fill=\"black\" stroke=\"black\" points=\"3657.74,-612.9 3665.45,-605.63 3654.89,-606.51 3657.74,-612.9\"/>\n</g>\n<!-- 139889235788848tanh&#45;&gt;139889235788848 -->\n<g id=\"edge9\" class=\"edge\">\n<title>139889235788848tanh&#45;&gt;139889235788848</title>\n<path fill=\"none\" stroke=\"black\" d=\"M3402.21,-650.5C3410.34,-650.5 3419.85,-650.5 3429.94,-650.5\"/>\n<polygon fill=\"black\" stroke=\"black\" points=\"3430.19,-654 3440.19,-650.5 3430.19,-647 3430.19,-654\"/>\n</g>\n<!-- 139889235649744 -->\n<g id=\"node22\" class=\"node\">\n<title>139889235649744</title>\n<polygon fill=\"none\" stroke=\"black\" points=\"623.5,-533.5 623.5,-569.5 805.5,-569.5 805.5,-533.5 623.5,-533.5\"/>\n<text text-anchor=\"middle\" x=\"633.5\" y=\"-547.8\" font-family=\"Times,serif\" font-size=\"14.00\"> </text>\n<polyline fill=\"none\" stroke=\"black\" points=\"643.5,-533.5 643.5,-569.5 \"/>\n<text text-anchor=\"middle\" x=\"683.5\" y=\"-547.8\" font-family=\"Times,serif\" font-size=\"14.00\">data 3.0000</text>\n<polyline fill=\"none\" stroke=\"black\" points=\"723.5,-533.5 723.5,-569.5 \"/>\n<text text-anchor=\"middle\" x=\"764.5\" y=\"-547.8\" font-family=\"Times,serif\" font-size=\"14.00\">grad 0.0000</text>\n</g>\n<!-- 139889235649792* -->\n<g id=\"node25\" class=\"node\">\n<title>139889235649792*</title>\n<ellipse fill=\"none\" stroke=\"black\" cx=\"871\" cy=\"-496.5\" rx=\"27\" ry=\"18\"/>\n<text text-anchor=\"middle\" x=\"871\" y=\"-492.8\" font-family=\"Times,serif\" font-size=\"14.00\">*</text>\n</g>\n<!-- 139889235649744&#45;&gt;139889235649792* -->\n<g id=\"edge95\" class=\"edge\">\n<title>139889235649744&#45;&gt;139889235649792*</title>\n<path fill=\"none\" stroke=\"black\" d=\"M779.02,-533.35C788.79,-530.24 798.71,-526.92 808,-523.5 818.25,-519.73 829.23,-515.14 839.07,-510.82\"/>\n<polygon fill=\"black\" stroke=\"black\" points=\"840.74,-513.9 848.45,-506.63 837.89,-507.51 840.74,-513.9\"/>\n</g>\n<!-- 139889235518672 -->\n<g id=\"node23\" class=\"node\">\n<title>139889235518672</title>\n<polygon fill=\"none\" stroke=\"black\" points=\"2186,-550.5 2186,-586.5 2373,-586.5 2373,-550.5 2186,-550.5\"/>\n<text text-anchor=\"middle\" x=\"2196\" y=\"-564.8\" font-family=\"Times,serif\" font-size=\"14.00\"> </text>\n<polyline fill=\"none\" stroke=\"black\" points=\"2206,-550.5 2206,-586.5 \"/>\n<text text-anchor=\"middle\" x=\"2248.5\" y=\"-564.8\" font-family=\"Times,serif\" font-size=\"14.00\">data &#45;0.6773</text>\n<polyline fill=\"none\" stroke=\"black\" points=\"2291,-550.5 2291,-586.5 \"/>\n<text text-anchor=\"middle\" x=\"2332\" y=\"-564.8\" font-family=\"Times,serif\" font-size=\"14.00\">grad 0.0000</text>\n</g>\n<!-- 139889235735504* -->\n<g id=\"node131\" class=\"node\">\n<title>139889235735504*</title>\n<ellipse fill=\"none\" stroke=\"black\" cx=\"2436\" cy=\"-623.5\" rx=\"27\" ry=\"18\"/>\n<text text-anchor=\"middle\" x=\"2436\" y=\"-619.8\" font-family=\"Times,serif\" font-size=\"14.00\">*</text>\n</g>\n<!-- 139889235518672&#45;&gt;139889235735504* -->\n<g id=\"edge142\" class=\"edge\">\n<title>139889235518672&#45;&gt;139889235735504*</title>\n<path fill=\"none\" stroke=\"black\" d=\"M2346.56,-586.55C2355.51,-589.36 2364.53,-592.37 2373,-595.5 2383.49,-599.38 2394.71,-604.22 2404.68,-608.78\"/>\n<polygon fill=\"black\" stroke=\"black\" points=\"2403.25,-611.98 2413.79,-613.03 2406.2,-605.63 2403.25,-611.98\"/>\n</g>\n<!-- 139889235649792 -->\n<g id=\"node24\" class=\"node\">\n<title>139889235649792</title>\n<polygon fill=\"none\" stroke=\"black\" points=\"934,-478.5 934,-514.5 1121,-514.5 1121,-478.5 934,-478.5\"/>\n<text text-anchor=\"middle\" x=\"944\" y=\"-492.8\" font-family=\"Times,serif\" font-size=\"14.00\"> </text>\n<polyline fill=\"none\" stroke=\"black\" points=\"954,-478.5 954,-514.5 \"/>\n<text text-anchor=\"middle\" x=\"996.5\" y=\"-492.8\" font-family=\"Times,serif\" font-size=\"14.00\">data &#45;0.1991</text>\n<polyline fill=\"none\" stroke=\"black\" points=\"1039,-478.5 1039,-514.5 \"/>\n<text text-anchor=\"middle\" x=\"1080\" y=\"-492.8\" font-family=\"Times,serif\" font-size=\"14.00\">grad 0.0000</text>\n</g>\n<!-- 139889235651280+ -->\n<g id=\"node58\" class=\"node\">\n<title>139889235651280+</title>\n<ellipse fill=\"none\" stroke=\"black\" cx=\"1184\" cy=\"-482.5\" rx=\"27\" ry=\"18\"/>\n<text text-anchor=\"middle\" x=\"1184\" y=\"-478.8\" font-family=\"Times,serif\" font-size=\"14.00\">+</text>\n</g>\n<!-- 139889235649792&#45;&gt;139889235651280+ -->\n<g id=\"edge171\" class=\"edge\">\n<title>139889235649792&#45;&gt;139889235651280+</title>\n<path fill=\"none\" stroke=\"black\" d=\"M1121.05,-488.11C1130.16,-487.29 1138.98,-486.49 1146.97,-485.76\"/>\n<polygon fill=\"black\" stroke=\"black\" points=\"1147.31,-489.25 1156.95,-484.86 1146.67,-482.28 1147.31,-489.25\"/>\n</g>\n<!-- 139889235649792*&#45;&gt;139889235649792 -->\n<g id=\"edge10\" class=\"edge\">\n<title>139889235649792*&#45;&gt;139889235649792</title>\n<path fill=\"none\" stroke=\"black\" d=\"M898.21,-496.5C905.73,-496.5 914.43,-496.5 923.67,-496.5\"/>\n<polygon fill=\"black\" stroke=\"black\" points=\"923.89,-500 933.89,-496.5 923.89,-493 923.89,-500\"/>\n</g>\n<!-- 139889235731712 -->\n<g id=\"node26\" class=\"node\">\n<title>139889235731712</title>\n<polygon fill=\"none\" stroke=\"black\" points=\"1875.5,-660.5 1875.5,-696.5 2057.5,-696.5 2057.5,-660.5 1875.5,-660.5\"/>\n<text text-anchor=\"middle\" x=\"1885.5\" y=\"-674.8\" font-family=\"Times,serif\" font-size=\"14.00\"> </text>\n<polyline fill=\"none\" stroke=\"black\" points=\"1895.5,-660.5 1895.5,-696.5 \"/>\n<text text-anchor=\"middle\" x=\"1935.5\" y=\"-674.8\" font-family=\"Times,serif\" font-size=\"14.00\">data 3.9195</text>\n<polyline fill=\"none\" stroke=\"black\" points=\"1975.5,-660.5 1975.5,-696.5 \"/>\n<text text-anchor=\"middle\" x=\"2016.5\" y=\"-674.8\" font-family=\"Times,serif\" font-size=\"14.00\">grad 0.0000</text>\n</g>\n<!-- 139889235732960tanh -->\n<g id=\"node54\" class=\"node\">\n<title>139889235732960tanh</title>\n<ellipse fill=\"none\" stroke=\"black\" cx=\"2123\" cy=\"-678.5\" rx=\"27\" ry=\"18\"/>\n<text text-anchor=\"middle\" x=\"2123\" y=\"-674.8\" font-family=\"Times,serif\" font-size=\"14.00\">tanh</text>\n</g>\n<!-- 139889235731712&#45;&gt;139889235732960tanh -->\n<g id=\"edge147\" class=\"edge\">\n<title>139889235731712&#45;&gt;139889235732960tanh</title>\n<path fill=\"none\" stroke=\"black\" d=\"M2057.82,-678.5C2067.57,-678.5 2077.04,-678.5 2085.57,-678.5\"/>\n<polygon fill=\"black\" stroke=\"black\" points=\"2085.83,-682 2095.83,-678.5 2085.83,-675 2085.83,-682\"/>\n</g>\n<!-- 139889235731712+&#45;&gt;139889235731712 -->\n<g id=\"edge11\" class=\"edge\">\n<title>139889235731712+&#45;&gt;139889235731712</title>\n<path fill=\"none\" stroke=\"black\" d=\"M1837.21,-678.5C1845.34,-678.5 1854.85,-678.5 1864.94,-678.5\"/>\n<polygon fill=\"black\" stroke=\"black\" points=\"1865.19,-682 1875.19,-678.5 1865.19,-675 1865.19,-682\"/>\n</g>\n<!-- 139889235518720 -->\n<g id=\"node28\" class=\"node\">\n<title>139889235518720</title>\n<polygon fill=\"none\" stroke=\"black\" points=\"2499,-220.5 2499,-256.5 2686,-256.5 2686,-220.5 2499,-220.5\"/>\n<text text-anchor=\"middle\" x=\"2509\" y=\"-234.8\" font-family=\"Times,serif\" font-size=\"14.00\"> </text>\n<polyline fill=\"none\" stroke=\"black\" points=\"2519,-220.5 2519,-256.5 \"/>\n<text text-anchor=\"middle\" x=\"2561.5\" y=\"-234.8\" font-family=\"Times,serif\" font-size=\"14.00\">data &#45;0.9439</text>\n<polyline fill=\"none\" stroke=\"black\" points=\"2604,-220.5 2604,-256.5 \"/>\n<text text-anchor=\"middle\" x=\"2645\" y=\"-234.8\" font-family=\"Times,serif\" font-size=\"14.00\">grad 0.0000</text>\n</g>\n<!-- 139889235735888* -->\n<g id=\"node144\" class=\"node\">\n<title>139889235735888*</title>\n<ellipse fill=\"none\" stroke=\"black\" cx=\"2749\" cy=\"-293.5\" rx=\"27\" ry=\"18\"/>\n<text text-anchor=\"middle\" x=\"2749\" y=\"-289.8\" font-family=\"Times,serif\" font-size=\"14.00\">*</text>\n</g>\n<!-- 139889235518720&#45;&gt;139889235735888* -->\n<g id=\"edge87\" class=\"edge\">\n<title>139889235518720&#45;&gt;139889235735888*</title>\n<path fill=\"none\" stroke=\"black\" d=\"M2659.56,-256.55C2668.51,-259.36 2677.53,-262.37 2686,-265.5 2696.49,-269.38 2707.71,-274.22 2717.68,-278.78\"/>\n<polygon fill=\"black\" stroke=\"black\" points=\"2716.25,-281.98 2726.79,-283.03 2719.2,-275.63 2716.25,-281.98\"/>\n</g>\n<!-- 139889235789136 -->\n<g id=\"node29\" class=\"node\">\n<title>139889235789136</title>\n<polygon fill=\"none\" stroke=\"black\" points=\"1873,-275.5 1873,-311.5 2060,-311.5 2060,-275.5 1873,-275.5\"/>\n<text text-anchor=\"middle\" x=\"1883\" y=\"-289.8\" font-family=\"Times,serif\" font-size=\"14.00\"> </text>\n<polyline fill=\"none\" stroke=\"black\" points=\"1893,-275.5 1893,-311.5 \"/>\n<text text-anchor=\"middle\" x=\"1935.5\" y=\"-289.8\" font-family=\"Times,serif\" font-size=\"14.00\">data &#45;0.5456</text>\n<polyline fill=\"none\" stroke=\"black\" points=\"1978,-275.5 1978,-311.5 \"/>\n<text text-anchor=\"middle\" x=\"2019\" y=\"-289.8\" font-family=\"Times,serif\" font-size=\"14.00\">grad 0.0000</text>\n</g>\n<!-- 139889235789328+ -->\n<g id=\"node32\" class=\"node\">\n<title>139889235789328+</title>\n<ellipse fill=\"none\" stroke=\"black\" cx=\"2123\" cy=\"-293.5\" rx=\"27\" ry=\"18\"/>\n<text text-anchor=\"middle\" x=\"2123\" y=\"-289.8\" font-family=\"Times,serif\" font-size=\"14.00\">+</text>\n</g>\n<!-- 139889235789136&#45;&gt;139889235789328+ -->\n<g id=\"edge139\" class=\"edge\">\n<title>139889235789136&#45;&gt;139889235789328+</title>\n<path fill=\"none\" stroke=\"black\" d=\"M2060.05,-293.5C2069.06,-293.5 2077.79,-293.5 2085.7,-293.5\"/>\n<polygon fill=\"black\" stroke=\"black\" points=\"2085.95,-297 2095.95,-293.5 2085.95,-290 2085.95,-297\"/>\n</g>\n<!-- 139889235789136* -->\n<g id=\"node30\" class=\"node\">\n<title>139889235789136*</title>\n<ellipse fill=\"none\" stroke=\"black\" cx=\"1810\" cy=\"-379.5\" rx=\"27\" ry=\"18\"/>\n<text text-anchor=\"middle\" x=\"1810\" y=\"-375.8\" font-family=\"Times,serif\" font-size=\"14.00\">*</text>\n</g>\n<!-- 139889235789136*&#45;&gt;139889235789136 -->\n<g id=\"edge12\" class=\"edge\">\n<title>139889235789136*&#45;&gt;139889235789136</title>\n<path fill=\"none\" stroke=\"black\" d=\"M1823.69,-363.78C1835.24,-350.45 1853.43,-331.77 1873,-320.5 1875.99,-318.78 1879.1,-317.16 1882.29,-315.64\"/>\n<polygon fill=\"black\" stroke=\"black\" points=\"1883.72,-318.83 1891.46,-311.6 1880.89,-312.43 1883.72,-318.83\"/>\n</g>\n<!-- 139889235789328 -->\n<g id=\"node31\" class=\"node\">\n<title>139889235789328</title>\n<polygon fill=\"none\" stroke=\"black\" points=\"2186,-275.5 2186,-311.5 2373,-311.5 2373,-275.5 2186,-275.5\"/>\n<text text-anchor=\"middle\" x=\"2196\" y=\"-289.8\" font-family=\"Times,serif\" font-size=\"14.00\"> </text>\n<polyline fill=\"none\" stroke=\"black\" points=\"2206,-275.5 2206,-311.5 \"/>\n<text text-anchor=\"middle\" x=\"2248.5\" y=\"-289.8\" font-family=\"Times,serif\" font-size=\"14.00\">data &#45;0.9522</text>\n<polyline fill=\"none\" stroke=\"black\" points=\"2291,-275.5 2291,-311.5 \"/>\n<text text-anchor=\"middle\" x=\"2332\" y=\"-289.8\" font-family=\"Times,serif\" font-size=\"14.00\">grad 0.0000</text>\n</g>\n<!-- 139889235789712+ -->\n<g id=\"node39\" class=\"node\">\n<title>139889235789712+</title>\n<ellipse fill=\"none\" stroke=\"black\" cx=\"2436\" cy=\"-348.5\" rx=\"27\" ry=\"18\"/>\n<text text-anchor=\"middle\" x=\"2436\" y=\"-344.8\" font-family=\"Times,serif\" font-size=\"14.00\">+</text>\n</g>\n<!-- 139889235789328&#45;&gt;139889235789712+ -->\n<g id=\"edge160\" class=\"edge\">\n<title>139889235789328&#45;&gt;139889235789712+</title>\n<path fill=\"none\" stroke=\"black\" d=\"M2346.56,-311.55C2355.51,-314.36 2364.53,-317.37 2373,-320.5 2383.49,-324.38 2394.71,-329.22 2404.68,-333.78\"/>\n<polygon fill=\"black\" stroke=\"black\" points=\"2403.25,-336.98 2413.79,-338.03 2406.2,-330.63 2403.25,-336.98\"/>\n</g>\n<!-- 139889235789328+&#45;&gt;139889235789328 -->\n<g id=\"edge13\" class=\"edge\">\n<title>139889235789328+&#45;&gt;139889235789328</title>\n<path fill=\"none\" stroke=\"black\" d=\"M2150.21,-293.5C2157.73,-293.5 2166.43,-293.5 2175.67,-293.5\"/>\n<polygon fill=\"black\" stroke=\"black\" points=\"2175.89,-297 2185.89,-293.5 2175.89,-290 2175.89,-297\"/>\n</g>\n<!-- 139889235650080 -->\n<g id=\"node33\" class=\"node\">\n<title>139889235650080</title>\n<polygon fill=\"none\" stroke=\"black\" points=\"623.5,-698.5 623.5,-734.5 805.5,-734.5 805.5,-698.5 623.5,-698.5\"/>\n<text text-anchor=\"middle\" x=\"633.5\" y=\"-712.8\" font-family=\"Times,serif\" font-size=\"14.00\"> </text>\n<polyline fill=\"none\" stroke=\"black\" points=\"643.5,-698.5 643.5,-734.5 \"/>\n<text text-anchor=\"middle\" x=\"683.5\" y=\"-712.8\" font-family=\"Times,serif\" font-size=\"14.00\">data 2.0000</text>\n<polyline fill=\"none\" stroke=\"black\" points=\"723.5,-698.5 723.5,-734.5 \"/>\n<text text-anchor=\"middle\" x=\"764.5\" y=\"-712.8\" font-family=\"Times,serif\" font-size=\"14.00\">grad 0.0000</text>\n</g>\n<!-- 139889235650128* -->\n<g id=\"node35\" class=\"node\">\n<title>139889235650128*</title>\n<ellipse fill=\"none\" stroke=\"black\" cx=\"871\" cy=\"-716.5\" rx=\"27\" ry=\"18\"/>\n<text text-anchor=\"middle\" x=\"871\" y=\"-712.8\" font-family=\"Times,serif\" font-size=\"14.00\">*</text>\n</g>\n<!-- 139889235650080&#45;&gt;139889235650128* -->\n<g id=\"edge210\" class=\"edge\">\n<title>139889235650080&#45;&gt;139889235650128*</title>\n<path fill=\"none\" stroke=\"black\" d=\"M805.82,-716.5C815.57,-716.5 825.04,-716.5 833.57,-716.5\"/>\n<polygon fill=\"black\" stroke=\"black\" points=\"833.83,-720 843.83,-716.5 833.83,-713 833.83,-720\"/>\n</g>\n<!-- 139889235650128 -->\n<g id=\"node34\" class=\"node\">\n<title>139889235650128</title>\n<polygon fill=\"none\" stroke=\"black\" points=\"936.5,-698.5 936.5,-734.5 1118.5,-734.5 1118.5,-698.5 936.5,-698.5\"/>\n<text text-anchor=\"middle\" x=\"946.5\" y=\"-712.8\" font-family=\"Times,serif\" font-size=\"14.00\"> </text>\n<polyline fill=\"none\" stroke=\"black\" points=\"956.5,-698.5 956.5,-734.5 \"/>\n<text text-anchor=\"middle\" x=\"996.5\" y=\"-712.8\" font-family=\"Times,serif\" font-size=\"14.00\">data 1.8179</text>\n<polyline fill=\"none\" stroke=\"black\" points=\"1036.5,-698.5 1036.5,-734.5 \"/>\n<text text-anchor=\"middle\" x=\"1077.5\" y=\"-712.8\" font-family=\"Times,serif\" font-size=\"14.00\">grad 0.0000</text>\n</g>\n<!-- 139889235648016+ -->\n<g id=\"node192\" class=\"node\">\n<title>139889235648016+</title>\n<ellipse fill=\"none\" stroke=\"black\" cx=\"1184\" cy=\"-661.5\" rx=\"27\" ry=\"18\"/>\n<text text-anchor=\"middle\" x=\"1184\" y=\"-657.8\" font-family=\"Times,serif\" font-size=\"14.00\">+</text>\n</g>\n<!-- 139889235650128&#45;&gt;139889235648016+ -->\n<g id=\"edge178\" class=\"edge\">\n<title>139889235650128&#45;&gt;139889235648016+</title>\n<path fill=\"none\" stroke=\"black\" d=\"M1092.02,-698.35C1101.79,-695.24 1111.71,-691.92 1121,-688.5 1131.25,-684.73 1142.23,-680.14 1152.07,-675.82\"/>\n<polygon fill=\"black\" stroke=\"black\" points=\"1153.74,-678.9 1161.45,-671.63 1150.89,-672.51 1153.74,-678.9\"/>\n</g>\n<!-- 139889235650128*&#45;&gt;139889235650128 -->\n<g id=\"edge14\" class=\"edge\">\n<title>139889235650128*&#45;&gt;139889235650128</title>\n<path fill=\"none\" stroke=\"black\" d=\"M898.21,-716.5C906.34,-716.5 915.85,-716.5 925.94,-716.5\"/>\n<polygon fill=\"black\" stroke=\"black\" points=\"926.19,-720 936.19,-716.5 926.19,-713 926.19,-720\"/>\n</g>\n<!-- 139889235789520 -->\n<g id=\"node36\" class=\"node\">\n<title>139889235789520</title>\n<polygon fill=\"none\" stroke=\"black\" points=\"2188.5,-330.5 2188.5,-366.5 2370.5,-366.5 2370.5,-330.5 2188.5,-330.5\"/>\n<text text-anchor=\"middle\" x=\"2198.5\" y=\"-344.8\" font-family=\"Times,serif\" font-size=\"14.00\"> </text>\n<polyline fill=\"none\" stroke=\"black\" points=\"2208.5,-330.5 2208.5,-366.5 \"/>\n<text text-anchor=\"middle\" x=\"2248.5\" y=\"-344.8\" font-family=\"Times,serif\" font-size=\"14.00\">data 0.2373</text>\n<polyline fill=\"none\" stroke=\"black\" points=\"2288.5,-330.5 2288.5,-366.5 \"/>\n<text text-anchor=\"middle\" x=\"2329.5\" y=\"-344.8\" font-family=\"Times,serif\" font-size=\"14.00\">grad 0.0000</text>\n</g>\n<!-- 139889235789520&#45;&gt;139889235789712+ -->\n<g id=\"edge109\" class=\"edge\">\n<title>139889235789520&#45;&gt;139889235789712+</title>\n<path fill=\"none\" stroke=\"black\" d=\"M2370.82,-348.5C2380.57,-348.5 2390.04,-348.5 2398.57,-348.5\"/>\n<polygon fill=\"black\" stroke=\"black\" points=\"2398.83,-352 2408.83,-348.5 2398.83,-345 2398.83,-352\"/>\n</g>\n<!-- 139889235789520* -->\n<g id=\"node37\" class=\"node\">\n<title>139889235789520*</title>\n<ellipse fill=\"none\" stroke=\"black\" cx=\"2123\" cy=\"-348.5\" rx=\"27\" ry=\"18\"/>\n<text text-anchor=\"middle\" x=\"2123\" y=\"-344.8\" font-family=\"Times,serif\" font-size=\"14.00\">*</text>\n</g>\n<!-- 139889235789520*&#45;&gt;139889235789520 -->\n<g id=\"edge15\" class=\"edge\">\n<title>139889235789520*&#45;&gt;139889235789520</title>\n<path fill=\"none\" stroke=\"black\" d=\"M2150.21,-348.5C2158.34,-348.5 2167.85,-348.5 2177.94,-348.5\"/>\n<polygon fill=\"black\" stroke=\"black\" points=\"2178.19,-352 2188.19,-348.5 2178.19,-345 2178.19,-352\"/>\n</g>\n<!-- 139889235789712 -->\n<g id=\"node38\" class=\"node\">\n<title>139889235789712</title>\n<polygon fill=\"none\" stroke=\"black\" points=\"2499,-330.5 2499,-366.5 2686,-366.5 2686,-330.5 2499,-330.5\"/>\n<text text-anchor=\"middle\" x=\"2509\" y=\"-344.8\" font-family=\"Times,serif\" font-size=\"14.00\"> </text>\n<polyline fill=\"none\" stroke=\"black\" points=\"2519,-330.5 2519,-366.5 \"/>\n<text text-anchor=\"middle\" x=\"2561.5\" y=\"-344.8\" font-family=\"Times,serif\" font-size=\"14.00\">data &#45;0.7149</text>\n<polyline fill=\"none\" stroke=\"black\" points=\"2604,-330.5 2604,-366.5 \"/>\n<text text-anchor=\"middle\" x=\"2645\" y=\"-344.8\" font-family=\"Times,serif\" font-size=\"14.00\">grad 0.0000</text>\n</g>\n<!-- 139889235790096+ -->\n<g id=\"node48\" class=\"node\">\n<title>139889235790096+</title>\n<ellipse fill=\"none\" stroke=\"black\" cx=\"2749\" cy=\"-348.5\" rx=\"27\" ry=\"18\"/>\n<text text-anchor=\"middle\" x=\"2749\" y=\"-344.8\" font-family=\"Times,serif\" font-size=\"14.00\">+</text>\n</g>\n<!-- 139889235789712&#45;&gt;139889235790096+ -->\n<g id=\"edge133\" class=\"edge\">\n<title>139889235789712&#45;&gt;139889235790096+</title>\n<path fill=\"none\" stroke=\"black\" d=\"M2686.05,-348.5C2695.06,-348.5 2703.79,-348.5 2711.7,-348.5\"/>\n<polygon fill=\"black\" stroke=\"black\" points=\"2711.95,-352 2721.95,-348.5 2711.95,-345 2711.95,-352\"/>\n</g>\n<!-- 139889235789712+&#45;&gt;139889235789712 -->\n<g id=\"edge16\" class=\"edge\">\n<title>139889235789712+&#45;&gt;139889235789712</title>\n<path fill=\"none\" stroke=\"black\" d=\"M2463.21,-348.5C2470.73,-348.5 2479.43,-348.5 2488.67,-348.5\"/>\n<polygon fill=\"black\" stroke=\"black\" points=\"2488.89,-352 2498.89,-348.5 2488.89,-345 2488.89,-352\"/>\n</g>\n<!-- 139889235650464 -->\n<g id=\"node40\" class=\"node\">\n<title>139889235650464</title>\n<polygon fill=\"none\" stroke=\"black\" points=\"1875.5,-495.5 1875.5,-531.5 2057.5,-531.5 2057.5,-495.5 1875.5,-495.5\"/>\n<text text-anchor=\"middle\" x=\"1885.5\" y=\"-509.8\" font-family=\"Times,serif\" font-size=\"14.00\"> </text>\n<polyline fill=\"none\" stroke=\"black\" points=\"1895.5,-495.5 1895.5,-531.5 \"/>\n<text text-anchor=\"middle\" x=\"1935.5\" y=\"-509.8\" font-family=\"Times,serif\" font-size=\"14.00\">data 0.3898</text>\n<polyline fill=\"none\" stroke=\"black\" points=\"1975.5,-495.5 1975.5,-531.5 \"/>\n<text text-anchor=\"middle\" x=\"2016.5\" y=\"-509.8\" font-family=\"Times,serif\" font-size=\"14.00\">grad 0.0000</text>\n</g>\n<!-- 139889235650464&#45;&gt;139889235789520* -->\n<g id=\"edge135\" class=\"edge\">\n<title>139889235650464&#45;&gt;139889235789520*</title>\n<path fill=\"none\" stroke=\"black\" d=\"M2047.2,-495.31C2051.83,-492.5 2056.16,-489.25 2060,-485.5 2096.52,-449.88 2070.05,-420.42 2096,-376.5 2097.15,-374.55 2098.46,-372.62 2099.86,-370.75\"/>\n<polygon fill=\"black\" stroke=\"black\" points=\"2102.66,-372.85 2106.4,-362.94 2097.3,-368.36 2102.66,-372.85\"/>\n</g>\n<!-- 139889235735120* -->\n<g id=\"node120\" class=\"node\">\n<title>139889235735120*</title>\n<ellipse fill=\"none\" stroke=\"black\" cx=\"2123\" cy=\"-403.5\" rx=\"27\" ry=\"18\"/>\n<text text-anchor=\"middle\" x=\"2123\" y=\"-399.8\" font-family=\"Times,serif\" font-size=\"14.00\">*</text>\n</g>\n<!-- 139889235650464&#45;&gt;139889235735120* -->\n<g id=\"edge74\" class=\"edge\">\n<title>139889235650464&#45;&gt;139889235735120*</title>\n<path fill=\"none\" stroke=\"black\" d=\"M2043.35,-495.43C2049.24,-492.59 2054.88,-489.3 2060,-485.5 2083.16,-468.31 2078.13,-454.14 2096,-431.5 2097.4,-429.72 2098.89,-427.92 2100.42,-426.14\"/>\n<polygon fill=\"black\" stroke=\"black\" points=\"2103.18,-428.3 2107.24,-418.51 2097.96,-423.64 2103.18,-428.3\"/>\n</g>\n<!-- 139889235736848* -->\n<g id=\"node161\" class=\"node\">\n<title>139889235736848*</title>\n<ellipse fill=\"none\" stroke=\"black\" cx=\"2123\" cy=\"-623.5\" rx=\"27\" ry=\"18\"/>\n<text text-anchor=\"middle\" x=\"2123\" y=\"-619.8\" font-family=\"Times,serif\" font-size=\"14.00\">*</text>\n</g>\n<!-- 139889235650464&#45;&gt;139889235736848* -->\n<g id=\"edge172\" class=\"edge\">\n<title>139889235650464&#45;&gt;139889235736848*</title>\n<path fill=\"none\" stroke=\"black\" d=\"M2044.53,-531.66C2049.97,-534.23 2055.19,-537.16 2060,-540.5 2081.11,-555.15 2097.97,-579.3 2108.74,-597.78\"/>\n<polygon fill=\"black\" stroke=\"black\" points=\"2105.74,-599.57 2113.68,-606.59 2111.85,-596.15 2105.74,-599.57\"/>\n</g>\n<!-- 139889235738576* -->\n<g id=\"node199\" class=\"node\">\n<title>139889235738576*</title>\n<ellipse fill=\"none\" stroke=\"black\" cx=\"2123\" cy=\"-733.5\" rx=\"27\" ry=\"18\"/>\n<text text-anchor=\"middle\" x=\"2123\" y=\"-729.8\" font-family=\"Times,serif\" font-size=\"14.00\">*</text>\n</g>\n<!-- 139889235650464&#45;&gt;139889235738576* -->\n<g id=\"edge157\" class=\"edge\">\n<title>139889235650464&#45;&gt;139889235738576*</title>\n<path fill=\"none\" stroke=\"black\" d=\"M2049.73,-531.73C2053.46,-534.29 2056.92,-537.2 2060,-540.5 2111.21,-595.38 2061.23,-638.98 2096,-705.5 2097.05,-707.51 2098.28,-709.48 2099.63,-711.38\"/>\n<polygon fill=\"black\" stroke=\"black\" points=\"2097.02,-713.72 2106.06,-719.25 2102.44,-709.29 2097.02,-713.72\"/>\n</g>\n<!-- 139889235650464tanh -->\n<g id=\"node41\" class=\"node\">\n<title>139889235650464tanh</title>\n<ellipse fill=\"none\" stroke=\"black\" cx=\"1810\" cy=\"-508.5\" rx=\"27\" ry=\"18\"/>\n<text text-anchor=\"middle\" x=\"1810\" y=\"-504.8\" font-family=\"Times,serif\" font-size=\"14.00\">tanh</text>\n</g>\n<!-- 139889235650464tanh&#45;&gt;139889235650464 -->\n<g id=\"edge17\" class=\"edge\">\n<title>139889235650464tanh&#45;&gt;139889235650464</title>\n<path fill=\"none\" stroke=\"black\" d=\"M1837.21,-509.35C1845.34,-509.61 1854.85,-509.92 1864.94,-510.25\"/>\n<polygon fill=\"black\" stroke=\"black\" points=\"1865.08,-513.75 1875.19,-510.58 1865.31,-506.76 1865.08,-513.75\"/>\n</g>\n<!-- 139889235789904 -->\n<g id=\"node42\" class=\"node\">\n<title>139889235789904</title>\n<polygon fill=\"none\" stroke=\"black\" points=\"2501.5,-440.5 2501.5,-476.5 2683.5,-476.5 2683.5,-440.5 2501.5,-440.5\"/>\n<text text-anchor=\"middle\" x=\"2511.5\" y=\"-454.8\" font-family=\"Times,serif\" font-size=\"14.00\"> </text>\n<polyline fill=\"none\" stroke=\"black\" points=\"2521.5,-440.5 2521.5,-476.5 \"/>\n<text text-anchor=\"middle\" x=\"2561.5\" y=\"-454.8\" font-family=\"Times,serif\" font-size=\"14.00\">data 0.2639</text>\n<polyline fill=\"none\" stroke=\"black\" points=\"2601.5,-440.5 2601.5,-476.5 \"/>\n<text text-anchor=\"middle\" x=\"2642.5\" y=\"-454.8\" font-family=\"Times,serif\" font-size=\"14.00\">grad 0.0000</text>\n</g>\n<!-- 139889235789904&#45;&gt;139889235790096+ -->\n<g id=\"edge180\" class=\"edge\">\n<title>139889235789904&#45;&gt;139889235790096+</title>\n<path fill=\"none\" stroke=\"black\" d=\"M2668.64,-440.32C2674.75,-437.49 2680.63,-434.24 2686,-430.5 2706.7,-416.07 2723.44,-392.58 2734.29,-374.43\"/>\n<polygon fill=\"black\" stroke=\"black\" points=\"2737.47,-375.91 2739.41,-365.5 2731.4,-372.43 2737.47,-375.91\"/>\n</g>\n<!-- 139889235789904* -->\n<g id=\"node43\" class=\"node\">\n<title>139889235789904*</title>\n<ellipse fill=\"none\" stroke=\"black\" cx=\"2436\" cy=\"-513.5\" rx=\"27\" ry=\"18\"/>\n<text text-anchor=\"middle\" x=\"2436\" y=\"-509.8\" font-family=\"Times,serif\" font-size=\"14.00\">*</text>\n</g>\n<!-- 139889235789904*&#45;&gt;139889235789904 -->\n<g id=\"edge18\" class=\"edge\">\n<title>139889235789904*&#45;&gt;139889235789904</title>\n<path fill=\"none\" stroke=\"black\" d=\"M2458.21,-503.03C2470.05,-497.41 2485.15,-490.62 2499,-485.5 2504.43,-483.49 2510.08,-481.54 2515.79,-479.65\"/>\n<polygon fill=\"black\" stroke=\"black\" points=\"2516.99,-482.94 2525.44,-476.55 2514.85,-476.28 2516.99,-482.94\"/>\n</g>\n<!-- 139889235650704 -->\n<g id=\"node44\" class=\"node\">\n<title>139889235650704</title>\n<polygon fill=\"none\" stroke=\"black\" points=\"1562.5,-484.5 1562.5,-520.5 1744.5,-520.5 1744.5,-484.5 1562.5,-484.5\"/>\n<text text-anchor=\"middle\" x=\"1572.5\" y=\"-498.8\" font-family=\"Times,serif\" font-size=\"14.00\"> </text>\n<polyline fill=\"none\" stroke=\"black\" points=\"1582.5,-484.5 1582.5,-520.5 \"/>\n<text text-anchor=\"middle\" x=\"1622.5\" y=\"-498.8\" font-family=\"Times,serif\" font-size=\"14.00\">data 0.4116</text>\n<polyline fill=\"none\" stroke=\"black\" points=\"1662.5,-484.5 1662.5,-520.5 \"/>\n<text text-anchor=\"middle\" x=\"1703.5\" y=\"-498.8\" font-family=\"Times,serif\" font-size=\"14.00\">grad 0.0000</text>\n</g>\n<!-- 139889235650704&#45;&gt;139889235650464tanh -->\n<g id=\"edge94\" class=\"edge\">\n<title>139889235650704&#45;&gt;139889235650464tanh</title>\n<path fill=\"none\" stroke=\"black\" d=\"M1744.82,-506.01C1754.57,-506.39 1764.04,-506.75 1772.57,-507.09\"/>\n<polygon fill=\"black\" stroke=\"black\" points=\"1772.7,-510.59 1782.83,-507.48 1772.97,-503.6 1772.7,-510.59\"/>\n</g>\n<!-- 139889235650704+ -->\n<g id=\"node45\" class=\"node\">\n<title>139889235650704+</title>\n<ellipse fill=\"none\" stroke=\"black\" cx=\"1497\" cy=\"-482.5\" rx=\"27\" ry=\"18\"/>\n<text text-anchor=\"middle\" x=\"1497\" y=\"-478.8\" font-family=\"Times,serif\" font-size=\"14.00\">+</text>\n</g>\n<!-- 139889235650704+&#45;&gt;139889235650704 -->\n<g id=\"edge19\" class=\"edge\">\n<title>139889235650704+&#45;&gt;139889235650704</title>\n<path fill=\"none\" stroke=\"black\" d=\"M1523.86,-485.85C1532.13,-486.92 1541.83,-488.17 1552.14,-489.51\"/>\n<polygon fill=\"black\" stroke=\"black\" points=\"1551.82,-493 1562.18,-490.81 1552.72,-486.05 1551.82,-493\"/>\n</g>\n<!-- 139889235650800 -->\n<g id=\"node46\" class=\"node\">\n<title>139889235650800</title>\n<polygon fill=\"none\" stroke=\"black\" points=\"934,-368.5 934,-404.5 1121,-404.5 1121,-368.5 934,-368.5\"/>\n<text text-anchor=\"middle\" x=\"944\" y=\"-382.8\" font-family=\"Times,serif\" font-size=\"14.00\"> </text>\n<polyline fill=\"none\" stroke=\"black\" points=\"954,-368.5 954,-404.5 \"/>\n<text text-anchor=\"middle\" x=\"996.5\" y=\"-382.8\" font-family=\"Times,serif\" font-size=\"14.00\">data &#45;1.0000</text>\n<polyline fill=\"none\" stroke=\"black\" points=\"1039,-368.5 1039,-404.5 \"/>\n<text text-anchor=\"middle\" x=\"1080\" y=\"-382.8\" font-family=\"Times,serif\" font-size=\"14.00\">grad 0.0000</text>\n</g>\n<!-- 139889235650848* -->\n<g id=\"node50\" class=\"node\">\n<title>139889235650848*</title>\n<ellipse fill=\"none\" stroke=\"black\" cx=\"1184\" cy=\"-386.5\" rx=\"27\" ry=\"18\"/>\n<text text-anchor=\"middle\" x=\"1184\" y=\"-382.8\" font-family=\"Times,serif\" font-size=\"14.00\">*</text>\n</g>\n<!-- 139889235650800&#45;&gt;139889235650848* -->\n<g id=\"edge103\" class=\"edge\">\n<title>139889235650800&#45;&gt;139889235650848*</title>\n<path fill=\"none\" stroke=\"black\" d=\"M1121.05,-386.5C1130.06,-386.5 1138.79,-386.5 1146.7,-386.5\"/>\n<polygon fill=\"black\" stroke=\"black\" points=\"1146.95,-390 1156.95,-386.5 1146.95,-383 1146.95,-390\"/>\n</g>\n<!-- 139889235790096 -->\n<g id=\"node47\" class=\"node\">\n<title>139889235790096</title>\n<polygon fill=\"none\" stroke=\"black\" points=\"2812,-330.5 2812,-366.5 2999,-366.5 2999,-330.5 2812,-330.5\"/>\n<text text-anchor=\"middle\" x=\"2822\" y=\"-344.8\" font-family=\"Times,serif\" font-size=\"14.00\"> </text>\n<polyline fill=\"none\" stroke=\"black\" points=\"2832,-330.5 2832,-366.5 \"/>\n<text text-anchor=\"middle\" x=\"2874.5\" y=\"-344.8\" font-family=\"Times,serif\" font-size=\"14.00\">data &#45;0.4510</text>\n<polyline fill=\"none\" stroke=\"black\" points=\"2917,-330.5 2917,-366.5 \"/>\n<text text-anchor=\"middle\" x=\"2958\" y=\"-344.8\" font-family=\"Times,serif\" font-size=\"14.00\">grad 0.0000</text>\n</g>\n<!-- 139889235790480+ -->\n<g id=\"node56\" class=\"node\">\n<title>139889235790480+</title>\n<ellipse fill=\"none\" stroke=\"black\" cx=\"3062\" cy=\"-320.5\" rx=\"27\" ry=\"18\"/>\n<text text-anchor=\"middle\" x=\"3062\" y=\"-316.8\" font-family=\"Times,serif\" font-size=\"14.00\">+</text>\n</g>\n<!-- 139889235790096&#45;&gt;139889235790480+ -->\n<g id=\"edge106\" class=\"edge\">\n<title>139889235790096&#45;&gt;139889235790480+</title>\n<path fill=\"none\" stroke=\"black\" d=\"M2999.05,-331.73C3008.54,-330.01 3017.71,-328.35 3025.95,-326.85\"/>\n<polygon fill=\"black\" stroke=\"black\" points=\"3026.64,-330.28 3035.85,-325.06 3025.39,-323.4 3026.64,-330.28\"/>\n</g>\n<!-- 139889235790096+&#45;&gt;139889235790096 -->\n<g id=\"edge20\" class=\"edge\">\n<title>139889235790096+&#45;&gt;139889235790096</title>\n<path fill=\"none\" stroke=\"black\" d=\"M2776.21,-348.5C2783.73,-348.5 2792.43,-348.5 2801.67,-348.5\"/>\n<polygon fill=\"black\" stroke=\"black\" points=\"2801.89,-352 2811.89,-348.5 2801.89,-345 2801.89,-352\"/>\n</g>\n<!-- 139889235650848 -->\n<g id=\"node49\" class=\"node\">\n<title>139889235650848</title>\n<polygon fill=\"none\" stroke=\"black\" points=\"1249.5,-382.5 1249.5,-418.5 1431.5,-418.5 1431.5,-382.5 1249.5,-382.5\"/>\n<text text-anchor=\"middle\" x=\"1259.5\" y=\"-396.8\" font-family=\"Times,serif\" font-size=\"14.00\"> </text>\n<polyline fill=\"none\" stroke=\"black\" points=\"1269.5,-382.5 1269.5,-418.5 \"/>\n<text text-anchor=\"middle\" x=\"1309.5\" y=\"-396.8\" font-family=\"Times,serif\" font-size=\"14.00\">data 0.8163</text>\n<polyline fill=\"none\" stroke=\"black\" points=\"1349.5,-382.5 1349.5,-418.5 \"/>\n<text text-anchor=\"middle\" x=\"1390.5\" y=\"-396.8\" font-family=\"Times,serif\" font-size=\"14.00\">grad 0.0000</text>\n</g>\n<!-- 139889235650848&#45;&gt;139889235650704+ -->\n<g id=\"edge168\" class=\"edge\">\n<title>139889235650848&#45;&gt;139889235650704+</title>\n<path fill=\"none\" stroke=\"black\" d=\"M1375.79,-418.7C1402.87,-433.07 1440.27,-452.92 1466.13,-466.65\"/>\n<polygon fill=\"black\" stroke=\"black\" points=\"1464.62,-469.81 1475.1,-471.41 1467.91,-463.63 1464.62,-469.81\"/>\n</g>\n<!-- 139889235650848*&#45;&gt;139889235650848 -->\n<g id=\"edge21\" class=\"edge\">\n<title>139889235650848*&#45;&gt;139889235650848</title>\n<path fill=\"none\" stroke=\"black\" d=\"M1210.86,-388.84C1219.13,-389.59 1228.83,-390.47 1239.14,-391.41\"/>\n<polygon fill=\"black\" stroke=\"black\" points=\"1238.91,-394.9 1249.18,-392.32 1239.54,-387.93 1238.91,-394.9\"/>\n</g>\n<!-- 139889235790288 -->\n<g id=\"node51\" class=\"node\">\n<title>139889235790288</title>\n<polygon fill=\"none\" stroke=\"black\" points=\"2814.5,-220.5 2814.5,-256.5 2996.5,-256.5 2996.5,-220.5 2814.5,-220.5\"/>\n<text text-anchor=\"middle\" x=\"2824.5\" y=\"-234.8\" font-family=\"Times,serif\" font-size=\"14.00\"> </text>\n<polyline fill=\"none\" stroke=\"black\" points=\"2834.5,-220.5 2834.5,-256.5 \"/>\n<text text-anchor=\"middle\" x=\"2874.5\" y=\"-234.8\" font-family=\"Times,serif\" font-size=\"14.00\">data 0.2491</text>\n<polyline fill=\"none\" stroke=\"black\" points=\"2914.5,-220.5 2914.5,-256.5 \"/>\n<text text-anchor=\"middle\" x=\"2955.5\" y=\"-234.8\" font-family=\"Times,serif\" font-size=\"14.00\">grad 0.0000</text>\n</g>\n<!-- 139889235790288&#45;&gt;139889235790480+ -->\n<g id=\"edge192\" class=\"edge\">\n<title>139889235790288&#45;&gt;139889235790480+</title>\n<path fill=\"none\" stroke=\"black\" d=\"M2979.94,-256.62C2986.54,-259.24 2993,-262.18 2999,-265.5 3014.14,-273.87 3028.74,-286.51 3039.96,-297.56\"/>\n<polygon fill=\"black\" stroke=\"black\" points=\"3037.65,-300.21 3047.16,-304.89 3042.65,-295.3 3037.65,-300.21\"/>\n</g>\n<!-- 139889235790288* -->\n<g id=\"node52\" class=\"node\">\n<title>139889235790288*</title>\n<ellipse fill=\"none\" stroke=\"black\" cx=\"2749\" cy=\"-238.5\" rx=\"27\" ry=\"18\"/>\n<text text-anchor=\"middle\" x=\"2749\" y=\"-234.8\" font-family=\"Times,serif\" font-size=\"14.00\">*</text>\n</g>\n<!-- 139889235790288*&#45;&gt;139889235790288 -->\n<g id=\"edge22\" class=\"edge\">\n<title>139889235790288*&#45;&gt;139889235790288</title>\n<path fill=\"none\" stroke=\"black\" d=\"M2776.21,-238.5C2784.34,-238.5 2793.85,-238.5 2803.94,-238.5\"/>\n<polygon fill=\"black\" stroke=\"black\" points=\"2804.19,-242 2814.19,-238.5 2804.19,-235 2804.19,-242\"/>\n</g>\n<!-- 139889235732960 -->\n<g id=\"node53\" class=\"node\">\n<title>139889235732960</title>\n<polygon fill=\"none\" stroke=\"black\" points=\"2188.5,-605.5 2188.5,-641.5 2370.5,-641.5 2370.5,-605.5 2188.5,-605.5\"/>\n<text text-anchor=\"middle\" x=\"2198.5\" y=\"-619.8\" font-family=\"Times,serif\" font-size=\"14.00\"> </text>\n<polyline fill=\"none\" stroke=\"black\" points=\"2208.5,-605.5 2208.5,-641.5 \"/>\n<text text-anchor=\"middle\" x=\"2248.5\" y=\"-619.8\" font-family=\"Times,serif\" font-size=\"14.00\">data 0.9992</text>\n<polyline fill=\"none\" stroke=\"black\" points=\"2288.5,-605.5 2288.5,-641.5 \"/>\n<text text-anchor=\"middle\" x=\"2329.5\" y=\"-619.8\" font-family=\"Times,serif\" font-size=\"14.00\">grad 0.0000</text>\n</g>\n<!-- 139889235732960&#45;&gt;139889235788176* -->\n<g id=\"edge167\" class=\"edge\">\n<title>139889235732960&#45;&gt;139889235788176*</title>\n<path fill=\"none\" stroke=\"black\" d=\"M2361.49,-641.58C2365.63,-644.17 2369.51,-647.13 2373,-650.5 2409.96,-686.28 2382.89,-716.18 2409,-760.5 2410.15,-762.45 2411.45,-764.38 2412.85,-766.26\"/>\n<polygon fill=\"black\" stroke=\"black\" points=\"2410.29,-768.65 2419.39,-774.07 2415.66,-764.15 2410.29,-768.65\"/>\n</g>\n<!-- 139889235732960&#45;&gt;139889235789904* -->\n<g id=\"edge113\" class=\"edge\">\n<title>139889235732960&#45;&gt;139889235789904*</title>\n<path fill=\"none\" stroke=\"black\" d=\"M2355.64,-605.32C2361.75,-602.49 2367.63,-599.24 2373,-595.5 2393.7,-581.07 2410.44,-557.58 2421.29,-539.43\"/>\n<polygon fill=\"black\" stroke=\"black\" points=\"2424.47,-540.91 2426.41,-530.5 2418.4,-537.43 2424.47,-540.91\"/>\n</g>\n<!-- 139889235732960&#45;&gt;139889235735504* -->\n<g id=\"edge196\" class=\"edge\">\n<title>139889235732960&#45;&gt;139889235735504*</title>\n<path fill=\"none\" stroke=\"black\" d=\"M2370.82,-623.5C2380.57,-623.5 2390.04,-623.5 2398.57,-623.5\"/>\n<polygon fill=\"black\" stroke=\"black\" points=\"2398.83,-627 2408.83,-623.5 2398.83,-620 2398.83,-627\"/>\n</g>\n<!-- 139889235737232* -->\n<g id=\"node170\" class=\"node\">\n<title>139889235737232*</title>\n<ellipse fill=\"none\" stroke=\"black\" cx=\"2436\" cy=\"-678.5\" rx=\"27\" ry=\"18\"/>\n<text text-anchor=\"middle\" x=\"2436\" y=\"-674.8\" font-family=\"Times,serif\" font-size=\"14.00\">*</text>\n</g>\n<!-- 139889235732960&#45;&gt;139889235737232* -->\n<g id=\"edge153\" class=\"edge\">\n<title>139889235732960&#45;&gt;139889235737232*</title>\n<path fill=\"none\" stroke=\"black\" d=\"M2346.56,-641.55C2355.51,-644.36 2364.53,-647.37 2373,-650.5 2383.49,-654.38 2394.71,-659.22 2404.68,-663.78\"/>\n<polygon fill=\"black\" stroke=\"black\" points=\"2403.25,-666.98 2413.79,-668.03 2406.2,-660.63 2403.25,-666.98\"/>\n</g>\n<!-- 139889235732960tanh&#45;&gt;139889235732960 -->\n<g id=\"edge23\" class=\"edge\">\n<title>139889235732960tanh&#45;&gt;139889235732960</title>\n<path fill=\"none\" stroke=\"black\" d=\"M2145.21,-668.03C2157.05,-662.41 2172.15,-655.62 2186,-650.5 2191.43,-648.49 2197.08,-646.54 2202.79,-644.65\"/>\n<polygon fill=\"black\" stroke=\"black\" points=\"2203.99,-647.94 2212.44,-641.55 2201.85,-641.28 2203.99,-647.94\"/>\n</g>\n<!-- 139889235790480 -->\n<g id=\"node55\" class=\"node\">\n<title>139889235790480</title>\n<polygon fill=\"none\" stroke=\"black\" points=\"3125,-302.5 3125,-338.5 3312,-338.5 3312,-302.5 3125,-302.5\"/>\n<text text-anchor=\"middle\" x=\"3135\" y=\"-316.8\" font-family=\"Times,serif\" font-size=\"14.00\"> </text>\n<polyline fill=\"none\" stroke=\"black\" points=\"3145,-302.5 3145,-338.5 \"/>\n<text text-anchor=\"middle\" x=\"3187.5\" y=\"-316.8\" font-family=\"Times,serif\" font-size=\"14.00\">data &#45;0.2018</text>\n<polyline fill=\"none\" stroke=\"black\" points=\"3230,-302.5 3230,-338.5 \"/>\n<text text-anchor=\"middle\" x=\"3271\" y=\"-316.8\" font-family=\"Times,serif\" font-size=\"14.00\">grad 0.0000</text>\n</g>\n<!-- 139889235790576tanh -->\n<g id=\"node60\" class=\"node\">\n<title>139889235790576tanh</title>\n<ellipse fill=\"none\" stroke=\"black\" cx=\"3375\" cy=\"-320.5\" rx=\"27\" ry=\"18\"/>\n<text text-anchor=\"middle\" x=\"3375\" y=\"-316.8\" font-family=\"Times,serif\" font-size=\"14.00\">tanh</text>\n</g>\n<!-- 139889235790480&#45;&gt;139889235790576tanh -->\n<g id=\"edge207\" class=\"edge\">\n<title>139889235790480&#45;&gt;139889235790576tanh</title>\n<path fill=\"none\" stroke=\"black\" d=\"M3312.05,-320.5C3321.06,-320.5 3329.79,-320.5 3337.7,-320.5\"/>\n<polygon fill=\"black\" stroke=\"black\" points=\"3337.95,-324 3347.95,-320.5 3337.95,-317 3337.95,-324\"/>\n</g>\n<!-- 139889235790480+&#45;&gt;139889235790480 -->\n<g id=\"edge24\" class=\"edge\">\n<title>139889235790480+&#45;&gt;139889235790480</title>\n<path fill=\"none\" stroke=\"black\" d=\"M3089.21,-320.5C3096.73,-320.5 3105.43,-320.5 3114.67,-320.5\"/>\n<polygon fill=\"black\" stroke=\"black\" points=\"3114.89,-324 3124.89,-320.5 3114.89,-317 3114.89,-324\"/>\n</g>\n<!-- 139889235651280 -->\n<g id=\"node57\" class=\"node\">\n<title>139889235651280</title>\n<polygon fill=\"none\" stroke=\"black\" points=\"1247,-464.5 1247,-500.5 1434,-500.5 1434,-464.5 1247,-464.5\"/>\n<text text-anchor=\"middle\" x=\"1257\" y=\"-478.8\" font-family=\"Times,serif\" font-size=\"14.00\"> </text>\n<polyline fill=\"none\" stroke=\"black\" points=\"1267,-464.5 1267,-500.5 \"/>\n<text text-anchor=\"middle\" x=\"1309.5\" y=\"-478.8\" font-family=\"Times,serif\" font-size=\"14.00\">data &#45;0.4047</text>\n<polyline fill=\"none\" stroke=\"black\" points=\"1352,-464.5 1352,-500.5 \"/>\n<text text-anchor=\"middle\" x=\"1393\" y=\"-478.8\" font-family=\"Times,serif\" font-size=\"14.00\">grad 0.0000</text>\n</g>\n<!-- 139889235651280&#45;&gt;139889235650704+ -->\n<g id=\"edge118\" class=\"edge\">\n<title>139889235651280&#45;&gt;139889235650704+</title>\n<path fill=\"none\" stroke=\"black\" d=\"M1434.05,-482.5C1443.06,-482.5 1451.79,-482.5 1459.7,-482.5\"/>\n<polygon fill=\"black\" stroke=\"black\" points=\"1459.95,-486 1469.95,-482.5 1459.95,-479 1459.95,-486\"/>\n</g>\n<!-- 139889235651280+&#45;&gt;139889235651280 -->\n<g id=\"edge25\" class=\"edge\">\n<title>139889235651280+&#45;&gt;139889235651280</title>\n<path fill=\"none\" stroke=\"black\" d=\"M1211.21,-482.5C1218.73,-482.5 1227.43,-482.5 1236.67,-482.5\"/>\n<polygon fill=\"black\" stroke=\"black\" points=\"1236.89,-486 1246.89,-482.5 1236.89,-479 1236.89,-486\"/>\n</g>\n<!-- 139889235790576 -->\n<g id=\"node59\" class=\"node\">\n<title>139889235790576</title>\n<polygon fill=\"none\" stroke=\"black\" points=\"3438,-302.5 3438,-338.5 3625,-338.5 3625,-302.5 3438,-302.5\"/>\n<text text-anchor=\"middle\" x=\"3448\" y=\"-316.8\" font-family=\"Times,serif\" font-size=\"14.00\"> </text>\n<polyline fill=\"none\" stroke=\"black\" points=\"3458,-302.5 3458,-338.5 \"/>\n<text text-anchor=\"middle\" x=\"3500.5\" y=\"-316.8\" font-family=\"Times,serif\" font-size=\"14.00\">data &#45;0.1991</text>\n<polyline fill=\"none\" stroke=\"black\" points=\"3543,-302.5 3543,-338.5 \"/>\n<text text-anchor=\"middle\" x=\"3584\" y=\"-316.8\" font-family=\"Times,serif\" font-size=\"14.00\">grad 0.0000</text>\n</g>\n<!-- 139889235792016* -->\n<g id=\"node104\" class=\"node\">\n<title>139889235792016*</title>\n<ellipse fill=\"none\" stroke=\"black\" cx=\"3688\" cy=\"-320.5\" rx=\"27\" ry=\"18\"/>\n<text text-anchor=\"middle\" x=\"3688\" y=\"-316.8\" font-family=\"Times,serif\" font-size=\"14.00\">*</text>\n</g>\n<!-- 139889235790576&#45;&gt;139889235792016* -->\n<g id=\"edge98\" class=\"edge\">\n<title>139889235790576&#45;&gt;139889235792016*</title>\n<path fill=\"none\" stroke=\"black\" d=\"M3625.05,-320.5C3634.06,-320.5 3642.79,-320.5 3650.7,-320.5\"/>\n<polygon fill=\"black\" stroke=\"black\" points=\"3650.95,-324 3660.95,-320.5 3650.95,-317 3650.95,-324\"/>\n</g>\n<!-- 139889235790576tanh&#45;&gt;139889235790576 -->\n<g id=\"edge26\" class=\"edge\">\n<title>139889235790576tanh&#45;&gt;139889235790576</title>\n<path fill=\"none\" stroke=\"black\" d=\"M3402.21,-320.5C3409.73,-320.5 3418.43,-320.5 3427.67,-320.5\"/>\n<polygon fill=\"black\" stroke=\"black\" points=\"3427.89,-324 3437.89,-320.5 3427.89,-317 3427.89,-324\"/>\n</g>\n<!-- 139889235733248 -->\n<g id=\"node61\" class=\"node\">\n<title>139889235733248</title>\n<polygon fill=\"none\" stroke=\"black\" points=\"936.5,-138.5 936.5,-174.5 1118.5,-174.5 1118.5,-138.5 936.5,-138.5\"/>\n<text text-anchor=\"middle\" x=\"946.5\" y=\"-152.8\" font-family=\"Times,serif\" font-size=\"14.00\"> </text>\n<polyline fill=\"none\" stroke=\"black\" points=\"956.5,-138.5 956.5,-174.5 \"/>\n<text text-anchor=\"middle\" x=\"996.5\" y=\"-152.8\" font-family=\"Times,serif\" font-size=\"14.00\">data 2.0000</text>\n<polyline fill=\"none\" stroke=\"black\" points=\"1036.5,-138.5 1036.5,-174.5 \"/>\n<text text-anchor=\"middle\" x=\"1077.5\" y=\"-152.8\" font-family=\"Times,serif\" font-size=\"14.00\">grad 0.0000</text>\n</g>\n<!-- 139889235733296* -->\n<g id=\"node63\" class=\"node\">\n<title>139889235733296*</title>\n<ellipse fill=\"none\" stroke=\"black\" cx=\"1184\" cy=\"-128.5\" rx=\"27\" ry=\"18\"/>\n<text text-anchor=\"middle\" x=\"1184\" y=\"-124.8\" font-family=\"Times,serif\" font-size=\"14.00\">*</text>\n</g>\n<!-- 139889235733248&#45;&gt;139889235733296* -->\n<g id=\"edge134\" class=\"edge\">\n<title>139889235733248&#45;&gt;139889235733296*</title>\n<path fill=\"none\" stroke=\"black\" d=\"M1118.82,-140.13C1129.07,-138.27 1139.01,-136.47 1147.88,-134.87\"/>\n<polygon fill=\"black\" stroke=\"black\" points=\"1148.54,-138.3 1157.75,-133.08 1147.29,-131.42 1148.54,-138.3\"/>\n</g>\n<!-- 139889235733296 -->\n<g id=\"node62\" class=\"node\">\n<title>139889235733296</title>\n<polygon fill=\"none\" stroke=\"black\" points=\"1247,-110.5 1247,-146.5 1434,-146.5 1434,-110.5 1247,-110.5\"/>\n<text text-anchor=\"middle\" x=\"1257\" y=\"-124.8\" font-family=\"Times,serif\" font-size=\"14.00\"> </text>\n<polyline fill=\"none\" stroke=\"black\" points=\"1267,-110.5 1267,-146.5 \"/>\n<text text-anchor=\"middle\" x=\"1309.5\" y=\"-124.8\" font-family=\"Times,serif\" font-size=\"14.00\">data &#45;0.5314</text>\n<polyline fill=\"none\" stroke=\"black\" points=\"1352,-110.5 1352,-146.5 \"/>\n<text text-anchor=\"middle\" x=\"1393\" y=\"-124.8\" font-family=\"Times,serif\" font-size=\"14.00\">grad 0.0000</text>\n</g>\n<!-- 139889235733488+ -->\n<g id=\"node67\" class=\"node\">\n<title>139889235733488+</title>\n<ellipse fill=\"none\" stroke=\"black\" cx=\"1497\" cy=\"-128.5\" rx=\"27\" ry=\"18\"/>\n<text text-anchor=\"middle\" x=\"1497\" y=\"-124.8\" font-family=\"Times,serif\" font-size=\"14.00\">+</text>\n</g>\n<!-- 139889235733296&#45;&gt;139889235733488+ -->\n<g id=\"edge191\" class=\"edge\">\n<title>139889235733296&#45;&gt;139889235733488+</title>\n<path fill=\"none\" stroke=\"black\" d=\"M1434.05,-128.5C1443.06,-128.5 1451.79,-128.5 1459.7,-128.5\"/>\n<polygon fill=\"black\" stroke=\"black\" points=\"1459.95,-132 1469.95,-128.5 1459.95,-125 1459.95,-132\"/>\n</g>\n<!-- 139889235733296*&#45;&gt;139889235733296 -->\n<g id=\"edge27\" class=\"edge\">\n<title>139889235733296*&#45;&gt;139889235733296</title>\n<path fill=\"none\" stroke=\"black\" d=\"M1211.21,-128.5C1218.73,-128.5 1227.43,-128.5 1236.67,-128.5\"/>\n<polygon fill=\"black\" stroke=\"black\" points=\"1236.89,-132 1246.89,-128.5 1236.89,-125 1236.89,-132\"/>\n</g>\n<!-- 139889235651520 -->\n<g id=\"node64\" class=\"node\">\n<title>139889235651520</title>\n<polygon fill=\"none\" stroke=\"black\" points=\"934,-863.5 934,-899.5 1121,-899.5 1121,-863.5 934,-863.5\"/>\n<text text-anchor=\"middle\" x=\"944\" y=\"-877.8\" font-family=\"Times,serif\" font-size=\"14.00\"> </text>\n<polyline fill=\"none\" stroke=\"black\" points=\"954,-863.5 954,-899.5 \"/>\n<text text-anchor=\"middle\" x=\"996.5\" y=\"-877.8\" font-family=\"Times,serif\" font-size=\"14.00\">data &#45;1.9740</text>\n<polyline fill=\"none\" stroke=\"black\" points=\"1039,-863.5 1039,-899.5 \"/>\n<text text-anchor=\"middle\" x=\"1080\" y=\"-877.8\" font-family=\"Times,serif\" font-size=\"14.00\">grad 0.0000</text>\n</g>\n<!-- 139889235652576+ -->\n<g id=\"node100\" class=\"node\">\n<title>139889235652576+</title>\n<ellipse fill=\"none\" stroke=\"black\" cx=\"1184\" cy=\"-826.5\" rx=\"27\" ry=\"18\"/>\n<text text-anchor=\"middle\" x=\"1184\" y=\"-822.8\" font-family=\"Times,serif\" font-size=\"14.00\">+</text>\n</g>\n<!-- 139889235651520&#45;&gt;139889235652576+ -->\n<g id=\"edge150\" class=\"edge\">\n<title>139889235651520&#45;&gt;139889235652576+</title>\n<path fill=\"none\" stroke=\"black\" d=\"M1092.02,-863.35C1101.79,-860.24 1111.71,-856.92 1121,-853.5 1131.25,-849.73 1142.23,-845.14 1152.07,-840.82\"/>\n<polygon fill=\"black\" stroke=\"black\" points=\"1153.74,-843.9 1161.45,-836.63 1150.89,-837.51 1153.74,-843.9\"/>\n</g>\n<!-- 139889235651520+ -->\n<g id=\"node65\" class=\"node\">\n<title>139889235651520+</title>\n<ellipse fill=\"none\" stroke=\"black\" cx=\"871\" cy=\"-881.5\" rx=\"27\" ry=\"18\"/>\n<text text-anchor=\"middle\" x=\"871\" y=\"-877.8\" font-family=\"Times,serif\" font-size=\"14.00\">+</text>\n</g>\n<!-- 139889235651520+&#45;&gt;139889235651520 -->\n<g id=\"edge28\" class=\"edge\">\n<title>139889235651520+&#45;&gt;139889235651520</title>\n<path fill=\"none\" stroke=\"black\" d=\"M898.21,-881.5C905.73,-881.5 914.43,-881.5 923.67,-881.5\"/>\n<polygon fill=\"black\" stroke=\"black\" points=\"923.89,-885 933.89,-881.5 923.89,-878 923.89,-885\"/>\n</g>\n<!-- 139889235733488 -->\n<g id=\"node66\" class=\"node\">\n<title>139889235733488</title>\n<polygon fill=\"none\" stroke=\"black\" points=\"1560,-110.5 1560,-146.5 1747,-146.5 1747,-110.5 1560,-110.5\"/>\n<text text-anchor=\"middle\" x=\"1570\" y=\"-124.8\" font-family=\"Times,serif\" font-size=\"14.00\"> </text>\n<polyline fill=\"none\" stroke=\"black\" points=\"1580,-110.5 1580,-146.5 \"/>\n<text text-anchor=\"middle\" x=\"1622.5\" y=\"-124.8\" font-family=\"Times,serif\" font-size=\"14.00\">data &#45;1.4034</text>\n<polyline fill=\"none\" stroke=\"black\" points=\"1665,-110.5 1665,-146.5 \"/>\n<text text-anchor=\"middle\" x=\"1706\" y=\"-124.8\" font-family=\"Times,serif\" font-size=\"14.00\">grad 0.0000</text>\n</g>\n<!-- 139889235733920+ -->\n<g id=\"node83\" class=\"node\">\n<title>139889235733920+</title>\n<ellipse fill=\"none\" stroke=\"black\" cx=\"1810\" cy=\"-128.5\" rx=\"27\" ry=\"18\"/>\n<text text-anchor=\"middle\" x=\"1810\" y=\"-124.8\" font-family=\"Times,serif\" font-size=\"14.00\">+</text>\n</g>\n<!-- 139889235733488&#45;&gt;139889235733920+ -->\n<g id=\"edge145\" class=\"edge\">\n<title>139889235733488&#45;&gt;139889235733920+</title>\n<path fill=\"none\" stroke=\"black\" d=\"M1747.05,-128.5C1756.06,-128.5 1764.79,-128.5 1772.7,-128.5\"/>\n<polygon fill=\"black\" stroke=\"black\" points=\"1772.95,-132 1782.95,-128.5 1772.95,-125 1772.95,-132\"/>\n</g>\n<!-- 139889235733488+&#45;&gt;139889235733488 -->\n<g id=\"edge29\" class=\"edge\">\n<title>139889235733488+&#45;&gt;139889235733488</title>\n<path fill=\"none\" stroke=\"black\" d=\"M1524.21,-128.5C1531.73,-128.5 1540.43,-128.5 1549.67,-128.5\"/>\n<polygon fill=\"black\" stroke=\"black\" points=\"1549.89,-132 1559.89,-128.5 1549.89,-125 1549.89,-132\"/>\n</g>\n<!-- 139889235790864 -->\n<g id=\"node68\" class=\"node\">\n<title>139889235790864</title>\n<polygon fill=\"none\" stroke=\"black\" points=\"3753.5,-368.5 3753.5,-404.5 3935.5,-404.5 3935.5,-368.5 3753.5,-368.5\"/>\n<text text-anchor=\"middle\" x=\"3763.5\" y=\"-382.8\" font-family=\"Times,serif\" font-size=\"14.00\"> </text>\n<polyline fill=\"none\" stroke=\"black\" points=\"3773.5,-368.5 3773.5,-404.5 \"/>\n<text text-anchor=\"middle\" x=\"3813.5\" y=\"-382.8\" font-family=\"Times,serif\" font-size=\"14.00\">data 0.3231</text>\n<polyline fill=\"none\" stroke=\"black\" points=\"3853.5,-368.5 3853.5,-404.5 \"/>\n<text text-anchor=\"middle\" x=\"3894.5\" y=\"-382.8\" font-family=\"Times,serif\" font-size=\"14.00\">grad 0.0000</text>\n</g>\n<!-- 139889235791056+ -->\n<g id=\"node72\" class=\"node\">\n<title>139889235791056+</title>\n<ellipse fill=\"none\" stroke=\"black\" cx=\"4067.5\" cy=\"-437.5\" rx=\"27\" ry=\"18\"/>\n<text text-anchor=\"middle\" x=\"4067.5\" y=\"-433.8\" font-family=\"Times,serif\" font-size=\"14.00\">+</text>\n</g>\n<!-- 139889235790864&#45;&gt;139889235791056+ -->\n<g id=\"edge76\" class=\"edge\">\n<title>139889235790864&#45;&gt;139889235791056+</title>\n<path fill=\"none\" stroke=\"black\" d=\"M3923.73,-404.55C3960.66,-413.08 4002.87,-422.82 4031.76,-429.48\"/>\n<polygon fill=\"black\" stroke=\"black\" points=\"4031.24,-432.95 4041.77,-431.79 4032.81,-426.13 4031.24,-432.95\"/>\n</g>\n<!-- 139889235790864* -->\n<g id=\"node69\" class=\"node\">\n<title>139889235790864*</title>\n<ellipse fill=\"none\" stroke=\"black\" cx=\"3688\" cy=\"-386.5\" rx=\"27\" ry=\"18\"/>\n<text text-anchor=\"middle\" x=\"3688\" y=\"-382.8\" font-family=\"Times,serif\" font-size=\"14.00\">*</text>\n</g>\n<!-- 139889235790864*&#45;&gt;139889235790864 -->\n<g id=\"edge30\" class=\"edge\">\n<title>139889235790864*&#45;&gt;139889235790864</title>\n<path fill=\"none\" stroke=\"black\" d=\"M3715.21,-386.5C3723.34,-386.5 3732.85,-386.5 3742.94,-386.5\"/>\n<polygon fill=\"black\" stroke=\"black\" points=\"3743.19,-390 3753.19,-386.5 3743.19,-383 3743.19,-390\"/>\n</g>\n<!-- 139889235733680 -->\n<g id=\"node70\" class=\"node\">\n<title>139889235733680</title>\n<polygon fill=\"none\" stroke=\"black\" points=\"1249.5,-0.5 1249.5,-36.5 1431.5,-36.5 1431.5,-0.5 1249.5,-0.5\"/>\n<text text-anchor=\"middle\" x=\"1259.5\" y=\"-14.8\" font-family=\"Times,serif\" font-size=\"14.00\"> </text>\n<polyline fill=\"none\" stroke=\"black\" points=\"1269.5,-0.5 1269.5,-36.5 \"/>\n<text text-anchor=\"middle\" x=\"1309.5\" y=\"-14.8\" font-family=\"Times,serif\" font-size=\"14.00\">data 3.0000</text>\n<polyline fill=\"none\" stroke=\"black\" points=\"1349.5,-0.5 1349.5,-36.5 \"/>\n<text text-anchor=\"middle\" x=\"1390.5\" y=\"-14.8\" font-family=\"Times,serif\" font-size=\"14.00\">grad 0.0000</text>\n</g>\n<!-- 139889235733728* -->\n<g id=\"node74\" class=\"node\">\n<title>139889235733728*</title>\n<ellipse fill=\"none\" stroke=\"black\" cx=\"1497\" cy=\"-73.5\" rx=\"27\" ry=\"18\"/>\n<text text-anchor=\"middle\" x=\"1497\" y=\"-69.8\" font-family=\"Times,serif\" font-size=\"14.00\">*</text>\n</g>\n<!-- 139889235733680&#45;&gt;139889235733728* -->\n<g id=\"edge128\" class=\"edge\">\n<title>139889235733680&#45;&gt;139889235733728*</title>\n<path fill=\"none\" stroke=\"black\" d=\"M1407.56,-36.55C1416.51,-39.36 1425.53,-42.37 1434,-45.5 1444.49,-49.38 1455.71,-54.22 1465.68,-58.78\"/>\n<polygon fill=\"black\" stroke=\"black\" points=\"1464.25,-61.98 1474.79,-63.03 1467.2,-55.63 1464.25,-61.98\"/>\n</g>\n<!-- 139889235791056 -->\n<g id=\"node71\" class=\"node\">\n<title>139889235791056</title>\n<polygon fill=\"none\" stroke=\"black\" points=\"4197,-421.5 4197,-457.5 4379,-457.5 4379,-421.5 4197,-421.5\"/>\n<text text-anchor=\"middle\" x=\"4207\" y=\"-435.8\" font-family=\"Times,serif\" font-size=\"14.00\"> </text>\n<polyline fill=\"none\" stroke=\"black\" points=\"4217,-421.5 4217,-457.5 \"/>\n<text text-anchor=\"middle\" x=\"4257\" y=\"-435.8\" font-family=\"Times,serif\" font-size=\"14.00\">data 0.1367</text>\n<polyline fill=\"none\" stroke=\"black\" points=\"4297,-421.5 4297,-457.5 \"/>\n<text text-anchor=\"middle\" x=\"4338\" y=\"-435.8\" font-family=\"Times,serif\" font-size=\"14.00\">grad 0.0000</text>\n</g>\n<!-- 139889235791440+ -->\n<g id=\"node85\" class=\"node\">\n<title>139889235791440+</title>\n<ellipse fill=\"none\" stroke=\"black\" cx=\"4442\" cy=\"-478.5\" rx=\"27\" ry=\"18\"/>\n<text text-anchor=\"middle\" x=\"4442\" y=\"-474.8\" font-family=\"Times,serif\" font-size=\"14.00\">+</text>\n</g>\n<!-- 139889235791056&#45;&gt;139889235791440+ -->\n<g id=\"edge105\" class=\"edge\">\n<title>139889235791056&#45;&gt;139889235791440+</title>\n<path fill=\"none\" stroke=\"black\" d=\"M4359.22,-457.52C4375.74,-461.76 4392.63,-466.09 4406.74,-469.71\"/>\n<polygon fill=\"black\" stroke=\"black\" points=\"4405.92,-473.11 4416.48,-472.21 4407.66,-466.33 4405.92,-473.11\"/>\n</g>\n<!-- 139889235791056+&#45;&gt;139889235791056 -->\n<g id=\"edge31\" class=\"edge\">\n<title>139889235791056+&#45;&gt;139889235791056</title>\n<path fill=\"none\" stroke=\"black\" d=\"M4094.86,-437.74C4117.79,-437.95 4152.56,-438.27 4186.24,-438.58\"/>\n<polygon fill=\"black\" stroke=\"black\" points=\"4186.62,-442.08 4196.65,-438.67 4186.68,-435.08 4186.62,-442.08\"/>\n</g>\n<!-- 139889235733728 -->\n<g id=\"node73\" class=\"node\">\n<title>139889235733728</title>\n<polygon fill=\"none\" stroke=\"black\" points=\"1560,-55.5 1560,-91.5 1747,-91.5 1747,-55.5 1560,-55.5\"/>\n<text text-anchor=\"middle\" x=\"1570\" y=\"-69.8\" font-family=\"Times,serif\" font-size=\"14.00\"> </text>\n<polyline fill=\"none\" stroke=\"black\" points=\"1580,-55.5 1580,-91.5 \"/>\n<text text-anchor=\"middle\" x=\"1622.5\" y=\"-69.8\" font-family=\"Times,serif\" font-size=\"14.00\">data &#45;0.1984</text>\n<polyline fill=\"none\" stroke=\"black\" points=\"1665,-55.5 1665,-91.5 \"/>\n<text text-anchor=\"middle\" x=\"1706\" y=\"-69.8\" font-family=\"Times,serif\" font-size=\"14.00\">grad 0.0000</text>\n</g>\n<!-- 139889235733728&#45;&gt;139889235733920+ -->\n<g id=\"edge117\" class=\"edge\">\n<title>139889235733728&#45;&gt;139889235733920+</title>\n<path fill=\"none\" stroke=\"black\" d=\"M1720.56,-91.55C1729.51,-94.36 1738.53,-97.37 1747,-100.5 1757.49,-104.38 1768.71,-109.22 1778.68,-113.78\"/>\n<polygon fill=\"black\" stroke=\"black\" points=\"1777.25,-116.98 1787.79,-118.03 1780.2,-110.63 1777.25,-116.98\"/>\n</g>\n<!-- 139889235733728*&#45;&gt;139889235733728 -->\n<g id=\"edge32\" class=\"edge\">\n<title>139889235733728*&#45;&gt;139889235733728</title>\n<path fill=\"none\" stroke=\"black\" d=\"M1524.21,-73.5C1531.73,-73.5 1540.43,-73.5 1549.67,-73.5\"/>\n<polygon fill=\"black\" stroke=\"black\" points=\"1549.89,-77 1559.89,-73.5 1549.89,-70 1549.89,-77\"/>\n</g>\n<!-- 139889235651856 -->\n<g id=\"node75\" class=\"node\">\n<title>139889235651856</title>\n<polygon fill=\"none\" stroke=\"black\" points=\"934,-423.5 934,-459.5 1121,-459.5 1121,-423.5 934,-423.5\"/>\n<text text-anchor=\"middle\" x=\"944\" y=\"-437.8\" font-family=\"Times,serif\" font-size=\"14.00\"> </text>\n<polyline fill=\"none\" stroke=\"black\" points=\"954,-423.5 954,-459.5 \"/>\n<text text-anchor=\"middle\" x=\"996.5\" y=\"-437.8\" font-family=\"Times,serif\" font-size=\"14.00\">data &#45;0.2056</text>\n<polyline fill=\"none\" stroke=\"black\" points=\"1039,-423.5 1039,-459.5 \"/>\n<text text-anchor=\"middle\" x=\"1080\" y=\"-437.8\" font-family=\"Times,serif\" font-size=\"14.00\">grad 0.0000</text>\n</g>\n<!-- 139889235651856&#45;&gt;139889235651280+ -->\n<g id=\"edge184\" class=\"edge\">\n<title>139889235651856&#45;&gt;139889235651280+</title>\n<path fill=\"none\" stroke=\"black\" d=\"M1096.72,-459.6C1114.71,-464.38 1133.37,-469.33 1148.71,-473.4\"/>\n<polygon fill=\"black\" stroke=\"black\" points=\"1148.2,-476.88 1158.76,-476.07 1149.99,-470.12 1148.2,-476.88\"/>\n</g>\n<!-- 139889235651856+ -->\n<g id=\"node76\" class=\"node\">\n<title>139889235651856+</title>\n<ellipse fill=\"none\" stroke=\"black\" cx=\"871\" cy=\"-441.5\" rx=\"27\" ry=\"18\"/>\n<text text-anchor=\"middle\" x=\"871\" y=\"-437.8\" font-family=\"Times,serif\" font-size=\"14.00\">+</text>\n</g>\n<!-- 139889235651856+&#45;&gt;139889235651856 -->\n<g id=\"edge33\" class=\"edge\">\n<title>139889235651856+&#45;&gt;139889235651856</title>\n<path fill=\"none\" stroke=\"black\" d=\"M898.21,-441.5C905.73,-441.5 914.43,-441.5 923.67,-441.5\"/>\n<polygon fill=\"black\" stroke=\"black\" points=\"923.89,-445 933.89,-441.5 923.89,-438 923.89,-445\"/>\n</g>\n<!-- 139889235651952 -->\n<g id=\"node77\" class=\"node\">\n<title>139889235651952</title>\n<polygon fill=\"none\" stroke=\"black\" points=\"310.5,-451.5 310.5,-487.5 492.5,-487.5 492.5,-451.5 310.5,-451.5\"/>\n<text text-anchor=\"middle\" x=\"320.5\" y=\"-465.8\" font-family=\"Times,serif\" font-size=\"14.00\"> </text>\n<polyline fill=\"none\" stroke=\"black\" points=\"330.5,-451.5 330.5,-487.5 \"/>\n<text text-anchor=\"middle\" x=\"370.5\" y=\"-465.8\" font-family=\"Times,serif\" font-size=\"14.00\">data 2.0000</text>\n<polyline fill=\"none\" stroke=\"black\" points=\"410.5,-451.5 410.5,-487.5 \"/>\n<text text-anchor=\"middle\" x=\"451.5\" y=\"-465.8\" font-family=\"Times,serif\" font-size=\"14.00\">grad 0.0000</text>\n</g>\n<!-- 139889235652000* -->\n<g id=\"node81\" class=\"node\">\n<title>139889235652000*</title>\n<ellipse fill=\"none\" stroke=\"black\" cx=\"558\" cy=\"-441.5\" rx=\"27\" ry=\"18\"/>\n<text text-anchor=\"middle\" x=\"558\" y=\"-437.8\" font-family=\"Times,serif\" font-size=\"14.00\">*</text>\n</g>\n<!-- 139889235651952&#45;&gt;139889235652000* -->\n<g id=\"edge170\" class=\"edge\">\n<title>139889235651952&#45;&gt;139889235652000*</title>\n<path fill=\"none\" stroke=\"black\" d=\"M492.82,-453.13C503.07,-451.27 513.01,-449.47 521.88,-447.87\"/>\n<polygon fill=\"black\" stroke=\"black\" points=\"522.54,-451.3 531.75,-446.08 521.29,-444.42 522.54,-451.3\"/>\n</g>\n<!-- 139889235791248 -->\n<g id=\"node78\" class=\"node\">\n<title>139889235791248</title>\n<polygon fill=\"none\" stroke=\"black\" points=\"3974,-474.5 3974,-510.5 4161,-510.5 4161,-474.5 3974,-474.5\"/>\n<text text-anchor=\"middle\" x=\"3984\" y=\"-488.8\" font-family=\"Times,serif\" font-size=\"14.00\"> </text>\n<polyline fill=\"none\" stroke=\"black\" points=\"3994,-474.5 3994,-510.5 \"/>\n<text text-anchor=\"middle\" x=\"4036.5\" y=\"-488.8\" font-family=\"Times,serif\" font-size=\"14.00\">data &#45;0.0404</text>\n<polyline fill=\"none\" stroke=\"black\" points=\"4079,-474.5 4079,-510.5 \"/>\n<text text-anchor=\"middle\" x=\"4120\" y=\"-488.8\" font-family=\"Times,serif\" font-size=\"14.00\">grad 0.0000</text>\n</g>\n<!-- 139889235791248&#45;&gt;139889235791440+ -->\n<g id=\"edge164\" class=\"edge\">\n<title>139889235791248&#45;&gt;139889235791440+</title>\n<path fill=\"none\" stroke=\"black\" d=\"M4161.06,-489.02C4239.8,-486.06 4348.75,-481.97 4404.68,-479.87\"/>\n<polygon fill=\"black\" stroke=\"black\" points=\"4404.94,-483.36 4414.81,-479.48 4404.68,-476.36 4404.94,-483.36\"/>\n</g>\n<!-- 139889235791248* -->\n<g id=\"node79\" class=\"node\">\n<title>139889235791248*</title>\n<ellipse fill=\"none\" stroke=\"black\" cx=\"3688\" cy=\"-492.5\" rx=\"27\" ry=\"18\"/>\n<text text-anchor=\"middle\" x=\"3688\" y=\"-488.8\" font-family=\"Times,serif\" font-size=\"14.00\">*</text>\n</g>\n<!-- 139889235791248*&#45;&gt;139889235791248 -->\n<g id=\"edge34\" class=\"edge\">\n<title>139889235791248*&#45;&gt;139889235791248</title>\n<path fill=\"none\" stroke=\"black\" d=\"M3715.25,-492.5C3765.86,-492.5 3879.4,-492.5 3963.77,-492.5\"/>\n<polygon fill=\"black\" stroke=\"black\" points=\"3963.9,-496 3973.9,-492.5 3963.9,-489 3963.9,-496\"/>\n</g>\n<!-- 139889235652000 -->\n<g id=\"node80\" class=\"node\">\n<title>139889235652000</title>\n<polygon fill=\"none\" stroke=\"black\" points=\"621,-423.5 621,-459.5 808,-459.5 808,-423.5 621,-423.5\"/>\n<text text-anchor=\"middle\" x=\"631\" y=\"-437.8\" font-family=\"Times,serif\" font-size=\"14.00\"> </text>\n<polyline fill=\"none\" stroke=\"black\" points=\"641,-423.5 641,-459.5 \"/>\n<text text-anchor=\"middle\" x=\"683.5\" y=\"-437.8\" font-family=\"Times,serif\" font-size=\"14.00\">data &#45;0.7635</text>\n<polyline fill=\"none\" stroke=\"black\" points=\"726,-423.5 726,-459.5 \"/>\n<text text-anchor=\"middle\" x=\"767\" y=\"-437.8\" font-family=\"Times,serif\" font-size=\"14.00\">grad 0.0000</text>\n</g>\n<!-- 139889235652000&#45;&gt;139889235651856+ -->\n<g id=\"edge77\" class=\"edge\">\n<title>139889235652000&#45;&gt;139889235651856+</title>\n<path fill=\"none\" stroke=\"black\" d=\"M808.05,-441.5C817.06,-441.5 825.79,-441.5 833.7,-441.5\"/>\n<polygon fill=\"black\" stroke=\"black\" points=\"833.95,-445 843.95,-441.5 833.95,-438 833.95,-445\"/>\n</g>\n<!-- 139889235652000*&#45;&gt;139889235652000 -->\n<g id=\"edge35\" class=\"edge\">\n<title>139889235652000*&#45;&gt;139889235652000</title>\n<path fill=\"none\" stroke=\"black\" d=\"M585.21,-441.5C592.73,-441.5 601.43,-441.5 610.67,-441.5\"/>\n<polygon fill=\"black\" stroke=\"black\" points=\"610.89,-445 620.89,-441.5 610.89,-438 610.89,-445\"/>\n</g>\n<!-- 139889235733920 -->\n<g id=\"node82\" class=\"node\">\n<title>139889235733920</title>\n<polygon fill=\"none\" stroke=\"black\" points=\"1873,-110.5 1873,-146.5 2060,-146.5 2060,-110.5 1873,-110.5\"/>\n<text text-anchor=\"middle\" x=\"1883\" y=\"-124.8\" font-family=\"Times,serif\" font-size=\"14.00\"> </text>\n<polyline fill=\"none\" stroke=\"black\" points=\"1893,-110.5 1893,-146.5 \"/>\n<text text-anchor=\"middle\" x=\"1935.5\" y=\"-124.8\" font-family=\"Times,serif\" font-size=\"14.00\">data &#45;1.6018</text>\n<polyline fill=\"none\" stroke=\"black\" points=\"1978,-110.5 1978,-146.5 \"/>\n<text text-anchor=\"middle\" x=\"2019\" y=\"-124.8\" font-family=\"Times,serif\" font-size=\"14.00\">grad 0.0000</text>\n</g>\n<!-- 139889235734352+ -->\n<g id=\"node94\" class=\"node\">\n<title>139889235734352+</title>\n<ellipse fill=\"none\" stroke=\"black\" cx=\"2123\" cy=\"-183.5\" rx=\"27\" ry=\"18\"/>\n<text text-anchor=\"middle\" x=\"2123\" y=\"-179.8\" font-family=\"Times,serif\" font-size=\"14.00\">+</text>\n</g>\n<!-- 139889235733920&#45;&gt;139889235734352+ -->\n<g id=\"edge108\" class=\"edge\">\n<title>139889235733920&#45;&gt;139889235734352+</title>\n<path fill=\"none\" stroke=\"black\" d=\"M2033.56,-146.55C2042.51,-149.36 2051.53,-152.37 2060,-155.5 2070.49,-159.38 2081.71,-164.22 2091.68,-168.78\"/>\n<polygon fill=\"black\" stroke=\"black\" points=\"2090.25,-171.98 2100.79,-173.03 2093.2,-165.63 2090.25,-171.98\"/>\n</g>\n<!-- 139889235733920+&#45;&gt;139889235733920 -->\n<g id=\"edge36\" class=\"edge\">\n<title>139889235733920+&#45;&gt;139889235733920</title>\n<path fill=\"none\" stroke=\"black\" d=\"M1837.21,-128.5C1844.73,-128.5 1853.43,-128.5 1862.67,-128.5\"/>\n<polygon fill=\"black\" stroke=\"black\" points=\"1862.89,-132 1872.89,-128.5 1862.89,-125 1862.89,-132\"/>\n</g>\n<!-- 139889235791440 -->\n<g id=\"node84\" class=\"node\">\n<title>139889235791440</title>\n<polygon fill=\"none\" stroke=\"black\" points=\"4505,-460.5 4505,-496.5 4687,-496.5 4687,-460.5 4505,-460.5\"/>\n<text text-anchor=\"middle\" x=\"4515\" y=\"-474.8\" font-family=\"Times,serif\" font-size=\"14.00\"> </text>\n<polyline fill=\"none\" stroke=\"black\" points=\"4525,-460.5 4525,-496.5 \"/>\n<text text-anchor=\"middle\" x=\"4565\" y=\"-474.8\" font-family=\"Times,serif\" font-size=\"14.00\">data 0.0963</text>\n<polyline fill=\"none\" stroke=\"black\" points=\"4605,-460.5 4605,-496.5 \"/>\n<text text-anchor=\"middle\" x=\"4646\" y=\"-474.8\" font-family=\"Times,serif\" font-size=\"14.00\">grad 0.0000</text>\n</g>\n<!-- 139889235791824+ -->\n<g id=\"node98\" class=\"node\">\n<title>139889235791824+</title>\n<ellipse fill=\"none\" stroke=\"black\" cx=\"4750\" cy=\"-478.5\" rx=\"27\" ry=\"18\"/>\n<text text-anchor=\"middle\" x=\"4750\" y=\"-474.8\" font-family=\"Times,serif\" font-size=\"14.00\">+</text>\n</g>\n<!-- 139889235791440&#45;&gt;139889235791824+ -->\n<g id=\"edge183\" class=\"edge\">\n<title>139889235791440&#45;&gt;139889235791824+</title>\n<path fill=\"none\" stroke=\"black\" d=\"M4687.18,-478.5C4696.14,-478.5 4704.83,-478.5 4712.73,-478.5\"/>\n<polygon fill=\"black\" stroke=\"black\" points=\"4712.96,-482 4722.96,-478.5 4712.96,-475 4712.96,-482\"/>\n</g>\n<!-- 139889235791440+&#45;&gt;139889235791440 -->\n<g id=\"edge37\" class=\"edge\">\n<title>139889235791440+&#45;&gt;139889235791440</title>\n<path fill=\"none\" stroke=\"black\" d=\"M4469.13,-478.5C4476.67,-478.5 4485.39,-478.5 4494.64,-478.5\"/>\n<polygon fill=\"black\" stroke=\"black\" points=\"4494.87,-482 4504.87,-478.5 4494.87,-475 4494.87,-482\"/>\n</g>\n<!-- 139889235734112 -->\n<g id=\"node86\" class=\"node\">\n<title>139889235734112</title>\n<polygon fill=\"none\" stroke=\"black\" points=\"1560,-220.5 1560,-256.5 1747,-256.5 1747,-220.5 1560,-220.5\"/>\n<text text-anchor=\"middle\" x=\"1570\" y=\"-234.8\" font-family=\"Times,serif\" font-size=\"14.00\"> </text>\n<polyline fill=\"none\" stroke=\"black\" points=\"1580,-220.5 1580,-256.5 \"/>\n<text text-anchor=\"middle\" x=\"1622.5\" y=\"-234.8\" font-family=\"Times,serif\" font-size=\"14.00\">data &#45;1.0000</text>\n<polyline fill=\"none\" stroke=\"black\" points=\"1665,-220.5 1665,-256.5 \"/>\n<text text-anchor=\"middle\" x=\"1706\" y=\"-234.8\" font-family=\"Times,serif\" font-size=\"14.00\">grad 0.0000</text>\n</g>\n<!-- 139889235734160* -->\n<g id=\"node88\" class=\"node\">\n<title>139889235734160*</title>\n<ellipse fill=\"none\" stroke=\"black\" cx=\"1810\" cy=\"-183.5\" rx=\"27\" ry=\"18\"/>\n<text text-anchor=\"middle\" x=\"1810\" y=\"-179.8\" font-family=\"Times,serif\" font-size=\"14.00\">*</text>\n</g>\n<!-- 139889235734112&#45;&gt;139889235734160* -->\n<g id=\"edge81\" class=\"edge\">\n<title>139889235734112&#45;&gt;139889235734160*</title>\n<path fill=\"none\" stroke=\"black\" d=\"M1718.02,-220.35C1727.79,-217.24 1737.71,-213.92 1747,-210.5 1757.25,-206.73 1768.23,-202.14 1778.07,-197.82\"/>\n<polygon fill=\"black\" stroke=\"black\" points=\"1779.74,-200.9 1787.45,-193.63 1776.89,-194.51 1779.74,-200.9\"/>\n</g>\n<!-- 139889235734160 -->\n<g id=\"node87\" class=\"node\">\n<title>139889235734160</title>\n<polygon fill=\"none\" stroke=\"black\" points=\"1873,-165.5 1873,-201.5 2060,-201.5 2060,-165.5 1873,-165.5\"/>\n<text text-anchor=\"middle\" x=\"1883\" y=\"-179.8\" font-family=\"Times,serif\" font-size=\"14.00\"> </text>\n<polyline fill=\"none\" stroke=\"black\" points=\"1893,-165.5 1893,-201.5 \"/>\n<text text-anchor=\"middle\" x=\"1935.5\" y=\"-179.8\" font-family=\"Times,serif\" font-size=\"14.00\">data &#45;0.6777</text>\n<polyline fill=\"none\" stroke=\"black\" points=\"1978,-165.5 1978,-201.5 \"/>\n<text text-anchor=\"middle\" x=\"2019\" y=\"-179.8\" font-family=\"Times,serif\" font-size=\"14.00\">grad 0.0000</text>\n</g>\n<!-- 139889235734160&#45;&gt;139889235734352+ -->\n<g id=\"edge151\" class=\"edge\">\n<title>139889235734160&#45;&gt;139889235734352+</title>\n<path fill=\"none\" stroke=\"black\" d=\"M2060.05,-183.5C2069.06,-183.5 2077.79,-183.5 2085.7,-183.5\"/>\n<polygon fill=\"black\" stroke=\"black\" points=\"2085.95,-187 2095.95,-183.5 2085.95,-180 2085.95,-187\"/>\n</g>\n<!-- 139889235734160*&#45;&gt;139889235734160 -->\n<g id=\"edge38\" class=\"edge\">\n<title>139889235734160*&#45;&gt;139889235734160</title>\n<path fill=\"none\" stroke=\"black\" d=\"M1837.21,-183.5C1844.73,-183.5 1853.43,-183.5 1862.67,-183.5\"/>\n<polygon fill=\"black\" stroke=\"black\" points=\"1862.89,-187 1872.89,-183.5 1862.89,-180 1862.89,-187\"/>\n</g>\n<!-- 139889235652336 -->\n<g id=\"node89\" class=\"node\">\n<title>139889235652336</title>\n<polygon fill=\"none\" stroke=\"black\" points=\"1560,-780.5 1560,-816.5 1747,-816.5 1747,-780.5 1560,-780.5\"/>\n<text text-anchor=\"middle\" x=\"1570\" y=\"-794.8\" font-family=\"Times,serif\" font-size=\"14.00\"> </text>\n<polyline fill=\"none\" stroke=\"black\" points=\"1580,-780.5 1580,-816.5 \"/>\n<text text-anchor=\"middle\" x=\"1622.5\" y=\"-794.8\" font-family=\"Times,serif\" font-size=\"14.00\">data &#45;0.9937</text>\n<polyline fill=\"none\" stroke=\"black\" points=\"1665,-780.5 1665,-816.5 \"/>\n<text text-anchor=\"middle\" x=\"1706\" y=\"-794.8\" font-family=\"Times,serif\" font-size=\"14.00\">grad 0.0000</text>\n</g>\n<!-- 139889235652336&#45;&gt;139889235789136* -->\n<g id=\"edge80\" class=\"edge\">\n<title>139889235652336&#45;&gt;139889235789136*</title>\n<path fill=\"none\" stroke=\"black\" d=\"M1702.25,-780.48C1718.98,-771.81 1736.26,-759.69 1747,-743.5 1811.95,-645.54 1760.45,-596.85 1783,-481.5 1787.99,-455.99 1795.46,-427.35 1801.11,-406.92\"/>\n<polygon fill=\"black\" stroke=\"black\" points=\"1804.55,-407.63 1803.88,-397.05 1797.81,-405.74 1804.55,-407.63\"/>\n</g>\n<!-- 139889235734736* -->\n<g id=\"node107\" class=\"node\">\n<title>139889235734736*</title>\n<ellipse fill=\"none\" stroke=\"black\" cx=\"1810\" cy=\"-587.5\" rx=\"27\" ry=\"18\"/>\n<text text-anchor=\"middle\" x=\"1810\" y=\"-583.8\" font-family=\"Times,serif\" font-size=\"14.00\">*</text>\n</g>\n<!-- 139889235652336&#45;&gt;139889235734736* -->\n<g id=\"edge141\" class=\"edge\">\n<title>139889235652336&#45;&gt;139889235734736*</title>\n<path fill=\"none\" stroke=\"black\" d=\"M1697.94,-780.28C1715.1,-771.3 1733.82,-759.03 1747,-743.5 1775.41,-710.02 1766.74,-692.28 1783,-651.5 1787.88,-639.27 1793.36,-625.75 1798.02,-614.3\"/>\n<polygon fill=\"black\" stroke=\"black\" points=\"1801.34,-615.44 1801.88,-604.86 1794.86,-612.8 1801.34,-615.44\"/>\n</g>\n<!-- 139889235736464* -->\n<g id=\"node155\" class=\"node\">\n<title>139889235736464*</title>\n<ellipse fill=\"none\" stroke=\"black\" cx=\"1810\" cy=\"-843.5\" rx=\"27\" ry=\"18\"/>\n<text text-anchor=\"middle\" x=\"1810\" y=\"-839.8\" font-family=\"Times,serif\" font-size=\"14.00\">*</text>\n</g>\n<!-- 139889235652336&#45;&gt;139889235736464* -->\n<g id=\"edge123\" class=\"edge\">\n<title>139889235652336&#45;&gt;139889235736464*</title>\n<path fill=\"none\" stroke=\"black\" d=\"M1716.45,-816.54C1736.52,-822.39 1758.03,-828.65 1775.25,-833.67\"/>\n<polygon fill=\"black\" stroke=\"black\" points=\"1774.28,-837.03 1784.86,-836.47 1776.23,-830.31 1774.28,-837.03\"/>\n</g>\n<!-- 139889235738192* -->\n<g id=\"node195\" class=\"node\">\n<title>139889235738192*</title>\n<ellipse fill=\"none\" stroke=\"black\" cx=\"1810\" cy=\"-935.5\" rx=\"27\" ry=\"18\"/>\n<text text-anchor=\"middle\" x=\"1810\" y=\"-931.8\" font-family=\"Times,serif\" font-size=\"14.00\">*</text>\n</g>\n<!-- 139889235652336&#45;&gt;139889235738192* -->\n<g id=\"edge206\" class=\"edge\">\n<title>139889235652336&#45;&gt;139889235738192*</title>\n<path fill=\"none\" stroke=\"black\" d=\"M1733.39,-816.7C1738.22,-819.25 1742.81,-822.17 1747,-825.5 1761.35,-836.89 1783.38,-880.28 1796.96,-909.04\"/>\n<polygon fill=\"black\" stroke=\"black\" points=\"1793.81,-910.58 1801.21,-918.17 1800.16,-907.62 1793.81,-910.58\"/>\n</g>\n<!-- 139889235652336tanh -->\n<g id=\"node90\" class=\"node\">\n<title>139889235652336tanh</title>\n<ellipse fill=\"none\" stroke=\"black\" cx=\"1497\" cy=\"-812.5\" rx=\"27\" ry=\"18\"/>\n<text text-anchor=\"middle\" x=\"1497\" y=\"-808.8\" font-family=\"Times,serif\" font-size=\"14.00\">tanh</text>\n</g>\n<!-- 139889235652336tanh&#45;&gt;139889235652336 -->\n<g id=\"edge39\" class=\"edge\">\n<title>139889235652336tanh&#45;&gt;139889235652336</title>\n<path fill=\"none\" stroke=\"black\" d=\"M1523.86,-810.16C1531.51,-809.46 1540.39,-808.66 1549.84,-807.8\"/>\n<polygon fill=\"black\" stroke=\"black\" points=\"1550.23,-811.28 1559.87,-806.89 1549.6,-804.31 1550.23,-811.28\"/>\n</g>\n<!-- 139889235791632 -->\n<g id=\"node91\" class=\"node\">\n<title>139889235791632</title>\n<polygon fill=\"none\" stroke=\"black\" points=\"3976.5,-556.5 3976.5,-592.5 4158.5,-592.5 4158.5,-556.5 3976.5,-556.5\"/>\n<text text-anchor=\"middle\" x=\"3986.5\" y=\"-570.8\" font-family=\"Times,serif\" font-size=\"14.00\"> </text>\n<polyline fill=\"none\" stroke=\"black\" points=\"3996.5,-556.5 3996.5,-592.5 \"/>\n<text text-anchor=\"middle\" x=\"4036.5\" y=\"-570.8\" font-family=\"Times,serif\" font-size=\"14.00\">data 0.1046</text>\n<polyline fill=\"none\" stroke=\"black\" points=\"4076.5,-556.5 4076.5,-592.5 \"/>\n<text text-anchor=\"middle\" x=\"4117.5\" y=\"-570.8\" font-family=\"Times,serif\" font-size=\"14.00\">grad 0.0000</text>\n</g>\n<!-- 139889235791632&#45;&gt;139889235791824+ -->\n<g id=\"edge175\" class=\"edge\">\n<title>139889235791632&#45;&gt;139889235791824+</title>\n<path fill=\"none\" stroke=\"black\" d=\"M4158.65,-572.85C4280.47,-568.73 4503.54,-554.48 4687,-505.5 4697.83,-502.61 4709.21,-498.12 4719.22,-493.62\"/>\n<polygon fill=\"black\" stroke=\"black\" points=\"4720.75,-496.77 4728.33,-489.36 4717.79,-490.43 4720.75,-496.77\"/>\n</g>\n<!-- 139889235791632*&#45;&gt;139889235791632 -->\n<g id=\"edge40\" class=\"edge\">\n<title>139889235791632*&#45;&gt;139889235791632</title>\n<path fill=\"none\" stroke=\"black\" d=\"M3714.95,-594.06C3765.85,-591.22 3881.22,-584.81 3965.97,-580.09\"/>\n<polygon fill=\"black\" stroke=\"black\" points=\"3966.36,-583.58 3976.15,-579.53 3965.97,-576.59 3966.36,-583.58\"/>\n</g>\n<!-- 139889235734352 -->\n<g id=\"node93\" class=\"node\">\n<title>139889235734352</title>\n<polygon fill=\"none\" stroke=\"black\" points=\"2186,-193.5 2186,-229.5 2373,-229.5 2373,-193.5 2186,-193.5\"/>\n<text text-anchor=\"middle\" x=\"2196\" y=\"-207.8\" font-family=\"Times,serif\" font-size=\"14.00\"> </text>\n<polyline fill=\"none\" stroke=\"black\" points=\"2206,-193.5 2206,-229.5 \"/>\n<text text-anchor=\"middle\" x=\"2248.5\" y=\"-207.8\" font-family=\"Times,serif\" font-size=\"14.00\">data &#45;2.2795</text>\n<polyline fill=\"none\" stroke=\"black\" points=\"2291,-193.5 2291,-229.5 \"/>\n<text text-anchor=\"middle\" x=\"2332\" y=\"-207.8\" font-family=\"Times,serif\" font-size=\"14.00\">grad 0.0000</text>\n</g>\n<!-- 139889235734448tanh -->\n<g id=\"node96\" class=\"node\">\n<title>139889235734448tanh</title>\n<ellipse fill=\"none\" stroke=\"black\" cx=\"2436\" cy=\"-252.5\" rx=\"27\" ry=\"18\"/>\n<text text-anchor=\"middle\" x=\"2436\" y=\"-248.8\" font-family=\"Times,serif\" font-size=\"14.00\">tanh</text>\n</g>\n<!-- 139889235734352&#45;&gt;139889235734448tanh -->\n<g id=\"edge137\" class=\"edge\">\n<title>139889235734352&#45;&gt;139889235734448tanh</title>\n<path fill=\"none\" stroke=\"black\" d=\"M2348.72,-229.6C2366.71,-234.38 2385.37,-239.33 2400.71,-243.4\"/>\n<polygon fill=\"black\" stroke=\"black\" points=\"2400.2,-246.88 2410.76,-246.07 2401.99,-240.12 2400.2,-246.88\"/>\n</g>\n<!-- 139889235734352+&#45;&gt;139889235734352 -->\n<g id=\"edge41\" class=\"edge\">\n<title>139889235734352+&#45;&gt;139889235734352</title>\n<path fill=\"none\" stroke=\"black\" d=\"M2149.17,-188.06C2156.99,-189.48 2166.15,-191.14 2175.91,-192.91\"/>\n<polygon fill=\"black\" stroke=\"black\" points=\"2175.39,-196.37 2185.86,-194.71 2176.64,-189.48 2175.39,-196.37\"/>\n</g>\n<!-- 139889235734448 -->\n<g id=\"node95\" class=\"node\">\n<title>139889235734448</title>\n<polygon fill=\"none\" stroke=\"black\" points=\"2499,-275.5 2499,-311.5 2686,-311.5 2686,-275.5 2499,-275.5\"/>\n<text text-anchor=\"middle\" x=\"2509\" y=\"-289.8\" font-family=\"Times,serif\" font-size=\"14.00\"> </text>\n<polyline fill=\"none\" stroke=\"black\" points=\"2519,-275.5 2519,-311.5 \"/>\n<text text-anchor=\"middle\" x=\"2561.5\" y=\"-289.8\" font-family=\"Times,serif\" font-size=\"14.00\">data &#45;0.9793</text>\n<polyline fill=\"none\" stroke=\"black\" points=\"2604,-275.5 2604,-311.5 \"/>\n<text text-anchor=\"middle\" x=\"2645\" y=\"-289.8\" font-family=\"Times,serif\" font-size=\"14.00\">grad 0.0000</text>\n</g>\n<!-- 139889235734448&#45;&gt;139889235788560* -->\n<g id=\"edge124\" class=\"edge\">\n<title>139889235734448&#45;&gt;139889235788560*</title>\n<path fill=\"none\" stroke=\"black\" d=\"M2675.94,-311.54C2679.62,-314.15 2683.01,-317.12 2686,-320.5 2751.66,-394.69 2678.43,-451.51 2722,-540.5 2723,-542.53 2724.19,-544.52 2725.51,-546.44\"/>\n<polygon fill=\"black\" stroke=\"black\" points=\"2722.88,-548.76 2731.88,-554.34 2728.33,-544.36 2722.88,-548.76\"/>\n</g>\n<!-- 139889235734448&#45;&gt;139889235790288* -->\n<g id=\"edge111\" class=\"edge\">\n<title>139889235734448&#45;&gt;139889235790288*</title>\n<path fill=\"none\" stroke=\"black\" d=\"M2657.02,-275.35C2666.79,-272.24 2676.71,-268.92 2686,-265.5 2696.25,-261.73 2707.23,-257.14 2717.07,-252.82\"/>\n<polygon fill=\"black\" stroke=\"black\" points=\"2718.74,-255.9 2726.45,-248.63 2715.89,-249.51 2718.74,-255.9\"/>\n</g>\n<!-- 139889235734448&#45;&gt;139889235735888* -->\n<g id=\"edge162\" class=\"edge\">\n<title>139889235734448&#45;&gt;139889235735888*</title>\n<path fill=\"none\" stroke=\"black\" d=\"M2686.05,-293.5C2695.06,-293.5 2703.79,-293.5 2711.7,-293.5\"/>\n<polygon fill=\"black\" stroke=\"black\" points=\"2711.95,-297 2721.95,-293.5 2711.95,-290 2711.95,-297\"/>\n</g>\n<!-- 139889235737616* -->\n<g id=\"node180\" class=\"node\">\n<title>139889235737616*</title>\n<ellipse fill=\"none\" stroke=\"black\" cx=\"2749\" cy=\"-513.5\" rx=\"27\" ry=\"18\"/>\n<text text-anchor=\"middle\" x=\"2749\" y=\"-509.8\" font-family=\"Times,serif\" font-size=\"14.00\">*</text>\n</g>\n<!-- 139889235734448&#45;&gt;139889235737616* -->\n<g id=\"edge148\" class=\"edge\">\n<title>139889235734448&#45;&gt;139889235737616*</title>\n<path fill=\"none\" stroke=\"black\" d=\"M2674.51,-311.56C2678.65,-314.15 2682.52,-317.12 2686,-320.5 2709.85,-343.72 2732.31,-438.03 2742.41,-485.67\"/>\n<polygon fill=\"black\" stroke=\"black\" points=\"2739.02,-486.55 2744.48,-495.63 2745.87,-485.13 2739.02,-486.55\"/>\n</g>\n<!-- 139889235734448tanh&#45;&gt;139889235734448 -->\n<g id=\"edge42\" class=\"edge\">\n<title>139889235734448tanh&#45;&gt;139889235734448</title>\n<path fill=\"none\" stroke=\"black\" d=\"M2461.48,-259C2475.76,-262.78 2494.63,-267.79 2513.57,-272.82\"/>\n<polygon fill=\"black\" stroke=\"black\" points=\"2512.89,-276.26 2523.45,-275.44 2514.68,-269.49 2512.89,-276.26\"/>\n</g>\n<!-- 139889235791824 -->\n<g id=\"node97\" class=\"node\">\n<title>139889235791824</title>\n<polygon fill=\"none\" stroke=\"black\" points=\"4813,-437.5 4813,-473.5 4995,-473.5 4995,-437.5 4813,-437.5\"/>\n<text text-anchor=\"middle\" x=\"4823\" y=\"-451.8\" font-family=\"Times,serif\" font-size=\"14.00\"> </text>\n<polyline fill=\"none\" stroke=\"black\" points=\"4833,-437.5 4833,-473.5 \"/>\n<text text-anchor=\"middle\" x=\"4873\" y=\"-451.8\" font-family=\"Times,serif\" font-size=\"14.00\">data 0.2009</text>\n<polyline fill=\"none\" stroke=\"black\" points=\"4913,-437.5 4913,-473.5 \"/>\n<text text-anchor=\"middle\" x=\"4954\" y=\"-451.8\" font-family=\"Times,serif\" font-size=\"14.00\">grad 0.0000</text>\n</g>\n<!-- 139889235792208+ -->\n<g id=\"node110\" class=\"node\">\n<title>139889235792208+</title>\n<ellipse fill=\"none\" stroke=\"black\" cx=\"5058\" cy=\"-431.5\" rx=\"27\" ry=\"18\"/>\n<text text-anchor=\"middle\" x=\"5058\" y=\"-427.8\" font-family=\"Times,serif\" font-size=\"14.00\">+</text>\n</g>\n<!-- 139889235791824&#45;&gt;139889235792208+ -->\n<g id=\"edge195\" class=\"edge\">\n<title>139889235791824&#45;&gt;139889235792208+</title>\n<path fill=\"none\" stroke=\"black\" d=\"M4995.18,-441.26C5004.42,-439.8 5013.38,-438.39 5021.47,-437.11\"/>\n<polygon fill=\"black\" stroke=\"black\" points=\"5022.23,-440.53 5031.56,-435.52 5021.14,-433.62 5022.23,-440.53\"/>\n</g>\n<!-- 139889235791824+&#45;&gt;139889235791824 -->\n<g id=\"edge43\" class=\"edge\">\n<title>139889235791824+&#45;&gt;139889235791824</title>\n<path fill=\"none\" stroke=\"black\" d=\"M4776.44,-474.65C4784.16,-473.48 4793.14,-472.12 4802.7,-470.68\"/>\n<polygon fill=\"black\" stroke=\"black\" points=\"4803.48,-474.1 4812.85,-469.14 4802.43,-467.18 4803.48,-474.1\"/>\n</g>\n<!-- 139889235652576 -->\n<g id=\"node99\" class=\"node\">\n<title>139889235652576</title>\n<polygon fill=\"none\" stroke=\"black\" points=\"1247,-808.5 1247,-844.5 1434,-844.5 1434,-808.5 1247,-808.5\"/>\n<text text-anchor=\"middle\" x=\"1257\" y=\"-822.8\" font-family=\"Times,serif\" font-size=\"14.00\"> </text>\n<polyline fill=\"none\" stroke=\"black\" points=\"1267,-808.5 1267,-844.5 \"/>\n<text text-anchor=\"middle\" x=\"1309.5\" y=\"-822.8\" font-family=\"Times,serif\" font-size=\"14.00\">data &#45;2.8825</text>\n<polyline fill=\"none\" stroke=\"black\" points=\"1352,-808.5 1352,-844.5 \"/>\n<text text-anchor=\"middle\" x=\"1393\" y=\"-822.8\" font-family=\"Times,serif\" font-size=\"14.00\">grad 0.0000</text>\n</g>\n<!-- 139889235652576&#45;&gt;139889235652336tanh -->\n<g id=\"edge208\" class=\"edge\">\n<title>139889235652576&#45;&gt;139889235652336tanh</title>\n<path fill=\"none\" stroke=\"black\" d=\"M1434.05,-818.11C1443.16,-817.29 1451.98,-816.49 1459.97,-815.76\"/>\n<polygon fill=\"black\" stroke=\"black\" points=\"1460.31,-819.25 1469.95,-814.86 1459.67,-812.28 1460.31,-819.25\"/>\n</g>\n<!-- 139889235652576+&#45;&gt;139889235652576 -->\n<g id=\"edge44\" class=\"edge\">\n<title>139889235652576+&#45;&gt;139889235652576</title>\n<path fill=\"none\" stroke=\"black\" d=\"M1211.21,-826.5C1218.73,-826.5 1227.43,-826.5 1236.67,-826.5\"/>\n<polygon fill=\"black\" stroke=\"black\" points=\"1236.89,-830 1246.89,-826.5 1236.89,-823 1236.89,-830\"/>\n</g>\n<!-- 139889235652720 -->\n<g id=\"node101\" class=\"node\">\n<title>139889235652720</title>\n<polygon fill=\"none\" stroke=\"black\" points=\"934,-808.5 934,-844.5 1121,-844.5 1121,-808.5 934,-808.5\"/>\n<text text-anchor=\"middle\" x=\"944\" y=\"-822.8\" font-family=\"Times,serif\" font-size=\"14.00\"> </text>\n<polyline fill=\"none\" stroke=\"black\" points=\"954,-808.5 954,-844.5 \"/>\n<text text-anchor=\"middle\" x=\"996.5\" y=\"-822.8\" font-family=\"Times,serif\" font-size=\"14.00\">data &#45;0.9084</text>\n<polyline fill=\"none\" stroke=\"black\" points=\"1039,-808.5 1039,-844.5 \"/>\n<text text-anchor=\"middle\" x=\"1080\" y=\"-822.8\" font-family=\"Times,serif\" font-size=\"14.00\">grad 0.0000</text>\n</g>\n<!-- 139889235652720&#45;&gt;139889235652576+ -->\n<g id=\"edge181\" class=\"edge\">\n<title>139889235652720&#45;&gt;139889235652576+</title>\n<path fill=\"none\" stroke=\"black\" d=\"M1121.05,-826.5C1130.06,-826.5 1138.79,-826.5 1146.7,-826.5\"/>\n<polygon fill=\"black\" stroke=\"black\" points=\"1146.95,-830 1156.95,-826.5 1146.95,-823 1146.95,-830\"/>\n</g>\n<!-- 139889235652720* -->\n<g id=\"node102\" class=\"node\">\n<title>139889235652720*</title>\n<ellipse fill=\"none\" stroke=\"black\" cx=\"871\" cy=\"-826.5\" rx=\"27\" ry=\"18\"/>\n<text text-anchor=\"middle\" x=\"871\" y=\"-822.8\" font-family=\"Times,serif\" font-size=\"14.00\">*</text>\n</g>\n<!-- 139889235652720*&#45;&gt;139889235652720 -->\n<g id=\"edge45\" class=\"edge\">\n<title>139889235652720*&#45;&gt;139889235652720</title>\n<path fill=\"none\" stroke=\"black\" d=\"M898.21,-826.5C905.73,-826.5 914.43,-826.5 923.67,-826.5\"/>\n<polygon fill=\"black\" stroke=\"black\" points=\"923.89,-830 933.89,-826.5 923.89,-823 923.89,-830\"/>\n</g>\n<!-- 139889235792016 -->\n<g id=\"node103\" class=\"node\">\n<title>139889235792016</title>\n<polygon fill=\"none\" stroke=\"black\" points=\"4197,-343.5 4197,-379.5 4379,-379.5 4379,-343.5 4197,-343.5\"/>\n<text text-anchor=\"middle\" x=\"4207\" y=\"-357.8\" font-family=\"Times,serif\" font-size=\"14.00\"> </text>\n<polyline fill=\"none\" stroke=\"black\" points=\"4217,-343.5 4217,-379.5 \"/>\n<text text-anchor=\"middle\" x=\"4257\" y=\"-357.8\" font-family=\"Times,serif\" font-size=\"14.00\">data 0.0193</text>\n<polyline fill=\"none\" stroke=\"black\" points=\"4297,-343.5 4297,-379.5 \"/>\n<text text-anchor=\"middle\" x=\"4338\" y=\"-357.8\" font-family=\"Times,serif\" font-size=\"14.00\">grad 0.0000</text>\n</g>\n<!-- 139889235792016&#45;&gt;139889235792208+ -->\n<g id=\"edge110\" class=\"edge\">\n<title>139889235792016&#45;&gt;139889235792208+</title>\n<path fill=\"none\" stroke=\"black\" d=\"M4363.96,-379.54C4425.61,-392.79 4515.45,-408.5 4595,-408.5 4595,-408.5 4595,-408.5 4751,-408.5 4849.05,-408.5 4964.28,-420.39 5021.3,-427.07\"/>\n<polygon fill=\"black\" stroke=\"black\" points=\"5020.91,-430.55 5031.26,-428.25 5021.74,-423.6 5020.91,-430.55\"/>\n</g>\n<!-- 139889235792016*&#45;&gt;139889235792016 -->\n<g id=\"edge46\" class=\"edge\">\n<title>139889235792016*&#45;&gt;139889235792016</title>\n<path fill=\"none\" stroke=\"black\" d=\"M3715.08,-322.29C3795.98,-327.83 4045.69,-344.96 4186.95,-354.64\"/>\n<polygon fill=\"black\" stroke=\"black\" points=\"4186.71,-358.13 4196.93,-355.32 4187.19,-351.15 4186.71,-358.13\"/>\n</g>\n<!-- 139889235521696 -->\n<g id=\"node105\" class=\"node\">\n<title>139889235521696</title>\n<polygon fill=\"none\" stroke=\"black\" points=\"1560,-569.5 1560,-605.5 1747,-605.5 1747,-569.5 1560,-569.5\"/>\n<text text-anchor=\"middle\" x=\"1570\" y=\"-583.8\" font-family=\"Times,serif\" font-size=\"14.00\"> </text>\n<polyline fill=\"none\" stroke=\"black\" points=\"1580,-569.5 1580,-605.5 \"/>\n<text text-anchor=\"middle\" x=\"1622.5\" y=\"-583.8\" font-family=\"Times,serif\" font-size=\"14.00\">data &#45;0.1306</text>\n<polyline fill=\"none\" stroke=\"black\" points=\"1665,-569.5 1665,-605.5 \"/>\n<text text-anchor=\"middle\" x=\"1706\" y=\"-583.8\" font-family=\"Times,serif\" font-size=\"14.00\">grad 0.0000</text>\n</g>\n<!-- 139889235521696&#45;&gt;139889235734736* -->\n<g id=\"edge97\" class=\"edge\">\n<title>139889235521696&#45;&gt;139889235734736*</title>\n<path fill=\"none\" stroke=\"black\" d=\"M1747.05,-587.5C1756.06,-587.5 1764.79,-587.5 1772.7,-587.5\"/>\n<polygon fill=\"black\" stroke=\"black\" points=\"1772.95,-591 1782.95,-587.5 1772.95,-584 1772.95,-591\"/>\n</g>\n<!-- 139889235734736 -->\n<g id=\"node106\" class=\"node\">\n<title>139889235734736</title>\n<polygon fill=\"none\" stroke=\"black\" points=\"1875.5,-550.5 1875.5,-586.5 2057.5,-586.5 2057.5,-550.5 1875.5,-550.5\"/>\n<text text-anchor=\"middle\" x=\"1885.5\" y=\"-564.8\" font-family=\"Times,serif\" font-size=\"14.00\"> </text>\n<polyline fill=\"none\" stroke=\"black\" points=\"1895.5,-550.5 1895.5,-586.5 \"/>\n<text text-anchor=\"middle\" x=\"1935.5\" y=\"-564.8\" font-family=\"Times,serif\" font-size=\"14.00\">data 0.1298</text>\n<polyline fill=\"none\" stroke=\"black\" points=\"1975.5,-550.5 1975.5,-586.5 \"/>\n<text text-anchor=\"middle\" x=\"2016.5\" y=\"-564.8\" font-family=\"Times,serif\" font-size=\"14.00\">grad 0.0000</text>\n</g>\n<!-- 139889235734736&#45;&gt;139889235734928+ -->\n<g id=\"edge144\" class=\"edge\">\n<title>139889235734736&#45;&gt;139889235734928+</title>\n<path fill=\"none\" stroke=\"black\" d=\"M2042.64,-550.32C2048.75,-547.49 2054.63,-544.24 2060,-540.5 2080.7,-526.07 2097.44,-502.58 2108.29,-484.43\"/>\n<polygon fill=\"black\" stroke=\"black\" points=\"2111.47,-485.91 2113.41,-475.5 2105.4,-482.43 2111.47,-485.91\"/>\n</g>\n<!-- 139889235734736*&#45;&gt;139889235734736 -->\n<g id=\"edge47\" class=\"edge\">\n<title>139889235734736*&#45;&gt;139889235734736</title>\n<path fill=\"none\" stroke=\"black\" d=\"M1836.86,-584.32C1845.13,-583.3 1854.83,-582.11 1865.14,-580.84\"/>\n<polygon fill=\"black\" stroke=\"black\" points=\"1865.69,-584.3 1875.18,-579.61 1864.83,-577.35 1865.69,-584.3\"/>\n</g>\n<!-- 139889235521744 -->\n<g id=\"node108\" class=\"node\">\n<title>139889235521744</title>\n<polygon fill=\"none\" stroke=\"black\" points=\"1875.5,-385.5 1875.5,-421.5 2057.5,-421.5 2057.5,-385.5 1875.5,-385.5\"/>\n<text text-anchor=\"middle\" x=\"1885.5\" y=\"-399.8\" font-family=\"Times,serif\" font-size=\"14.00\"> </text>\n<polyline fill=\"none\" stroke=\"black\" points=\"1895.5,-385.5 1895.5,-421.5 \"/>\n<text text-anchor=\"middle\" x=\"1935.5\" y=\"-399.8\" font-family=\"Times,serif\" font-size=\"14.00\">data 0.0246</text>\n<polyline fill=\"none\" stroke=\"black\" points=\"1975.5,-385.5 1975.5,-421.5 \"/>\n<text text-anchor=\"middle\" x=\"2016.5\" y=\"-399.8\" font-family=\"Times,serif\" font-size=\"14.00\">grad 0.0000</text>\n</g>\n<!-- 139889235521744&#45;&gt;139889235735120* -->\n<g id=\"edge83\" class=\"edge\">\n<title>139889235521744&#45;&gt;139889235735120*</title>\n<path fill=\"none\" stroke=\"black\" d=\"M2057.82,-403.5C2067.57,-403.5 2077.04,-403.5 2085.57,-403.5\"/>\n<polygon fill=\"black\" stroke=\"black\" points=\"2085.83,-407 2095.83,-403.5 2085.83,-400 2085.83,-407\"/>\n</g>\n<!-- 139889235792208 -->\n<g id=\"node109\" class=\"node\">\n<title>139889235792208</title>\n<polygon fill=\"none\" stroke=\"black\" points=\"5121,-413.5 5121,-449.5 5303,-449.5 5303,-413.5 5121,-413.5\"/>\n<text text-anchor=\"middle\" x=\"5131\" y=\"-427.8\" font-family=\"Times,serif\" font-size=\"14.00\"> </text>\n<polyline fill=\"none\" stroke=\"black\" points=\"5141,-413.5 5141,-449.5 \"/>\n<text text-anchor=\"middle\" x=\"5181\" y=\"-427.8\" font-family=\"Times,serif\" font-size=\"14.00\">data 0.2202</text>\n<polyline fill=\"none\" stroke=\"black\" points=\"5221,-413.5 5221,-449.5 \"/>\n<text text-anchor=\"middle\" x=\"5262\" y=\"-427.8\" font-family=\"Times,serif\" font-size=\"14.00\">grad 0.0000</text>\n</g>\n<!-- 139889235792304tanh -->\n<g id=\"node115\" class=\"node\">\n<title>139889235792304tanh</title>\n<ellipse fill=\"none\" stroke=\"black\" cx=\"5366\" cy=\"-431.5\" rx=\"27\" ry=\"18\"/>\n<text text-anchor=\"middle\" x=\"5366\" y=\"-427.8\" font-family=\"Times,serif\" font-size=\"14.00\">tanh</text>\n</g>\n<!-- 139889235792208&#45;&gt;139889235792304tanh -->\n<g id=\"edge130\" class=\"edge\">\n<title>139889235792208&#45;&gt;139889235792304tanh</title>\n<path fill=\"none\" stroke=\"black\" d=\"M5303.18,-431.5C5312.14,-431.5 5320.83,-431.5 5328.73,-431.5\"/>\n<polygon fill=\"black\" stroke=\"black\" points=\"5328.96,-435 5338.96,-431.5 5328.96,-428 5328.96,-435\"/>\n</g>\n<!-- 139889235792208+&#45;&gt;139889235792208 -->\n<g id=\"edge48\" class=\"edge\">\n<title>139889235792208+&#45;&gt;139889235792208</title>\n<path fill=\"none\" stroke=\"black\" d=\"M5085.13,-431.5C5092.67,-431.5 5101.39,-431.5 5110.64,-431.5\"/>\n<polygon fill=\"black\" stroke=\"black\" points=\"5110.87,-435 5120.87,-431.5 5110.87,-428 5110.87,-435\"/>\n</g>\n<!-- 139889235653008 -->\n<g id=\"node111\" class=\"node\">\n<title>139889235653008</title>\n<polygon fill=\"none\" stroke=\"black\" points=\"621,-808.5 621,-844.5 808,-844.5 808,-808.5 621,-808.5\"/>\n<text text-anchor=\"middle\" x=\"631\" y=\"-822.8\" font-family=\"Times,serif\" font-size=\"14.00\"> </text>\n<polyline fill=\"none\" stroke=\"black\" points=\"641,-808.5 641,-844.5 \"/>\n<text text-anchor=\"middle\" x=\"683.5\" y=\"-822.8\" font-family=\"Times,serif\" font-size=\"14.00\">data &#45;1.0000</text>\n<polyline fill=\"none\" stroke=\"black\" points=\"726,-808.5 726,-844.5 \"/>\n<text text-anchor=\"middle\" x=\"767\" y=\"-822.8\" font-family=\"Times,serif\" font-size=\"14.00\">grad 0.0000</text>\n</g>\n<!-- 139889235653008&#45;&gt;139889235652720* -->\n<g id=\"edge204\" class=\"edge\">\n<title>139889235653008&#45;&gt;139889235652720*</title>\n<path fill=\"none\" stroke=\"black\" d=\"M808.05,-826.5C817.06,-826.5 825.79,-826.5 833.7,-826.5\"/>\n<polygon fill=\"black\" stroke=\"black\" points=\"833.95,-830 843.95,-826.5 833.95,-823 833.95,-830\"/>\n</g>\n<!-- 139889235734928 -->\n<g id=\"node112\" class=\"node\">\n<title>139889235734928</title>\n<polygon fill=\"none\" stroke=\"black\" points=\"2188.5,-440.5 2188.5,-476.5 2370.5,-476.5 2370.5,-440.5 2188.5,-440.5\"/>\n<text text-anchor=\"middle\" x=\"2198.5\" y=\"-454.8\" font-family=\"Times,serif\" font-size=\"14.00\"> </text>\n<polyline fill=\"none\" stroke=\"black\" points=\"2208.5,-440.5 2208.5,-476.5 \"/>\n<text text-anchor=\"middle\" x=\"2248.5\" y=\"-454.8\" font-family=\"Times,serif\" font-size=\"14.00\">data 0.1491</text>\n<polyline fill=\"none\" stroke=\"black\" points=\"2288.5,-440.5 2288.5,-476.5 \"/>\n<text text-anchor=\"middle\" x=\"2329.5\" y=\"-454.8\" font-family=\"Times,serif\" font-size=\"14.00\">grad 0.0000</text>\n</g>\n<!-- 139889235735312+ -->\n<g id=\"node126\" class=\"node\">\n<title>139889235735312+</title>\n<ellipse fill=\"none\" stroke=\"black\" cx=\"2436\" cy=\"-403.5\" rx=\"27\" ry=\"18\"/>\n<text text-anchor=\"middle\" x=\"2436\" y=\"-399.8\" font-family=\"Times,serif\" font-size=\"14.00\">+</text>\n</g>\n<!-- 139889235734928&#45;&gt;139889235735312+ -->\n<g id=\"edge166\" class=\"edge\">\n<title>139889235734928&#45;&gt;139889235735312+</title>\n<path fill=\"none\" stroke=\"black\" d=\"M2344.02,-440.35C2353.79,-437.24 2363.71,-433.92 2373,-430.5 2383.25,-426.73 2394.23,-422.14 2404.07,-417.82\"/>\n<polygon fill=\"black\" stroke=\"black\" points=\"2405.74,-420.9 2413.45,-413.63 2402.89,-414.51 2405.74,-420.9\"/>\n</g>\n<!-- 139889235734928+&#45;&gt;139889235734928 -->\n<g id=\"edge49\" class=\"edge\">\n<title>139889235734928+&#45;&gt;139889235734928</title>\n<path fill=\"none\" stroke=\"black\" d=\"M2150.21,-458.5C2158.34,-458.5 2167.85,-458.5 2177.94,-458.5\"/>\n<polygon fill=\"black\" stroke=\"black\" points=\"2178.19,-462 2188.19,-458.5 2178.19,-455 2178.19,-462\"/>\n</g>\n<!-- 139889235792304 -->\n<g id=\"node114\" class=\"node\">\n<title>139889235792304</title>\n<polygon fill=\"none\" stroke=\"black\" points=\"5429,-413.5 5429,-449.5 5611,-449.5 5611,-413.5 5429,-413.5\"/>\n<text text-anchor=\"middle\" x=\"5439\" y=\"-427.8\" font-family=\"Times,serif\" font-size=\"14.00\"> </text>\n<polyline fill=\"none\" stroke=\"black\" points=\"5449,-413.5 5449,-449.5 \"/>\n<text text-anchor=\"middle\" x=\"5489\" y=\"-427.8\" font-family=\"Times,serif\" font-size=\"14.00\">data 0.2167</text>\n<polyline fill=\"none\" stroke=\"black\" points=\"5529,-413.5 5529,-449.5 \"/>\n<text text-anchor=\"middle\" x=\"5570\" y=\"-427.8\" font-family=\"Times,serif\" font-size=\"14.00\">grad 0.0000</text>\n</g>\n<!-- 139889235792304tanh&#45;&gt;139889235792304 -->\n<g id=\"edge50\" class=\"edge\">\n<title>139889235792304tanh&#45;&gt;139889235792304</title>\n<path fill=\"none\" stroke=\"black\" d=\"M5393.13,-431.5C5400.67,-431.5 5409.39,-431.5 5418.64,-431.5\"/>\n<polygon fill=\"black\" stroke=\"black\" points=\"5418.87,-435 5428.87,-431.5 5418.87,-428 5418.87,-435\"/>\n</g>\n<!-- 139889235521984 -->\n<g id=\"node116\" class=\"node\">\n<title>139889235521984</title>\n<polygon fill=\"none\" stroke=\"black\" points=\"936.5,-533.5 936.5,-569.5 1118.5,-569.5 1118.5,-533.5 936.5,-533.5\"/>\n<text text-anchor=\"middle\" x=\"946.5\" y=\"-547.8\" font-family=\"Times,serif\" font-size=\"14.00\"> </text>\n<polyline fill=\"none\" stroke=\"black\" points=\"956.5,-533.5 956.5,-569.5 \"/>\n<text text-anchor=\"middle\" x=\"996.5\" y=\"-547.8\" font-family=\"Times,serif\" font-size=\"14.00\">data 0.6238</text>\n<polyline fill=\"none\" stroke=\"black\" points=\"1036.5,-533.5 1036.5,-569.5 \"/>\n<text text-anchor=\"middle\" x=\"1077.5\" y=\"-547.8\" font-family=\"Times,serif\" font-size=\"14.00\">grad 0.0000</text>\n</g>\n<!-- 139889235521984&#45;&gt;139889235649552* -->\n<g id=\"edge194\" class=\"edge\">\n<title>139889235521984&#45;&gt;139889235649552*</title>\n<path fill=\"none\" stroke=\"black\" d=\"M1094.56,-569.55C1103.51,-572.36 1112.53,-575.37 1121,-578.5 1131.49,-582.38 1142.71,-587.22 1152.68,-591.78\"/>\n<polygon fill=\"black\" stroke=\"black\" points=\"1151.25,-594.98 1161.79,-596.03 1154.2,-588.63 1151.25,-594.98\"/>\n</g>\n<!-- 139889235522032 -->\n<g id=\"node117\" class=\"node\">\n<title>139889235522032</title>\n<polygon fill=\"none\" stroke=\"black\" points=\"1247,-165.5 1247,-201.5 1434,-201.5 1434,-165.5 1247,-165.5\"/>\n<text text-anchor=\"middle\" x=\"1257\" y=\"-179.8\" font-family=\"Times,serif\" font-size=\"14.00\"> </text>\n<polyline fill=\"none\" stroke=\"black\" points=\"1267,-165.5 1267,-201.5 \"/>\n<text text-anchor=\"middle\" x=\"1309.5\" y=\"-179.8\" font-family=\"Times,serif\" font-size=\"14.00\">data &#45;0.8721</text>\n<polyline fill=\"none\" stroke=\"black\" points=\"1352,-165.5 1352,-201.5 \"/>\n<text text-anchor=\"middle\" x=\"1393\" y=\"-179.8\" font-family=\"Times,serif\" font-size=\"14.00\">grad 0.0000</text>\n</g>\n<!-- 139889235522032&#45;&gt;139889235733488+ -->\n<g id=\"edge99\" class=\"edge\">\n<title>139889235522032&#45;&gt;139889235733488+</title>\n<path fill=\"none\" stroke=\"black\" d=\"M1405.02,-165.35C1414.79,-162.24 1424.71,-158.92 1434,-155.5 1444.25,-151.73 1455.23,-147.14 1465.07,-142.82\"/>\n<polygon fill=\"black\" stroke=\"black\" points=\"1466.74,-145.9 1474.45,-138.63 1463.89,-139.51 1466.74,-145.9\"/>\n</g>\n<!-- 139889235522080 -->\n<g id=\"node118\" class=\"node\">\n<title>139889235522080</title>\n<polygon fill=\"none\" stroke=\"black\" points=\"1247,-55.5 1247,-91.5 1434,-91.5 1434,-55.5 1247,-55.5\"/>\n<text text-anchor=\"middle\" x=\"1257\" y=\"-69.8\" font-family=\"Times,serif\" font-size=\"14.00\"> </text>\n<polyline fill=\"none\" stroke=\"black\" points=\"1267,-55.5 1267,-91.5 \"/>\n<text text-anchor=\"middle\" x=\"1309.5\" y=\"-69.8\" font-family=\"Times,serif\" font-size=\"14.00\">data &#45;0.0661</text>\n<polyline fill=\"none\" stroke=\"black\" points=\"1352,-55.5 1352,-91.5 \"/>\n<text text-anchor=\"middle\" x=\"1393\" y=\"-69.8\" font-family=\"Times,serif\" font-size=\"14.00\">grad 0.0000</text>\n</g>\n<!-- 139889235522080&#45;&gt;139889235733728* -->\n<g id=\"edge85\" class=\"edge\">\n<title>139889235522080&#45;&gt;139889235733728*</title>\n<path fill=\"none\" stroke=\"black\" d=\"M1434.05,-73.5C1443.06,-73.5 1451.79,-73.5 1459.7,-73.5\"/>\n<polygon fill=\"black\" stroke=\"black\" points=\"1459.95,-77 1469.95,-73.5 1459.95,-70 1459.95,-77\"/>\n</g>\n<!-- 139889235735120 -->\n<g id=\"node119\" class=\"node\">\n<title>139889235735120</title>\n<polygon fill=\"none\" stroke=\"black\" points=\"2188.5,-385.5 2188.5,-421.5 2370.5,-421.5 2370.5,-385.5 2188.5,-385.5\"/>\n<text text-anchor=\"middle\" x=\"2198.5\" y=\"-399.8\" font-family=\"Times,serif\" font-size=\"14.00\"> </text>\n<polyline fill=\"none\" stroke=\"black\" points=\"2208.5,-385.5 2208.5,-421.5 \"/>\n<text text-anchor=\"middle\" x=\"2248.5\" y=\"-399.8\" font-family=\"Times,serif\" font-size=\"14.00\">data 0.0096</text>\n<polyline fill=\"none\" stroke=\"black\" points=\"2288.5,-385.5 2288.5,-421.5 \"/>\n<text text-anchor=\"middle\" x=\"2329.5\" y=\"-399.8\" font-family=\"Times,serif\" font-size=\"14.00\">grad 0.0000</text>\n</g>\n<!-- 139889235735120&#45;&gt;139889235735312+ -->\n<g id=\"edge112\" class=\"edge\">\n<title>139889235735120&#45;&gt;139889235735312+</title>\n<path fill=\"none\" stroke=\"black\" d=\"M2370.82,-403.5C2380.57,-403.5 2390.04,-403.5 2398.57,-403.5\"/>\n<polygon fill=\"black\" stroke=\"black\" points=\"2398.83,-407 2408.83,-403.5 2398.83,-400 2398.83,-407\"/>\n</g>\n<!-- 139889235735120*&#45;&gt;139889235735120 -->\n<g id=\"edge51\" class=\"edge\">\n<title>139889235735120*&#45;&gt;139889235735120</title>\n<path fill=\"none\" stroke=\"black\" d=\"M2150.21,-403.5C2158.34,-403.5 2167.85,-403.5 2177.94,-403.5\"/>\n<polygon fill=\"black\" stroke=\"black\" points=\"2178.19,-407 2188.19,-403.5 2178.19,-400 2178.19,-407\"/>\n</g>\n<!-- 139889235522176 -->\n<g id=\"node121\" class=\"node\">\n<title>139889235522176</title>\n<polygon fill=\"none\" stroke=\"black\" points=\"623.5,-643.5 623.5,-679.5 805.5,-679.5 805.5,-643.5 623.5,-643.5\"/>\n<text text-anchor=\"middle\" x=\"633.5\" y=\"-657.8\" font-family=\"Times,serif\" font-size=\"14.00\"> </text>\n<polyline fill=\"none\" stroke=\"black\" points=\"643.5,-643.5 643.5,-679.5 \"/>\n<text text-anchor=\"middle\" x=\"683.5\" y=\"-657.8\" font-family=\"Times,serif\" font-size=\"14.00\">data 0.9090</text>\n<polyline fill=\"none\" stroke=\"black\" points=\"723.5,-643.5 723.5,-679.5 \"/>\n<text text-anchor=\"middle\" x=\"764.5\" y=\"-657.8\" font-family=\"Times,serif\" font-size=\"14.00\">grad 0.0000</text>\n</g>\n<!-- 139889235522176&#45;&gt;139889235650128* -->\n<g id=\"edge186\" class=\"edge\">\n<title>139889235522176&#45;&gt;139889235650128*</title>\n<path fill=\"none\" stroke=\"black\" d=\"M781.56,-679.55C790.51,-682.36 799.53,-685.37 808,-688.5 818.49,-692.38 829.71,-697.22 839.68,-701.78\"/>\n<polygon fill=\"black\" stroke=\"black\" points=\"838.25,-704.98 848.79,-706.03 841.2,-698.63 838.25,-704.98\"/>\n</g>\n<!-- 139889235653296 -->\n<g id=\"node122\" class=\"node\">\n<title>139889235653296</title>\n<polygon fill=\"none\" stroke=\"black\" points=\"621,-918.5 621,-954.5 808,-954.5 808,-918.5 621,-918.5\"/>\n<text text-anchor=\"middle\" x=\"631\" y=\"-932.8\" font-family=\"Times,serif\" font-size=\"14.00\"> </text>\n<polyline fill=\"none\" stroke=\"black\" points=\"641,-918.5 641,-954.5 \"/>\n<text text-anchor=\"middle\" x=\"683.5\" y=\"-932.8\" font-family=\"Times,serif\" font-size=\"14.00\">data &#45;1.2286</text>\n<polyline fill=\"none\" stroke=\"black\" points=\"726,-918.5 726,-954.5 \"/>\n<text text-anchor=\"middle\" x=\"767\" y=\"-932.8\" font-family=\"Times,serif\" font-size=\"14.00\">grad 0.0000</text>\n</g>\n<!-- 139889235653296&#45;&gt;139889235651520+ -->\n<g id=\"edge119\" class=\"edge\">\n<title>139889235653296&#45;&gt;139889235651520+</title>\n<path fill=\"none\" stroke=\"black\" d=\"M779.02,-918.35C788.79,-915.24 798.71,-911.92 808,-908.5 818.25,-904.73 829.23,-900.14 839.07,-895.82\"/>\n<polygon fill=\"black\" stroke=\"black\" points=\"840.74,-898.9 848.45,-891.63 837.89,-892.51 840.74,-898.9\"/>\n</g>\n<!-- 139889235653296* -->\n<g id=\"node123\" class=\"node\">\n<title>139889235653296*</title>\n<ellipse fill=\"none\" stroke=\"black\" cx=\"558\" cy=\"-936.5\" rx=\"27\" ry=\"18\"/>\n<text text-anchor=\"middle\" x=\"558\" y=\"-932.8\" font-family=\"Times,serif\" font-size=\"14.00\">*</text>\n</g>\n<!-- 139889235653296*&#45;&gt;139889235653296 -->\n<g id=\"edge52\" class=\"edge\">\n<title>139889235653296*&#45;&gt;139889235653296</title>\n<path fill=\"none\" stroke=\"black\" d=\"M585.21,-936.5C592.73,-936.5 601.43,-936.5 610.67,-936.5\"/>\n<polygon fill=\"black\" stroke=\"black\" points=\"610.89,-940 620.89,-936.5 610.89,-933 610.89,-940\"/>\n</g>\n<!-- 139889235522320 -->\n<g id=\"node124\" class=\"node\">\n<title>139889235522320</title>\n<polygon fill=\"none\" stroke=\"black\" points=\"936.5,-643.5 936.5,-679.5 1118.5,-679.5 1118.5,-643.5 936.5,-643.5\"/>\n<text text-anchor=\"middle\" x=\"946.5\" y=\"-657.8\" font-family=\"Times,serif\" font-size=\"14.00\"> </text>\n<polyline fill=\"none\" stroke=\"black\" points=\"956.5,-643.5 956.5,-679.5 \"/>\n<text text-anchor=\"middle\" x=\"996.5\" y=\"-657.8\" font-family=\"Times,serif\" font-size=\"14.00\">data 0.1052</text>\n<polyline fill=\"none\" stroke=\"black\" points=\"1036.5,-643.5 1036.5,-679.5 \"/>\n<text text-anchor=\"middle\" x=\"1077.5\" y=\"-657.8\" font-family=\"Times,serif\" font-size=\"14.00\">grad 0.0000</text>\n</g>\n<!-- 139889235522320&#45;&gt;139889235648016+ -->\n<g id=\"edge159\" class=\"edge\">\n<title>139889235522320&#45;&gt;139889235648016+</title>\n<path fill=\"none\" stroke=\"black\" d=\"M1118.82,-661.5C1128.57,-661.5 1138.04,-661.5 1146.57,-661.5\"/>\n<polygon fill=\"black\" stroke=\"black\" points=\"1146.83,-665 1156.83,-661.5 1146.83,-658 1146.83,-665\"/>\n</g>\n<!-- 139889235735312 -->\n<g id=\"node125\" class=\"node\">\n<title>139889235735312</title>\n<polygon fill=\"none\" stroke=\"black\" points=\"2501.5,-385.5 2501.5,-421.5 2683.5,-421.5 2683.5,-385.5 2501.5,-385.5\"/>\n<text text-anchor=\"middle\" x=\"2511.5\" y=\"-399.8\" font-family=\"Times,serif\" font-size=\"14.00\"> </text>\n<polyline fill=\"none\" stroke=\"black\" points=\"2521.5,-385.5 2521.5,-421.5 \"/>\n<text text-anchor=\"middle\" x=\"2561.5\" y=\"-399.8\" font-family=\"Times,serif\" font-size=\"14.00\">data 0.1587</text>\n<polyline fill=\"none\" stroke=\"black\" points=\"2601.5,-385.5 2601.5,-421.5 \"/>\n<text text-anchor=\"middle\" x=\"2642.5\" y=\"-399.8\" font-family=\"Times,serif\" font-size=\"14.00\">grad 0.0000</text>\n</g>\n<!-- 139889235735696+ -->\n<g id=\"node138\" class=\"node\">\n<title>139889235735696+</title>\n<ellipse fill=\"none\" stroke=\"black\" cx=\"2749\" cy=\"-623.5\" rx=\"27\" ry=\"18\"/>\n<text text-anchor=\"middle\" x=\"2749\" y=\"-619.8\" font-family=\"Times,serif\" font-size=\"14.00\">+</text>\n</g>\n<!-- 139889235735312&#45;&gt;139889235735696+ -->\n<g id=\"edge138\" class=\"edge\">\n<title>139889235735312&#45;&gt;139889235735696+</title>\n<path fill=\"none\" stroke=\"black\" d=\"M2675.73,-421.73C2679.46,-424.29 2682.92,-427.2 2686,-430.5 2737.21,-485.38 2687.23,-528.98 2722,-595.5 2723.05,-597.51 2724.28,-599.48 2725.63,-601.38\"/>\n<polygon fill=\"black\" stroke=\"black\" points=\"2723.02,-603.72 2732.06,-609.25 2728.44,-599.29 2723.02,-603.72\"/>\n</g>\n<!-- 139889235735312+&#45;&gt;139889235735312 -->\n<g id=\"edge53\" class=\"edge\">\n<title>139889235735312+&#45;&gt;139889235735312</title>\n<path fill=\"none\" stroke=\"black\" d=\"M2463.21,-403.5C2471.34,-403.5 2480.85,-403.5 2490.94,-403.5\"/>\n<polygon fill=\"black\" stroke=\"black\" points=\"2491.19,-407 2501.19,-403.5 2491.19,-400 2491.19,-407\"/>\n</g>\n<!-- 139889235522368 -->\n<g id=\"node127\" class=\"node\">\n<title>139889235522368</title>\n<polygon fill=\"none\" stroke=\"black\" points=\"1562.5,-165.5 1562.5,-201.5 1744.5,-201.5 1744.5,-165.5 1562.5,-165.5\"/>\n<text text-anchor=\"middle\" x=\"1572.5\" y=\"-179.8\" font-family=\"Times,serif\" font-size=\"14.00\"> </text>\n<polyline fill=\"none\" stroke=\"black\" points=\"1582.5,-165.5 1582.5,-201.5 \"/>\n<text text-anchor=\"middle\" x=\"1622.5\" y=\"-179.8\" font-family=\"Times,serif\" font-size=\"14.00\">data 0.6777</text>\n<polyline fill=\"none\" stroke=\"black\" points=\"1662.5,-165.5 1662.5,-201.5 \"/>\n<text text-anchor=\"middle\" x=\"1703.5\" y=\"-179.8\" font-family=\"Times,serif\" font-size=\"14.00\">grad 0.0000</text>\n</g>\n<!-- 139889235522368&#45;&gt;139889235734160* -->\n<g id=\"edge155\" class=\"edge\">\n<title>139889235522368&#45;&gt;139889235734160*</title>\n<path fill=\"none\" stroke=\"black\" d=\"M1744.82,-183.5C1754.57,-183.5 1764.04,-183.5 1772.57,-183.5\"/>\n<polygon fill=\"black\" stroke=\"black\" points=\"1772.83,-187 1782.83,-183.5 1772.83,-180 1772.83,-187\"/>\n</g>\n<!-- 139889235522464 -->\n<g id=\"node128\" class=\"node\">\n<title>139889235522464</title>\n<polygon fill=\"none\" stroke=\"black\" points=\"934,-83.5 934,-119.5 1121,-119.5 1121,-83.5 934,-83.5\"/>\n<text text-anchor=\"middle\" x=\"944\" y=\"-97.8\" font-family=\"Times,serif\" font-size=\"14.00\"> </text>\n<polyline fill=\"none\" stroke=\"black\" points=\"954,-83.5 954,-119.5 \"/>\n<text text-anchor=\"middle\" x=\"996.5\" y=\"-97.8\" font-family=\"Times,serif\" font-size=\"14.00\">data &#45;0.2657</text>\n<polyline fill=\"none\" stroke=\"black\" points=\"1039,-83.5 1039,-119.5 \"/>\n<text text-anchor=\"middle\" x=\"1080\" y=\"-97.8\" font-family=\"Times,serif\" font-size=\"14.00\">grad 0.0000</text>\n</g>\n<!-- 139889235522464&#45;&gt;139889235733296* -->\n<g id=\"edge79\" class=\"edge\">\n<title>139889235522464&#45;&gt;139889235733296*</title>\n<path fill=\"none\" stroke=\"black\" d=\"M1121.05,-117.67C1130.34,-119.3 1139.33,-120.87 1147.44,-122.29\"/>\n<polygon fill=\"black\" stroke=\"black\" points=\"1147.1,-125.78 1157.55,-124.05 1148.3,-118.88 1147.1,-125.78\"/>\n</g>\n<!-- 139889235653584 -->\n<g id=\"node129\" class=\"node\">\n<title>139889235653584</title>\n<polygon fill=\"none\" stroke=\"black\" points=\"310.5,-973.5 310.5,-1009.5 492.5,-1009.5 492.5,-973.5 310.5,-973.5\"/>\n<text text-anchor=\"middle\" x=\"320.5\" y=\"-987.8\" font-family=\"Times,serif\" font-size=\"14.00\"> </text>\n<polyline fill=\"none\" stroke=\"black\" points=\"330.5,-973.5 330.5,-1009.5 \"/>\n<text text-anchor=\"middle\" x=\"370.5\" y=\"-987.8\" font-family=\"Times,serif\" font-size=\"14.00\">data 3.0000</text>\n<polyline fill=\"none\" stroke=\"black\" points=\"410.5,-973.5 410.5,-1009.5 \"/>\n<text text-anchor=\"middle\" x=\"451.5\" y=\"-987.8\" font-family=\"Times,serif\" font-size=\"14.00\">grad 0.0000</text>\n</g>\n<!-- 139889235653584&#45;&gt;139889235653296* -->\n<g id=\"edge102\" class=\"edge\">\n<title>139889235653584&#45;&gt;139889235653296*</title>\n<path fill=\"none\" stroke=\"black\" d=\"M466.02,-973.35C475.79,-970.24 485.71,-966.92 495,-963.5 505.25,-959.73 516.23,-955.14 526.07,-950.82\"/>\n<polygon fill=\"black\" stroke=\"black\" points=\"527.74,-953.9 535.45,-946.63 524.89,-947.51 527.74,-953.9\"/>\n</g>\n<!-- 139889235735504 -->\n<g id=\"node130\" class=\"node\">\n<title>139889235735504</title>\n<polygon fill=\"none\" stroke=\"black\" points=\"2499,-605.5 2499,-641.5 2686,-641.5 2686,-605.5 2499,-605.5\"/>\n<text text-anchor=\"middle\" x=\"2509\" y=\"-619.8\" font-family=\"Times,serif\" font-size=\"14.00\"> </text>\n<polyline fill=\"none\" stroke=\"black\" points=\"2519,-605.5 2519,-641.5 \"/>\n<text text-anchor=\"middle\" x=\"2561.5\" y=\"-619.8\" font-family=\"Times,serif\" font-size=\"14.00\">data &#45;0.6768</text>\n<polyline fill=\"none\" stroke=\"black\" points=\"2604,-605.5 2604,-641.5 \"/>\n<text text-anchor=\"middle\" x=\"2645\" y=\"-619.8\" font-family=\"Times,serif\" font-size=\"14.00\">grad 0.0000</text>\n</g>\n<!-- 139889235735504&#45;&gt;139889235735696+ -->\n<g id=\"edge89\" class=\"edge\">\n<title>139889235735504&#45;&gt;139889235735696+</title>\n<path fill=\"none\" stroke=\"black\" d=\"M2686.05,-623.5C2695.06,-623.5 2703.79,-623.5 2711.7,-623.5\"/>\n<polygon fill=\"black\" stroke=\"black\" points=\"2711.95,-627 2721.95,-623.5 2711.95,-620 2711.95,-627\"/>\n</g>\n<!-- 139889235735504*&#45;&gt;139889235735504 -->\n<g id=\"edge54\" class=\"edge\">\n<title>139889235735504*&#45;&gt;139889235735504</title>\n<path fill=\"none\" stroke=\"black\" d=\"M2463.21,-623.5C2470.73,-623.5 2479.43,-623.5 2488.67,-623.5\"/>\n<polygon fill=\"black\" stroke=\"black\" points=\"2488.89,-627 2498.89,-623.5 2488.89,-620 2488.89,-627\"/>\n</g>\n<!-- 139889235522608 -->\n<g id=\"node132\" class=\"node\">\n<title>139889235522608</title>\n<polygon fill=\"none\" stroke=\"black\" points=\"623.5,-368.5 623.5,-404.5 805.5,-404.5 805.5,-368.5 623.5,-368.5\"/>\n<text text-anchor=\"middle\" x=\"633.5\" y=\"-382.8\" font-family=\"Times,serif\" font-size=\"14.00\"> </text>\n<polyline fill=\"none\" stroke=\"black\" points=\"643.5,-368.5 643.5,-404.5 \"/>\n<text text-anchor=\"middle\" x=\"683.5\" y=\"-382.8\" font-family=\"Times,serif\" font-size=\"14.00\">data 0.5579</text>\n<polyline fill=\"none\" stroke=\"black\" points=\"723.5,-368.5 723.5,-404.5 \"/>\n<text text-anchor=\"middle\" x=\"764.5\" y=\"-382.8\" font-family=\"Times,serif\" font-size=\"14.00\">grad 0.0000</text>\n</g>\n<!-- 139889235522608&#45;&gt;139889235651856+ -->\n<g id=\"edge96\" class=\"edge\">\n<title>139889235522608&#45;&gt;139889235651856+</title>\n<path fill=\"none\" stroke=\"black\" d=\"M781.56,-404.55C790.51,-407.36 799.53,-410.37 808,-413.5 818.49,-417.38 829.71,-422.22 839.68,-426.78\"/>\n<polygon fill=\"black\" stroke=\"black\" points=\"838.25,-429.98 848.79,-431.03 841.2,-423.63 838.25,-429.98\"/>\n</g>\n<!-- 139889235653728 -->\n<g id=\"node133\" class=\"node\">\n<title>139889235653728</title>\n<polygon fill=\"none\" stroke=\"black\" points=\"621,-863.5 621,-899.5 808,-899.5 808,-863.5 621,-863.5\"/>\n<text text-anchor=\"middle\" x=\"631\" y=\"-877.8\" font-family=\"Times,serif\" font-size=\"14.00\"> </text>\n<polyline fill=\"none\" stroke=\"black\" points=\"641,-863.5 641,-899.5 \"/>\n<text text-anchor=\"middle\" x=\"683.5\" y=\"-877.8\" font-family=\"Times,serif\" font-size=\"14.00\">data &#45;0.7454</text>\n<polyline fill=\"none\" stroke=\"black\" points=\"726,-863.5 726,-899.5 \"/>\n<text text-anchor=\"middle\" x=\"767\" y=\"-877.8\" font-family=\"Times,serif\" font-size=\"14.00\">grad 0.0000</text>\n</g>\n<!-- 139889235653728&#45;&gt;139889235651520+ -->\n<g id=\"edge75\" class=\"edge\">\n<title>139889235653728&#45;&gt;139889235651520+</title>\n<path fill=\"none\" stroke=\"black\" d=\"M808.05,-881.5C817.06,-881.5 825.79,-881.5 833.7,-881.5\"/>\n<polygon fill=\"black\" stroke=\"black\" points=\"833.95,-885 843.95,-881.5 833.95,-878 833.95,-885\"/>\n</g>\n<!-- 139889235653728+ -->\n<g id=\"node134\" class=\"node\">\n<title>139889235653728+</title>\n<ellipse fill=\"none\" stroke=\"black\" cx=\"558\" cy=\"-881.5\" rx=\"27\" ry=\"18\"/>\n<text text-anchor=\"middle\" x=\"558\" y=\"-877.8\" font-family=\"Times,serif\" font-size=\"14.00\">+</text>\n</g>\n<!-- 139889235653728+&#45;&gt;139889235653728 -->\n<g id=\"edge55\" class=\"edge\">\n<title>139889235653728+&#45;&gt;139889235653728</title>\n<path fill=\"none\" stroke=\"black\" d=\"M585.21,-881.5C592.73,-881.5 601.43,-881.5 610.67,-881.5\"/>\n<polygon fill=\"black\" stroke=\"black\" points=\"610.89,-885 620.89,-881.5 610.89,-878 610.89,-885\"/>\n</g>\n<!-- 139889235522656 -->\n<g id=\"node135\" class=\"node\">\n<title>139889235522656</title>\n<polygon fill=\"none\" stroke=\"black\" points=\"934,-313.5 934,-349.5 1121,-349.5 1121,-313.5 934,-313.5\"/>\n<text text-anchor=\"middle\" x=\"944\" y=\"-327.8\" font-family=\"Times,serif\" font-size=\"14.00\"> </text>\n<polyline fill=\"none\" stroke=\"black\" points=\"954,-313.5 954,-349.5 \"/>\n<text text-anchor=\"middle\" x=\"996.5\" y=\"-327.8\" font-family=\"Times,serif\" font-size=\"14.00\">data &#45;0.8163</text>\n<polyline fill=\"none\" stroke=\"black\" points=\"1039,-313.5 1039,-349.5 \"/>\n<text text-anchor=\"middle\" x=\"1080\" y=\"-327.8\" font-family=\"Times,serif\" font-size=\"14.00\">grad 0.0000</text>\n</g>\n<!-- 139889235522656&#45;&gt;139889235650848* -->\n<g id=\"edge107\" class=\"edge\">\n<title>139889235522656&#45;&gt;139889235650848*</title>\n<path fill=\"none\" stroke=\"black\" d=\"M1094.56,-349.55C1103.51,-352.36 1112.53,-355.37 1121,-358.5 1131.49,-362.38 1142.71,-367.22 1152.68,-371.78\"/>\n<polygon fill=\"black\" stroke=\"black\" points=\"1151.25,-374.98 1161.79,-376.03 1154.2,-368.63 1151.25,-374.98\"/>\n</g>\n<!-- 139889235522704 -->\n<g id=\"node136\" class=\"node\">\n<title>139889235522704</title>\n<polygon fill=\"none\" stroke=\"black\" points=\"1247,-753.5 1247,-789.5 1434,-789.5 1434,-753.5 1247,-753.5\"/>\n<text text-anchor=\"middle\" x=\"1257\" y=\"-767.8\" font-family=\"Times,serif\" font-size=\"14.00\"> </text>\n<polyline fill=\"none\" stroke=\"black\" points=\"1267,-753.5 1267,-789.5 \"/>\n<text text-anchor=\"middle\" x=\"1309.5\" y=\"-767.8\" font-family=\"Times,serif\" font-size=\"14.00\">data &#45;0.1248</text>\n<polyline fill=\"none\" stroke=\"black\" points=\"1352,-753.5 1352,-789.5 \"/>\n<text text-anchor=\"middle\" x=\"1393\" y=\"-767.8\" font-family=\"Times,serif\" font-size=\"14.00\">grad 0.0000</text>\n</g>\n<!-- 139889235522704&#45;&gt;139889235648976* -->\n<g id=\"edge174\" class=\"edge\">\n<title>139889235522704&#45;&gt;139889235648976*</title>\n<path fill=\"none\" stroke=\"black\" d=\"M1405.02,-753.35C1414.79,-750.24 1424.71,-746.92 1434,-743.5 1444.25,-739.73 1455.23,-735.14 1465.07,-730.82\"/>\n<polygon fill=\"black\" stroke=\"black\" points=\"1466.74,-733.9 1474.45,-726.63 1463.89,-727.51 1466.74,-733.9\"/>\n</g>\n<!-- 139889235735696 -->\n<g id=\"node137\" class=\"node\">\n<title>139889235735696</title>\n<polygon fill=\"none\" stroke=\"black\" points=\"2812,-605.5 2812,-641.5 2999,-641.5 2999,-605.5 2812,-605.5\"/>\n<text text-anchor=\"middle\" x=\"2822\" y=\"-619.8\" font-family=\"Times,serif\" font-size=\"14.00\"> </text>\n<polyline fill=\"none\" stroke=\"black\" points=\"2832,-605.5 2832,-641.5 \"/>\n<text text-anchor=\"middle\" x=\"2874.5\" y=\"-619.8\" font-family=\"Times,serif\" font-size=\"14.00\">data &#45;0.5181</text>\n<polyline fill=\"none\" stroke=\"black\" points=\"2917,-605.5 2917,-641.5 \"/>\n<text text-anchor=\"middle\" x=\"2958\" y=\"-619.8\" font-family=\"Times,serif\" font-size=\"14.00\">grad 0.0000</text>\n</g>\n<!-- 139889235736080+ -->\n<g id=\"node150\" class=\"node\">\n<title>139889235736080+</title>\n<ellipse fill=\"none\" stroke=\"black\" cx=\"3062\" cy=\"-430.5\" rx=\"27\" ry=\"18\"/>\n<text text-anchor=\"middle\" x=\"3062\" y=\"-426.8\" font-family=\"Times,serif\" font-size=\"14.00\">+</text>\n</g>\n<!-- 139889235735696&#45;&gt;139889235736080+ -->\n<g id=\"edge116\" class=\"edge\">\n<title>139889235735696&#45;&gt;139889235736080+</title>\n<path fill=\"none\" stroke=\"black\" d=\"M2985.59,-605.39C2990.42,-602.56 2994.96,-599.28 2999,-595.5 3009.46,-585.7 3037.83,-501.83 3052.28,-457.58\"/>\n<polygon fill=\"black\" stroke=\"black\" points=\"3055.63,-458.61 3055.39,-448.02 3048.97,-456.45 3055.63,-458.61\"/>\n</g>\n<!-- 139889235735696+&#45;&gt;139889235735696 -->\n<g id=\"edge56\" class=\"edge\">\n<title>139889235735696+&#45;&gt;139889235735696</title>\n<path fill=\"none\" stroke=\"black\" d=\"M2776.21,-623.5C2783.73,-623.5 2792.43,-623.5 2801.67,-623.5\"/>\n<polygon fill=\"black\" stroke=\"black\" points=\"2801.89,-627 2811.89,-623.5 2801.89,-620 2801.89,-627\"/>\n</g>\n<!-- 139889235522752 -->\n<g id=\"node139\" class=\"node\">\n<title>139889235522752</title>\n<polygon fill=\"none\" stroke=\"black\" points=\"621,-478.5 621,-514.5 808,-514.5 808,-478.5 621,-478.5\"/>\n<text text-anchor=\"middle\" x=\"631\" y=\"-492.8\" font-family=\"Times,serif\" font-size=\"14.00\"> </text>\n<polyline fill=\"none\" stroke=\"black\" points=\"641,-478.5 641,-514.5 \"/>\n<text text-anchor=\"middle\" x=\"683.5\" y=\"-492.8\" font-family=\"Times,serif\" font-size=\"14.00\">data &#45;0.0664</text>\n<polyline fill=\"none\" stroke=\"black\" points=\"726,-478.5 726,-514.5 \"/>\n<text text-anchor=\"middle\" x=\"767\" y=\"-492.8\" font-family=\"Times,serif\" font-size=\"14.00\">grad 0.0000</text>\n</g>\n<!-- 139889235522752&#45;&gt;139889235649792* -->\n<g id=\"edge202\" class=\"edge\">\n<title>139889235522752&#45;&gt;139889235649792*</title>\n<path fill=\"none\" stroke=\"black\" d=\"M808.05,-496.5C817.06,-496.5 825.79,-496.5 833.7,-496.5\"/>\n<polygon fill=\"black\" stroke=\"black\" points=\"833.95,-500 843.95,-496.5 833.95,-493 833.95,-500\"/>\n</g>\n<!-- 139889235653872 -->\n<g id=\"node140\" class=\"node\">\n<title>139889235653872</title>\n<polygon fill=\"none\" stroke=\"black\" points=\"310.5,-863.5 310.5,-899.5 492.5,-899.5 492.5,-863.5 310.5,-863.5\"/>\n<text text-anchor=\"middle\" x=\"320.5\" y=\"-877.8\" font-family=\"Times,serif\" font-size=\"14.00\"> </text>\n<polyline fill=\"none\" stroke=\"black\" points=\"330.5,-863.5 330.5,-899.5 \"/>\n<text text-anchor=\"middle\" x=\"370.5\" y=\"-877.8\" font-family=\"Times,serif\" font-size=\"14.00\">data 0.2530</text>\n<polyline fill=\"none\" stroke=\"black\" points=\"410.5,-863.5 410.5,-899.5 \"/>\n<text text-anchor=\"middle\" x=\"451.5\" y=\"-877.8\" font-family=\"Times,serif\" font-size=\"14.00\">grad 0.0000</text>\n</g>\n<!-- 139889235653872&#45;&gt;139889235653728+ -->\n<g id=\"edge199\" class=\"edge\">\n<title>139889235653872&#45;&gt;139889235653728+</title>\n<path fill=\"none\" stroke=\"black\" d=\"M492.82,-881.5C502.57,-881.5 512.04,-881.5 520.57,-881.5\"/>\n<polygon fill=\"black\" stroke=\"black\" points=\"520.83,-885 530.83,-881.5 520.83,-878 520.83,-885\"/>\n</g>\n<!-- 139889235653872* -->\n<g id=\"node141\" class=\"node\">\n<title>139889235653872*</title>\n<ellipse fill=\"none\" stroke=\"black\" cx=\"245\" cy=\"-881.5\" rx=\"27\" ry=\"18\"/>\n<text text-anchor=\"middle\" x=\"245\" y=\"-877.8\" font-family=\"Times,serif\" font-size=\"14.00\">*</text>\n</g>\n<!-- 139889235653872*&#45;&gt;139889235653872 -->\n<g id=\"edge57\" class=\"edge\">\n<title>139889235653872*&#45;&gt;139889235653872</title>\n<path fill=\"none\" stroke=\"black\" d=\"M272.21,-881.5C280.34,-881.5 289.85,-881.5 299.94,-881.5\"/>\n<polygon fill=\"black\" stroke=\"black\" points=\"300.19,-885 310.19,-881.5 300.19,-878 300.19,-885\"/>\n</g>\n<!-- 139889235522848 -->\n<g id=\"node142\" class=\"node\">\n<title>139889235522848</title>\n<polygon fill=\"none\" stroke=\"black\" points=\"308,-396.5 308,-432.5 495,-432.5 495,-396.5 308,-396.5\"/>\n<text text-anchor=\"middle\" x=\"318\" y=\"-410.8\" font-family=\"Times,serif\" font-size=\"14.00\"> </text>\n<polyline fill=\"none\" stroke=\"black\" points=\"328,-396.5 328,-432.5 \"/>\n<text text-anchor=\"middle\" x=\"370.5\" y=\"-410.8\" font-family=\"Times,serif\" font-size=\"14.00\">data &#45;0.3818</text>\n<polyline fill=\"none\" stroke=\"black\" points=\"413,-396.5 413,-432.5 \"/>\n<text text-anchor=\"middle\" x=\"454\" y=\"-410.8\" font-family=\"Times,serif\" font-size=\"14.00\">grad 0.0000</text>\n</g>\n<!-- 139889235522848&#45;&gt;139889235652000* -->\n<g id=\"edge100\" class=\"edge\">\n<title>139889235522848&#45;&gt;139889235652000*</title>\n<path fill=\"none\" stroke=\"black\" d=\"M495.05,-430.67C504.34,-432.3 513.33,-433.87 521.44,-435.29\"/>\n<polygon fill=\"black\" stroke=\"black\" points=\"521.1,-438.78 531.55,-437.05 522.3,-431.88 521.1,-438.78\"/>\n</g>\n<!-- 139889235735888 -->\n<g id=\"node143\" class=\"node\">\n<title>139889235735888</title>\n<polygon fill=\"none\" stroke=\"black\" points=\"2814.5,-275.5 2814.5,-311.5 2996.5,-311.5 2996.5,-275.5 2814.5,-275.5\"/>\n<text text-anchor=\"middle\" x=\"2824.5\" y=\"-289.8\" font-family=\"Times,serif\" font-size=\"14.00\"> </text>\n<polyline fill=\"none\" stroke=\"black\" points=\"2834.5,-275.5 2834.5,-311.5 \"/>\n<text text-anchor=\"middle\" x=\"2874.5\" y=\"-289.8\" font-family=\"Times,serif\" font-size=\"14.00\">data 0.9243</text>\n<polyline fill=\"none\" stroke=\"black\" points=\"2914.5,-275.5 2914.5,-311.5 \"/>\n<text text-anchor=\"middle\" x=\"2955.5\" y=\"-289.8\" font-family=\"Times,serif\" font-size=\"14.00\">grad 0.0000</text>\n</g>\n<!-- 139889235735888&#45;&gt;139889235736080+ -->\n<g id=\"edge200\" class=\"edge\">\n<title>139889235735888&#45;&gt;139889235736080+</title>\n<path fill=\"none\" stroke=\"black\" d=\"M2985.39,-311.7C2990.22,-314.25 2994.81,-317.17 2999,-320.5 3025.87,-341.82 3043.05,-378.16 3052.35,-403.2\"/>\n<polygon fill=\"black\" stroke=\"black\" points=\"3049.13,-404.58 3055.75,-412.84 3055.73,-402.25 3049.13,-404.58\"/>\n</g>\n<!-- 139889235735888*&#45;&gt;139889235735888 -->\n<g id=\"edge58\" class=\"edge\">\n<title>139889235735888*&#45;&gt;139889235735888</title>\n<path fill=\"none\" stroke=\"black\" d=\"M2776.21,-293.5C2784.34,-293.5 2793.85,-293.5 2803.94,-293.5\"/>\n<polygon fill=\"black\" stroke=\"black\" points=\"2804.19,-297 2814.19,-293.5 2804.19,-290 2804.19,-297\"/>\n</g>\n<!-- 139889235522992 -->\n<g id=\"node145\" class=\"node\">\n<title>139889235522992</title>\n<polygon fill=\"none\" stroke=\"black\" points=\"308,-808.5 308,-844.5 495,-844.5 495,-808.5 308,-808.5\"/>\n<text text-anchor=\"middle\" x=\"318\" y=\"-822.8\" font-family=\"Times,serif\" font-size=\"14.00\"> </text>\n<polyline fill=\"none\" stroke=\"black\" points=\"328,-808.5 328,-844.5 \"/>\n<text text-anchor=\"middle\" x=\"370.5\" y=\"-822.8\" font-family=\"Times,serif\" font-size=\"14.00\">data &#45;0.9985</text>\n<polyline fill=\"none\" stroke=\"black\" points=\"413,-808.5 413,-844.5 \"/>\n<text text-anchor=\"middle\" x=\"454\" y=\"-822.8\" font-family=\"Times,serif\" font-size=\"14.00\">grad 0.0000</text>\n</g>\n<!-- 139889235522992&#45;&gt;139889235653728+ -->\n<g id=\"edge122\" class=\"edge\">\n<title>139889235522992&#45;&gt;139889235653728+</title>\n<path fill=\"none\" stroke=\"black\" d=\"M468.56,-844.55C477.51,-847.36 486.53,-850.37 495,-853.5 505.49,-857.38 516.71,-862.22 526.68,-866.78\"/>\n<polygon fill=\"black\" stroke=\"black\" points=\"525.25,-869.98 535.79,-871.03 528.2,-863.63 525.25,-869.98\"/>\n</g>\n<!-- 139889235523040 -->\n<g id=\"node146\" class=\"node\">\n<title>139889235523040</title>\n<polygon fill=\"none\" stroke=\"black\" points=\"623.5,-753.5 623.5,-789.5 805.5,-789.5 805.5,-753.5 623.5,-753.5\"/>\n<text text-anchor=\"middle\" x=\"633.5\" y=\"-767.8\" font-family=\"Times,serif\" font-size=\"14.00\"> </text>\n<polyline fill=\"none\" stroke=\"black\" points=\"643.5,-753.5 643.5,-789.5 \"/>\n<text text-anchor=\"middle\" x=\"683.5\" y=\"-767.8\" font-family=\"Times,serif\" font-size=\"14.00\">data 0.9084</text>\n<polyline fill=\"none\" stroke=\"black\" points=\"723.5,-753.5 723.5,-789.5 \"/>\n<text text-anchor=\"middle\" x=\"764.5\" y=\"-767.8\" font-family=\"Times,serif\" font-size=\"14.00\">grad 0.0000</text>\n</g>\n<!-- 139889235523040&#45;&gt;139889235652720* -->\n<g id=\"edge91\" class=\"edge\">\n<title>139889235523040&#45;&gt;139889235652720*</title>\n<path fill=\"none\" stroke=\"black\" d=\"M781.56,-789.55C790.51,-792.36 799.53,-795.37 808,-798.5 818.49,-802.38 829.71,-807.22 839.68,-811.78\"/>\n<polygon fill=\"black\" stroke=\"black\" points=\"838.25,-814.98 848.79,-816.03 841.2,-808.63 838.25,-814.98\"/>\n</g>\n<!-- 139889235523088 -->\n<g id=\"node147\" class=\"node\">\n<title>139889235523088</title>\n<polygon fill=\"none\" stroke=\"black\" points=\"308,-918.5 308,-954.5 495,-954.5 495,-918.5 308,-918.5\"/>\n<text text-anchor=\"middle\" x=\"318\" y=\"-932.8\" font-family=\"Times,serif\" font-size=\"14.00\"> </text>\n<polyline fill=\"none\" stroke=\"black\" points=\"328,-918.5 328,-954.5 \"/>\n<text text-anchor=\"middle\" x=\"370.5\" y=\"-932.8\" font-family=\"Times,serif\" font-size=\"14.00\">data &#45;0.4095</text>\n<polyline fill=\"none\" stroke=\"black\" points=\"413,-918.5 413,-954.5 \"/>\n<text text-anchor=\"middle\" x=\"454\" y=\"-932.8\" font-family=\"Times,serif\" font-size=\"14.00\">grad 0.0000</text>\n</g>\n<!-- 139889235523088&#45;&gt;139889235653296* -->\n<g id=\"edge86\" class=\"edge\">\n<title>139889235523088&#45;&gt;139889235653296*</title>\n<path fill=\"none\" stroke=\"black\" d=\"M495.05,-936.5C504.06,-936.5 512.79,-936.5 520.7,-936.5\"/>\n<polygon fill=\"black\" stroke=\"black\" points=\"520.95,-940 530.95,-936.5 520.95,-933 520.95,-940\"/>\n</g>\n<!-- 139889235654160 -->\n<g id=\"node148\" class=\"node\">\n<title>139889235654160</title>\n<polygon fill=\"none\" stroke=\"black\" points=\"0,-891.5 0,-927.5 182,-927.5 182,-891.5 0,-891.5\"/>\n<text text-anchor=\"middle\" x=\"10\" y=\"-905.8\" font-family=\"Times,serif\" font-size=\"14.00\"> </text>\n<polyline fill=\"none\" stroke=\"black\" points=\"20,-891.5 20,-927.5 \"/>\n<text text-anchor=\"middle\" x=\"60\" y=\"-905.8\" font-family=\"Times,serif\" font-size=\"14.00\">data 2.0000</text>\n<polyline fill=\"none\" stroke=\"black\" points=\"100,-891.5 100,-927.5 \"/>\n<text text-anchor=\"middle\" x=\"141\" y=\"-905.8\" font-family=\"Times,serif\" font-size=\"14.00\">grad 0.0000</text>\n</g>\n<!-- 139889235654160&#45;&gt;139889235653872* -->\n<g id=\"edge132\" class=\"edge\">\n<title>139889235654160&#45;&gt;139889235653872*</title>\n<path fill=\"none\" stroke=\"black\" d=\"M182.18,-892.89C191.61,-891.15 200.75,-889.47 208.98,-887.95\"/>\n<polygon fill=\"black\" stroke=\"black\" points=\"209.66,-891.39 218.86,-886.13 208.39,-884.5 209.66,-891.39\"/>\n</g>\n<!-- 139889235736080 -->\n<g id=\"node149\" class=\"node\">\n<title>139889235736080</title>\n<polygon fill=\"none\" stroke=\"black\" points=\"3127.5,-412.5 3127.5,-448.5 3309.5,-448.5 3309.5,-412.5 3127.5,-412.5\"/>\n<text text-anchor=\"middle\" x=\"3137.5\" y=\"-426.8\" font-family=\"Times,serif\" font-size=\"14.00\"> </text>\n<polyline fill=\"none\" stroke=\"black\" points=\"3147.5,-412.5 3147.5,-448.5 \"/>\n<text text-anchor=\"middle\" x=\"3187.5\" y=\"-426.8\" font-family=\"Times,serif\" font-size=\"14.00\">data 0.4062</text>\n<polyline fill=\"none\" stroke=\"black\" points=\"3227.5,-412.5 3227.5,-448.5 \"/>\n<text text-anchor=\"middle\" x=\"3268.5\" y=\"-426.8\" font-family=\"Times,serif\" font-size=\"14.00\">grad 0.0000</text>\n</g>\n<!-- 139889235736176tanh -->\n<g id=\"node153\" class=\"node\">\n<title>139889235736176tanh</title>\n<ellipse fill=\"none\" stroke=\"black\" cx=\"3375\" cy=\"-430.5\" rx=\"27\" ry=\"18\"/>\n<text text-anchor=\"middle\" x=\"3375\" y=\"-426.8\" font-family=\"Times,serif\" font-size=\"14.00\">tanh</text>\n</g>\n<!-- 139889235736080&#45;&gt;139889235736176tanh -->\n<g id=\"edge187\" class=\"edge\">\n<title>139889235736080&#45;&gt;139889235736176tanh</title>\n<path fill=\"none\" stroke=\"black\" d=\"M3309.82,-430.5C3319.57,-430.5 3329.04,-430.5 3337.57,-430.5\"/>\n<polygon fill=\"black\" stroke=\"black\" points=\"3337.83,-434 3347.83,-430.5 3337.83,-427 3337.83,-434\"/>\n</g>\n<!-- 139889235736080+&#45;&gt;139889235736080 -->\n<g id=\"edge59\" class=\"edge\">\n<title>139889235736080+&#45;&gt;139889235736080</title>\n<path fill=\"none\" stroke=\"black\" d=\"M3089.21,-430.5C3097.34,-430.5 3106.85,-430.5 3116.94,-430.5\"/>\n<polygon fill=\"black\" stroke=\"black\" points=\"3117.19,-434 3127.19,-430.5 3117.19,-427 3117.19,-434\"/>\n</g>\n<!-- 139889235523184 -->\n<g id=\"node151\" class=\"node\">\n<title>139889235523184</title>\n<polygon fill=\"none\" stroke=\"black\" points=\"0,-836.5 0,-872.5 182,-872.5 182,-836.5 0,-836.5\"/>\n<text text-anchor=\"middle\" x=\"10\" y=\"-850.8\" font-family=\"Times,serif\" font-size=\"14.00\"> </text>\n<polyline fill=\"none\" stroke=\"black\" points=\"20,-836.5 20,-872.5 \"/>\n<text text-anchor=\"middle\" x=\"60\" y=\"-850.8\" font-family=\"Times,serif\" font-size=\"14.00\">data 0.1265</text>\n<polyline fill=\"none\" stroke=\"black\" points=\"100,-836.5 100,-872.5 \"/>\n<text text-anchor=\"middle\" x=\"141\" y=\"-850.8\" font-family=\"Times,serif\" font-size=\"14.00\">grad 0.0000</text>\n</g>\n<!-- 139889235523184&#45;&gt;139889235653872* -->\n<g id=\"edge203\" class=\"edge\">\n<title>139889235523184&#45;&gt;139889235653872*</title>\n<path fill=\"none\" stroke=\"black\" d=\"M182.18,-870.52C191.42,-872.16 200.38,-873.75 208.47,-875.19\"/>\n<polygon fill=\"black\" stroke=\"black\" points=\"208.1,-878.68 218.56,-876.98 209.32,-871.79 208.1,-878.68\"/>\n</g>\n<!-- 139889235736176 -->\n<g id=\"node152\" class=\"node\">\n<title>139889235736176</title>\n<polygon fill=\"none\" stroke=\"black\" points=\"3440.5,-412.5 3440.5,-448.5 3622.5,-448.5 3622.5,-412.5 3440.5,-412.5\"/>\n<text text-anchor=\"middle\" x=\"3450.5\" y=\"-426.8\" font-family=\"Times,serif\" font-size=\"14.00\"> </text>\n<polyline fill=\"none\" stroke=\"black\" points=\"3460.5,-412.5 3460.5,-448.5 \"/>\n<text text-anchor=\"middle\" x=\"3500.5\" y=\"-426.8\" font-family=\"Times,serif\" font-size=\"14.00\">data 0.3852</text>\n<polyline fill=\"none\" stroke=\"black\" points=\"3540.5,-412.5 3540.5,-448.5 \"/>\n<text text-anchor=\"middle\" x=\"3581.5\" y=\"-426.8\" font-family=\"Times,serif\" font-size=\"14.00\">grad 0.0000</text>\n</g>\n<!-- 139889235736176&#45;&gt;139889235790864* -->\n<g id=\"edge154\" class=\"edge\">\n<title>139889235736176&#45;&gt;139889235790864*</title>\n<path fill=\"none\" stroke=\"black\" d=\"M3595.79,-412.48C3615.39,-406.89 3636.23,-400.96 3653.03,-396.17\"/>\n<polygon fill=\"black\" stroke=\"black\" points=\"3654.27,-399.46 3662.93,-393.36 3652.35,-392.73 3654.27,-399.46\"/>\n</g>\n<!-- 139889235736176tanh&#45;&gt;139889235736176 -->\n<g id=\"edge60\" class=\"edge\">\n<title>139889235736176tanh&#45;&gt;139889235736176</title>\n<path fill=\"none\" stroke=\"black\" d=\"M3402.21,-430.5C3410.34,-430.5 3419.85,-430.5 3429.94,-430.5\"/>\n<polygon fill=\"black\" stroke=\"black\" points=\"3430.19,-434 3440.19,-430.5 3430.19,-427 3430.19,-434\"/>\n</g>\n<!-- 139889235736464 -->\n<g id=\"node154\" class=\"node\">\n<title>139889235736464</title>\n<polygon fill=\"none\" stroke=\"black\" points=\"1873,-825.5 1873,-861.5 2060,-861.5 2060,-825.5 1873,-825.5\"/>\n<text text-anchor=\"middle\" x=\"1883\" y=\"-839.8\" font-family=\"Times,serif\" font-size=\"14.00\"> </text>\n<polyline fill=\"none\" stroke=\"black\" points=\"1893,-825.5 1893,-861.5 \"/>\n<text text-anchor=\"middle\" x=\"1935.5\" y=\"-839.8\" font-family=\"Times,serif\" font-size=\"14.00\">data &#45;0.5460</text>\n<polyline fill=\"none\" stroke=\"black\" points=\"1978,-825.5 1978,-861.5 \"/>\n<text text-anchor=\"middle\" x=\"2019\" y=\"-839.8\" font-family=\"Times,serif\" font-size=\"14.00\">grad 0.0000</text>\n</g>\n<!-- 139889235736656+ -->\n<g id=\"node157\" class=\"node\">\n<title>139889235736656+</title>\n<ellipse fill=\"none\" stroke=\"black\" cx=\"2123\" cy=\"-843.5\" rx=\"27\" ry=\"18\"/>\n<text text-anchor=\"middle\" x=\"2123\" y=\"-839.8\" font-family=\"Times,serif\" font-size=\"14.00\">+</text>\n</g>\n<!-- 139889235736464&#45;&gt;139889235736656+ -->\n<g id=\"edge193\" class=\"edge\">\n<title>139889235736464&#45;&gt;139889235736656+</title>\n<path fill=\"none\" stroke=\"black\" d=\"M2060.05,-843.5C2069.06,-843.5 2077.79,-843.5 2085.7,-843.5\"/>\n<polygon fill=\"black\" stroke=\"black\" points=\"2085.95,-847 2095.95,-843.5 2085.95,-840 2085.95,-847\"/>\n</g>\n<!-- 139889235736464*&#45;&gt;139889235736464 -->\n<g id=\"edge61\" class=\"edge\">\n<title>139889235736464*&#45;&gt;139889235736464</title>\n<path fill=\"none\" stroke=\"black\" d=\"M1837.21,-843.5C1844.73,-843.5 1853.43,-843.5 1862.67,-843.5\"/>\n<polygon fill=\"black\" stroke=\"black\" points=\"1862.89,-847 1872.89,-843.5 1862.89,-840 1862.89,-847\"/>\n</g>\n<!-- 139889235736656 -->\n<g id=\"node156\" class=\"node\">\n<title>139889235736656</title>\n<polygon fill=\"none\" stroke=\"black\" points=\"2188.5,-825.5 2188.5,-861.5 2370.5,-861.5 2370.5,-825.5 2188.5,-825.5\"/>\n<text text-anchor=\"middle\" x=\"2198.5\" y=\"-839.8\" font-family=\"Times,serif\" font-size=\"14.00\"> </text>\n<polyline fill=\"none\" stroke=\"black\" points=\"2208.5,-825.5 2208.5,-861.5 \"/>\n<text text-anchor=\"middle\" x=\"2248.5\" y=\"-839.8\" font-family=\"Times,serif\" font-size=\"14.00\">data 0.1221</text>\n<polyline fill=\"none\" stroke=\"black\" points=\"2288.5,-825.5 2288.5,-861.5 \"/>\n<text text-anchor=\"middle\" x=\"2329.5\" y=\"-839.8\" font-family=\"Times,serif\" font-size=\"14.00\">grad 0.0000</text>\n</g>\n<!-- 139889235737040+ -->\n<g id=\"node165\" class=\"node\">\n<title>139889235737040+</title>\n<ellipse fill=\"none\" stroke=\"black\" cx=\"2436\" cy=\"-733.5\" rx=\"27\" ry=\"18\"/>\n<text text-anchor=\"middle\" x=\"2436\" y=\"-729.8\" font-family=\"Times,serif\" font-size=\"14.00\">+</text>\n</g>\n<!-- 139889235736656&#45;&gt;139889235737040+ -->\n<g id=\"edge209\" class=\"edge\">\n<title>139889235736656&#45;&gt;139889235737040+</title>\n<path fill=\"none\" stroke=\"black\" d=\"M2356.35,-825.43C2362.24,-822.59 2367.88,-819.3 2373,-815.5 2396.16,-798.31 2391.13,-784.14 2409,-761.5 2410.4,-759.72 2411.89,-757.92 2413.42,-756.14\"/>\n<polygon fill=\"black\" stroke=\"black\" points=\"2416.18,-758.3 2420.24,-748.51 2410.96,-753.64 2416.18,-758.3\"/>\n</g>\n<!-- 139889235736656+&#45;&gt;139889235736656 -->\n<g id=\"edge62\" class=\"edge\">\n<title>139889235736656+&#45;&gt;139889235736656</title>\n<path fill=\"none\" stroke=\"black\" d=\"M2150.21,-843.5C2158.34,-843.5 2167.85,-843.5 2177.94,-843.5\"/>\n<polygon fill=\"black\" stroke=\"black\" points=\"2178.19,-847 2188.19,-843.5 2178.19,-840 2178.19,-847\"/>\n</g>\n<!-- 139889235523664 -->\n<g id=\"node158\" class=\"node\">\n<title>139889235523664</title>\n<polygon fill=\"none\" stroke=\"black\" points=\"1562.5,-835.5 1562.5,-871.5 1744.5,-871.5 1744.5,-835.5 1562.5,-835.5\"/>\n<text text-anchor=\"middle\" x=\"1572.5\" y=\"-849.8\" font-family=\"Times,serif\" font-size=\"14.00\"> </text>\n<polyline fill=\"none\" stroke=\"black\" points=\"1582.5,-835.5 1582.5,-871.5 \"/>\n<text text-anchor=\"middle\" x=\"1622.5\" y=\"-849.8\" font-family=\"Times,serif\" font-size=\"14.00\">data 0.5494</text>\n<polyline fill=\"none\" stroke=\"black\" points=\"1662.5,-835.5 1662.5,-871.5 \"/>\n<text text-anchor=\"middle\" x=\"1703.5\" y=\"-849.8\" font-family=\"Times,serif\" font-size=\"14.00\">grad 0.0000</text>\n</g>\n<!-- 139889235523664&#45;&gt;139889235736464* -->\n<g id=\"edge158\" class=\"edge\">\n<title>139889235523664&#45;&gt;139889235736464*</title>\n<path fill=\"none\" stroke=\"black\" d=\"M1744.82,-847.65C1754.57,-847.02 1764.04,-846.41 1772.57,-845.86\"/>\n<polygon fill=\"black\" stroke=\"black\" points=\"1773.08,-849.33 1782.83,-845.19 1772.62,-842.35 1773.08,-849.33\"/>\n</g>\n<!-- 139889235523760 -->\n<g id=\"node159\" class=\"node\">\n<title>139889235523760</title>\n<polygon fill=\"none\" stroke=\"black\" points=\"1873,-605.5 1873,-641.5 2060,-641.5 2060,-605.5 1873,-605.5\"/>\n<text text-anchor=\"middle\" x=\"1883\" y=\"-619.8\" font-family=\"Times,serif\" font-size=\"14.00\"> </text>\n<polyline fill=\"none\" stroke=\"black\" points=\"1893,-605.5 1893,-641.5 \"/>\n<text text-anchor=\"middle\" x=\"1935.5\" y=\"-619.8\" font-family=\"Times,serif\" font-size=\"14.00\">data &#45;0.2639</text>\n<polyline fill=\"none\" stroke=\"black\" points=\"1978,-605.5 1978,-641.5 \"/>\n<text text-anchor=\"middle\" x=\"2019\" y=\"-619.8\" font-family=\"Times,serif\" font-size=\"14.00\">grad 0.0000</text>\n</g>\n<!-- 139889235523760&#45;&gt;139889235736848* -->\n<g id=\"edge101\" class=\"edge\">\n<title>139889235523760&#45;&gt;139889235736848*</title>\n<path fill=\"none\" stroke=\"black\" d=\"M2060.05,-623.5C2069.06,-623.5 2077.79,-623.5 2085.7,-623.5\"/>\n<polygon fill=\"black\" stroke=\"black\" points=\"2085.95,-627 2095.95,-623.5 2085.95,-620 2085.95,-627\"/>\n</g>\n<!-- 139889235736848 -->\n<g id=\"node160\" class=\"node\">\n<title>139889235736848</title>\n<polygon fill=\"none\" stroke=\"black\" points=\"2186,-715.5 2186,-751.5 2373,-751.5 2373,-715.5 2186,-715.5\"/>\n<text text-anchor=\"middle\" x=\"2196\" y=\"-729.8\" font-family=\"Times,serif\" font-size=\"14.00\"> </text>\n<polyline fill=\"none\" stroke=\"black\" points=\"2206,-715.5 2206,-751.5 \"/>\n<text text-anchor=\"middle\" x=\"2248.5\" y=\"-729.8\" font-family=\"Times,serif\" font-size=\"14.00\">data &#45;0.1029</text>\n<polyline fill=\"none\" stroke=\"black\" points=\"2291,-715.5 2291,-751.5 \"/>\n<text text-anchor=\"middle\" x=\"2332\" y=\"-729.8\" font-family=\"Times,serif\" font-size=\"14.00\">grad 0.0000</text>\n</g>\n<!-- 139889235736848&#45;&gt;139889235737040+ -->\n<g id=\"edge201\" class=\"edge\">\n<title>139889235736848&#45;&gt;139889235737040+</title>\n<path fill=\"none\" stroke=\"black\" d=\"M2373.05,-733.5C2382.06,-733.5 2390.79,-733.5 2398.7,-733.5\"/>\n<polygon fill=\"black\" stroke=\"black\" points=\"2398.95,-737 2408.95,-733.5 2398.95,-730 2398.95,-737\"/>\n</g>\n<!-- 139889235736848*&#45;&gt;139889235736848 -->\n<g id=\"edge63\" class=\"edge\">\n<title>139889235736848*&#45;&gt;139889235736848</title>\n<path fill=\"none\" stroke=\"black\" d=\"M2138.76,-638.51C2142.56,-642.61 2146.55,-647.13 2150,-651.5 2167.87,-674.14 2162.84,-688.31 2186,-705.5 2188.48,-707.34 2191.08,-709.06 2193.77,-710.67\"/>\n<polygon fill=\"black\" stroke=\"black\" points=\"2192.18,-713.79 2202.65,-715.43 2195.49,-707.62 2192.18,-713.79\"/>\n</g>\n<!-- 139889235523952 -->\n<g id=\"node162\" class=\"node\">\n<title>139889235523952</title>\n<polygon fill=\"none\" stroke=\"black\" points=\"2188.5,-660.5 2188.5,-696.5 2370.5,-696.5 2370.5,-660.5 2188.5,-660.5\"/>\n<text text-anchor=\"middle\" x=\"2198.5\" y=\"-674.8\" font-family=\"Times,serif\" font-size=\"14.00\"> </text>\n<polyline fill=\"none\" stroke=\"black\" points=\"2208.5,-660.5 2208.5,-696.5 \"/>\n<text text-anchor=\"middle\" x=\"2248.5\" y=\"-674.8\" font-family=\"Times,serif\" font-size=\"14.00\">data 0.0178</text>\n<polyline fill=\"none\" stroke=\"black\" points=\"2288.5,-660.5 2288.5,-696.5 \"/>\n<text text-anchor=\"middle\" x=\"2329.5\" y=\"-674.8\" font-family=\"Times,serif\" font-size=\"14.00\">grad 0.0000</text>\n</g>\n<!-- 139889235523952&#45;&gt;139889235737232* -->\n<g id=\"edge126\" class=\"edge\">\n<title>139889235523952&#45;&gt;139889235737232*</title>\n<path fill=\"none\" stroke=\"black\" d=\"M2370.82,-678.5C2380.57,-678.5 2390.04,-678.5 2398.57,-678.5\"/>\n<polygon fill=\"black\" stroke=\"black\" points=\"2398.83,-682 2408.83,-678.5 2398.83,-675 2398.83,-682\"/>\n</g>\n<!-- 139889235524000 -->\n<g id=\"node163\" class=\"node\">\n<title>139889235524000</title>\n<polygon fill=\"none\" stroke=\"black\" points=\"2499,-495.5 2499,-531.5 2686,-531.5 2686,-495.5 2499,-495.5\"/>\n<text text-anchor=\"middle\" x=\"2509\" y=\"-509.8\" font-family=\"Times,serif\" font-size=\"14.00\"> </text>\n<polyline fill=\"none\" stroke=\"black\" points=\"2519,-495.5 2519,-531.5 \"/>\n<text text-anchor=\"middle\" x=\"2561.5\" y=\"-509.8\" font-family=\"Times,serif\" font-size=\"14.00\">data &#45;0.0144</text>\n<polyline fill=\"none\" stroke=\"black\" points=\"2604,-495.5 2604,-531.5 \"/>\n<text text-anchor=\"middle\" x=\"2645\" y=\"-509.8\" font-family=\"Times,serif\" font-size=\"14.00\">grad 0.0000</text>\n</g>\n<!-- 139889235524000&#45;&gt;139889235737616* -->\n<g id=\"edge115\" class=\"edge\">\n<title>139889235524000&#45;&gt;139889235737616*</title>\n<path fill=\"none\" stroke=\"black\" d=\"M2686.05,-513.5C2695.06,-513.5 2703.79,-513.5 2711.7,-513.5\"/>\n<polygon fill=\"black\" stroke=\"black\" points=\"2711.95,-517 2721.95,-513.5 2711.95,-510 2711.95,-517\"/>\n</g>\n<!-- 139889235737040 -->\n<g id=\"node164\" class=\"node\">\n<title>139889235737040</title>\n<polygon fill=\"none\" stroke=\"black\" points=\"2501.5,-715.5 2501.5,-751.5 2683.5,-751.5 2683.5,-715.5 2501.5,-715.5\"/>\n<text text-anchor=\"middle\" x=\"2511.5\" y=\"-729.8\" font-family=\"Times,serif\" font-size=\"14.00\"> </text>\n<polyline fill=\"none\" stroke=\"black\" points=\"2521.5,-715.5 2521.5,-751.5 \"/>\n<text text-anchor=\"middle\" x=\"2561.5\" y=\"-729.8\" font-family=\"Times,serif\" font-size=\"14.00\">data 0.0192</text>\n<polyline fill=\"none\" stroke=\"black\" points=\"2601.5,-715.5 2601.5,-751.5 \"/>\n<text text-anchor=\"middle\" x=\"2642.5\" y=\"-729.8\" font-family=\"Times,serif\" font-size=\"14.00\">grad 0.0000</text>\n</g>\n<!-- 139889235737424+ -->\n<g id=\"node175\" class=\"node\">\n<title>139889235737424+</title>\n<ellipse fill=\"none\" stroke=\"black\" cx=\"2749\" cy=\"-678.5\" rx=\"27\" ry=\"18\"/>\n<text text-anchor=\"middle\" x=\"2749\" y=\"-674.8\" font-family=\"Times,serif\" font-size=\"14.00\">+</text>\n</g>\n<!-- 139889235737040&#45;&gt;139889235737424+ -->\n<g id=\"edge84\" class=\"edge\">\n<title>139889235737040&#45;&gt;139889235737424+</title>\n<path fill=\"none\" stroke=\"black\" d=\"M2657.02,-715.35C2666.79,-712.24 2676.71,-708.92 2686,-705.5 2696.25,-701.73 2707.23,-697.14 2717.07,-692.82\"/>\n<polygon fill=\"black\" stroke=\"black\" points=\"2718.74,-695.9 2726.45,-688.63 2715.89,-689.51 2718.74,-695.9\"/>\n</g>\n<!-- 139889235737040+&#45;&gt;139889235737040 -->\n<g id=\"edge64\" class=\"edge\">\n<title>139889235737040+&#45;&gt;139889235737040</title>\n<path fill=\"none\" stroke=\"black\" d=\"M2463.21,-733.5C2471.34,-733.5 2480.85,-733.5 2490.94,-733.5\"/>\n<polygon fill=\"black\" stroke=\"black\" points=\"2491.19,-737 2501.19,-733.5 2491.19,-730 2491.19,-737\"/>\n</g>\n<!-- 139889235524048 -->\n<g id=\"node166\" class=\"node\">\n<title>139889235524048</title>\n<polygon fill=\"none\" stroke=\"black\" points=\"1875.5,-770.5 1875.5,-806.5 2057.5,-806.5 2057.5,-770.5 1875.5,-770.5\"/>\n<text text-anchor=\"middle\" x=\"1885.5\" y=\"-784.8\" font-family=\"Times,serif\" font-size=\"14.00\"> </text>\n<polyline fill=\"none\" stroke=\"black\" points=\"1895.5,-770.5 1895.5,-806.5 \"/>\n<text text-anchor=\"middle\" x=\"1935.5\" y=\"-784.8\" font-family=\"Times,serif\" font-size=\"14.00\">data 0.6681</text>\n<polyline fill=\"none\" stroke=\"black\" points=\"1975.5,-770.5 1975.5,-806.5 \"/>\n<text text-anchor=\"middle\" x=\"2016.5\" y=\"-784.8\" font-family=\"Times,serif\" font-size=\"14.00\">grad 0.0000</text>\n</g>\n<!-- 139889235524048&#45;&gt;139889235736656+ -->\n<g id=\"edge163\" class=\"edge\">\n<title>139889235524048&#45;&gt;139889235736656+</title>\n<path fill=\"none\" stroke=\"black\" d=\"M2033.56,-806.55C2042.51,-809.36 2051.53,-812.37 2060,-815.5 2070.49,-819.38 2081.71,-824.22 2091.68,-828.78\"/>\n<polygon fill=\"black\" stroke=\"black\" points=\"2090.25,-831.98 2100.79,-833.03 2093.2,-825.63 2090.25,-831.98\"/>\n</g>\n<!-- 139889235524144 -->\n<g id=\"node167\" class=\"node\">\n<title>139889235524144</title>\n<polygon fill=\"none\" stroke=\"black\" points=\"1560,-917.5 1560,-953.5 1747,-953.5 1747,-917.5 1560,-917.5\"/>\n<text text-anchor=\"middle\" x=\"1570\" y=\"-931.8\" font-family=\"Times,serif\" font-size=\"14.00\"> </text>\n<polyline fill=\"none\" stroke=\"black\" points=\"1580,-917.5 1580,-953.5 \"/>\n<text text-anchor=\"middle\" x=\"1622.5\" y=\"-931.8\" font-family=\"Times,serif\" font-size=\"14.00\">data &#45;0.1169</text>\n<polyline fill=\"none\" stroke=\"black\" points=\"1665,-917.5 1665,-953.5 \"/>\n<text text-anchor=\"middle\" x=\"1706\" y=\"-931.8\" font-family=\"Times,serif\" font-size=\"14.00\">grad 0.0000</text>\n</g>\n<!-- 139889235524144&#45;&gt;139889235738192* -->\n<g id=\"edge156\" class=\"edge\">\n<title>139889235524144&#45;&gt;139889235738192*</title>\n<path fill=\"none\" stroke=\"black\" d=\"M1747.05,-935.5C1756.06,-935.5 1764.79,-935.5 1772.7,-935.5\"/>\n<polygon fill=\"black\" stroke=\"black\" points=\"1772.95,-939 1782.95,-935.5 1772.95,-932 1772.95,-939\"/>\n</g>\n<!-- 139889235524240 -->\n<g id=\"node168\" class=\"node\">\n<title>139889235524240</title>\n<polygon fill=\"none\" stroke=\"black\" points=\"1873,-715.5 1873,-751.5 2060,-751.5 2060,-715.5 1873,-715.5\"/>\n<text text-anchor=\"middle\" x=\"1883\" y=\"-729.8\" font-family=\"Times,serif\" font-size=\"14.00\"> </text>\n<polyline fill=\"none\" stroke=\"black\" points=\"1893,-715.5 1893,-751.5 \"/>\n<text text-anchor=\"middle\" x=\"1935.5\" y=\"-729.8\" font-family=\"Times,serif\" font-size=\"14.00\">data &#45;0.7703</text>\n<polyline fill=\"none\" stroke=\"black\" points=\"1978,-715.5 1978,-751.5 \"/>\n<text text-anchor=\"middle\" x=\"2019\" y=\"-729.8\" font-family=\"Times,serif\" font-size=\"14.00\">grad 0.0000</text>\n</g>\n<!-- 139889235524240&#45;&gt;139889235738576* -->\n<g id=\"edge169\" class=\"edge\">\n<title>139889235524240&#45;&gt;139889235738576*</title>\n<path fill=\"none\" stroke=\"black\" d=\"M2060.05,-733.5C2069.06,-733.5 2077.79,-733.5 2085.7,-733.5\"/>\n<polygon fill=\"black\" stroke=\"black\" points=\"2085.95,-737 2095.95,-733.5 2085.95,-730 2085.95,-737\"/>\n</g>\n<!-- 139889235737232 -->\n<g id=\"node169\" class=\"node\">\n<title>139889235737232</title>\n<polygon fill=\"none\" stroke=\"black\" points=\"2501.5,-660.5 2501.5,-696.5 2683.5,-696.5 2683.5,-660.5 2501.5,-660.5\"/>\n<text text-anchor=\"middle\" x=\"2511.5\" y=\"-674.8\" font-family=\"Times,serif\" font-size=\"14.00\"> </text>\n<polyline fill=\"none\" stroke=\"black\" points=\"2521.5,-660.5 2521.5,-696.5 \"/>\n<text text-anchor=\"middle\" x=\"2561.5\" y=\"-674.8\" font-family=\"Times,serif\" font-size=\"14.00\">data 0.0177</text>\n<polyline fill=\"none\" stroke=\"black\" points=\"2601.5,-660.5 2601.5,-696.5 \"/>\n<text text-anchor=\"middle\" x=\"2642.5\" y=\"-674.8\" font-family=\"Times,serif\" font-size=\"14.00\">grad 0.0000</text>\n</g>\n<!-- 139889235737232&#45;&gt;139889235737424+ -->\n<g id=\"edge176\" class=\"edge\">\n<title>139889235737232&#45;&gt;139889235737424+</title>\n<path fill=\"none\" stroke=\"black\" d=\"M2683.82,-678.5C2693.57,-678.5 2703.04,-678.5 2711.57,-678.5\"/>\n<polygon fill=\"black\" stroke=\"black\" points=\"2711.83,-682 2721.83,-678.5 2711.83,-675 2711.83,-682\"/>\n</g>\n<!-- 139889235737232*&#45;&gt;139889235737232 -->\n<g id=\"edge65\" class=\"edge\">\n<title>139889235737232*&#45;&gt;139889235737232</title>\n<path fill=\"none\" stroke=\"black\" d=\"M2463.21,-678.5C2471.34,-678.5 2480.85,-678.5 2490.94,-678.5\"/>\n<polygon fill=\"black\" stroke=\"black\" points=\"2491.19,-682 2501.19,-678.5 2491.19,-675 2491.19,-682\"/>\n</g>\n<!-- 139889235524288 -->\n<g id=\"node171\" class=\"node\">\n<title>139889235524288</title>\n<polygon fill=\"none\" stroke=\"black\" points=\"2188.5,-880.5 2188.5,-916.5 2370.5,-916.5 2370.5,-880.5 2188.5,-880.5\"/>\n<text text-anchor=\"middle\" x=\"2198.5\" y=\"-894.8\" font-family=\"Times,serif\" font-size=\"14.00\"> </text>\n<polyline fill=\"none\" stroke=\"black\" points=\"2208.5,-880.5 2208.5,-916.5 \"/>\n<text text-anchor=\"middle\" x=\"2248.5\" y=\"-894.8\" font-family=\"Times,serif\" font-size=\"14.00\">data 0.9125</text>\n<polyline fill=\"none\" stroke=\"black\" points=\"2288.5,-880.5 2288.5,-916.5 \"/>\n<text text-anchor=\"middle\" x=\"2329.5\" y=\"-894.8\" font-family=\"Times,serif\" font-size=\"14.00\">grad 0.0000</text>\n</g>\n<!-- 139889235524288&#45;&gt;139889235788176* -->\n<g id=\"edge78\" class=\"edge\">\n<title>139889235524288&#45;&gt;139889235788176*</title>\n<path fill=\"none\" stroke=\"black\" d=\"M2356.35,-880.43C2362.24,-877.59 2367.88,-874.3 2373,-870.5 2396.16,-853.31 2391.13,-839.14 2409,-816.5 2410.4,-814.72 2411.89,-812.92 2413.42,-811.14\"/>\n<polygon fill=\"black\" stroke=\"black\" points=\"2416.18,-813.3 2420.24,-803.51 2410.96,-808.64 2416.18,-813.3\"/>\n</g>\n<!-- 139889235524336 -->\n<g id=\"node172\" class=\"node\">\n<title>139889235524336</title>\n<polygon fill=\"none\" stroke=\"black\" points=\"2501.5,-550.5 2501.5,-586.5 2683.5,-586.5 2683.5,-550.5 2501.5,-550.5\"/>\n<text text-anchor=\"middle\" x=\"2511.5\" y=\"-564.8\" font-family=\"Times,serif\" font-size=\"14.00\"> </text>\n<polyline fill=\"none\" stroke=\"black\" points=\"2521.5,-550.5 2521.5,-586.5 \"/>\n<text text-anchor=\"middle\" x=\"2561.5\" y=\"-564.8\" font-family=\"Times,serif\" font-size=\"14.00\">data 0.0989</text>\n<polyline fill=\"none\" stroke=\"black\" points=\"2601.5,-550.5 2601.5,-586.5 \"/>\n<text text-anchor=\"middle\" x=\"2642.5\" y=\"-564.8\" font-family=\"Times,serif\" font-size=\"14.00\">grad 0.0000</text>\n</g>\n<!-- 139889235524336&#45;&gt;139889235788560* -->\n<g id=\"edge205\" class=\"edge\">\n<title>139889235524336&#45;&gt;139889235788560*</title>\n<path fill=\"none\" stroke=\"black\" d=\"M2683.82,-568.5C2693.57,-568.5 2703.04,-568.5 2711.57,-568.5\"/>\n<polygon fill=\"black\" stroke=\"black\" points=\"2711.83,-572 2721.83,-568.5 2711.83,-565 2711.83,-572\"/>\n</g>\n<!-- 139889235524384 -->\n<g id=\"node173\" class=\"node\">\n<title>139889235524384</title>\n<polygon fill=\"none\" stroke=\"black\" points=\"1875.5,-880.5 1875.5,-916.5 2057.5,-916.5 2057.5,-880.5 1875.5,-880.5\"/>\n<text text-anchor=\"middle\" x=\"1885.5\" y=\"-894.8\" font-family=\"Times,serif\" font-size=\"14.00\"> </text>\n<polyline fill=\"none\" stroke=\"black\" points=\"1895.5,-880.5 1895.5,-916.5 \"/>\n<text text-anchor=\"middle\" x=\"1935.5\" y=\"-894.8\" font-family=\"Times,serif\" font-size=\"14.00\">data 0.2721</text>\n<polyline fill=\"none\" stroke=\"black\" points=\"1975.5,-880.5 1975.5,-916.5 \"/>\n<text text-anchor=\"middle\" x=\"2016.5\" y=\"-894.8\" font-family=\"Times,serif\" font-size=\"14.00\">grad 0.0000</text>\n</g>\n<!-- 139889235738384+ -->\n<g id=\"node197\" class=\"node\">\n<title>139889235738384+</title>\n<ellipse fill=\"none\" stroke=\"black\" cx=\"2123\" cy=\"-953.5\" rx=\"27\" ry=\"18\"/>\n<text text-anchor=\"middle\" x=\"2123\" y=\"-949.8\" font-family=\"Times,serif\" font-size=\"14.00\">+</text>\n</g>\n<!-- 139889235524384&#45;&gt;139889235738384+ -->\n<g id=\"edge90\" class=\"edge\">\n<title>139889235524384&#45;&gt;139889235738384+</title>\n<path fill=\"none\" stroke=\"black\" d=\"M2033.56,-916.55C2042.51,-919.36 2051.53,-922.37 2060,-925.5 2070.49,-929.38 2081.71,-934.22 2091.68,-938.78\"/>\n<polygon fill=\"black\" stroke=\"black\" points=\"2090.25,-941.98 2100.79,-943.03 2093.2,-935.63 2090.25,-941.98\"/>\n</g>\n<!-- 139889235737424 -->\n<g id=\"node174\" class=\"node\">\n<title>139889235737424</title>\n<polygon fill=\"none\" stroke=\"black\" points=\"2814.5,-660.5 2814.5,-696.5 2996.5,-696.5 2996.5,-660.5 2814.5,-660.5\"/>\n<text text-anchor=\"middle\" x=\"2824.5\" y=\"-674.8\" font-family=\"Times,serif\" font-size=\"14.00\"> </text>\n<polyline fill=\"none\" stroke=\"black\" points=\"2834.5,-660.5 2834.5,-696.5 \"/>\n<text text-anchor=\"middle\" x=\"2874.5\" y=\"-674.8\" font-family=\"Times,serif\" font-size=\"14.00\">data 0.0370</text>\n<polyline fill=\"none\" stroke=\"black\" points=\"2914.5,-660.5 2914.5,-696.5 \"/>\n<text text-anchor=\"middle\" x=\"2955.5\" y=\"-674.8\" font-family=\"Times,serif\" font-size=\"14.00\">grad 0.0000</text>\n</g>\n<!-- 139889235737808+ -->\n<g id=\"node184\" class=\"node\">\n<title>139889235737808+</title>\n<ellipse fill=\"none\" stroke=\"black\" cx=\"3062\" cy=\"-540.5\" rx=\"27\" ry=\"18\"/>\n<text text-anchor=\"middle\" x=\"3062\" y=\"-536.8\" font-family=\"Times,serif\" font-size=\"14.00\">+</text>\n</g>\n<!-- 139889235737424&#45;&gt;139889235737808+ -->\n<g id=\"edge198\" class=\"edge\">\n<title>139889235737424&#45;&gt;139889235737808+</title>\n<path fill=\"none\" stroke=\"black\" d=\"M2983.58,-660.38C2989.07,-657.55 2994.29,-654.28 2999,-650.5 3025.76,-629.05 3042.97,-592.74 3052.3,-567.74\"/>\n<polygon fill=\"black\" stroke=\"black\" points=\"3055.67,-568.71 3055.72,-558.12 3049.08,-566.37 3055.67,-568.71\"/>\n</g>\n<!-- 139889235737424+&#45;&gt;139889235737424 -->\n<g id=\"edge66\" class=\"edge\">\n<title>139889235737424+&#45;&gt;139889235737424</title>\n<path fill=\"none\" stroke=\"black\" d=\"M2776.21,-678.5C2784.34,-678.5 2793.85,-678.5 2803.94,-678.5\"/>\n<polygon fill=\"black\" stroke=\"black\" points=\"2804.19,-682 2814.19,-678.5 2804.19,-675 2804.19,-682\"/>\n</g>\n<!-- 139889235524480 -->\n<g id=\"node176\" class=\"node\">\n<title>139889235524480</title>\n<polygon fill=\"none\" stroke=\"black\" points=\"1562.5,-361.5 1562.5,-397.5 1744.5,-397.5 1744.5,-361.5 1562.5,-361.5\"/>\n<text text-anchor=\"middle\" x=\"1572.5\" y=\"-375.8\" font-family=\"Times,serif\" font-size=\"14.00\"> </text>\n<polyline fill=\"none\" stroke=\"black\" points=\"1582.5,-361.5 1582.5,-397.5 \"/>\n<text text-anchor=\"middle\" x=\"1622.5\" y=\"-375.8\" font-family=\"Times,serif\" font-size=\"14.00\">data 0.5490</text>\n<polyline fill=\"none\" stroke=\"black\" points=\"1662.5,-361.5 1662.5,-397.5 \"/>\n<text text-anchor=\"middle\" x=\"1703.5\" y=\"-375.8\" font-family=\"Times,serif\" font-size=\"14.00\">grad 0.0000</text>\n</g>\n<!-- 139889235524480&#45;&gt;139889235789136* -->\n<g id=\"edge149\" class=\"edge\">\n<title>139889235524480&#45;&gt;139889235789136*</title>\n<path fill=\"none\" stroke=\"black\" d=\"M1744.82,-379.5C1754.57,-379.5 1764.04,-379.5 1772.57,-379.5\"/>\n<polygon fill=\"black\" stroke=\"black\" points=\"1772.83,-383 1782.83,-379.5 1772.83,-376 1772.83,-383\"/>\n</g>\n<!-- 139889235524576 -->\n<g id=\"node177\" class=\"node\">\n<title>139889235524576</title>\n<polygon fill=\"none\" stroke=\"black\" points=\"1875.5,-330.5 1875.5,-366.5 2057.5,-366.5 2057.5,-330.5 1875.5,-330.5\"/>\n<text text-anchor=\"middle\" x=\"1885.5\" y=\"-344.8\" font-family=\"Times,serif\" font-size=\"14.00\"> </text>\n<polyline fill=\"none\" stroke=\"black\" points=\"1895.5,-330.5 1895.5,-366.5 \"/>\n<text text-anchor=\"middle\" x=\"1935.5\" y=\"-344.8\" font-family=\"Times,serif\" font-size=\"14.00\">data 0.6087</text>\n<polyline fill=\"none\" stroke=\"black\" points=\"1975.5,-330.5 1975.5,-366.5 \"/>\n<text text-anchor=\"middle\" x=\"2016.5\" y=\"-344.8\" font-family=\"Times,serif\" font-size=\"14.00\">grad 0.0000</text>\n</g>\n<!-- 139889235524576&#45;&gt;139889235789520* -->\n<g id=\"edge165\" class=\"edge\">\n<title>139889235524576&#45;&gt;139889235789520*</title>\n<path fill=\"none\" stroke=\"black\" d=\"M2057.82,-348.5C2067.57,-348.5 2077.04,-348.5 2085.57,-348.5\"/>\n<polygon fill=\"black\" stroke=\"black\" points=\"2085.83,-352 2095.83,-348.5 2085.83,-345 2085.83,-352\"/>\n</g>\n<!-- 139889235524624 -->\n<g id=\"node178\" class=\"node\">\n<title>139889235524624</title>\n<polygon fill=\"none\" stroke=\"black\" points=\"2188.5,-495.5 2188.5,-531.5 2370.5,-531.5 2370.5,-495.5 2188.5,-495.5\"/>\n<text text-anchor=\"middle\" x=\"2198.5\" y=\"-509.8\" font-family=\"Times,serif\" font-size=\"14.00\"> </text>\n<polyline fill=\"none\" stroke=\"black\" points=\"2208.5,-495.5 2208.5,-531.5 \"/>\n<text text-anchor=\"middle\" x=\"2248.5\" y=\"-509.8\" font-family=\"Times,serif\" font-size=\"14.00\">data 0.2641</text>\n<polyline fill=\"none\" stroke=\"black\" points=\"2288.5,-495.5 2288.5,-531.5 \"/>\n<text text-anchor=\"middle\" x=\"2329.5\" y=\"-509.8\" font-family=\"Times,serif\" font-size=\"14.00\">grad 0.0000</text>\n</g>\n<!-- 139889235524624&#45;&gt;139889235789904* -->\n<g id=\"edge190\" class=\"edge\">\n<title>139889235524624&#45;&gt;139889235789904*</title>\n<path fill=\"none\" stroke=\"black\" d=\"M2370.82,-513.5C2380.57,-513.5 2390.04,-513.5 2398.57,-513.5\"/>\n<polygon fill=\"black\" stroke=\"black\" points=\"2398.83,-517 2408.83,-513.5 2398.83,-510 2398.83,-517\"/>\n</g>\n<!-- 139889235737616 -->\n<g id=\"node179\" class=\"node\">\n<title>139889235737616</title>\n<polygon fill=\"none\" stroke=\"black\" points=\"2814.5,-495.5 2814.5,-531.5 2996.5,-531.5 2996.5,-495.5 2814.5,-495.5\"/>\n<text text-anchor=\"middle\" x=\"2824.5\" y=\"-509.8\" font-family=\"Times,serif\" font-size=\"14.00\"> </text>\n<polyline fill=\"none\" stroke=\"black\" points=\"2834.5,-495.5 2834.5,-531.5 \"/>\n<text text-anchor=\"middle\" x=\"2874.5\" y=\"-509.8\" font-family=\"Times,serif\" font-size=\"14.00\">data 0.0141</text>\n<polyline fill=\"none\" stroke=\"black\" points=\"2914.5,-495.5 2914.5,-531.5 \"/>\n<text text-anchor=\"middle\" x=\"2955.5\" y=\"-509.8\" font-family=\"Times,serif\" font-size=\"14.00\">grad 0.0000</text>\n</g>\n<!-- 139889235737616&#45;&gt;139889235737808+ -->\n<g id=\"edge152\" class=\"edge\">\n<title>139889235737616&#45;&gt;139889235737808+</title>\n<path fill=\"none\" stroke=\"black\" d=\"M2996.82,-529.28C3007.07,-531.08 3017.01,-532.81 3025.88,-534.36\"/>\n<polygon fill=\"black\" stroke=\"black\" points=\"3025.3,-537.81 3035.75,-536.09 3026.5,-530.92 3025.3,-537.81\"/>\n</g>\n<!-- 139889235737616*&#45;&gt;139889235737616 -->\n<g id=\"edge67\" class=\"edge\">\n<title>139889235737616*&#45;&gt;139889235737616</title>\n<path fill=\"none\" stroke=\"black\" d=\"M2776.21,-513.5C2784.34,-513.5 2793.85,-513.5 2803.94,-513.5\"/>\n<polygon fill=\"black\" stroke=\"black\" points=\"2804.19,-517 2814.19,-513.5 2804.19,-510 2804.19,-517\"/>\n</g>\n<!-- 139889235524672 -->\n<g id=\"node181\" class=\"node\">\n<title>139889235524672</title>\n<polygon fill=\"none\" stroke=\"black\" points=\"2499,-165.5 2499,-201.5 2686,-201.5 2686,-165.5 2499,-165.5\"/>\n<text text-anchor=\"middle\" x=\"2509\" y=\"-179.8\" font-family=\"Times,serif\" font-size=\"14.00\"> </text>\n<polyline fill=\"none\" stroke=\"black\" points=\"2519,-165.5 2519,-201.5 \"/>\n<text text-anchor=\"middle\" x=\"2561.5\" y=\"-179.8\" font-family=\"Times,serif\" font-size=\"14.00\">data &#45;0.2544</text>\n<polyline fill=\"none\" stroke=\"black\" points=\"2604,-165.5 2604,-201.5 \"/>\n<text text-anchor=\"middle\" x=\"2645\" y=\"-179.8\" font-family=\"Times,serif\" font-size=\"14.00\">grad 0.0000</text>\n</g>\n<!-- 139889235524672&#45;&gt;139889235790288* -->\n<g id=\"edge179\" class=\"edge\">\n<title>139889235524672&#45;&gt;139889235790288*</title>\n<path fill=\"none\" stroke=\"black\" d=\"M2659.56,-201.55C2668.51,-204.36 2677.53,-207.37 2686,-210.5 2696.49,-214.38 2707.71,-219.22 2717.68,-223.78\"/>\n<polygon fill=\"black\" stroke=\"black\" points=\"2716.25,-226.98 2726.79,-228.03 2719.2,-220.63 2716.25,-226.98\"/>\n</g>\n<!-- 139889235524720 -->\n<g id=\"node182\" class=\"node\">\n<title>139889235524720</title>\n<polygon fill=\"none\" stroke=\"black\" points=\"1873,-220.5 1873,-256.5 2060,-256.5 2060,-220.5 1873,-220.5\"/>\n<text text-anchor=\"middle\" x=\"1883\" y=\"-234.8\" font-family=\"Times,serif\" font-size=\"14.00\"> </text>\n<polyline fill=\"none\" stroke=\"black\" points=\"1893,-220.5 1893,-256.5 \"/>\n<text text-anchor=\"middle\" x=\"1935.5\" y=\"-234.8\" font-family=\"Times,serif\" font-size=\"14.00\">data &#45;0.4066</text>\n<polyline fill=\"none\" stroke=\"black\" points=\"1978,-220.5 1978,-256.5 \"/>\n<text text-anchor=\"middle\" x=\"2019\" y=\"-234.8\" font-family=\"Times,serif\" font-size=\"14.00\">grad 0.0000</text>\n</g>\n<!-- 139889235524720&#45;&gt;139889235789328+ -->\n<g id=\"edge120\" class=\"edge\">\n<title>139889235524720&#45;&gt;139889235789328+</title>\n<path fill=\"none\" stroke=\"black\" d=\"M2033.56,-256.55C2042.51,-259.36 2051.53,-262.37 2060,-265.5 2070.49,-269.38 2081.71,-274.22 2091.68,-278.78\"/>\n<polygon fill=\"black\" stroke=\"black\" points=\"2090.25,-281.98 2100.79,-283.03 2093.2,-275.63 2090.25,-281.98\"/>\n</g>\n<!-- 139889235737808 -->\n<g id=\"node183\" class=\"node\">\n<title>139889235737808</title>\n<polygon fill=\"none\" stroke=\"black\" points=\"3127.5,-522.5 3127.5,-558.5 3309.5,-558.5 3309.5,-522.5 3127.5,-522.5\"/>\n<text text-anchor=\"middle\" x=\"3137.5\" y=\"-536.8\" font-family=\"Times,serif\" font-size=\"14.00\"> </text>\n<polyline fill=\"none\" stroke=\"black\" points=\"3147.5,-522.5 3147.5,-558.5 \"/>\n<text text-anchor=\"middle\" x=\"3187.5\" y=\"-536.8\" font-family=\"Times,serif\" font-size=\"14.00\">data 0.0511</text>\n<polyline fill=\"none\" stroke=\"black\" points=\"3227.5,-522.5 3227.5,-558.5 \"/>\n<text text-anchor=\"middle\" x=\"3268.5\" y=\"-536.8\" font-family=\"Times,serif\" font-size=\"14.00\">grad 0.0000</text>\n</g>\n<!-- 139889235737904tanh -->\n<g id=\"node186\" class=\"node\">\n<title>139889235737904tanh</title>\n<ellipse fill=\"none\" stroke=\"black\" cx=\"3375\" cy=\"-540.5\" rx=\"27\" ry=\"18\"/>\n<text text-anchor=\"middle\" x=\"3375\" y=\"-536.8\" font-family=\"Times,serif\" font-size=\"14.00\">tanh</text>\n</g>\n<!-- 139889235737808&#45;&gt;139889235737904tanh -->\n<g id=\"edge136\" class=\"edge\">\n<title>139889235737808&#45;&gt;139889235737904tanh</title>\n<path fill=\"none\" stroke=\"black\" d=\"M3309.82,-540.5C3319.57,-540.5 3329.04,-540.5 3337.57,-540.5\"/>\n<polygon fill=\"black\" stroke=\"black\" points=\"3337.83,-544 3347.83,-540.5 3337.83,-537 3337.83,-544\"/>\n</g>\n<!-- 139889235737808+&#45;&gt;139889235737808 -->\n<g id=\"edge68\" class=\"edge\">\n<title>139889235737808+&#45;&gt;139889235737808</title>\n<path fill=\"none\" stroke=\"black\" d=\"M3089.21,-540.5C3097.34,-540.5 3106.85,-540.5 3116.94,-540.5\"/>\n<polygon fill=\"black\" stroke=\"black\" points=\"3117.19,-544 3127.19,-540.5 3117.19,-537 3117.19,-544\"/>\n</g>\n<!-- 139889235737904 -->\n<g id=\"node185\" class=\"node\">\n<title>139889235737904</title>\n<polygon fill=\"none\" stroke=\"black\" points=\"3440.5,-522.5 3440.5,-558.5 3622.5,-558.5 3622.5,-522.5 3440.5,-522.5\"/>\n<text text-anchor=\"middle\" x=\"3450.5\" y=\"-536.8\" font-family=\"Times,serif\" font-size=\"14.00\"> </text>\n<polyline fill=\"none\" stroke=\"black\" points=\"3460.5,-522.5 3460.5,-558.5 \"/>\n<text text-anchor=\"middle\" x=\"3500.5\" y=\"-536.8\" font-family=\"Times,serif\" font-size=\"14.00\">data 0.0510</text>\n<polyline fill=\"none\" stroke=\"black\" points=\"3540.5,-522.5 3540.5,-558.5 \"/>\n<text text-anchor=\"middle\" x=\"3581.5\" y=\"-536.8\" font-family=\"Times,serif\" font-size=\"14.00\">grad 0.0000</text>\n</g>\n<!-- 139889235737904&#45;&gt;139889235791248* -->\n<g id=\"edge188\" class=\"edge\">\n<title>139889235737904&#45;&gt;139889235791248*</title>\n<path fill=\"none\" stroke=\"black\" d=\"M3592.76,-522.43C3603.5,-519.16 3614.59,-515.75 3625,-512.5 3634.35,-509.58 3644.48,-506.34 3653.78,-503.34\"/>\n<polygon fill=\"black\" stroke=\"black\" points=\"3655.04,-506.61 3663.48,-500.2 3652.89,-499.95 3655.04,-506.61\"/>\n</g>\n<!-- 139889235737904tanh&#45;&gt;139889235737904 -->\n<g id=\"edge69\" class=\"edge\">\n<title>139889235737904tanh&#45;&gt;139889235737904</title>\n<path fill=\"none\" stroke=\"black\" d=\"M3402.21,-540.5C3410.34,-540.5 3419.85,-540.5 3429.94,-540.5\"/>\n<polygon fill=\"black\" stroke=\"black\" points=\"3430.19,-544 3440.19,-540.5 3430.19,-537 3430.19,-544\"/>\n</g>\n<!-- 139889235524912 -->\n<g id=\"node187\" class=\"node\">\n<title>139889235524912</title>\n<polygon fill=\"none\" stroke=\"black\" points=\"3440.5,-357.5 3440.5,-393.5 3622.5,-393.5 3622.5,-357.5 3440.5,-357.5\"/>\n<text text-anchor=\"middle\" x=\"3450.5\" y=\"-371.8\" font-family=\"Times,serif\" font-size=\"14.00\"> </text>\n<polyline fill=\"none\" stroke=\"black\" points=\"3460.5,-357.5 3460.5,-393.5 \"/>\n<text text-anchor=\"middle\" x=\"3500.5\" y=\"-371.8\" font-family=\"Times,serif\" font-size=\"14.00\">data 0.8386</text>\n<polyline fill=\"none\" stroke=\"black\" points=\"3540.5,-357.5 3540.5,-393.5 \"/>\n<text text-anchor=\"middle\" x=\"3581.5\" y=\"-371.8\" font-family=\"Times,serif\" font-size=\"14.00\">grad 0.0000</text>\n</g>\n<!-- 139889235524912&#45;&gt;139889235790864* -->\n<g id=\"edge161\" class=\"edge\">\n<title>139889235524912&#45;&gt;139889235790864*</title>\n<path fill=\"none\" stroke=\"black\" d=\"M3622.82,-381.93C3632.77,-382.64 3642.43,-383.33 3651.1,-383.94\"/>\n<polygon fill=\"black\" stroke=\"black\" points=\"3650.91,-387.44 3661.14,-384.66 3651.41,-380.46 3650.91,-387.44\"/>\n</g>\n<!-- 139889235525008 -->\n<g id=\"node188\" class=\"node\">\n<title>139889235525008</title>\n<polygon fill=\"none\" stroke=\"black\" points=\"3438,-467.5 3438,-503.5 3625,-503.5 3625,-467.5 3438,-467.5\"/>\n<text text-anchor=\"middle\" x=\"3448\" y=\"-481.8\" font-family=\"Times,serif\" font-size=\"14.00\"> </text>\n<polyline fill=\"none\" stroke=\"black\" points=\"3458,-467.5 3458,-503.5 \"/>\n<text text-anchor=\"middle\" x=\"3500.5\" y=\"-481.8\" font-family=\"Times,serif\" font-size=\"14.00\">data &#45;0.7911</text>\n<polyline fill=\"none\" stroke=\"black\" points=\"3543,-467.5 3543,-503.5 \"/>\n<text text-anchor=\"middle\" x=\"3584\" y=\"-481.8\" font-family=\"Times,serif\" font-size=\"14.00\">grad 0.0000</text>\n</g>\n<!-- 139889235525008&#45;&gt;139889235791248* -->\n<g id=\"edge104\" class=\"edge\">\n<title>139889235525008&#45;&gt;139889235791248*</title>\n<path fill=\"none\" stroke=\"black\" d=\"M3625.05,-489.69C3634.06,-490.1 3642.79,-490.5 3650.7,-490.86\"/>\n<polygon fill=\"black\" stroke=\"black\" points=\"3650.8,-494.36 3660.95,-491.32 3651.12,-487.37 3650.8,-494.36\"/>\n</g>\n<!-- 139889235525056 -->\n<g id=\"node189\" class=\"node\">\n<title>139889235525056</title>\n<polygon fill=\"none\" stroke=\"black\" points=\"3440.5,-577.5 3440.5,-613.5 3622.5,-613.5 3622.5,-577.5 3440.5,-577.5\"/>\n<text text-anchor=\"middle\" x=\"3450.5\" y=\"-591.8\" font-family=\"Times,serif\" font-size=\"14.00\"> </text>\n<polyline fill=\"none\" stroke=\"black\" points=\"3460.5,-577.5 3460.5,-613.5 \"/>\n<text text-anchor=\"middle\" x=\"3500.5\" y=\"-591.8\" font-family=\"Times,serif\" font-size=\"14.00\">data 0.1457</text>\n<polyline fill=\"none\" stroke=\"black\" points=\"3540.5,-577.5 3540.5,-613.5 \"/>\n<text text-anchor=\"middle\" x=\"3581.5\" y=\"-591.8\" font-family=\"Times,serif\" font-size=\"14.00\">grad 0.0000</text>\n</g>\n<!-- 139889235525056&#45;&gt;139889235791632* -->\n<g id=\"edge92\" class=\"edge\">\n<title>139889235525056&#45;&gt;139889235791632*</title>\n<path fill=\"none\" stroke=\"black\" d=\"M3622.82,-595.5C3632.57,-595.5 3642.04,-595.5 3650.57,-595.5\"/>\n<polygon fill=\"black\" stroke=\"black\" points=\"3650.83,-599 3660.83,-595.5 3650.83,-592 3650.83,-599\"/>\n</g>\n<!-- 139889235525104 -->\n<g id=\"node190\" class=\"node\">\n<title>139889235525104</title>\n<polygon fill=\"none\" stroke=\"black\" points=\"3438,-247.5 3438,-283.5 3625,-283.5 3625,-247.5 3438,-247.5\"/>\n<text text-anchor=\"middle\" x=\"3448\" y=\"-261.8\" font-family=\"Times,serif\" font-size=\"14.00\"> </text>\n<polyline fill=\"none\" stroke=\"black\" points=\"3458,-247.5 3458,-283.5 \"/>\n<text text-anchor=\"middle\" x=\"3500.5\" y=\"-261.8\" font-family=\"Times,serif\" font-size=\"14.00\">data &#45;0.0967</text>\n<polyline fill=\"none\" stroke=\"black\" points=\"3543,-247.5 3543,-283.5 \"/>\n<text text-anchor=\"middle\" x=\"3584\" y=\"-261.8\" font-family=\"Times,serif\" font-size=\"14.00\">grad 0.0000</text>\n</g>\n<!-- 139889235525104&#45;&gt;139889235792016* -->\n<g id=\"edge88\" class=\"edge\">\n<title>139889235525104&#45;&gt;139889235792016*</title>\n<path fill=\"none\" stroke=\"black\" d=\"M3598.56,-283.55C3607.51,-286.36 3616.53,-289.37 3625,-292.5 3635.49,-296.38 3646.71,-301.22 3656.68,-305.78\"/>\n<polygon fill=\"black\" stroke=\"black\" points=\"3655.25,-308.98 3665.79,-310.03 3658.2,-302.63 3655.25,-308.98\"/>\n</g>\n<!-- 139889235648016 -->\n<g id=\"node191\" class=\"node\">\n<title>139889235648016</title>\n<polygon fill=\"none\" stroke=\"black\" points=\"1249.5,-643.5 1249.5,-679.5 1431.5,-679.5 1431.5,-643.5 1249.5,-643.5\"/>\n<text text-anchor=\"middle\" x=\"1259.5\" y=\"-657.8\" font-family=\"Times,serif\" font-size=\"14.00\"> </text>\n<polyline fill=\"none\" stroke=\"black\" points=\"1269.5,-643.5 1269.5,-679.5 \"/>\n<text text-anchor=\"middle\" x=\"1309.5\" y=\"-657.8\" font-family=\"Times,serif\" font-size=\"14.00\">data 1.9232</text>\n<polyline fill=\"none\" stroke=\"black\" points=\"1349.5,-643.5 1349.5,-679.5 \"/>\n<text text-anchor=\"middle\" x=\"1390.5\" y=\"-657.8\" font-family=\"Times,serif\" font-size=\"14.00\">grad 0.0000</text>\n</g>\n<!-- 139889235648016&#45;&gt;139889235649072+ -->\n<g id=\"edge82\" class=\"edge\">\n<title>139889235648016&#45;&gt;139889235649072+</title>\n<path fill=\"none\" stroke=\"black\" d=\"M1431.82,-661.5C1441.57,-661.5 1451.04,-661.5 1459.57,-661.5\"/>\n<polygon fill=\"black\" stroke=\"black\" points=\"1459.83,-665 1469.83,-661.5 1459.83,-658 1459.83,-665\"/>\n</g>\n<!-- 139889235648016+&#45;&gt;139889235648016 -->\n<g id=\"edge70\" class=\"edge\">\n<title>139889235648016+&#45;&gt;139889235648016</title>\n<path fill=\"none\" stroke=\"black\" d=\"M1211.21,-661.5C1219.34,-661.5 1228.85,-661.5 1238.94,-661.5\"/>\n<polygon fill=\"black\" stroke=\"black\" points=\"1239.19,-665 1249.19,-661.5 1239.19,-658 1239.19,-665\"/>\n</g>\n<!-- 139889235525152 -->\n<g id=\"node193\" class=\"node\">\n<title>139889235525152</title>\n<polygon fill=\"none\" stroke=\"black\" points=\"3751,-423.5 3751,-459.5 3938,-459.5 3938,-423.5 3751,-423.5\"/>\n<text text-anchor=\"middle\" x=\"3761\" y=\"-437.8\" font-family=\"Times,serif\" font-size=\"14.00\"> </text>\n<polyline fill=\"none\" stroke=\"black\" points=\"3771,-423.5 3771,-459.5 \"/>\n<text text-anchor=\"middle\" x=\"3813.5\" y=\"-437.8\" font-family=\"Times,serif\" font-size=\"14.00\">data &#45;0.1864</text>\n<polyline fill=\"none\" stroke=\"black\" points=\"3856,-423.5 3856,-459.5 \"/>\n<text text-anchor=\"middle\" x=\"3897\" y=\"-437.8\" font-family=\"Times,serif\" font-size=\"14.00\">grad 0.0000</text>\n</g>\n<!-- 139889235525152&#45;&gt;139889235791056+ -->\n<g id=\"edge173\" class=\"edge\">\n<title>139889235525152&#45;&gt;139889235791056+</title>\n<path fill=\"none\" stroke=\"black\" d=\"M3938.26,-439.82C3970.72,-439.23 4005.27,-438.61 4030.32,-438.15\"/>\n<polygon fill=\"black\" stroke=\"black\" points=\"4030.5,-441.65 4040.44,-437.97 4030.38,-434.65 4030.5,-441.65\"/>\n</g>\n<!-- 139889235738192 -->\n<g id=\"node194\" class=\"node\">\n<title>139889235738192</title>\n<polygon fill=\"none\" stroke=\"black\" points=\"1875.5,-935.5 1875.5,-971.5 2057.5,-971.5 2057.5,-935.5 1875.5,-935.5\"/>\n<text text-anchor=\"middle\" x=\"1885.5\" y=\"-949.8\" font-family=\"Times,serif\" font-size=\"14.00\"> </text>\n<polyline fill=\"none\" stroke=\"black\" points=\"1895.5,-935.5 1895.5,-971.5 \"/>\n<text text-anchor=\"middle\" x=\"1935.5\" y=\"-949.8\" font-family=\"Times,serif\" font-size=\"14.00\">data 0.1162</text>\n<polyline fill=\"none\" stroke=\"black\" points=\"1975.5,-935.5 1975.5,-971.5 \"/>\n<text text-anchor=\"middle\" x=\"2016.5\" y=\"-949.8\" font-family=\"Times,serif\" font-size=\"14.00\">grad 0.0000</text>\n</g>\n<!-- 139889235738192&#45;&gt;139889235738384+ -->\n<g id=\"edge143\" class=\"edge\">\n<title>139889235738192&#45;&gt;139889235738384+</title>\n<path fill=\"none\" stroke=\"black\" d=\"M2057.82,-953.5C2067.57,-953.5 2077.04,-953.5 2085.57,-953.5\"/>\n<polygon fill=\"black\" stroke=\"black\" points=\"2085.83,-957 2095.83,-953.5 2085.83,-950 2085.83,-957\"/>\n</g>\n<!-- 139889235738192*&#45;&gt;139889235738192 -->\n<g id=\"edge71\" class=\"edge\">\n<title>139889235738192*&#45;&gt;139889235738192</title>\n<path fill=\"none\" stroke=\"black\" d=\"M1836.86,-938.51C1845.13,-939.48 1854.83,-940.61 1865.14,-941.81\"/>\n<polygon fill=\"black\" stroke=\"black\" points=\"1864.85,-945.3 1875.18,-942.98 1865.66,-938.34 1864.85,-945.3\"/>\n</g>\n<!-- 139889235738384 -->\n<g id=\"node196\" class=\"node\">\n<title>139889235738384</title>\n<polygon fill=\"none\" stroke=\"black\" points=\"2188.5,-935.5 2188.5,-971.5 2370.5,-971.5 2370.5,-935.5 2188.5,-935.5\"/>\n<text text-anchor=\"middle\" x=\"2198.5\" y=\"-949.8\" font-family=\"Times,serif\" font-size=\"14.00\"> </text>\n<polyline fill=\"none\" stroke=\"black\" points=\"2208.5,-935.5 2208.5,-971.5 \"/>\n<text text-anchor=\"middle\" x=\"2248.5\" y=\"-949.8\" font-family=\"Times,serif\" font-size=\"14.00\">data 0.3883</text>\n<polyline fill=\"none\" stroke=\"black\" points=\"2288.5,-935.5 2288.5,-971.5 \"/>\n<text text-anchor=\"middle\" x=\"2329.5\" y=\"-949.8\" font-family=\"Times,serif\" font-size=\"14.00\">grad 0.0000</text>\n</g>\n<!-- 139889235738384&#45;&gt;139889235787984+ -->\n<g id=\"edge93\" class=\"edge\">\n<title>139889235738384&#45;&gt;139889235787984+</title>\n<path fill=\"none\" stroke=\"black\" d=\"M2355.64,-935.32C2361.75,-932.49 2367.63,-929.24 2373,-925.5 2393.7,-911.07 2410.44,-887.58 2421.29,-869.43\"/>\n<polygon fill=\"black\" stroke=\"black\" points=\"2424.47,-870.91 2426.41,-860.5 2418.4,-867.43 2424.47,-870.91\"/>\n</g>\n<!-- 139889235738384+&#45;&gt;139889235738384 -->\n<g id=\"edge72\" class=\"edge\">\n<title>139889235738384+&#45;&gt;139889235738384</title>\n<path fill=\"none\" stroke=\"black\" d=\"M2150.21,-953.5C2158.34,-953.5 2167.85,-953.5 2177.94,-953.5\"/>\n<polygon fill=\"black\" stroke=\"black\" points=\"2178.19,-957 2188.19,-953.5 2178.19,-950 2178.19,-957\"/>\n</g>\n<!-- 139889235738576 -->\n<g id=\"node198\" class=\"node\">\n<title>139889235738576</title>\n<polygon fill=\"none\" stroke=\"black\" points=\"2186,-770.5 2186,-806.5 2373,-806.5 2373,-770.5 2186,-770.5\"/>\n<text text-anchor=\"middle\" x=\"2196\" y=\"-784.8\" font-family=\"Times,serif\" font-size=\"14.00\"> </text>\n<polyline fill=\"none\" stroke=\"black\" points=\"2206,-770.5 2206,-806.5 \"/>\n<text text-anchor=\"middle\" x=\"2248.5\" y=\"-784.8\" font-family=\"Times,serif\" font-size=\"14.00\">data &#45;0.3003</text>\n<polyline fill=\"none\" stroke=\"black\" points=\"2291,-770.5 2291,-806.5 \"/>\n<text text-anchor=\"middle\" x=\"2332\" y=\"-784.8\" font-family=\"Times,serif\" font-size=\"14.00\">grad 0.0000</text>\n</g>\n<!-- 139889235738576&#45;&gt;139889235787984+ -->\n<g id=\"edge182\" class=\"edge\">\n<title>139889235738576&#45;&gt;139889235787984+</title>\n<path fill=\"none\" stroke=\"black\" d=\"M2346.56,-806.55C2355.51,-809.36 2364.53,-812.37 2373,-815.5 2383.49,-819.38 2394.71,-824.22 2404.68,-828.78\"/>\n<polygon fill=\"black\" stroke=\"black\" points=\"2403.25,-831.98 2413.79,-833.03 2406.2,-825.63 2403.25,-831.98\"/>\n</g>\n<!-- 139889235738576*&#45;&gt;139889235738576 -->\n<g id=\"edge73\" class=\"edge\">\n<title>139889235738576*&#45;&gt;139889235738576</title>\n<path fill=\"none\" stroke=\"black\" d=\"M2145.55,-743.63C2157.36,-748.98 2172.34,-755.48 2186,-760.5 2192.24,-762.8 2198.77,-765.05 2205.34,-767.22\"/>\n<polygon fill=\"black\" stroke=\"black\" points=\"2204.39,-770.59 2214.98,-770.35 2206.55,-763.93 2204.39,-770.59\"/>\n</g>\n</g>\n</svg>\n",
      "text/plain": [
       "<graphviz.graphs.Digraph at 0x7f3a81e2c250>"
      ]
     },
     "execution_count": 311,
     "metadata": {},
     "output_type": "execute_result"
    }
   ],
   "source": [
    "draw_dot(nn(x))"
   ]
  },
  {
   "cell_type": "markdown",
   "metadata": {},
   "source": [
    "# Creating a tiny dataset, writing the loss function"
   ]
  },
  {
   "cell_type": "code",
   "execution_count": 376,
   "metadata": {},
   "outputs": [],
   "source": [
    "class Neuron:\n",
    "    \n",
    "  def __init__(self, nin):\n",
    "    self.w = [Value(random.uniform(-1,1)) for _ in range(nin)]\n",
    "    self.b = Value(random.uniform(-1,1))\n",
    "\n",
    "  def __call__(self, x):\n",
    "    # w * x + b\n",
    "    act = sum((wi*xi for wi,xi in zip(self.w, x)), self.b) #activation\n",
    "    out = act.tanh() # activation function\n",
    "    return out\n",
    "\n",
    "class Layer:\n",
    "\n",
    "  def __init__(self, nin, nout):\n",
    "    self.neurons = [Neuron(nin) for _ in range(nout)]\n",
    "\n",
    "  def __call__(self, x):\n",
    "    outs = [neuron(x) for neuron in self.neurons]\n",
    "    return outs[0] if len(outs) == 1 else outs\n",
    "\n",
    "class MLP:\n",
    "  \n",
    "  def __init__(self, nin, nouts):\n",
    "    sz = [nin] + nouts\n",
    "    self.layers = [Layer(sz[i], sz[i+1]) for i in range(len(nouts))]\n",
    "  \n",
    "  def __call__(self, x):\n",
    "    for layer in self.layers:\n",
    "      x = layer(x)\n",
    "    return x"
   ]
  },
  {
   "cell_type": "code",
   "execution_count": 383,
   "metadata": {},
   "outputs": [],
   "source": [
    "nn = MLP(3, [4, 4, 1]) # 3 layers of neurons (4,4,1) each having 3 inputs "
   ]
  },
  {
   "cell_type": "code",
   "execution_count": 384,
   "metadata": {},
   "outputs": [
    {
     "data": {
      "text/plain": [
       "[Value(data=-0.1973306038797946),\n",
       " Value(data=-0.9352733507518372),\n",
       " Value(data=-0.8779463938806622),\n",
       " Value(data=-0.3373894859879361)]"
      ]
     },
     "execution_count": 384,
     "metadata": {},
     "output_type": "execute_result"
    }
   ],
   "source": [
    "xs = [\n",
    "  [2.0, 3.0, -1.0],\n",
    "  [3.0, -1.0, 0.5],\n",
    "  [0.5, 1.0, 1.0],\n",
    "  [1.0, 1.0, -1.0],\n",
    "]\n",
    "ys = [1.0, -1.0, -1.0, 1.0] # desired targets\n",
    "ypred = [nn(x) for x in xs]\n",
    "ypred"
   ]
  },
  {
   "cell_type": "code",
   "execution_count": 385,
   "metadata": {},
   "outputs": [
    {
     "data": {
      "text/plain": [
       "[Value(data=1.4336005749871537),\n",
       " Value(data=0.0041895391228947),\n",
       " Value(data=0.014897082766734453),\n",
       " Value(data=1.7886106372310757)]"
      ]
     },
     "execution_count": 385,
     "metadata": {},
     "output_type": "execute_result"
    }
   ],
   "source": [
    "[(yout - ygt)**2 for ygt, yout in zip(ys, ypred)]"
   ]
  },
  {
   "cell_type": "code",
   "execution_count": 387,
   "metadata": {},
   "outputs": [
    {
     "data": {
      "text/plain": [
       "Value(data=3.2412978341078587)"
      ]
     },
     "execution_count": 387,
     "metadata": {},
     "output_type": "execute_result"
    }
   ],
   "source": [
    "loss = sum([(yout - ygt)**2 for ygt, yout in zip(ys, ypred)])\n",
    "loss"
   ]
  },
  {
   "cell_type": "code",
   "execution_count": 389,
   "metadata": {},
   "outputs": [],
   "source": [
    "loss.backward()"
   ]
  },
  {
   "cell_type": "code",
   "execution_count": 390,
   "metadata": {},
   "outputs": [
    {
     "data": {
      "text/plain": [
       "-0.18695420145728447"
      ]
     },
     "execution_count": 390,
     "metadata": {},
     "output_type": "execute_result"
    }
   ],
   "source": [
    "nn.layers[0].neurons[0].w[0].grad"
   ]
  },
  {
   "cell_type": "markdown",
   "metadata": {},
   "source": [
    "# Collecting all of the parameters of the neural net"
   ]
  },
  {
   "cell_type": "code",
   "execution_count": 398,
   "metadata": {},
   "outputs": [],
   "source": [
    "class Neuron:\n",
    "    \n",
    "  def __init__(self, nin):\n",
    "    self.w = [Value(random.uniform(-1,1)) for _ in range(nin)]\n",
    "    self.b = Value(random.uniform(-1,1))\n",
    "\n",
    "  def __call__(self, x):\n",
    "    # w * x + b\n",
    "    act = sum((wi*xi for wi,xi in zip(self.w, x)), self.b) #activation\n",
    "    out = act.tanh() # activation function\n",
    "    return out\n",
    "\n",
    "  def parameters(self):\n",
    "    return self.w + [self.b]\n",
    "    \n",
    "class Layer:\n",
    "\n",
    "  def __init__(self, nin, nout):\n",
    "    self.neurons = [Neuron(nin) for _ in range(nout)]\n",
    "\n",
    "  def __call__(self, x):\n",
    "    outs = [neuron(x) for neuron in self.neurons]\n",
    "    return outs[0] if len(outs) == 1 else outs\n",
    "\n",
    "  def parameters(self):\n",
    "    return [p for neuron in self.neurons for p in neuron.parameters()]\n",
    "\n",
    "class MLP:\n",
    "  \n",
    "  def __init__(self, nin, nouts):\n",
    "    sz = [nin] + nouts\n",
    "    self.layers = [Layer(sz[i], sz[i+1]) for i in range(len(nouts))]\n",
    "  \n",
    "  def __call__(self, x):\n",
    "    for layer in self.layers:\n",
    "      x = layer(x)\n",
    "    return x\n",
    "\n",
    "  def parameters(self):\n",
    "    return [p for layer in self.layers for p in layer.parameters()]\n"
   ]
  },
  {
   "cell_type": "code",
   "execution_count": 399,
   "metadata": {},
   "outputs": [],
   "source": [
    "nn = MLP(3, [4, 4, 1]) # 3 layers of neurons (4,4,1) each having 3 inputs "
   ]
  },
  {
   "cell_type": "code",
   "execution_count": 410,
   "metadata": {},
   "outputs": [
    {
     "data": {
      "text/plain": [
       "[Value(data=0.13756206582614722),\n",
       " Value(data=0.9263665442898326),\n",
       " Value(data=0.13027190378159836),\n",
       " Value(data=0.21501882291931332)]"
      ]
     },
     "execution_count": 410,
     "metadata": {},
     "output_type": "execute_result"
    }
   ],
   "source": [
    "# dataset of 4 inputs into nn\n",
    "xs = [\n",
    "  [2.0, 3.0, -1.0],\n",
    "  [3.0, -1.0, 0.5],\n",
    "  [0.5, 1.0, 1.0],\n",
    "  [1.0, 1.0, -1.0],\n",
    "]\n",
    "ys = [1.0, -1.0, -1.0, 1.0] # desired targets\n",
    "ypred = [nn(x) for x in xs]\n",
    "ypred"
   ]
  },
  {
   "cell_type": "code",
   "execution_count": 413,
   "metadata": {},
   "outputs": [
    {
     "data": {
      "text/plain": [
       "Value(data=6.348397278110275)"
      ]
     },
     "execution_count": 413,
     "metadata": {},
     "output_type": "execute_result"
    }
   ],
   "source": [
    "loss = sum([(yout - ygt)**2 for ygt, yout in zip(ys, ypred)])\n",
    "loss"
   ]
  },
  {
   "cell_type": "code",
   "execution_count": 415,
   "metadata": {},
   "outputs": [],
   "source": [
    "loss.backward()"
   ]
  },
  {
   "cell_type": "code",
   "execution_count": 416,
   "metadata": {},
   "outputs": [
    {
     "data": {
      "text/plain": [
       "-0.06796801942572413"
      ]
     },
     "execution_count": 416,
     "metadata": {},
     "output_type": "execute_result"
    }
   ],
   "source": [
    "nn.layers[0].neurons[0].w[0].grad"
   ]
  },
  {
   "cell_type": "code",
   "execution_count": 417,
   "metadata": {},
   "outputs": [
    {
     "data": {
      "text/plain": [
       "0.7894013326059655"
      ]
     },
     "execution_count": 417,
     "metadata": {},
     "output_type": "execute_result"
    }
   ],
   "source": [
    "nn.layers[0].neurons[0].w[0].data # current value of the neuron"
   ]
  },
  {
   "cell_type": "code",
   "execution_count": 414,
   "metadata": {},
   "outputs": [
    {
     "name": "stdout",
     "output_type": "stream",
     "text": [
      "[Value(data=0.7894013326059655), Value(data=0.6732988399518656), Value(data=-0.5928240959631632), Value(data=0.488639100199165), Value(data=0.7467426296319157), Value(data=0.5217644797446697), Value(data=-0.9125748379736394), Value(data=-0.5739487676250437), Value(data=0.35055544257151383), Value(data=-0.42940435616274586), Value(data=0.04681732229424873), Value(data=-0.30405985072512176), Value(data=0.6582704470160627), Value(data=-0.1526257653354719), Value(data=0.8652244079142131), Value(data=-0.5331468282791132), Value(data=-0.03477229748793875), Value(data=-0.3679763208464175), Value(data=0.4819009166032342), Value(data=0.5428549814738508), Value(data=-0.47804663860804286), Value(data=0.6176931214005077), Value(data=-0.23598369066432068), Value(data=0.7345968715907114), Value(data=0.9446953738119925), Value(data=-0.05287841576909136), Value(data=-0.1496470123963698), Value(data=0.6190961685327272), Value(data=0.5979644636971837), Value(data=0.3233562826962779), Value(data=-0.08904517143363355), Value(data=0.3034718725939918), Value(data=0.8944418436913639), Value(data=-0.5481909409800909), Value(data=-0.019978547864236695), Value(data=-0.403436996197881), Value(data=0.5926951098849309), Value(data=-0.03223131547955882), Value(data=0.9385258710445472), Value(data=0.0040604981880028035), Value(data=0.8553413910712979)]\n",
      "total parameters(w+b):41\n"
     ]
    }
   ],
   "source": [
    "print(nn.parameters())\n",
    "print(f'total parameters(w+b):{len(nn.parameters())}')"
   ]
  },
  {
   "cell_type": "markdown",
   "metadata": {},
   "source": [
    "# Doing gradient descent optimization manually, training the network"
   ]
  },
  {
   "cell_type": "code",
   "execution_count": 466,
   "metadata": {},
   "outputs": [],
   "source": [
    "# update parameters\n",
    "for p in nn.parameters():\n",
    "    p.data += -0.01 * p.grad"
   ]
  },
  {
   "cell_type": "code",
   "execution_count": 467,
   "metadata": {},
   "outputs": [
    {
     "data": {
      "text/plain": [
       "Value(data=0.028472494527757932)"
      ]
     },
     "execution_count": 467,
     "metadata": {},
     "output_type": "execute_result"
    }
   ],
   "source": [
    "# forward pass\n",
    "ypred = [nn(x) for x in xs]\n",
    "loss = sum([(yout - ygt)**2 for ygt, yout in zip(ys, ypred)])\n",
    "loss"
   ]
  },
  {
   "cell_type": "code",
   "execution_count": 464,
   "metadata": {},
   "outputs": [],
   "source": [
    "# backward pass\n",
    "loss.backward()"
   ]
  },
  {
   "cell_type": "code",
   "execution_count": 468,
   "metadata": {},
   "outputs": [
    {
     "data": {
      "text/plain": [
       "[Value(data=0.9910284801744534),\n",
       " Value(data=-0.9995037266464953),\n",
       " Value(data=-0.9909338564350934),\n",
       " Value(data=0.8317455346405426)]"
      ]
     },
     "execution_count": 468,
     "metadata": {},
     "output_type": "execute_result"
    }
   ],
   "source": [
    "ypred"
   ]
  },
  {
   "cell_type": "code",
   "execution_count": 469,
   "metadata": {},
   "outputs": [
    {
     "data": {
      "text/plain": [
       "[Value(data=0.8318197396741709),\n",
       " Value(data=0.7335653910697371),\n",
       " Value(data=-0.5234373003785396),\n",
       " Value(data=0.5563633926920708),\n",
       " Value(data=-0.5779783404835923),\n",
       " Value(data=0.7431629383166278),\n",
       " Value(data=-1.4133023172640433),\n",
       " Value(data=-1.1833038020090243),\n",
       " Value(data=0.2032963354652107),\n",
       " Value(data=-0.26589344335399573),\n",
       " Value(data=-0.5538366764462368),\n",
       " Value(data=-0.487799247342413),\n",
       " Value(data=0.6057216524821651),\n",
       " Value(data=-0.23357952358215497),\n",
       " Value(data=0.6058963274414062),\n",
       " Value(data=-0.6829996360004977),\n",
       " Value(data=-0.5912291092556287),\n",
       " Value(data=-0.13735266334647073),\n",
       " Value(data=0.40033556172658485),\n",
       " Value(data=-0.027493658150454972),\n",
       " Value(data=-1.1615856073130688),\n",
       " Value(data=0.5994978799059034),\n",
       " Value(data=-0.44022899510361335),\n",
       " Value(data=0.7067542693684735),\n",
       " Value(data=1.0576482398332854),\n",
       " Value(data=-0.03751164772725038),\n",
       " Value(data=-0.21818139191127497),\n",
       " Value(data=1.6061109824702573),\n",
       " Value(data=0.13479792653944944),\n",
       " Value(data=-0.7943346592313778),\n",
       " Value(data=-0.31598598286136614),\n",
       " Value(data=0.13012452945664343),\n",
       " Value(data=0.9610737250634953),\n",
       " Value(data=-0.6296610958829854),\n",
       " Value(data=-0.22691844073774556),\n",
       " Value(data=-0.6064973404794997),\n",
       " Value(data=0.1998867566580443),\n",
       " Value(data=-1.6918974093636794),\n",
       " Value(data=1.1929858097820656),\n",
       " Value(data=1.2650574170450837),\n",
       " Value(data=0.04120188065972129)]"
      ]
     },
     "execution_count": 469,
     "metadata": {},
     "output_type": "execute_result"
    }
   ],
   "source": [
    "nn.parameters() # setting for weigths and biases taht make our predictions close to gt"
   ]
  },
  {
   "cell_type": "markdown",
   "metadata": {},
   "source": [
    "## Implementing training loop"
   ]
  },
  {
   "cell_type": "code",
   "execution_count": 493,
   "metadata": {},
   "outputs": [],
   "source": [
    "# initialize NN \n",
    "nn = MLP(3, [4, 4, 1]) # 3 layers of neurons (4,4,1) each having 4 neurons eahc of those having 3 inputs"
   ]
  },
  {
   "cell_type": "code",
   "execution_count": 494,
   "metadata": {},
   "outputs": [],
   "source": [
    "# sample data(xs) and the ground truth(ys)\n",
    "xs = [\n",
    "  [2.0, 3.0, -1.0],\n",
    "  [3.0, -1.0, 0.5],\n",
    "  [0.5, 1.0, 1.0],\n",
    "  [1.0, 1.0, -1.0],\n",
    "]\n",
    "ys = [1.0, -1.0, -1.0, 1.0]"
   ]
  },
  {
   "cell_type": "code",
   "execution_count": 495,
   "metadata": {},
   "outputs": [
    {
     "name": "stdout",
     "output_type": "stream",
     "text": [
      "step: 0, loss: 5.74079445178922\n",
      "step: 1, loss: 3.33886858843511\n",
      "step: 2, loss: 2.6858757562444366\n",
      "step: 3, loss: 2.2720305686682347\n",
      "step: 4, loss: 1.7013178011213705\n",
      "step: 5, loss: 1.0328890757342448\n",
      "step: 6, loss: 0.6018957395246738\n",
      "step: 7, loss: 0.39680663983497494\n",
      "step: 8, loss: 0.28823324610876777\n",
      "step: 9, loss: 0.22326146289232068\n",
      "step: 10, loss: 0.18065162918038816\n",
      "step: 11, loss: 0.15081920340789723\n",
      "step: 12, loss: 0.1288954596882604\n",
      "step: 13, loss: 0.11217395753095817\n",
      "step: 14, loss: 0.09904111798878251\n",
      "step: 15, loss: 0.08847987810096608\n",
      "step: 16, loss: 0.07981960330462762\n",
      "step: 17, loss: 0.07260133325183968\n",
      "step: 18, loss: 0.06650102843722408\n",
      "step: 19, loss: 0.06128377047304555\n",
      "step: 20, loss: 0.05677533119631807\n",
      "step: 21, loss: 0.05284391434868588\n",
      "step: 22, loss: 0.049388079503794535\n",
      "step: 23, loss: 0.04632854618411926\n",
      "step: 24, loss: 0.04360250325688202\n",
      "step: 25, loss: 0.04115957696037248\n",
      "step: 26, loss: 0.03895892186397572\n",
      "step: 27, loss: 0.036967087488011106\n",
      "step: 28, loss: 0.0351564304915015\n",
      "step: 29, loss: 0.033503916939728325\n",
      "step: 30, loss: 0.03199020767820965\n",
      "step: 31, loss: 0.030598952003933394\n",
      "step: 32, loss: 0.029316236528397585\n",
      "step: 33, loss: 0.028130151011239304\n",
      "step: 34, loss: 0.02703044330399693\n",
      "step: 35, loss: 0.026008242855561328\n",
      "step: 36, loss: 0.02505583745751454\n",
      "step: 37, loss: 0.024166491688122883\n",
      "step: 38, loss: 0.02333429827870358\n",
      "step: 39, loss: 0.022554055669222285\n",
      "step: 40, loss: 0.021821166544383333\n",
      "step: 41, loss: 0.021131553289192664\n",
      "step: 42, loss: 0.020481587174473632\n",
      "step: 43, loss: 0.019868028749898906\n",
      "step: 44, loss: 0.019287977436587892\n",
      "step: 45, loss: 0.01873882871096568\n",
      "step: 46, loss: 0.018218237584118273\n",
      "step: 47, loss: 0.017724087326874145\n",
      "step: 48, loss: 0.01725446258563827\n",
      "step: 49, loss: 0.01680762618915376\n",
      "step: 50, loss: 0.016381999070619366\n",
      "step: 51, loss: 0.015976142829621988\n",
      "step: 52, loss: 0.015588744539279224\n",
      "step: 53, loss: 0.015218603469785343\n",
      "step: 54, loss: 0.014864619453290283\n",
      "step: 55, loss: 0.014525782659119246\n",
      "step: 56, loss: 0.01420116458464779\n",
      "step: 57, loss: 0.013889910097172255\n",
      "step: 58, loss: 0.013591230387043528\n",
      "step: 59, loss: 0.013304396713102377\n",
      "step: 60, loss: 0.013028734838823858\n",
      "step: 61, loss: 0.012763620072151797\n",
      "step: 62, loss: 0.012508472834274878\n",
      "step: 63, loss: 0.012262754692954753\n",
      "step: 64, loss: 0.012025964804796275\n",
      "step: 65, loss: 0.01179763671830458\n",
      "step: 66, loss: 0.011577335495928221\n",
      "step: 67, loss: 0.011364655118714971\n",
      "step: 68, loss: 0.01115921614185586\n",
      "step: 69, loss: 0.010960663573387298\n",
      "step: 70, loss: 0.010768664951757358\n",
      "step: 71, loss: 0.010582908600929957\n",
      "step: 72, loss: 0.010403102044266949\n",
      "step: 73, loss: 0.01022897056065266\n",
      "step: 74, loss: 0.010060255868258098\n",
      "step: 75, loss: 0.009896714923026753\n",
      "step: 76, loss: 0.009738118820429874\n",
      "step: 77, loss: 0.009584251790326036\n",
      "step: 78, loss: 0.009434910275880875\n",
      "step: 79, loss: 0.00928990208849268\n",
      "step: 80, loss: 0.009149045631535563\n",
      "step: 81, loss: 0.00901216918649582\n",
      "step: 82, loss: 0.008879110255752875\n",
      "step: 83, loss: 0.008749714956849654\n",
      "step: 84, loss: 0.008623837463627082\n",
      "step: 85, loss: 0.008501339490062852\n",
      "step: 86, loss: 0.00838208981307138\n",
      "step: 87, loss: 0.008265963830890406\n",
      "step: 88, loss: 0.008152843154008339\n",
      "step: 89, loss: 0.008042615225880793\n",
      "step: 90, loss: 0.007935172970945837\n",
      "step: 91, loss: 0.007830414467681889\n",
      "step: 92, loss: 0.007728242644662971\n",
      "step: 93, loss: 0.0076285649977531865\n",
      "step: 94, loss: 0.00753129332675164\n",
      "step: 95, loss: 0.007436343489951928\n",
      "step: 96, loss: 0.007343635175214748\n",
      "step: 97, loss: 0.007253091686278809\n",
      "step: 98, loss: 0.0071646397431427075\n",
      "step: 99, loss: 0.007078209295454439\n"
     ]
    }
   ],
   "source": [
    "# training loop(k defines training steps)\n",
    "for k in range(100):\n",
    "    \n",
    "    # forward pass\n",
    "    ypred = [nn(x) for x in xs]\n",
    "    loss = sum([(yout - ygt)**2 for ygt, yout in zip(ys, ypred)])\n",
    "    \n",
    "    # backward pass\n",
    "    for p in nn.parameters():\n",
    "        p.grad = 0.0 \n",
    "    loss.backward()\n",
    "\n",
    "    # update parameters aka gradient descent\n",
    "    for p in nn.parameters():\n",
    "        p.data += -0.05 * p.grad \n",
    "\n",
    "    print(f'step: {k}, loss: {loss.data}')"
   ]
  },
  {
   "cell_type": "code",
   "execution_count": 496,
   "metadata": {},
   "outputs": [
    {
     "data": {
      "text/plain": [
       "[Value(data=0.9615187877094725),\n",
       " Value(data=-0.9823200341447897),\n",
       " Value(data=-0.9484380302031277),\n",
       " Value(data=0.9487536569682204)]"
      ]
     },
     "execution_count": 496,
     "metadata": {},
     "output_type": "execute_result"
    }
   ],
   "source": [
    "ypred"
   ]
  },
  {
   "cell_type": "markdown",
   "metadata": {},
   "source": [
    "# Walkthrough of the full code of micrograd on github"
   ]
  },
  {
   "cell_type": "markdown",
   "metadata": {},
   "source": [
    "# Real stuff: diving into PyTorch, finding their backward pass for tanh"
   ]
  },
  {
   "cell_type": "markdown",
   "metadata": {},
   "source": [
    "# Conclusion"
   ]
  },
  {
   "cell_type": "markdown",
   "metadata": {},
   "source": []
  }
 ],
 "metadata": {
  "kernelspec": {
   "display_name": "Python 3.10.8 ('nn-zero-to-hero')",
   "language": "python",
   "name": "python3"
  },
  "language_info": {
   "codemirror_mode": {
    "name": "ipython",
    "version": 3
   },
   "file_extension": ".py",
   "mimetype": "text/x-python",
   "name": "python",
   "nbconvert_exporter": "python",
   "pygments_lexer": "ipython3",
   "version": "3.10.8"
  },
  "orig_nbformat": 4,
  "vscode": {
   "interpreter": {
    "hash": "12b13ca5063c7e0c508c94f9d476c26022cebeaad3a748893e2aa4f4b59e8e92"
   }
  }
 },
 "nbformat": 4,
 "nbformat_minor": 2
}
